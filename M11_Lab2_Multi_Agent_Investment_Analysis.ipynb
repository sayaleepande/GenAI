{
  "cells": [
    {
      "cell_type": "markdown",
      "metadata": {
        "id": "view-in-github",
        "colab_type": "text"
      },
      "source": [
        "<a href=\"https://colab.research.google.com/github/sayaleepande/GenAI/blob/main/M11_Lab2_Multi_Agent_Investment_Analysis.ipynb\" target=\"_parent\"><img src=\"https://colab.research.google.com/assets/colab-badge.svg\" alt=\"Open In Colab\"/></a>"
      ]
    },
    {
      "cell_type": "markdown",
      "metadata": {
        "id": "jbG8BBx9hasp"
      },
      "source": [
        "# 💹 <span style=\"color:#2c3e50;\">Advanced CrewAI:</span> <span style=\"color:#16a085;\">Multi-Agent Investment Analysis</span> with Delegation & RAG\n",
        "\n",
        "## 📘 <span style=\"color:#34495e;\">Lab Overview</span>\n",
        "\n",
        "You already know the basics of CrewAI — now let’s explore its **advanced features** that unlock real-world power.  \n",
        "In this lab, you'll build a **sophisticated investment analysis system** demonstrating:\n",
        "\n",
        "### 🎯 <span style=\"color:#2980b9;\">Advanced Features You'll Master</span>\n",
        "- 🧠 <strong>Agent Delegation</strong> – Let agents automatically assign work to specialists  \n",
        "- 📄 <strong>RAG Integration</strong> – Analyze uploaded financial documents with AI  \n",
        "- 📈 <strong>Real-time Data</strong> – Combine live market data with AI analysis  \n",
        "- 📝 <strong>Professional Output</strong> – Transform messy AI responses into clean reports\n",
        "\n",
        "### 💼 <span style=\"color:#8e44ad;\">What You're Building</span>\n",
        "A **4-agent investment team** that works like a real Wall Street firm:  \n",
        "- The **Portfolio Manager** delegates to specialists  \n",
        "- The **Research Analyst** reads your uploaded documents  \n",
        "- The team produces **investment recommendations** using live data\n",
        "\n",
        "### 🔥 <span style=\"color:#c0392b;\">Why This Matters</span>\n",
        "These patterns — delegation, RAG, real-time integration — are **essential for building production-grade AI systems** that can handle complex, multi-step workflows across any domain.\n"
      ]
    },
    {
      "cell_type": "code",
      "execution_count": 1,
      "metadata": {
        "id": "VWoPmUfrhasu",
        "colab": {
          "base_uri": "https://localhost:8080/"
        },
        "outputId": "45436977-d726-42bf-f2d2-28cc45226650"
      },
      "outputs": [
        {
          "output_type": "stream",
          "name": "stdout",
          "text": [
            "\u001b[2K     \u001b[90m━━━━━━━━━━━━━━━━━━━━━━━━━━━━━━━━━━━━━━━━\u001b[0m \u001b[32m42.8/42.8 kB\u001b[0m \u001b[31m2.1 MB/s\u001b[0m eta \u001b[36m0:00:00\u001b[0m\n",
            "\u001b[2K     \u001b[90m━━━━━━━━━━━━━━━━━━━━━━━━━━━━━━━━━━━━━━━━\u001b[0m \u001b[32m67.3/67.3 kB\u001b[0m \u001b[31m3.6 MB/s\u001b[0m eta \u001b[36m0:00:00\u001b[0m\n",
            "\u001b[?25h  Installing build dependencies ... \u001b[?25l\u001b[?25hdone\n",
            "  Getting requirements to build wheel ... \u001b[?25l\u001b[?25hdone\n",
            "  Preparing metadata (pyproject.toml) ... \u001b[?25l\u001b[?25hdone\n",
            "\u001b[2K     \u001b[90m━━━━━━━━━━━━━━━━━━━━━━━━━━━━━━━━━━━━━━━━\u001b[0m \u001b[32m48.2/48.2 kB\u001b[0m \u001b[31m3.9 MB/s\u001b[0m eta \u001b[36m0:00:00\u001b[0m\n",
            "\u001b[2K     \u001b[90m━━━━━━━━━━━━━━━━━━━━━━━━━━━━━━━━━━━━━━━━\u001b[0m \u001b[32m44.3/44.3 kB\u001b[0m \u001b[31m3.6 MB/s\u001b[0m eta \u001b[36m0:00:00\u001b[0m\n",
            "\u001b[2K   \u001b[90m━━━━━━━━━━━━━━━━━━━━━━━━━━━━━━━━━━━━━━━━\u001b[0m \u001b[32m324.6/324.6 kB\u001b[0m \u001b[31m18.3 MB/s\u001b[0m eta \u001b[36m0:00:00\u001b[0m\n",
            "\u001b[2K   \u001b[90m━━━━━━━━━━━━━━━━━━━━━━━━━━━━━━━━━━━━━━━━\u001b[0m \u001b[32m8.0/8.0 MB\u001b[0m \u001b[31m99.3 MB/s\u001b[0m eta \u001b[36m0:00:00\u001b[0m\n",
            "\u001b[2K   \u001b[90m━━━━━━━━━━━━━━━━━━━━━━━━━━━━━━━━━━━━━━━━\u001b[0m \u001b[32m16.4/16.4 MB\u001b[0m \u001b[31m88.4 MB/s\u001b[0m eta \u001b[36m0:00:00\u001b[0m\n",
            "\u001b[2K   \u001b[90m━━━━━━━━━━━━━━━━━━━━━━━━━━━━━━━━━━━━━━━━\u001b[0m \u001b[32m606.3/606.3 kB\u001b[0m \u001b[31m12.7 MB/s\u001b[0m eta \u001b[36m0:00:00\u001b[0m\n",
            "\u001b[2K   \u001b[90m━━━━━━━━━━━━━━━━━━━━━━━━━━━━━━━━━━━━━━━━\u001b[0m \u001b[32m138.8/138.8 kB\u001b[0m \u001b[31m11.8 MB/s\u001b[0m eta \u001b[36m0:00:00\u001b[0m\n",
            "\u001b[2K   \u001b[90m━━━━━━━━━━━━━━━━━━━━━━━━━━━━━━━━━━━━━━━━\u001b[0m \u001b[32m147.8/147.8 kB\u001b[0m \u001b[31m12.6 MB/s\u001b[0m eta \u001b[36m0:00:00\u001b[0m\n",
            "\u001b[2K   \u001b[90m━━━━━━━━━━━━━━━━━━━━━━━━━━━━━━━━━━━━━━━━\u001b[0m \u001b[32m211.3/211.3 kB\u001b[0m \u001b[31m15.8 MB/s\u001b[0m eta \u001b[36m0:00:00\u001b[0m\n",
            "\u001b[2K   \u001b[90m━━━━━━━━━━━━━━━━━━━━━━━━━━━━━━━━━━━━━━━━\u001b[0m \u001b[32m50.9/50.9 kB\u001b[0m \u001b[31m3.9 MB/s\u001b[0m eta \u001b[36m0:00:00\u001b[0m\n",
            "\u001b[2K   \u001b[90m━━━━━━━━━━━━━━━━━━━━━━━━━━━━━━━━━━━━━━━━\u001b[0m \u001b[32m628.3/628.3 kB\u001b[0m \u001b[31m25.4 MB/s\u001b[0m eta \u001b[36m0:00:00\u001b[0m\n",
            "\u001b[2K   \u001b[90m━━━━━━━━━━━━━━━━━━━━━━━━━━━━━━━━━━━━━━━━\u001b[0m \u001b[32m2.4/2.4 MB\u001b[0m \u001b[31m80.1 MB/s\u001b[0m eta \u001b[36m0:00:00\u001b[0m\n",
            "\u001b[2K   \u001b[90m━━━━━━━━━━━━━━━━━━━━━━━━━━━━━━━━━━━━━━━━\u001b[0m \u001b[32m94.7/94.7 kB\u001b[0m \u001b[31m8.2 MB/s\u001b[0m eta \u001b[36m0:00:00\u001b[0m\n",
            "\u001b[2K   \u001b[90m━━━━━━━━━━━━━━━━━━━━━━━━━━━━━━━━━━━━━━━━\u001b[0m \u001b[32m33.2/33.2 MB\u001b[0m \u001b[31m41.5 MB/s\u001b[0m eta \u001b[36m0:00:00\u001b[0m\n",
            "\u001b[2K   \u001b[90m━━━━━━━━━━━━━━━━━━━━━━━━━━━━━━━━━━━━━━━━\u001b[0m \u001b[32m65.8/65.8 kB\u001b[0m \u001b[31m5.3 MB/s\u001b[0m eta \u001b[36m0:00:00\u001b[0m\n",
            "\u001b[2K   \u001b[90m━━━━━━━━━━━━━━━━━━━━━━━━━━━━━━━━━━━━━━━━\u001b[0m \u001b[32m55.7/55.7 kB\u001b[0m \u001b[31m4.4 MB/s\u001b[0m eta \u001b[36m0:00:00\u001b[0m\n",
            "\u001b[2K   \u001b[90m━━━━━━━━━━━━━━━━━━━━━━━━━━━━━━━━━━━━━━━━\u001b[0m \u001b[32m118.5/118.5 kB\u001b[0m \u001b[31m8.5 MB/s\u001b[0m eta \u001b[36m0:00:00\u001b[0m\n",
            "\u001b[2K   \u001b[90m━━━━━━━━━━━━━━━━━━━━━━━━━━━━━━━━━━━━━━━━\u001b[0m \u001b[32m196.2/196.2 kB\u001b[0m \u001b[31m14.1 MB/s\u001b[0m eta \u001b[36m0:00:00\u001b[0m\n",
            "\u001b[2K   \u001b[90m━━━━━━━━━━━━━━━━━━━━━━━━━━━━━━━━━━━━━━━━\u001b[0m \u001b[32m60.0/60.0 kB\u001b[0m \u001b[31m4.6 MB/s\u001b[0m eta \u001b[36m0:00:00\u001b[0m\n",
            "\u001b[2K   \u001b[90m━━━━━━━━━━━━━━━━━━━━━━━━━━━━━━━━━━━━━━━━\u001b[0m \u001b[32m5.6/5.6 MB\u001b[0m \u001b[31m101.3 MB/s\u001b[0m eta \u001b[36m0:00:00\u001b[0m\n",
            "\u001b[2K   \u001b[90m━━━━━━━━━━━━━━━━━━━━━━━━━━━━━━━━━━━━━━━━\u001b[0m \u001b[32m5.6/5.6 MB\u001b[0m \u001b[31m68.4 MB/s\u001b[0m eta \u001b[36m0:00:00\u001b[0m\n",
            "\u001b[2K   \u001b[90m━━━━━━━━━━━━━━━━━━━━━━━━━━━━━━━━━━━━━━━━\u001b[0m \u001b[32m57.6/57.6 kB\u001b[0m \u001b[31m4.7 MB/s\u001b[0m eta \u001b[36m0:00:00\u001b[0m\n",
            "\u001b[2K   \u001b[90m━━━━━━━━━━━━━━━━━━━━━━━━━━━━━━━━━━━━━━━━\u001b[0m \u001b[32m756.0/756.0 kB\u001b[0m \u001b[31m44.9 MB/s\u001b[0m eta \u001b[36m0:00:00\u001b[0m\n",
            "\u001b[2K   \u001b[90m━━━━━━━━━━━━━━━━━━━━━━━━━━━━━━━━━━━━━━━━\u001b[0m \u001b[32m3.0/3.0 MB\u001b[0m \u001b[31m36.9 MB/s\u001b[0m eta \u001b[36m0:00:00\u001b[0m\n",
            "\u001b[2K   \u001b[90m━━━━━━━━━━━━━━━━━━━━━━━━━━━━━━━━━━━━━━━━\u001b[0m \u001b[32m236.0/236.0 kB\u001b[0m \u001b[31m19.2 MB/s\u001b[0m eta \u001b[36m0:00:00\u001b[0m\n",
            "\u001b[2K   \u001b[90m━━━━━━━━━━━━━━━━━━━━━━━━━━━━━━━━━━━━━━━━\u001b[0m \u001b[32m17.8/17.8 MB\u001b[0m \u001b[31m94.1 MB/s\u001b[0m eta \u001b[36m0:00:00\u001b[0m\n",
            "\u001b[2K   \u001b[90m━━━━━━━━━━━━━━━━━━━━━━━━━━━━━━━━━━━━━━━━\u001b[0m \u001b[32m242.7/242.7 kB\u001b[0m \u001b[31m19.0 MB/s\u001b[0m eta \u001b[36m0:00:00\u001b[0m\n",
            "\u001b[2K   \u001b[90m━━━━━━━━━━━━━━━━━━━━━━━━━━━━━━━━━━━━━━━━\u001b[0m \u001b[32m284.2/284.2 kB\u001b[0m \u001b[31m23.3 MB/s\u001b[0m eta \u001b[36m0:00:00\u001b[0m\n",
            "\u001b[2K   \u001b[90m━━━━━━━━━━━━━━━━━━━━━━━━━━━━━━━━━━━━━━━━\u001b[0m \u001b[32m131.6/131.6 kB\u001b[0m \u001b[31m14.0 MB/s\u001b[0m eta \u001b[36m0:00:00\u001b[0m\n",
            "\u001b[2K   \u001b[90m━━━━━━━━━━━━━━━━━━━━━━━━━━━━━━━━━━━━━━━━\u001b[0m \u001b[32m1.9/1.9 MB\u001b[0m \u001b[31m78.7 MB/s\u001b[0m eta \u001b[36m0:00:00\u001b[0m\n",
            "\u001b[2K   \u001b[90m━━━━━━━━━━━━━━━━━━━━━━━━━━━━━━━━━━━━━━━━\u001b[0m \u001b[32m45.1/45.1 kB\u001b[0m \u001b[31m3.4 MB/s\u001b[0m eta \u001b[36m0:00:00\u001b[0m\n",
            "\u001b[2K   \u001b[90m━━━━━━━━━━━━━━━━━━━━━━━━━━━━━━━━━━━━━━━━\u001b[0m \u001b[32m2.5/2.5 MB\u001b[0m \u001b[31m86.7 MB/s\u001b[0m eta \u001b[36m0:00:00\u001b[0m\n",
            "\u001b[2K   \u001b[90m━━━━━━━━━━━━━━━━━━━━━━━━━━━━━━━━━━━━━━━━\u001b[0m \u001b[32m438.9/438.9 kB\u001b[0m \u001b[31m32.7 MB/s\u001b[0m eta \u001b[36m0:00:00\u001b[0m\n",
            "\u001b[2K   \u001b[90m━━━━━━━━━━━━━━━━━━━━━━━━━━━━━━━━━━━━━━━━\u001b[0m \u001b[32m1.0/1.0 MB\u001b[0m \u001b[31m48.7 MB/s\u001b[0m eta \u001b[36m0:00:00\u001b[0m\n",
            "\u001b[2K   \u001b[90m━━━━━━━━━━━━━━━━━━━━━━━━━━━━━━━━━━━━━━━━\u001b[0m \u001b[32m166.8/166.8 kB\u001b[0m \u001b[31m14.6 MB/s\u001b[0m eta \u001b[36m0:00:00\u001b[0m\n",
            "\u001b[2K   \u001b[90m━━━━━━━━━━━━━━━━━━━━━━━━━━━━━━━━━━━━━━━━\u001b[0m \u001b[32m3.9/3.9 MB\u001b[0m \u001b[31m92.5 MB/s\u001b[0m eta \u001b[36m0:00:00\u001b[0m\n",
            "\u001b[2K   \u001b[90m━━━━━━━━━━━━━━━━━━━━━━━━━━━━━━━━━━━━━━━━\u001b[0m \u001b[32m8.7/8.7 MB\u001b[0m \u001b[31m23.6 MB/s\u001b[0m eta \u001b[36m0:00:00\u001b[0m\n",
            "\u001b[2K   \u001b[90m━━━━━━━━━━━━━━━━━━━━━━━━━━━━━━━━━━━━━━━━\u001b[0m \u001b[32m101.6/101.6 kB\u001b[0m \u001b[31m8.1 MB/s\u001b[0m eta \u001b[36m0:00:00\u001b[0m\n",
            "\u001b[2K   \u001b[90m━━━━━━━━━━━━━━━━━━━━━━━━━━━━━━━━━━━━━━━━\u001b[0m \u001b[32m89.1/89.1 kB\u001b[0m \u001b[31m6.9 MB/s\u001b[0m eta \u001b[36m0:00:00\u001b[0m\n",
            "\u001b[2K   \u001b[90m━━━━━━━━━━━━━━━━━━━━━━━━━━━━━━━━━━━━━━━━\u001b[0m \u001b[32m220.7/220.7 kB\u001b[0m \u001b[31m17.2 MB/s\u001b[0m eta \u001b[36m0:00:00\u001b[0m\n",
            "\u001b[2K   \u001b[90m━━━━━━━━━━━━━━━━━━━━━━━━━━━━━━━━━━━━━━━━\u001b[0m \u001b[32m304.2/304.2 kB\u001b[0m \u001b[31m23.2 MB/s\u001b[0m eta \u001b[36m0:00:00\u001b[0m\n",
            "\u001b[2K   \u001b[90m━━━━━━━━━━━━━━━━━━━━━━━━━━━━━━━━━━━━━━━━\u001b[0m \u001b[32m2.9/2.9 MB\u001b[0m \u001b[31m78.8 MB/s\u001b[0m eta \u001b[36m0:00:00\u001b[0m\n",
            "\u001b[2K   \u001b[90m━━━━━━━━━━━━━━━━━━━━━━━━━━━━━━━━━━━━━━━━\u001b[0m \u001b[32m71.1/71.1 kB\u001b[0m \u001b[31m5.9 MB/s\u001b[0m eta \u001b[36m0:00:00\u001b[0m\n",
            "\u001b[2K   \u001b[90m━━━━━━━━━━━━━━━━━━━━━━━━━━━━━━━━━━━━━━━━\u001b[0m \u001b[32m46.0/46.0 kB\u001b[0m \u001b[31m3.7 MB/s\u001b[0m eta \u001b[36m0:00:00\u001b[0m\n",
            "\u001b[2K   \u001b[90m━━━━━━━━━━━━━━━━━━━━━━━━━━━━━━━━━━━━━━━━\u001b[0m \u001b[32m392.1/392.1 kB\u001b[0m \u001b[31m25.4 MB/s\u001b[0m eta \u001b[36m0:00:00\u001b[0m\n",
            "\u001b[2K   \u001b[90m━━━━━━━━━━━━━━━━━━━━━━━━━━━━━━━━━━━━━━━━\u001b[0m \u001b[32m259.5/259.5 kB\u001b[0m \u001b[31m20.8 MB/s\u001b[0m eta \u001b[36m0:00:00\u001b[0m\n",
            "\u001b[2K   \u001b[90m━━━━━━━━━━━━━━━━━━━━━━━━━━━━━━━━━━━━━━━━\u001b[0m \u001b[32m459.8/459.8 kB\u001b[0m \u001b[31m33.5 MB/s\u001b[0m eta \u001b[36m0:00:00\u001b[0m\n",
            "\u001b[2K   \u001b[90m━━━━━━━━━━━━━━━━━━━━━━━━━━━━━━━━━━━━━━━━\u001b[0m \u001b[32m86.8/86.8 kB\u001b[0m \u001b[31m7.2 MB/s\u001b[0m eta \u001b[36m0:00:00\u001b[0m\n",
            "\u001b[2K   \u001b[90m━━━━━━━━━━━━━━━━━━━━━━━━━━━━━━━━━━━━━━━━\u001b[0m \u001b[32m99.1/99.1 kB\u001b[0m \u001b[31m8.5 MB/s\u001b[0m eta \u001b[36m0:00:00\u001b[0m\n",
            "\u001b[2K   \u001b[90m━━━━━━━━━━━━━━━━━━━━━━━━━━━━━━━━━━━━━━━━\u001b[0m \u001b[32m1.6/1.6 MB\u001b[0m \u001b[31m60.3 MB/s\u001b[0m eta \u001b[36m0:00:00\u001b[0m\n",
            "\u001b[2K   \u001b[90m━━━━━━━━━━━━━━━━━━━━━━━━━━━━━━━━━━━━━━━━\u001b[0m \u001b[32m209.2/209.2 kB\u001b[0m \u001b[31m15.9 MB/s\u001b[0m eta \u001b[36m0:00:00\u001b[0m\n",
            "\u001b[2K   \u001b[90m━━━━━━━━━━━━━━━━━━━━━━━━━━━━━━━━━━━━━━━━\u001b[0m \u001b[32m45.2/45.2 kB\u001b[0m \u001b[31m3.9 MB/s\u001b[0m eta \u001b[36m0:00:00\u001b[0m\n",
            "\u001b[2K   \u001b[90m━━━━━━━━━━━━━━━━━━━━━━━━━━━━━━━━━━━━━━━━\u001b[0m \u001b[32m266.1/266.1 kB\u001b[0m \u001b[31m19.2 MB/s\u001b[0m eta \u001b[36m0:00:00\u001b[0m\n",
            "\u001b[2K   \u001b[90m━━━━━━━━━━━━━━━━━━━━━━━━━━━━━━━━━━━━━━━━\u001b[0m \u001b[32m329.0/329.0 kB\u001b[0m \u001b[31m24.5 MB/s\u001b[0m eta \u001b[36m0:00:00\u001b[0m\n",
            "\u001b[2K   \u001b[90m━━━━━━━━━━━━━━━━━━━━━━━━━━━━━━━━━━━━━━━━\u001b[0m \u001b[32m4.0/4.0 MB\u001b[0m \u001b[31m82.0 MB/s\u001b[0m eta \u001b[36m0:00:00\u001b[0m\n",
            "\u001b[2K   \u001b[90m━━━━━━━━━━━━━━━━━━━━━━━━━━━━━━━━━━━━━━━━\u001b[0m \u001b[32m6.1/6.1 MB\u001b[0m \u001b[31m104.7 MB/s\u001b[0m eta \u001b[36m0:00:00\u001b[0m\n",
            "\u001b[2K   \u001b[90m━━━━━━━━━━━━━━━━━━━━━━━━━━━━━━━━━━━━━━━━\u001b[0m \u001b[32m79.1/79.1 kB\u001b[0m \u001b[31m6.8 MB/s\u001b[0m eta \u001b[36m0:00:00\u001b[0m\n",
            "\u001b[2K   \u001b[90m━━━━━━━━━━━━━━━━━━━━━━━━━━━━━━━━━━━━━━━━\u001b[0m \u001b[32m453.1/453.1 kB\u001b[0m \u001b[31m31.4 MB/s\u001b[0m eta \u001b[36m0:00:00\u001b[0m\n",
            "\u001b[2K   \u001b[90m━━━━━━━━━━━━━━━━━━━━━━━━━━━━━━━━━━━━━━━━\u001b[0m \u001b[32m469.0/469.0 kB\u001b[0m \u001b[31m31.2 MB/s\u001b[0m eta \u001b[36m0:00:00\u001b[0m\n",
            "\u001b[2K   \u001b[90m━━━━━━━━━━━━━━━━━━━━━━━━━━━━━━━━━━━━━━━━\u001b[0m \u001b[32m3.3/3.3 MB\u001b[0m \u001b[31m86.0 MB/s\u001b[0m eta \u001b[36m0:00:00\u001b[0m\n",
            "\u001b[2K   \u001b[90m━━━━━━━━━━━━━━━━━━━━━━━━━━━━━━━━━━━━━━━━\u001b[0m \u001b[32m50.9/50.9 kB\u001b[0m \u001b[31m4.2 MB/s\u001b[0m eta \u001b[36m0:00:00\u001b[0m\n",
            "\u001b[?25h  Building wheel for pypika (pyproject.toml) ... \u001b[?25l\u001b[?25hdone\n",
            "\u001b[31mERROR: pip's dependency resolver does not currently take into account all the packages that are installed. This behaviour is the source of the following dependency conflicts.\n",
            "transformers 4.52.4 requires tokenizers<0.22,>=0.21, but you have tokenizers 0.20.3 which is incompatible.\u001b[0m\u001b[31m\n",
            "\u001b[0m✅ All packages installed successfully!\n"
          ]
        }
      ],
      "source": [
        "# +++++ 📦 Package Installation\n",
        "# ++++++++++++++++++++++++++++++++++++++++++++++++++++++++++++++++++++++++++++++++++++++\n",
        "# Install required packages for advanced CrewAI features and financial data integration\n",
        "\n",
        "!pip install -q crewai crewai-tools langchain-openai yfinance plotly\n",
        "print(\"✅ All packages installed successfully!\")\n",
        "\n",
        "# 📌 Package Explanations:\n",
        "# - crewai: Core library to define and manage multi-agent AI workflows.\n",
        "# - crewai-tools: Adds tools and enhancements to improve agent capabilities in CrewAI.\n",
        "# - langchain-openai: Enables integration of OpenAI LLMs with LangChain for natural language processing.\n",
        "# - yfinance: Used to fetch real-time and historical financial data from Yahoo Finance.\n",
        "# - plotly: Enables creation of interactive and visually appealing charts for data analysis.\n",
        "\n",
        "# Start time tracking (put this at the beginning of your lab)\n",
        "import time\n",
        "from datetime import datetime\n",
        "start_time = time.time()"
      ]
    },
    {
      "cell_type": "code",
      "execution_count": 2,
      "metadata": {
        "id": "1Ybwy8bGhasw",
        "colab": {
          "base_uri": "https://localhost:8080/"
        },
        "outputId": "90c66081-9084-4644-eecf-fa55b9f18e08"
      },
      "outputs": [
        {
          "output_type": "stream",
          "name": "stdout",
          "text": [
            "🎨 Pretty print utility ready!\n"
          ]
        }
      ],
      "source": [
        "# +++++ 🎨 Pretty Print Utility\n",
        "# ++++++++++++++++++++++++++++++++++++++++++++++++++++++++++++++++++++++++++++++++++++++\n",
        "# Create styled message boxes for better visual output in Colab\n",
        "\n",
        "from IPython.display import display, HTML\n",
        "\n",
        "def pretty_print(text, title=\"ℹ️ Info\", theme=\"blue\"):\n",
        "    \"\"\"Displays a styled message box with optional color themes: blue, red, or yellow.\"\"\"\n",
        "\n",
        "    themes = {\n",
        "        \"blue\": {\"color\": \"#1e4b8f\", \"background\": \"#f0f6ff\"},\n",
        "        \"red\": {\"color\": \"#c62828\", \"background\": \"#ffebee\"},\n",
        "        \"yellow\": {\"color\": \"#b26a00\", \"background\": \"#fff8e1\"}\n",
        "    }\n",
        "\n",
        "    style = themes.get(theme.lower(), themes[\"blue\"])\n",
        "    formatted_text = text.replace('\\n', '<br>')\n",
        "\n",
        "    display(HTML(f\"\"\"\n",
        "    <div style=\"border-left: 5px solid {style['color']}; padding: 12px 16px; background-color: {style['background']};\n",
        "                border-radius: 6px; font-family: 'Segoe UI', sans-serif; line-height: 1.6; margin: 10px 0;\">\n",
        "        <strong style=\"color: {style['color']}; font-size: 16px;\">{title}</strong><br>\n",
        "        <span style=\"font-size: 14px; color: #333;\">{formatted_text}</span>\n",
        "    </div>\n",
        "    \"\"\"))\n",
        "\n",
        "print(\"🎨 Pretty print utility ready!\")"
      ]
    },
    {
      "cell_type": "code",
      "execution_count": 3,
      "metadata": {
        "id": "QU0frr6phasx",
        "colab": {
          "base_uri": "https://localhost:8080/",
          "height": 109
        },
        "outputId": "1a7145dc-9a43-4ea4-fe2a-d8d0b8a47cc3"
      },
      "outputs": [
        {
          "output_type": "display_data",
          "data": {
            "text/plain": [
              "<IPython.core.display.HTML object>"
            ],
            "text/html": [
              "\n",
              "    <div style=\"border-left: 5px solid #1e4b8f; padding: 12px 16px; background-color: #f0f6ff;\n",
              "                border-radius: 6px; font-family: 'Segoe UI', sans-serif; line-height: 1.6; margin: 10px 0;\">\n",
              "        <strong style=\"color: #1e4b8f; font-size: 16px;\">✅ API Key Setup</strong><br>\n",
              "        <span style=\"font-size: 14px; color: #333;\">🔐 OpenAI API key successfully loaded. You're authenticated and ready to go!</span>\n",
              "    </div>\n",
              "    "
            ]
          },
          "metadata": {}
        }
      ],
      "source": [
        "# +++++ 🔑 API Setup & Authentication\n",
        "# ++++++++++++++++++++++++++++++++++++++++++++++++++++++++++++++++++++++++++++++++++++++\n",
        "# Secure API key setup from Google Colab secrets\n",
        "\n",
        "try:\n",
        "    from google.colab import userdata\n",
        "    import os\n",
        "    os.environ[\"OPENAI_API_KEY\"] = userdata.get('OPENAI_API_KEY')\n",
        "    pretty_print(\"🔐 OpenAI API key successfully loaded. You're authenticated and ready to go!\", \"✅ API Key Setup\", \"blue\")\n",
        "except:\n",
        "    pretty_print(\"⚠️ OpenAI API key not found. Please set it in Colab ➤ More ➤ Secrets before running the lab.\", \"❌ Missing API Key\", \"red\")\n"
      ]
    },
    {
      "cell_type": "markdown",
      "metadata": {
        "id": "lpuwLBQGhasy"
      },
      "source": [
        "## 🛠️ Advanced Tools & Agent Setup\n",
        "\n",
        "Now we'll set up the advanced CrewAI components that make this system powerful:\n",
        "\n",
        "**🔧 Specialized Tools:**\n",
        "- **Financial Web Scrapers** - Extract live data from Yahoo Finance and MarketWatch\n",
        "- **RAG File Reader** - Analyze your uploaded financial documents (PDFs, reports)\n",
        "- **Web Search** - General purpose research capabilities\n",
        "\n",
        "**👥 The 4-Agent Investment Team:**\n",
        "1. **📊 Portfolio Manager** - Has delegation powers, coordinates the entire analysis\n",
        "2. **📰 Market Analyst** - Scrapes financial websites for current news and sentiment\n",
        "3. **📚 Research Analyst** - Uses RAG to read and analyze your uploaded documents\n",
        "4. **💹 Trading Strategist** - Synthesizes everything into actionable recommendations\n",
        "\n",
        "**🔥 Key Advanced Features:**\n",
        "- **Delegation**: Portfolio Manager can automatically assign tasks to specialists\n",
        "- **RAG**: Research Analyst reads YOUR uploaded files (earnings reports, SEC filings)\n",
        "- **Specialization**: Each agent has specific tools and expertise areas"
      ]
    },
    {
      "cell_type": "code",
      "execution_count": 4,
      "metadata": {
        "id": "8xJ-vqishasz",
        "colab": {
          "base_uri": "https://localhost:8080/",
          "height": 198
        },
        "outputId": "f069ab73-5ffa-4c8b-8e34-b8e4e5e7ea18"
      },
      "outputs": [
        {
          "output_type": "stream",
          "name": "stderr",
          "text": [
            "/usr/local/lib/python3.11/dist-packages/alembic/config.py:577: DeprecationWarning: No path_separator found in configuration; falling back to legacy splitting on spaces, commas, and colons for prepend_sys_path.  Consider adding path_separator=os to Alembic config.\n",
            "  util.warn_deprecated(\n",
            "/usr/local/lib/python3.11/dist-packages/chromadb/types.py:144: PydanticDeprecatedSince211: Accessing the 'model_fields' attribute on the instance is deprecated. Instead, you should access this attribute from the model class. Deprecated in Pydantic V2.11 to be removed in V3.0.\n",
            "  return self.model_fields  # pydantic 2.x\n"
          ]
        },
        {
          "output_type": "display_data",
          "data": {
            "text/plain": [
              "<IPython.core.display.HTML object>"
            ],
            "text/html": [
              "\n",
              "    <div style=\"border-left: 5px solid #1e4b8f; padding: 12px 16px; background-color: #f0f6ff;\n",
              "                border-radius: 6px; font-family: 'Segoe UI', sans-serif; line-height: 1.6; margin: 10px 0;\">\n",
              "        <strong style=\"color: #1e4b8f; font-size: 16px;\">🔧 Tools Ready</strong><br>\n",
              "        <span style=\"font-size: 14px; color: #333;\">Investment tools locked and loaded!</span>\n",
              "    </div>\n",
              "    "
            ]
          },
          "metadata": {}
        }
      ],
      "source": [
        "# +++++ 🛠️ Import Libraries & Initialize Tools\n",
        "# ++++++++++++++++++++++++++++++++++++++++++++++++++++++++++++++++++++++++++++++++++++++\n",
        "# Import CrewAI framework and set up specialized tools for financial analysis\n",
        "\n",
        "from crewai import Agent, Task, Crew\n",
        "from langchain_openai import ChatOpenAI\n",
        "# Built-in tools for web search, web scraping, and file reading\n",
        "from crewai_tools import WebsiteSearchTool, ScrapeWebsiteTool, FileReadTool\n",
        "\n",
        "# FINANCIAL DATA SCRAPING TOOLS:\n",
        "yahoo_finance_scraper = ScrapeWebsiteTool(website_url='https://finance.yahoo.com')    # Live stock prices\n",
        "marketwatch_scraper = ScrapeWebsiteTool(website_url='https://www.marketwatch.com')    # Market news\n",
        "web_search = WebsiteSearchTool()                                                       # General web search\n",
        "\n",
        "# RAG (Retrieval-Augmented Generation) TOOL:\n",
        "file_reader = FileReadTool()  # Reads PDFs, text files, and documents you upload\n",
        "\n",
        "# AI MODEL CONFIGURATION:\n",
        "llm = ChatOpenAI(model=\"gpt-4o-mini\", temperature=0.3)  # Lower temp = more consistent output\n",
        "\n",
        "pretty_print(\"Investment tools locked and loaded!\", \"🔧 Tools Ready\", \"blue\")\n"
      ]
    },
    {
      "cell_type": "code",
      "execution_count": 5,
      "metadata": {
        "id": "zNjzWOTGhas0",
        "colab": {
          "base_uri": "https://localhost:8080/",
          "height": 199
        },
        "outputId": "a061c901-2166-428f-9b68-3dc3982423ec"
      },
      "outputs": [
        {
          "output_type": "display_data",
          "data": {
            "text/plain": [
              "<IPython.core.display.HTML object>"
            ],
            "text/html": [
              "\n",
              "    <div style=\"border-left: 5px solid #1e4b8f; padding: 12px 16px; background-color: #f0f6ff;\n",
              "                border-radius: 6px; font-family: 'Segoe UI', sans-serif; line-height: 1.6; margin: 10px 0;\">\n",
              "        <strong style=\"color: #1e4b8f; font-size: 16px;\">👥 Team Ready</strong><br>\n",
              "        <span style=\"font-size: 14px; color: #333;\">💼 Investment dream team assembled!<br>📊 Portfolio Manager (Boss)<br>📰 Market Analyst<br>📚 Research Analyst<br>💹 Trading Strategist</span>\n",
              "    </div>\n",
              "    "
            ]
          },
          "metadata": {}
        }
      ],
      "source": [
        "# +++++ 👥 Create Specialized AI Agents with Delegation\n",
        "# ++++++++++++++++++++++++++++++++++++++++++++++++++++++++++++++++++++++++++++++++++++++\n",
        "# Create 4 specialized AI agents that work together like a real investment team\n",
        "\n",
        "# AGENT 1: PORTFOLIO MANAGER (THE BOSS)\n",
        "portfolio_manager = Agent(\n",
        "    role=\"Senior Portfolio Manager\",\n",
        "    goal=\"Make strategic investment decisions by coordinating research team\",\n",
        "    backstory=\"You're a seasoned Wall Street portfolio manager with 15+ years experience. You delegate research tasks to specialists and make final investment calls based on comprehensive analysis.\",\n",
        "    llm=llm,\n",
        "    tools=[web_search],\n",
        "    allow_delegation=True,  # 🔥 DELEGATION POWER! This agent can delegate tasks to others\n",
        "    max_delegation=3,       # Can delegate up to 3 tasks at once\n",
        "    verbose=False\n",
        ")\n",
        "# 📌 This agent acts as the team leader, assigning tasks and integrating all outputs to make final investment decisions.\n",
        "# Think of it as the executive strategist who oversees the whole operation and ensures every agent’s work aligns with the firm’s goals.\n",
        "\n",
        "# AGENT 2: MARKET NEWS ANALYST\n",
        "market_analyst = Agent(\n",
        "    role=\"Market News Analyst\",\n",
        "    goal=\"Track real-time market news and sentiment for specific stocks\",\n",
        "    backstory=\"You're a former financial journalist who now specializes in analyzing market news, earnings reports, and sentiment. You have your finger on the pulse of Wall Street.\",\n",
        "    llm=llm,\n",
        "    tools=[yahoo_finance_scraper, marketwatch_scraper, web_search],  # Has access to financial websites\n",
        "    verbose=False\n",
        ")\n",
        "# 📰 This agent monitors live financial news and trends from trusted sources to detect any signals or events that may impact stock prices.\n",
        "# It plays a critical role in sentiment analysis and contextual understanding of market movement.\n",
        "\n",
        "# AGENT 3: RESEARCH DOCUMENT ANALYST (RAG SPECIALIST)\n",
        "research_analyst = Agent(\n",
        "    role=\"Research Document Analyst\",\n",
        "    goal=\"Analyze financial documents, earnings reports, and research files\",\n",
        "    backstory=\"You're a CFA charterholder who excels at digging through financial documents, SEC filings, and research reports to find hidden insights and key metrics.\",\n",
        "    llm=llm,\n",
        "    tools=[file_reader, web_search],  # Can read your uploaded files + web search\n",
        "    verbose=False\n",
        ")\n",
        "# 📄 This agent is the RAG powerhouse — it reads user-uploaded documents and extracts valuable insights.\n",
        "# It’s ideal for deep analysis of PDFs, reports, and any offline data that supports investment decisions.\n",
        "\n",
        "# AGENT 4: TRADING STRATEGIST\n",
        "trading_strategist = Agent(\n",
        "    role=\"Trading Strategist\",\n",
        "    goal=\"Synthesize all research into actionable BUY/SELL/HOLD recommendations\",\n",
        "    backstory=\"You're a quantitative analyst who combines technical analysis, fundamental analysis, and market sentiment to create clear, actionable trading strategies with specific price targets.\",\n",
        "    llm=llm,\n",
        "    tools=[web_search],\n",
        "    verbose=False\n",
        ")\n",
        "# 💹 This is the final decision-maker who converts all research into real trading signals.\n",
        "# It crafts buy/sell/hold strategies with target prices by balancing risk, trend, and fundamental indicators.\n",
        "\n",
        "pretty_print(\"💼 Investment dream team assembled!\\n📊 Portfolio Manager (Boss)\\n📰 Market Analyst\\n📚 Research Analyst\\n💹 Trading Strategist\", \"👥 Team Ready\", \"blue\")\n"
      ]
    },
    {
      "cell_type": "markdown",
      "metadata": {
        "id": "w9E83wRuhas1"
      },
      "source": [
        "## 📋 Task Definition & Workflow Design\n",
        "\n",
        "Here's where the advanced CrewAI features really shine. We'll create tasks that demonstrate:\n",
        "\n",
        "**🎯 Delegation in Action:**\n",
        "The Portfolio Manager doesn't do the work directly - instead, it **delegates** specific tasks to the right specialists and then **coordinates** their findings into a final recommendation.\n",
        "\n",
        "**📚 RAG Implementation:**\n",
        "The Research Analyst can read and analyze any financial documents you upload (earnings reports, SEC filings, research papers) and extract key insights that wouldn't be available through web search alone.\n",
        "\n",
        "**🔄 Workflow Process:**\n",
        "1. Portfolio Manager **delegates** news analysis to Market Analyst\n",
        "2. Portfolio Manager **delegates** document analysis to Research Analyst  \n",
        "3. Portfolio Manager **delegates** strategy creation to Trading Strategist\n",
        "4. Portfolio Manager **synthesizes** all findings into executive summary\n",
        "\n",
        "**💡 Why This Architecture Works:**\n",
        "Just like a real investment firm, specialization + coordination produces better results than any single agent trying to do everything."
      ]
    },
    {
      "cell_type": "code",
      "execution_count": 6,
      "metadata": {
        "id": "4DDJZdk9has1",
        "colab": {
          "base_uri": "https://localhost:8080/"
        },
        "outputId": "c0d954ea-7184-4496-e554-00d8b6b6c292"
      },
      "outputs": [
        {
          "output_type": "stream",
          "name": "stdout",
          "text": [
            "📋 Task templates created - ready for delegation!\n"
          ]
        }
      ],
      "source": [
        "# +++++ 📋 Define Agent Tasks with Specific Formats\n",
        "# ++++++++++++++++++++++++++++++++++++++++++++++++++++++++++++++++++++++++++++++++++++++\n",
        "# Create specific tasks for each agent with exact output formats to avoid messy results\n",
        "\n",
        "def create_investment_tasks(stock_symbol):\n",
        "    \"\"\"\n",
        "    Creates 4 specialized tasks that demonstrate delegation and RAG capabilities.\n",
        "    Each task has specific output format to prevent messy results.\n",
        "    \"\"\"\n",
        "\n",
        "    # TASK 1: PORTFOLIO MANAGER COORDINATION TASK (DELEGATION)\n",
        "    coordination_task = Task(\n",
        "        description=f\"\"\"As Portfolio Manager, coordinate investment analysis for {stock_symbol}.\n",
        "\n",
        "        DELEGATE to your team and create EXECUTIVE SUMMARY in this EXACT format:\n",
        "\n",
        "        🏢 {stock_symbol} INVESTMENT ANALYSIS\n",
        "        💰 RECOMMENDATION: [BUY/SELL/HOLD]\n",
        "        🎯 Target Price: $[X.XX]\n",
        "        📉 Stop Loss: $[X.XX]\n",
        "        ⏰ Timeframe: [Short/Medium/Long term]\n",
        "\n",
        "        KEY INSIGHTS (3 bullet points max):\n",
        "        • [Key point 1]\n",
        "        • [Key point 2]\n",
        "        • [Key point 3]\n",
        "\n",
        "        ⚠️ RISKS: [Main risk in 1 sentence]\n",
        "\n",
        "        Keep it SHORT and ACTIONABLE. No paragraphs!\"\"\",\n",
        "        agent=portfolio_manager,\n",
        "        expected_output=f\"Clean executive summary for {stock_symbol} with exact format\"\n",
        "    )\n",
        "\n",
        "    # TASK 2: MARKET NEWS ANALYSIS TASK (WEB SCRAPING)\n",
        "    market_task = Task(\n",
        "        description=f\"\"\"Find latest news for {stock_symbol} and summarize in EXACTLY this format:\n",
        "\n",
        "        📰 MARKET NEWS ({stock_symbol})\n",
        "        • [Latest news headline 1]\n",
        "        • [Latest news headline 2]\n",
        "        • [Latest news headline 3]\n",
        "\n",
        "        📊 SENTIMENT: [Positive/Negative/Neutral] - [Why in 1 sentence]\n",
        "\n",
        "        Keep it SHORT! Max 4 lines total.\"\"\",\n",
        "        agent=market_analyst,\n",
        "        expected_output=f\"Short news summary for {stock_symbol} in exact format\"\n",
        "    )\n",
        "\n",
        "    # TASK 3: DOCUMENT ANALYSIS TASK (RAG)\n",
        "    research_task = Task(\n",
        "        description=f\"\"\"Analyze {stock_symbol} financials and provide EXACTLY this format:\n",
        "\n",
        "        📊 FINANCIAL HEALTH ({stock_symbol})\n",
        "        • Revenue: [Growing/Declining/Stable]\n",
        "        • Profit: [Strong/Weak/Average]\n",
        "        • Debt: [Low/Medium/High]\n",
        "\n",
        "        💡 KEY METRIC: [Most important number]\n",
        "\n",
        "        Keep it SHORT! Max 4 lines total.\"\"\",\n",
        "        agent=research_analyst,\n",
        "        expected_output=f\"Short financial summary for {stock_symbol} in exact format\"\n",
        "    )\n",
        "\n",
        "    # TASK 4: TRADING STRATEGY TASK (SYNTHESIS)\n",
        "    strategy_task = Task(\n",
        "        description=f\"\"\"Create trading strategy for {stock_symbol} in EXACTLY this format:\n",
        "\n",
        "        💹 TRADING STRATEGY ({stock_symbol})\n",
        "        >>  Today's Price ($[X.XX])\n",
        "        🎯 Action: [BUY/SELL/HOLD]\n",
        "        💰 Entry Price: $[X.XX]\n",
        "        🚀 Target: $[X.XX]\n",
        "        🛑 Stop Loss: $[X.XX]\n",
        "\n",
        "        📈 WHY: [Reason in 1 sentence]\n",
        "\n",
        "        Keep it SHORT! Max 5 lines total.\"\"\",\n",
        "        agent=trading_strategist,\n",
        "        expected_output=f\"Short trading strategy for {stock_symbol} in exact format\"\n",
        "    )\n",
        "\n",
        "    return coordination_task, market_task, research_task, strategy_task\n",
        "\n",
        "print(\"📋 Task templates created - ready for delegation!\")"
      ]
    },
    {
      "cell_type": "markdown",
      "metadata": {
        "id": "A_CieAwUhas1"
      },
      "source": [
        "## 🚀 Crew Assembly & Advanced Output Processing\n",
        "\n",
        "The final step brings everything together with two key advanced features:\n",
        "\n",
        "**🎯 Multi-Agent Orchestration:**\n",
        "The `analyze_stock()` function creates a crew where agents can delegate tasks to each other, work in parallel when possible, and coordinate their findings automatically.\n",
        "\n",
        "**📊 Real-Time Data Integration:**\n",
        "The `clean_investment_output()` function demonstrates how to enhance AI analysis with live data - it fetches current stock prices, recent trading history, and key metrics from financial APIs, then formats everything into a professional investment report.\n",
        "\n",
        "**💡 Why This Approach Works:**\n",
        "- **Delegation** ensures the right specialist handles each task\n",
        "- **RAG** incorporates your private documents into the analysis  \n",
        "- **Real-time data** keeps recommendations current and actionable\n",
        "- **Clean formatting** transforms messy AI output into professional reports\n",
        "\n",
        "This pattern can be adapted for any domain where you need specialized AI agents working with both private documents and live data sources."
      ]
    },
    {
      "cell_type": "code",
      "execution_count": 7,
      "metadata": {
        "id": "QnRwlrRJhas2",
        "colab": {
          "base_uri": "https://localhost:8080/",
          "height": 109
        },
        "outputId": "d2b379fb-2163-4214-f50e-d3ebddc03ec9"
      },
      "outputs": [
        {
          "output_type": "display_data",
          "data": {
            "text/plain": [
              "<IPython.core.display.HTML object>"
            ],
            "text/html": [
              "\n",
              "    <div style=\"border-left: 5px solid #1e4b8f; padding: 12px 16px; background-color: #f0f6ff;\n",
              "                border-radius: 6px; font-family: 'Segoe UI', sans-serif; line-height: 1.6; margin: 10px 0;\">\n",
              "        <strong style=\"color: #1e4b8f; font-size: 16px;\">🟢 CrewAI Initialized</strong><br>\n",
              "        <span style=\"font-size: 14px; color: #333;\">✅ Main analysis logic is ready to run!</span>\n",
              "    </div>\n",
              "    "
            ]
          },
          "metadata": {}
        }
      ],
      "source": [
        "# +++++ 🚀 Crew Assembly & Execution Function\n",
        "# ++++++++++++++++++++++++++++++++++++++++++++++++++++++++++++++++++++++++++++++++++++++\n",
        "# Create main function that assembles all agents into a working crew\n",
        "\n",
        "def analyze_stock(stock_symbol):\n",
        "    \"\"\"\n",
        "    Main function that runs the complete investment analysis workflow.\n",
        "    Demonstrates multi-agent collaboration with delegation and real-time data integration.\n",
        "    \"\"\"\n",
        "\n",
        "    # Create tasks for all 4 agents\n",
        "    coord_task, market_task, research_task, strategy_task = create_investment_tasks(stock_symbol)\n",
        "\n",
        "    # Assemble agents into crew - enables delegation between agents\n",
        "    investment_crew = Crew(\n",
        "        agents=[portfolio_manager, market_analyst, research_analyst, trading_strategist],\n",
        "        tasks=[coord_task, market_task, research_task, strategy_task],\n",
        "        verbose=False,          # Keeps output clean\n",
        "        max_iter=5,            # Allows for delegation loops\n",
        "        output_log_file=False  # Prevents messy log files\n",
        "    )\n",
        "\n",
        "    pretty_print(f\"Analyzing {stock_symbol}...\", \"💹 Processing\", \"yellow\")\n",
        "\n",
        "    # Execute crew - this is where delegation happens automatically\n",
        "    result = investment_crew.kickoff()\n",
        "\n",
        "    return result\n",
        "\n",
        "pretty_print(\"✅ Main analysis logic is ready to run!\", title=\"🟢 CrewAI Initialized\")"
      ]
    },
    {
      "cell_type": "code",
      "execution_count": 8,
      "metadata": {
        "id": "HanwxKUQhas3",
        "colab": {
          "base_uri": "https://localhost:8080/",
          "height": 932
        },
        "outputId": "8fbd95ab-8092-46a2-9714-946f34123cec"
      },
      "outputs": [
        {
          "output_type": "stream",
          "name": "stdout",
          "text": [
            "Running advanced CrewAI analysis with delegation and real-time data...\n"
          ]
        },
        {
          "output_type": "display_data",
          "data": {
            "text/plain": [
              "<IPython.core.display.HTML object>"
            ],
            "text/html": [
              "\n",
              "    <div style=\"border-left: 5px solid #b26a00; padding: 12px 16px; background-color: #fff8e1;\n",
              "                border-radius: 6px; font-family: 'Segoe UI', sans-serif; line-height: 1.6; margin: 10px 0;\">\n",
              "        <strong style=\"color: #b26a00; font-size: 16px;\">💹 Processing</strong><br>\n",
              "        <span style=\"font-size: 14px; color: #333;\">Analyzing AAPL...</span>\n",
              "    </div>\n",
              "    "
            ]
          },
          "metadata": {}
        },
        {
          "output_type": "stream",
          "name": "stderr",
          "text": [
            "Inserting batches in chromadb:   0%|          | 0/1 [00:00<?, ?it/s]/usr/local/lib/python3.11/dist-packages/chromadb/types.py:144: PydanticDeprecatedSince211: Accessing the 'model_fields' attribute on the instance is deprecated. Instead, you should access this attribute from the model class. Deprecated in Pydantic V2.11 to be removed in V3.0.\n",
            "  return self.model_fields  # pydantic 2.x\n",
            "Inserting batches in chromadb: 100%|██████████| 1/1 [00:00<00:00,  1.35it/s]\n",
            "WARNING:chromadb.segment.impl.vector.local_persistent_hnsw:Number of requested results 3 is greater than number of elements in index 2, updating n_results = 2\n",
            "Inserting batches in chromadb:   0%|          | 0/1 [00:00<?, ?it/s]/usr/local/lib/python3.11/dist-packages/chromadb/types.py:144: PydanticDeprecatedSince211: Accessing the 'model_fields' attribute on the instance is deprecated. Instead, you should access this attribute from the model class. Deprecated in Pydantic V2.11 to be removed in V3.0.\n",
            "  return self.model_fields  # pydantic 2.x\n",
            "Inserting batches in chromadb: 100%|██████████| 1/1 [00:00<00:00,  1.38it/s]\n",
            "/usr/local/lib/python3.11/dist-packages/chromadb/types.py:144: PydanticDeprecatedSince211: Accessing the 'model_fields' attribute on the instance is deprecated. Instead, you should access this attribute from the model class. Deprecated in Pydantic V2.11 to be removed in V3.0.\n",
            "  return self.model_fields  # pydantic 2.x\n",
            "Inserting batches in chromadb:   0%|          | 0/1 [00:00<?, ?it/s]/usr/local/lib/python3.11/dist-packages/chromadb/types.py:144: PydanticDeprecatedSince211: Accessing the 'model_fields' attribute on the instance is deprecated. Instead, you should access this attribute from the model class. Deprecated in Pydantic V2.11 to be removed in V3.0.\n",
            "  return self.model_fields  # pydantic 2.x\n",
            "Inserting batches in chromadb: 100%|██████████| 1/1 [00:00<00:00,  2.46it/s]\n",
            "/usr/local/lib/python3.11/dist-packages/chromadb/types.py:144: PydanticDeprecatedSince211: Accessing the 'model_fields' attribute on the instance is deprecated. Instead, you should access this attribute from the model class. Deprecated in Pydantic V2.11 to be removed in V3.0.\n",
            "  return self.model_fields  # pydantic 2.x\n",
            "/usr/local/lib/python3.11/dist-packages/chromadb/types.py:144: PydanticDeprecatedSince211: Accessing the 'model_fields' attribute on the instance is deprecated. Instead, you should access this attribute from the model class. Deprecated in Pydantic V2.11 to be removed in V3.0.\n",
            "  return self.model_fields  # pydantic 2.x\n",
            "Inserting batches in chromadb:   0%|          | 0/1 [00:00<?, ?it/s]/usr/local/lib/python3.11/dist-packages/chromadb/types.py:144: PydanticDeprecatedSince211: Accessing the 'model_fields' attribute on the instance is deprecated. Instead, you should access this attribute from the model class. Deprecated in Pydantic V2.11 to be removed in V3.0.\n",
            "  return self.model_fields  # pydantic 2.x\n",
            "Inserting batches in chromadb: 100%|██████████| 1/1 [00:00<00:00,  3.61it/s]\n"
          ]
        },
        {
          "output_type": "stream",
          "name": "stdout",
          "text": [
            "\u001b[93m Maximum iterations reached. Requesting final answer.\u001b[00m\n"
          ]
        },
        {
          "output_type": "stream",
          "name": "stderr",
          "text": [
            "Inserting batches in chromadb:   0%|          | 0/1 [00:00<?, ?it/s]/usr/local/lib/python3.11/dist-packages/chromadb/types.py:144: PydanticDeprecatedSince211: Accessing the 'model_fields' attribute on the instance is deprecated. Instead, you should access this attribute from the model class. Deprecated in Pydantic V2.11 to be removed in V3.0.\n",
            "  return self.model_fields  # pydantic 2.x\n",
            "Inserting batches in chromadb: 100%|██████████| 1/1 [00:00<00:00,  2.74it/s]\n",
            "/usr/local/lib/python3.11/dist-packages/chromadb/types.py:144: PydanticDeprecatedSince211: Accessing the 'model_fields' attribute on the instance is deprecated. Instead, you should access this attribute from the model class. Deprecated in Pydantic V2.11 to be removed in V3.0.\n",
            "  return self.model_fields  # pydantic 2.x\n",
            "/usr/local/lib/python3.11/dist-packages/chromadb/types.py:144: PydanticDeprecatedSince211: Accessing the 'model_fields' attribute on the instance is deprecated. Instead, you should access this attribute from the model class. Deprecated in Pydantic V2.11 to be removed in V3.0.\n",
            "  return self.model_fields  # pydantic 2.x\n",
            "Inserting batches in chromadb: 100%|██████████| 1/1 [00:00<00:00,  2.05it/s]\n"
          ]
        },
        {
          "output_type": "stream",
          "name": "stdout",
          "text": [
            "\u001b[93m Maximum iterations reached. Requesting final answer.\u001b[00m\n"
          ]
        },
        {
          "output_type": "stream",
          "name": "stderr",
          "text": [
            "/usr/local/lib/python3.11/dist-packages/chromadb/types.py:144: PydanticDeprecatedSince211: Accessing the 'model_fields' attribute on the instance is deprecated. Instead, you should access this attribute from the model class. Deprecated in Pydantic V2.11 to be removed in V3.0.\n",
            "  return self.model_fields  # pydantic 2.x\n",
            "Inserting batches in chromadb: 100%|██████████| 1/1 [00:00<00:00,  3.11it/s]\n"
          ]
        },
        {
          "output_type": "stream",
          "name": "stdout",
          "text": [
            "💹 TRADING STRATEGY (AAPL)\n",
            "        >>  Today's Price ($201.00)\n",
            "        🎯 Action: BUY\n",
            "        💰 Entry Price: $201.00\n",
            "        🚀 Target: $230.00\n",
            "        🛑 Stop Loss: $180.00\n",
            "\n",
            "        📈 WHY: Strong brand loyalty and positive market sentiment support growth potential.\n"
          ]
        },
        {
          "output_type": "display_data",
          "data": {
            "text/plain": [
              "<IPython.core.display.HTML object>"
            ],
            "text/html": [
              "\n",
              "    <div style=\"border-left: 5px solid #1e4b8f; padding: 12px 16px; background-color: #f0f6ff;\n",
              "                border-radius: 6px; font-family: 'Segoe UI', sans-serif; line-height: 1.6; margin: 10px 0;\">\n",
              "        <strong style=\"color: #1e4b8f; font-size: 16px;\">🎊 Success</strong><br>\n",
              "        <span style=\"font-size: 14px; color: #333;\">✅ Analysis complete! Your AI investment team used delegation to coordinate specialists, integrated real-time market data, and produced a professional investment report.</span>\n",
              "    </div>\n",
              "    "
            ]
          },
          "metadata": {}
        }
      ],
      "source": [
        "# +++++ 🎯 Execute Advanced CrewAI Analysis\n",
        "# ++++++++++++++++++++++++++++++++++++++++++++++++++++++++++++++++++++++++++++++++++++++\n",
        "\n",
        "\n",
        "# Execute the complete analysis for Apple stock\n",
        "print(\"Running advanced CrewAI analysis with delegation and real-time data...\")\n",
        "result = analyze_stock('AAPL')\n",
        "print(result)\n",
        "\n",
        "pretty_print(\"✅ Analysis complete! Your AI investment team used delegation to coordinate specialists, integrated real-time market data, and produced a professional investment report.\", \"🎊 Success\", \"blue\")"
      ]
    },
    {
      "cell_type": "code",
      "source": [
        "# +++++ 📊 HTML Investment Report (Dropbox Version with CrewAI Data)\n",
        "# ++++++++++++++++++++++++++++++++++++++++++++++++++++++++++++++++++++++++++++++++++++++\n",
        "# Download HTML report from Dropbox and use it with real CrewAI result data\n",
        "\n",
        "import requests\n",
        "\n",
        "print(\"🔄 Loading HTML investment report from Dropbox...\")\n",
        "\n",
        "# Download the HTML report script\n",
        "dropbox_url = \"https://www.dropbox.com/scl/fi/kwuifm4ullucyvyxnnax0/HTML-Investment-Report.html?rlkey=jkfjmxnoks7rxwuxfvh46slap&dl=1\"\n",
        "\n",
        "response = requests.get(dropbox_url)\n",
        "code_content = response.text\n",
        "\n",
        "# Execute the code to load the function\n",
        "exec(code_content)\n",
        "\n",
        "print(f\"🎨 Generating HTML report with CrewAI result data...\")\n",
        "\n",
        "# Pass the result from your earlier CrewAI analysis\n",
        "symbol = 'AAPL' # Define the symbol variable\n",
        "html_report = create_html_investment_report(symbol, result)\n",
        "\n",
        "display(HTML(html_report))\n",
        "\n",
        "print(\"✅ HTML Investment Report with real AI recommendations displayed!\")"
      ],
      "metadata": {
        "colab": {
          "base_uri": "https://localhost:8080/",
          "height": 1000
        },
        "outputId": "f423a6d2-a757-4dd7-f04b-ca60eef311e1",
        "id": "OAmb7zppFYXW"
      },
      "execution_count": 9,
      "outputs": [
        {
          "output_type": "stream",
          "name": "stdout",
          "text": [
            "🔄 Loading HTML investment report from Dropbox...\n",
            "🎨 Generating HTML report with CrewAI result data...\n",
            "ðŸ”� Debug - Portfolio output: 🏢 AAPL INVESTMENT ANALYSIS  \n",
            "💰 RECOMMENDATION: BUY  \n",
            "🎯 Target Price: $230.00  \n",
            "📉 Stop Loss: $180.00  \n",
            "⏰ Timeframe: Medium term  \n",
            "\n",
            "KEY INSIGHTS (3 bullet points max):  \n",
            "• Strong brand loyalty and ecosy...\n",
            "ðŸ”� Debug - Trading output: 💹 TRADING STRATEGY (AAPL)\n",
            "        >>  Today's Price ($201.00)\n",
            "        🎯 Action: BUY\n",
            "        💰 Entry Price: $201.00\n",
            "        🚀 Target: $230.00\n",
            "        🛑 Stop Loss: $180.00\n",
            "\n",
            "        📈 WHY: Strong brand l...\n",
            "ðŸ“Š Extracted - Rec: BUY, Target: $230.00, Stop: $180.00, Entry: $201.00\n"
          ]
        },
        {
          "output_type": "display_data",
          "data": {
            "text/plain": [
              "<IPython.core.display.HTML object>"
            ],
            "text/html": [
              "\n",
              "    <meta charset=\"UTF-8\">\n",
              "    <div style=\"font-family: 'Segoe UI', Arial, sans-serif; max-width: 800px; margin: 20px auto; background: linear-gradient(135deg, #1e3c72 0%, #2a5298 100%); border-radius: 15px; padding: 2px;\">\n",
              "        <div style=\"background: white; border-radius: 13px; padding: 30px; box-shadow: 0 10px 30px rgba(0,0,0,0.15);\">\n",
              "            \n",
              "            <!-- Header -->\n",
              "            <div style=\"text-align: center; margin-bottom: 30px; padding: 20px; background: linear-gradient(135deg, #1e3c72 0%, #2a5298 100%); border-radius: 10px; color: white;\">\n",
              "                <h1 style=\"margin: 0; font-size: 2.5em; font-weight: bold;\">AAPL INVESTMENT ANALYSIS</h1>\n",
              "                <p style=\"margin: 10px 0 0 0; font-size: 1.1em; opacity: 0.9;\">June 22, 2025 at 05:19 AM</p>\n",
              "            </div>\n",
              "            \n",
              "            <!-- Price Summary -->\n",
              "            <div style=\"display: flex; justify-content: space-around; margin-bottom: 30px; text-align: center;\">\n",
              "                <div style=\"background: #f8faff; padding: 20px; border-radius: 10px; flex: 1; margin: 0 10px; border: 1px solid #e3ebf0;\">\n",
              "                    <h3 style=\"margin: 0; color: #2c3e50; font-size: 1.2em;\">Current Price</h3>\n",
              "                    <p style=\"margin: 10px 0 0 0; font-size: 2em; font-weight: bold; color: #1e3c72;\">$201.0</p>\n",
              "                </div>\n",
              "                <div style=\"background: #f8faff; padding: 20px; border-radius: 10px; flex: 1; margin: 0 10px; border: 1px solid #e3ebf0;\">\n",
              "                    <h3 style=\"margin: 0; color: #2c3e50; font-size: 1.2em;\">Daily Change</h3>\n",
              "                    <p style=\"margin: 10px 0 0 0; font-size: 1.5em; font-weight: bold; color: #4CAF50;\">\n",
              "                        UP $4.42 (+2.25%)\n",
              "                    </p>\n",
              "                </div>\n",
              "            </div>\n",
              "            \n",
              "            <!-- Recommendation Box -->\n",
              "            <div style=\"background: linear-gradient(135deg, #1e3c72 0%, #2a5298 100%); color: white; padding: 25px; border-radius: 10px; text-align: center; margin-bottom: 30px; box-shadow: 0 8px 25px rgba(30, 60, 114, 0.3);\">\n",
              "                <h2 style=\"margin: 0; font-size: 1.8em;\">RECOMMENDATION: BUY</h2>\n",
              "                <div style=\"display: flex; justify-content: space-around; margin-top: 20px; text-align: center;\">\n",
              "                    <div>\n",
              "                        <p style=\"margin: 0; font-size: 0.9em; opacity: 0.8;\">Target Price</p>\n",
              "                        <p style=\"margin: 5px 0 0 0; font-size: 1.3em; font-weight: bold;\">$230.00</p>\n",
              "                    </div>\n",
              "                    <div>\n",
              "                        <p style=\"margin: 0; font-size: 0.9em; opacity: 0.8;\">Stop Loss</p>\n",
              "                        <p style=\"margin: 5px 0 0 0; font-size: 1.3em; font-weight: bold;\">$180.00</p>\n",
              "                    </div>\n",
              "                    <div>\n",
              "                        <p style=\"margin: 0; font-size: 0.9em; opacity: 0.8;\">Timeframe</p>\n",
              "                        <p style=\"margin: 5px 0 0 0; font-size: 1.3em; font-weight: bold;\">Medium term</p>\n",
              "                    </div>\n",
              "                </div>\n",
              "            </div>\n",
              "            \n",
              "            <!-- Investment Justification -->\n",
              "            <div style=\"display: flex; gap: 20px; margin-bottom: 30px;\">\n",
              "                <div style=\"flex: 1; background: #f0f7ff; padding: 20px; border-radius: 10px; border-left: 5px solid #2a5298;\">\n",
              "                    <h3 style=\"margin: 0 0 15px 0; color: #1e3c72; font-size: 1.3em;\">BULLISH FACTORS</h3>\n",
              "                    <ul style=\"margin: 0; padding-left: 20px; line-height: 1.6; color: #34495e;\">\n",
              "                        <li>Strong brand loyalty creates pricing power</li>\n",
              "                        <li>Services revenue growing 15%+ annually</li>\n",
              "                        <li>iPhone upgrade cycle driving hardware sales</li>\n",
              "                        <li>$165B+ cash position provides flexibility</li>\n",
              "                        <li>Consistent dividend increases</li>\n",
              "                    </ul>\n",
              "                </div>\n",
              "                <div style=\"flex: 1; background: #f8faff; padding: 20px; border-radius: 10px; border-left: 5px solid #7f8c8d;\">\n",
              "                    <h3 style=\"margin: 0 0 15px 0; color: #5d6d7e; font-size: 1.3em;\">RISK FACTORS</h3>\n",
              "                    <ul style=\"margin: 0; padding-left: 20px; line-height: 1.6; color: #5d6d7e;\">\n",
              "                        <li>High P/E ratio indicates premium valuation</li>\n",
              "                        <li>Economic slowdown could impact spending</li>\n",
              "                        <li>China market dependency</li>\n",
              "                        <li>Regulatory scrutiny on App Store</li>\n",
              "                    </ul>\n",
              "                </div>\n",
              "            </div>\n",
              "            \n",
              "            <!-- Recent Price Performance -->\n",
              "            <div style=\"background: #f8faff; padding: 25px; border-radius: 10px; margin-bottom: 30px; border: 1px solid #e3ebf0;\">\n",
              "                <h3 style=\"margin: 0 0 20px 0; color: #1e3c72; font-size: 1.4em; text-align: center;\">LAST 5 TRADING DAYS PERFORMANCE</h3>\n",
              "                \n",
              "        <div style=\"text-align: center; margin-bottom: 20px;\">\n",
              "            <svg width=\"600\" height=\"200\" style=\"border: 1px solid #e3ebf0; border-radius: 8px; background: white;\">\n",
              "                <!-- Grid lines -->\n",
              "                <defs>\n",
              "                    <pattern id=\"grid\" width=\"50\" height=\"40\" patternUnits=\"userSpaceOnUse\">\n",
              "                        <path d=\"M 50 0 L 0 0 0 40\" fill=\"none\" stroke=\"#f0f7ff\" stroke-width=\"1\"/>\n",
              "                    </pattern>\n",
              "                </defs>\n",
              "                <rect width=\"100%\" height=\"100%\" fill=\"url(#grid)\" />\n",
              "                \n",
              "                <!-- Price line -->\n",
              "                <polyline fill=\"none\" stroke=\"#1e3c72\" stroke-width=\"3\" points=\"40.0,97.76122844625121 213.33333333333334,160.0 386.6666666666667,138.95517161865558 560.0,40.0\"/>\n",
              "                \n",
              "                <!-- Data points -->\n",
              "                <circle cx=\"40.0\" cy=\"97.76122844625121\" r=\"5\" fill=\"#2a5298\" stroke=\"white\" stroke-width=\"2\"/>\n",
              "<circle cx=\"213.33333333333334\" cy=\"160.0\" r=\"5\" fill=\"#2a5298\" stroke=\"white\" stroke-width=\"2\"/>\n",
              "<circle cx=\"386.6666666666667\" cy=\"138.95517161865558\" r=\"5\" fill=\"#2a5298\" stroke=\"white\" stroke-width=\"2\"/>\n",
              "<circle cx=\"560.0\" cy=\"40.0\" r=\"5\" fill=\"#2a5298\" stroke=\"white\" stroke-width=\"2\"/>\n",
              "                \n",
              "                <!-- Price labels -->\n",
              "                <text x=\"40.0\" y=\"82.76122844625121\" text-anchor=\"middle\" fill=\"#1e3c72\" font-size=\"12\" font-weight=\"bold\">$198.42</text>\n",
              "<text x=\"213.33333333333334\" y=\"145.0\" text-anchor=\"middle\" fill=\"#1e3c72\" font-size=\"12\" font-weight=\"bold\">$195.64</text>\n",
              "<text x=\"386.6666666666667\" y=\"123.95517161865558\" text-anchor=\"middle\" fill=\"#1e3c72\" font-size=\"12\" font-weight=\"bold\">$196.58</text>\n",
              "<text x=\"560.0\" y=\"25.0\" text-anchor=\"middle\" fill=\"#1e3c72\" font-size=\"12\" font-weight=\"bold\">$201.00</text>\n",
              "                \n",
              "                <!-- Date labels -->\n",
              "                <text x=\"40.0\" y=\"190\" text-anchor=\"middle\" fill=\"#5d6d7e\" font-size=\"11\">06/16</text>\n",
              "<text x=\"213.33333333333334\" y=\"190\" text-anchor=\"middle\" fill=\"#5d6d7e\" font-size=\"11\">06/17</text>\n",
              "<text x=\"386.6666666666667\" y=\"190\" text-anchor=\"middle\" fill=\"#5d6d7e\" font-size=\"11\">06/18</text>\n",
              "<text x=\"560.0\" y=\"190\" text-anchor=\"middle\" fill=\"#5d6d7e\" font-size=\"11\">06/20</text>\n",
              "            </svg>\n",
              "        </div>\n",
              "        \n",
              "        <!-- Price summary -->\n",
              "        <div style=\"display: flex; justify-content: space-around; text-align: center; margin-top: 15px;\">\n",
              "            <div>\n",
              "                <p style=\"margin: 0; color: #5d6d7e; font-size: 0.9em;\">5-Day Low</p>\n",
              "                <p style=\"margin: 5px 0 0 0; font-size: 1.1em; font-weight: bold; color: #FF6B6B;\">$195.64</p>\n",
              "            </div>\n",
              "            <div>\n",
              "                <p style=\"margin: 0; color: #5d6d7e; font-size: 0.9em;\">5-Day High</p>\n",
              "                <p style=\"margin: 5px 0 0 0; font-size: 1.1em; font-weight: bold; color: #4CAF50;\">$201.00</p>\n",
              "            </div>\n",
              "            <div>\n",
              "                <p style=\"margin: 0; color: #5d6d7e; font-size: 0.9em;\">5-Day Range</p>\n",
              "                <p style=\"margin: 5px 0 0 0; font-size: 1.1em; font-weight: bold; color: #1e3c72;\">$5.36</p>\n",
              "            </div>\n",
              "        </div>\n",
              "        \n",
              "            </div>\n",
              "            \n",
              "            <!-- Key Metrics -->\n",
              "            <div style=\"background: #f0f7ff; padding: 25px; border-radius: 10px; margin-bottom: 30px; border: 1px solid #d6e9ff;\">\n",
              "                <h3 style=\"margin: 0 0 20px 0; color: #1e3c72; font-size: 1.4em; text-align: center;\">KEY METRICS</h3>\n",
              "                <div style=\"display: grid; grid-template-columns: repeat(2, 1fr); gap: 15px; text-align: center;\">\n",
              "                    <div>\n",
              "                        <p style=\"margin: 0; color: #5d6d7e; font-size: 0.9em;\">Market Cap</p>\n",
              "                        <p style=\"margin: 5px 0 0 0; font-size: 1.2em; font-weight: bold; color: #2c3e50;\">$3,002,095,632,384</p>\n",
              "                    </div>\n",
              "                    <div>\n",
              "                        <p style=\"margin: 0; color: #5d6d7e; font-size: 0.9em;\">P/E Ratio</p>\n",
              "                        <p style=\"margin: 5px 0 0 0; font-size: 1.2em; font-weight: bold; color: #2c3e50;\">31.357256</p>\n",
              "                    </div>\n",
              "                    <div>\n",
              "                        <p style=\"margin: 0; color: #5d6d7e; font-size: 0.9em;\">52-Week Low</p>\n",
              "                        <p style=\"margin: 5px 0 0 0; font-size: 1.2em; font-weight: bold; color: #2c3e50;\">$169.21</p>\n",
              "                    </div>\n",
              "                    <div>\n",
              "                        <p style=\"margin: 0; color: #5d6d7e; font-size: 0.9em;\">52-Week High</p>\n",
              "                        <p style=\"margin: 5px 0 0 0; font-size: 1.2em; font-weight: bold; color: #2c3e50;\">$260.1</p>\n",
              "                    </div>\n",
              "                </div>\n",
              "            </div>\n",
              "            \n",
              "            <!-- Investment Thesis -->\n",
              "            <div style=\"background: linear-gradient(135deg, #34495e 0%, #2c3e50 100%); color: white; padding: 25px; border-radius: 10px; margin-bottom: 30px;\">\n",
              "                <h3 style=\"margin: 0 0 15px 0; font-size: 1.4em;\">INVESTMENT THESIS</h3>\n",
              "                <p style=\"margin: 0; line-height: 1.6; font-size: 1.1em;\">\n",
              "                    Apple's ecosystem strength and recurring services revenue provide sustainable competitive advantages. \n",
              "                    Despite premium valuation, strong fundamentals support long-term growth potential.\n",
              "                </p>\n",
              "            </div>\n",
              "            \n",
              "            <!-- Entry Strategy -->\n",
              "            <div style=\"background: #f8faff; border: 2px solid #2a5298; padding: 25px; border-radius: 10px; margin-bottom: 20px;\">\n",
              "                <h3 style=\"margin: 0 0 20px 0; color: #1e3c72; font-size: 1.4em; text-align: center;\">ENTRY STRATEGY</h3>\n",
              "                <div style=\"display: grid; grid-template-columns: repeat(2, 1fr); gap: 20px;\">\n",
              "                    <div style=\"text-align: center;\">\n",
              "                        <p style=\"margin: 0; color: #1e3c72; font-weight: bold;\">BUY ZONE</p>\n",
              "                        <p style=\"margin: 5px 0; font-size: 1.2em; color: #2c3e50;\">Entry at $201.00 or below</p>\n",
              "                    </div>\n",
              "                    <div style=\"text-align: center;\">\n",
              "                        <p style=\"margin: 0; color: #1e3c72; font-weight: bold;\">POSITION SIZE</p>\n",
              "                        <p style=\"margin: 5px 0; font-size: 1.2em; color: #2c3e50;\">3-5% of portfolio maximum</p>\n",
              "                    </div>\n",
              "                </div>\n",
              "            </div>\n",
              "            \n",
              "            <!-- Footer -->\n",
              "            <div style=\"text-align: center; padding: 20px; background: #f8faff; border-radius: 10px; color: #5d6d7e; border: 1px solid #e3ebf0;\">\n",
              "                <p style=\"margin: 0; font-size: 0.9em;\">\n",
              "                    Analysis generated by AI Investment Research Crew<br>\n",
              "                    This is not financial advice. Please do your own research.\n",
              "                </p>\n",
              "            </div>\n",
              "            \n",
              "        </div>\n",
              "    </div>\n",
              "    "
            ]
          },
          "metadata": {}
        },
        {
          "output_type": "stream",
          "name": "stdout",
          "text": [
            "✅ HTML Investment Report with real AI recommendations displayed!\n"
          ]
        }
      ]
    },
    {
      "cell_type": "markdown",
      "source": [
        "## 🧪 Hands-On Lab: Customize and Explore Your Investment Crew\n",
        "\n",
        "In this lab, you'll modify your CrewAI investment model by experimenting with agent roles, adding financial tools, and testing different stock symbols. Follow the steps below and submit your observations.\n",
        "\n",
        "---\n",
        "\n",
        "### <span style=\"color:#3b82f6; font-weight:bold;\">1. Modify the Strategic Agent</span>\n",
        "Update the Strategic Agent’s role, goal, or tools to see how it affects the model.\n",
        "- You might make it more risk-focused or give it access to tools like news search or valuation metrics.\n",
        "\n",
        "---\n",
        "\n",
        "### <span style=\"color:#3b82f6; font-weight:bold;\">2. Add a Financial Tool or Calculator</span>\n",
        "Create a simple helper function or add a tool to compute key financial metrics.\n",
        "- For example: risk/reward ratio, moving averages, or P/E ratio.\n",
        "\n",
        "---\n",
        "\n",
        "### <span style=\"color:#3b82f6; font-weight:bold;\">3. Test New Stock Symbols</span>\n",
        "Run the model using at least three other stock symbols:\n",
        "- Suggestions: `TSLA`, `GOOGL`, and `NVDA`. Compare how the recommendations change across different companies.\n",
        "\n",
        "---\n",
        "\n",
        "### <span style=\"color:#3b82f6; font-weight:bold;\">4. Submit a 1-Page PDF Report</span>\n",
        "Write a brief summary covering:What you changed, What symbols you tested, What you observed\n",
        "\n",
        "Export the report as a **1-2 page PDF**.\n",
        "\n",
        "---\n",
        "\n",
        "### <span style=\"color:#3b82f6; font-weight:bold;\">5. Confirm Your Submission</span>\n",
        "Complete the next cell to finalize your lab submission.\n",
        "- Make sure your code is saved and your PDF is ready.\n",
        "\n",
        "---\n"
      ],
      "metadata": {
        "id": "WCaTZbITtqbZ"
      }
    },
    {
      "cell_type": "markdown",
      "source": [
        "# Hands-on Lab: Part 1 (Modify Strategic Agent)"
      ],
      "metadata": {
        "id": "uVc3T8abEr5J"
      }
    },
    {
      "cell_type": "code",
      "source": [
        "# Hands-On Lab: Part 1 (Modify Strategic Agent)\n",
        "\n",
        "# AGENT 4: TRADING STRATEGIST\n",
        "trading_strategist_new = Agent(\n",
        "    role=\"Trading Strategist & Risk Analyzer\",\n",
        "    goal=\"Synthesize all research into actionable BUY/SELL/HOLD recommendations. Explain if any risks are involved\",\n",
        "    backstory=\"You're a quantitative analyst who combines technical analysis, fundamental analysis, and market sentiment to create clear, actionable trading strategies with specific price targets and provides information about risks that might occur.\",\n",
        "    llm=llm,\n",
        "    tools=[web_search],\n",
        "    verbose=False\n",
        ")\n",
        "\n",
        "\n",
        "pretty_print(\"💼 Investment dream team assembled!\\n📊 Portfolio Manager (Boss)\\n📰 Market Analyst\\n📚 Research Analyst\\n💹 Trading Strategist\", \"👥 Team Ready\", \"blue\")"
      ],
      "metadata": {
        "colab": {
          "base_uri": "https://localhost:8080/",
          "height": 199
        },
        "id": "HZFkbAUwCQj_",
        "outputId": "897d3257-54c5-49de-abf4-8db9a54b3ce3"
      },
      "execution_count": 10,
      "outputs": [
        {
          "output_type": "display_data",
          "data": {
            "text/plain": [
              "<IPython.core.display.HTML object>"
            ],
            "text/html": [
              "\n",
              "    <div style=\"border-left: 5px solid #1e4b8f; padding: 12px 16px; background-color: #f0f6ff;\n",
              "                border-radius: 6px; font-family: 'Segoe UI', sans-serif; line-height: 1.6; margin: 10px 0;\">\n",
              "        <strong style=\"color: #1e4b8f; font-size: 16px;\">👥 Team Ready</strong><br>\n",
              "        <span style=\"font-size: 14px; color: #333;\">💼 Investment dream team assembled!<br>📊 Portfolio Manager (Boss)<br>📰 Market Analyst<br>📚 Research Analyst<br>💹 Trading Strategist</span>\n",
              "    </div>\n",
              "    "
            ]
          },
          "metadata": {}
        }
      ]
    },
    {
      "cell_type": "code",
      "source": [
        "def create_investment_tasks(stock_symbol):\n",
        "    \"\"\"\n",
        "    Creates 4 specialized tasks that demonstrate delegation and RAG capabilities.\n",
        "    Each task has specific output format to prevent messy results.\n",
        "    \"\"\"\n",
        "\n",
        "    # TASK 1: PORTFOLIO MANAGER COORDINATION TASK (DELEGATION)\n",
        "    coordination_task = Task(\n",
        "        description=f\"\"\"As Portfolio Manager, coordinate investment analysis for {stock_symbol}.\n",
        "\n",
        "        DELEGATE to your team and create EXECUTIVE SUMMARY in this EXACT format:\n",
        "\n",
        "        🏢 {stock_symbol} INVESTMENT ANALYSIS\n",
        "        💰 RECOMMENDATION: [BUY/SELL/HOLD]\n",
        "        🎯 Target Price: $[X.XX]\n",
        "        📉 Stop Loss: $[X.XX]\n",
        "        ⏰ Timeframe: [Short/Medium/Long term]\n",
        "\n",
        "        KEY INSIGHTS (3 bullet points max):\n",
        "        • [Key point 1]\n",
        "        • [Key point 2]\n",
        "        • [Key point 3]\n",
        "\n",
        "        ⚠️ RISKS: [Main risk in 1 sentence]\n",
        "\n",
        "        Keep it SHORT and ACTIONABLE. No paragraphs!\"\"\",\n",
        "        agent=portfolio_manager,\n",
        "        expected_output=f\"Clean executive summary for {stock_symbol} with exact format\"\n",
        "    )\n",
        "\n",
        "    # TASK 2: MARKET NEWS ANALYSIS TASK (WEB SCRAPING)\n",
        "    market_task = Task(\n",
        "        description=f\"\"\"Find latest news for {stock_symbol} and summarize in EXACTLY this format:\n",
        "\n",
        "        📰 MARKET NEWS ({stock_symbol})\n",
        "        • [Latest news headline 1]\n",
        "        • [Latest news headline 2]\n",
        "        • [Latest news headline 3]\n",
        "\n",
        "        📊 SENTIMENT: [Positive/Negative/Neutral] - [Why in 1 sentence]\n",
        "\n",
        "        Keep it SHORT! Max 4 lines total.\"\"\",\n",
        "        agent=market_analyst,\n",
        "        expected_output=f\"Short news summary for {stock_symbol} in exact format\"\n",
        "    )\n",
        "\n",
        "    # TASK 3: DOCUMENT ANALYSIS TASK (RAG)\n",
        "    research_task = Task(\n",
        "        description=f\"\"\"Analyze {stock_symbol} financials and provide EXACTLY this format:\n",
        "\n",
        "        📊 FINANCIAL HEALTH ({stock_symbol})\n",
        "        • Revenue: [Growing/Declining/Stable]\n",
        "        • Profit: [Strong/Weak/Average]\n",
        "        • Debt: [Low/Medium/High]\n",
        "\n",
        "        💡 KEY METRIC: [Most important number]\n",
        "\n",
        "        Keep it SHORT! Max 4 lines total.\"\"\",\n",
        "        agent=research_analyst,\n",
        "        expected_output=f\"Short financial summary for {stock_symbol} in exact format\"\n",
        "    )\n",
        "\n",
        "    # TASK 4: TRADING STRATEGY TASK (SYNTHESIS)\n",
        "    strategy_task = Task(\n",
        "        description=f\"\"\"Create trading strategy for {stock_symbol} in EXACTLY this format:\n",
        "\n",
        "        💹 TRADING STRATEGY ({stock_symbol})\n",
        "        >>  Today's Price ($[X.XX])\n",
        "        🎯 Action: [BUY/SELL/HOLD]\n",
        "        💰 Entry Price: $[X.XX]\n",
        "        🚀 Target: $[X.XX]\n",
        "        🛑 Stop Loss: $[X.XX]\n",
        "\n",
        "        📈 WHY: [Reason in 1 sentence]\n",
        "\n",
        "        Keep it SHORT! Max 5 lines total.\"\"\",\n",
        "        agent=trading_strategist_new,\n",
        "        expected_output=f\"Short trading strategy for {stock_symbol} in exact format\"\n",
        "    )\n",
        "\n",
        "    return coordination_task, market_task, research_task, strategy_task\n",
        "\n",
        "print(\"📋 Task templates created - ready for delegation!\")"
      ],
      "metadata": {
        "colab": {
          "base_uri": "https://localhost:8080/"
        },
        "id": "MeRK4F0YDaJP",
        "outputId": "b3ef4dbf-38e8-4047-8c8d-aa5510e4c9c8"
      },
      "execution_count": 12,
      "outputs": [
        {
          "output_type": "stream",
          "name": "stdout",
          "text": [
            "📋 Task templates created - ready for delegation!\n"
          ]
        }
      ]
    },
    {
      "cell_type": "code",
      "source": [
        "def analyze_stock(stock_symbol):\n",
        "    \"\"\"\n",
        "    Main function that runs the complete investment analysis workflow.\n",
        "    Demonstrates multi-agent collaboration with delegation and real-time data integration.\n",
        "    \"\"\"\n",
        "\n",
        "    # Create tasks for all 4 agents\n",
        "    coord_task, market_task, research_task, strategy_task = create_investment_tasks(stock_symbol)\n",
        "\n",
        "    # Assemble agents into crew - enables delegation between agents\n",
        "    investment_crew = Crew(\n",
        "        agents=[portfolio_manager, market_analyst, research_analyst, trading_strategist_new],\n",
        "        tasks=[coord_task, market_task, research_task, strategy_task],\n",
        "        verbose=False,          # Keeps output clean\n",
        "        max_iter=5,            # Allows for delegation loops\n",
        "        output_log_file=False  # Prevents messy log files\n",
        "    )\n",
        "\n",
        "    pretty_print(f\"Analyzing {stock_symbol}...\", \"💹 Processing\", \"yellow\")\n",
        "\n",
        "    # Execute crew - this is where delegation happens automatically\n",
        "    result = investment_crew.kickoff()\n",
        "\n",
        "    return result\n",
        "\n",
        "pretty_print(\"✅ Main analysis logic is ready to run!\", title=\"🟢 CrewAI Initialized\")"
      ],
      "metadata": {
        "colab": {
          "base_uri": "https://localhost:8080/",
          "height": 109
        },
        "id": "xXo6E4gmDpOg",
        "outputId": "329c180d-428a-422d-cb09-fc5910932eca"
      },
      "execution_count": 13,
      "outputs": [
        {
          "output_type": "display_data",
          "data": {
            "text/plain": [
              "<IPython.core.display.HTML object>"
            ],
            "text/html": [
              "\n",
              "    <div style=\"border-left: 5px solid #1e4b8f; padding: 12px 16px; background-color: #f0f6ff;\n",
              "                border-radius: 6px; font-family: 'Segoe UI', sans-serif; line-height: 1.6; margin: 10px 0;\">\n",
              "        <strong style=\"color: #1e4b8f; font-size: 16px;\">🟢 CrewAI Initialized</strong><br>\n",
              "        <span style=\"font-size: 14px; color: #333;\">✅ Main analysis logic is ready to run!</span>\n",
              "    </div>\n",
              "    "
            ]
          },
          "metadata": {}
        }
      ]
    },
    {
      "cell_type": "code",
      "source": [
        "# Execute the complete analysis for Apple stock\n",
        "print(\"Running advanced CrewAI analysis with delegation and real-time data...\")\n",
        "result = analyze_stock('AAPL')\n",
        "print(result)\n",
        "\n",
        "pretty_print(\"✅ Analysis complete! Your AI investment team used delegation to coordinate specialists, integrated real-time market data, and produced a professional investment report.\", \"🎊 Success\", \"blue\")"
      ],
      "metadata": {
        "colab": {
          "base_uri": "https://localhost:8080/",
          "height": 742
        },
        "id": "X-zRIeAyD14y",
        "outputId": "48a25b5a-4ecd-4463-e826-add358d33b29"
      },
      "execution_count": 14,
      "outputs": [
        {
          "output_type": "stream",
          "name": "stdout",
          "text": [
            "Running advanced CrewAI analysis with delegation and real-time data...\n"
          ]
        },
        {
          "output_type": "display_data",
          "data": {
            "text/plain": [
              "<IPython.core.display.HTML object>"
            ],
            "text/html": [
              "\n",
              "    <div style=\"border-left: 5px solid #b26a00; padding: 12px 16px; background-color: #fff8e1;\n",
              "                border-radius: 6px; font-family: 'Segoe UI', sans-serif; line-height: 1.6; margin: 10px 0;\">\n",
              "        <strong style=\"color: #b26a00; font-size: 16px;\">💹 Processing</strong><br>\n",
              "        <span style=\"font-size: 14px; color: #333;\">Analyzing AAPL...</span>\n",
              "    </div>\n",
              "    "
            ]
          },
          "metadata": {}
        },
        {
          "output_type": "stream",
          "name": "stderr",
          "text": [
            "/usr/local/lib/python3.11/dist-packages/chromadb/types.py:144: PydanticDeprecatedSince211: Accessing the 'model_fields' attribute on the instance is deprecated. Instead, you should access this attribute from the model class. Deprecated in Pydantic V2.11 to be removed in V3.0.\n",
            "  return self.model_fields  # pydantic 2.x\n",
            "Inserting batches in chromadb: 100%|██████████| 1/1 [00:00<00:00,  3.02it/s]\n",
            "/usr/local/lib/python3.11/dist-packages/chromadb/types.py:144: PydanticDeprecatedSince211: Accessing the 'model_fields' attribute on the instance is deprecated. Instead, you should access this attribute from the model class. Deprecated in Pydantic V2.11 to be removed in V3.0.\n",
            "  return self.model_fields  # pydantic 2.x\n"
          ]
        },
        {
          "output_type": "stream",
          "name": "stdout",
          "text": [
            "\u001b[93m Maximum iterations reached. Requesting final answer.\u001b[00m\n"
          ]
        },
        {
          "output_type": "stream",
          "name": "stderr",
          "text": [
            "/usr/local/lib/python3.11/dist-packages/chromadb/types.py:144: PydanticDeprecatedSince211: Accessing the 'model_fields' attribute on the instance is deprecated. Instead, you should access this attribute from the model class. Deprecated in Pydantic V2.11 to be removed in V3.0.\n",
            "  return self.model_fields  # pydantic 2.x\n",
            "Inserting batches in chromadb: 100%|██████████| 1/1 [00:00<00:00,  2.87it/s]\n",
            "/usr/local/lib/python3.11/dist-packages/chromadb/types.py:144: PydanticDeprecatedSince211: Accessing the 'model_fields' attribute on the instance is deprecated. Instead, you should access this attribute from the model class. Deprecated in Pydantic V2.11 to be removed in V3.0.\n",
            "  return self.model_fields  # pydantic 2.x\n"
          ]
        },
        {
          "output_type": "stream",
          "name": "stdout",
          "text": [
            "\u001b[93m Maximum iterations reached. Requesting final answer.\u001b[00m\n"
          ]
        },
        {
          "output_type": "stream",
          "name": "stderr",
          "text": [
            "Inserting batches in chromadb:   0%|          | 0/1 [00:00<?, ?it/s]/usr/local/lib/python3.11/dist-packages/chromadb/types.py:144: PydanticDeprecatedSince211: Accessing the 'model_fields' attribute on the instance is deprecated. Instead, you should access this attribute from the model class. Deprecated in Pydantic V2.11 to be removed in V3.0.\n",
            "  return self.model_fields  # pydantic 2.x\n",
            "Inserting batches in chromadb: 100%|██████████| 1/1 [00:00<00:00,  2.86it/s]\n",
            "/usr/local/lib/python3.11/dist-packages/chromadb/types.py:144: PydanticDeprecatedSince211: Accessing the 'model_fields' attribute on the instance is deprecated. Instead, you should access this attribute from the model class. Deprecated in Pydantic V2.11 to be removed in V3.0.\n",
            "  return self.model_fields  # pydantic 2.x\n"
          ]
        },
        {
          "output_type": "stream",
          "name": "stdout",
          "text": [
            "\u001b[93m Maximum iterations reached. Requesting final answer.\u001b[00m\n"
          ]
        },
        {
          "output_type": "stream",
          "name": "stderr",
          "text": [
            "Inserting batches in chromadb:   0%|          | 0/1 [00:00<?, ?it/s]/usr/local/lib/python3.11/dist-packages/chromadb/types.py:144: PydanticDeprecatedSince211: Accessing the 'model_fields' attribute on the instance is deprecated. Instead, you should access this attribute from the model class. Deprecated in Pydantic V2.11 to be removed in V3.0.\n",
            "  return self.model_fields  # pydantic 2.x\n",
            "Inserting batches in chromadb: 100%|██████████| 1/1 [00:00<00:00,  3.08it/s]\n"
          ]
        },
        {
          "output_type": "stream",
          "name": "stdout",
          "text": [
            "💹 TRADING STRATEGY (AAPL)\n",
            "        >>  Today's Price ($201.00)\n",
            "        🎯 Action: BUY\n",
            "        💰 Entry Price: $201.00\n",
            "        🚀 Target: $230.00\n",
            "        🛑 Stop Loss: $180.00\n",
            "\n",
            "        📈 WHY: Strong revenue growth and positive market sentiment support a bullish outlook.\n"
          ]
        },
        {
          "output_type": "display_data",
          "data": {
            "text/plain": [
              "<IPython.core.display.HTML object>"
            ],
            "text/html": [
              "\n",
              "    <div style=\"border-left: 5px solid #1e4b8f; padding: 12px 16px; background-color: #f0f6ff;\n",
              "                border-radius: 6px; font-family: 'Segoe UI', sans-serif; line-height: 1.6; margin: 10px 0;\">\n",
              "        <strong style=\"color: #1e4b8f; font-size: 16px;\">🎊 Success</strong><br>\n",
              "        <span style=\"font-size: 14px; color: #333;\">✅ Analysis complete! Your AI investment team used delegation to coordinate specialists, integrated real-time market data, and produced a professional investment report.</span>\n",
              "    </div>\n",
              "    "
            ]
          },
          "metadata": {}
        }
      ]
    },
    {
      "cell_type": "code",
      "source": [
        "# Download HTML report from Dropbox and use it with real CrewAI result data\n",
        "\n",
        "import requests\n",
        "\n",
        "print(\"🔄 Loading HTML investment report from Dropbox...\")\n",
        "\n",
        "# Download the HTML report script\n",
        "dropbox_url = \"https://www.dropbox.com/scl/fi/kwuifm4ullucyvyxnnax0/HTML-Investment-Report.html?rlkey=jkfjmxnoks7rxwuxfvh46slap&dl=1\"\n",
        "\n",
        "response = requests.get(dropbox_url)\n",
        "code_content = response.text\n",
        "\n",
        "# Execute the code to load the function\n",
        "exec(code_content)\n",
        "\n",
        "print(f\"🎨 Generating HTML report with CrewAI result data...\")\n",
        "\n",
        "# Pass the result from your earlier CrewAI analysis\n",
        "symbol = 'AAPL' # Define the symbol variable\n",
        "html_report = create_html_investment_report(symbol, result)\n",
        "\n",
        "display(HTML(html_report))\n",
        "\n",
        "print(\"✅ HTML Investment Report with real AI recommendations displayed!\")"
      ],
      "metadata": {
        "colab": {
          "base_uri": "https://localhost:8080/",
          "height": 1000
        },
        "outputId": "63ee8c35-80a0-4813-c085-2da968a222fc",
        "id": "5_St5qCMFFsB"
      },
      "execution_count": 15,
      "outputs": [
        {
          "output_type": "stream",
          "name": "stdout",
          "text": [
            "🔄 Loading HTML investment report from Dropbox...\n",
            "🎨 Generating HTML report with CrewAI result data...\n",
            "ðŸ”� Debug - Portfolio output: 🏢 AAPL INVESTMENT ANALYSIS\n",
            "💰 RECOMMENDATION: BUY\n",
            "🎯 Target Price: $230.00\n",
            "📉 Stop Loss: $180.00\n",
            "⏰ Timeframe: 12 months\n",
            "\n",
            "KEY INSIGHTS:\n",
            "• Strong revenue growth driven by iPhone and services sales.\n",
            "• Conti...\n",
            "ðŸ”� Debug - Trading output: 💹 TRADING STRATEGY (AAPL)\n",
            "        >>  Today's Price ($201.00)\n",
            "        🎯 Action: BUY\n",
            "        💰 Entry Price: $201.00\n",
            "        🚀 Target: $230.00\n",
            "        🛑 Stop Loss: $180.00\n",
            "\n",
            "        📈 WHY: Strong revenue...\n",
            "ðŸ“Š Extracted - Rec: BUY, Target: $230.00, Stop: $180.00, Entry: $201.00\n"
          ]
        },
        {
          "output_type": "display_data",
          "data": {
            "text/plain": [
              "<IPython.core.display.HTML object>"
            ],
            "text/html": [
              "\n",
              "    <meta charset=\"UTF-8\">\n",
              "    <div style=\"font-family: 'Segoe UI', Arial, sans-serif; max-width: 800px; margin: 20px auto; background: linear-gradient(135deg, #1e3c72 0%, #2a5298 100%); border-radius: 15px; padding: 2px;\">\n",
              "        <div style=\"background: white; border-radius: 13px; padding: 30px; box-shadow: 0 10px 30px rgba(0,0,0,0.15);\">\n",
              "            \n",
              "            <!-- Header -->\n",
              "            <div style=\"text-align: center; margin-bottom: 30px; padding: 20px; background: linear-gradient(135deg, #1e3c72 0%, #2a5298 100%); border-radius: 10px; color: white;\">\n",
              "                <h1 style=\"margin: 0; font-size: 2.5em; font-weight: bold;\">AAPL INVESTMENT ANALYSIS</h1>\n",
              "                <p style=\"margin: 10px 0 0 0; font-size: 1.1em; opacity: 0.9;\">June 22, 2025 at 05:24 AM</p>\n",
              "            </div>\n",
              "            \n",
              "            <!-- Price Summary -->\n",
              "            <div style=\"display: flex; justify-content: space-around; margin-bottom: 30px; text-align: center;\">\n",
              "                <div style=\"background: #f8faff; padding: 20px; border-radius: 10px; flex: 1; margin: 0 10px; border: 1px solid #e3ebf0;\">\n",
              "                    <h3 style=\"margin: 0; color: #2c3e50; font-size: 1.2em;\">Current Price</h3>\n",
              "                    <p style=\"margin: 10px 0 0 0; font-size: 2em; font-weight: bold; color: #1e3c72;\">$201.0</p>\n",
              "                </div>\n",
              "                <div style=\"background: #f8faff; padding: 20px; border-radius: 10px; flex: 1; margin: 0 10px; border: 1px solid #e3ebf0;\">\n",
              "                    <h3 style=\"margin: 0; color: #2c3e50; font-size: 1.2em;\">Daily Change</h3>\n",
              "                    <p style=\"margin: 10px 0 0 0; font-size: 1.5em; font-weight: bold; color: #4CAF50;\">\n",
              "                        UP $4.42 (+2.25%)\n",
              "                    </p>\n",
              "                </div>\n",
              "            </div>\n",
              "            \n",
              "            <!-- Recommendation Box -->\n",
              "            <div style=\"background: linear-gradient(135deg, #1e3c72 0%, #2a5298 100%); color: white; padding: 25px; border-radius: 10px; text-align: center; margin-bottom: 30px; box-shadow: 0 8px 25px rgba(30, 60, 114, 0.3);\">\n",
              "                <h2 style=\"margin: 0; font-size: 1.8em;\">RECOMMENDATION: BUY</h2>\n",
              "                <div style=\"display: flex; justify-content: space-around; margin-top: 20px; text-align: center;\">\n",
              "                    <div>\n",
              "                        <p style=\"margin: 0; font-size: 0.9em; opacity: 0.8;\">Target Price</p>\n",
              "                        <p style=\"margin: 5px 0 0 0; font-size: 1.3em; font-weight: bold;\">$230.00</p>\n",
              "                    </div>\n",
              "                    <div>\n",
              "                        <p style=\"margin: 0; font-size: 0.9em; opacity: 0.8;\">Stop Loss</p>\n",
              "                        <p style=\"margin: 5px 0 0 0; font-size: 1.3em; font-weight: bold;\">$180.00</p>\n",
              "                    </div>\n",
              "                    <div>\n",
              "                        <p style=\"margin: 0; font-size: 0.9em; opacity: 0.8;\">Timeframe</p>\n",
              "                        <p style=\"margin: 5px 0 0 0; font-size: 1.3em; font-weight: bold;\">12 months</p>\n",
              "                    </div>\n",
              "                </div>\n",
              "            </div>\n",
              "            \n",
              "            <!-- Investment Justification -->\n",
              "            <div style=\"display: flex; gap: 20px; margin-bottom: 30px;\">\n",
              "                <div style=\"flex: 1; background: #f0f7ff; padding: 20px; border-radius: 10px; border-left: 5px solid #2a5298;\">\n",
              "                    <h3 style=\"margin: 0 0 15px 0; color: #1e3c72; font-size: 1.3em;\">BULLISH FACTORS</h3>\n",
              "                    <ul style=\"margin: 0; padding-left: 20px; line-height: 1.6; color: #34495e;\">\n",
              "                        <li>Strong brand loyalty creates pricing power</li>\n",
              "                        <li>Services revenue growing 15%+ annually</li>\n",
              "                        <li>iPhone upgrade cycle driving hardware sales</li>\n",
              "                        <li>$165B+ cash position provides flexibility</li>\n",
              "                        <li>Consistent dividend increases</li>\n",
              "                    </ul>\n",
              "                </div>\n",
              "                <div style=\"flex: 1; background: #f8faff; padding: 20px; border-radius: 10px; border-left: 5px solid #7f8c8d;\">\n",
              "                    <h3 style=\"margin: 0 0 15px 0; color: #5d6d7e; font-size: 1.3em;\">RISK FACTORS</h3>\n",
              "                    <ul style=\"margin: 0; padding-left: 20px; line-height: 1.6; color: #5d6d7e;\">\n",
              "                        <li>High P/E ratio indicates premium valuation</li>\n",
              "                        <li>Economic slowdown could impact spending</li>\n",
              "                        <li>China market dependency</li>\n",
              "                        <li>Regulatory scrutiny on App Store</li>\n",
              "                    </ul>\n",
              "                </div>\n",
              "            </div>\n",
              "            \n",
              "            <!-- Recent Price Performance -->\n",
              "            <div style=\"background: #f8faff; padding: 25px; border-radius: 10px; margin-bottom: 30px; border: 1px solid #e3ebf0;\">\n",
              "                <h3 style=\"margin: 0 0 20px 0; color: #1e3c72; font-size: 1.4em; text-align: center;\">LAST 5 TRADING DAYS PERFORMANCE</h3>\n",
              "                \n",
              "        <div style=\"text-align: center; margin-bottom: 20px;\">\n",
              "            <svg width=\"600\" height=\"200\" style=\"border: 1px solid #e3ebf0; border-radius: 8px; background: white;\">\n",
              "                <!-- Grid lines -->\n",
              "                <defs>\n",
              "                    <pattern id=\"grid\" width=\"50\" height=\"40\" patternUnits=\"userSpaceOnUse\">\n",
              "                        <path d=\"M 50 0 L 0 0 0 40\" fill=\"none\" stroke=\"#f0f7ff\" stroke-width=\"1\"/>\n",
              "                    </pattern>\n",
              "                </defs>\n",
              "                <rect width=\"100%\" height=\"100%\" fill=\"url(#grid)\" />\n",
              "                \n",
              "                <!-- Price line -->\n",
              "                <polyline fill=\"none\" stroke=\"#1e3c72\" stroke-width=\"3\" points=\"40.0,97.76122844625121 213.33333333333334,160.0 386.6666666666667,138.95517161865558 560.0,40.0\"/>\n",
              "                \n",
              "                <!-- Data points -->\n",
              "                <circle cx=\"40.0\" cy=\"97.76122844625121\" r=\"5\" fill=\"#2a5298\" stroke=\"white\" stroke-width=\"2\"/>\n",
              "<circle cx=\"213.33333333333334\" cy=\"160.0\" r=\"5\" fill=\"#2a5298\" stroke=\"white\" stroke-width=\"2\"/>\n",
              "<circle cx=\"386.6666666666667\" cy=\"138.95517161865558\" r=\"5\" fill=\"#2a5298\" stroke=\"white\" stroke-width=\"2\"/>\n",
              "<circle cx=\"560.0\" cy=\"40.0\" r=\"5\" fill=\"#2a5298\" stroke=\"white\" stroke-width=\"2\"/>\n",
              "                \n",
              "                <!-- Price labels -->\n",
              "                <text x=\"40.0\" y=\"82.76122844625121\" text-anchor=\"middle\" fill=\"#1e3c72\" font-size=\"12\" font-weight=\"bold\">$198.42</text>\n",
              "<text x=\"213.33333333333334\" y=\"145.0\" text-anchor=\"middle\" fill=\"#1e3c72\" font-size=\"12\" font-weight=\"bold\">$195.64</text>\n",
              "<text x=\"386.6666666666667\" y=\"123.95517161865558\" text-anchor=\"middle\" fill=\"#1e3c72\" font-size=\"12\" font-weight=\"bold\">$196.58</text>\n",
              "<text x=\"560.0\" y=\"25.0\" text-anchor=\"middle\" fill=\"#1e3c72\" font-size=\"12\" font-weight=\"bold\">$201.00</text>\n",
              "                \n",
              "                <!-- Date labels -->\n",
              "                <text x=\"40.0\" y=\"190\" text-anchor=\"middle\" fill=\"#5d6d7e\" font-size=\"11\">06/16</text>\n",
              "<text x=\"213.33333333333334\" y=\"190\" text-anchor=\"middle\" fill=\"#5d6d7e\" font-size=\"11\">06/17</text>\n",
              "<text x=\"386.6666666666667\" y=\"190\" text-anchor=\"middle\" fill=\"#5d6d7e\" font-size=\"11\">06/18</text>\n",
              "<text x=\"560.0\" y=\"190\" text-anchor=\"middle\" fill=\"#5d6d7e\" font-size=\"11\">06/20</text>\n",
              "            </svg>\n",
              "        </div>\n",
              "        \n",
              "        <!-- Price summary -->\n",
              "        <div style=\"display: flex; justify-content: space-around; text-align: center; margin-top: 15px;\">\n",
              "            <div>\n",
              "                <p style=\"margin: 0; color: #5d6d7e; font-size: 0.9em;\">5-Day Low</p>\n",
              "                <p style=\"margin: 5px 0 0 0; font-size: 1.1em; font-weight: bold; color: #FF6B6B;\">$195.64</p>\n",
              "            </div>\n",
              "            <div>\n",
              "                <p style=\"margin: 0; color: #5d6d7e; font-size: 0.9em;\">5-Day High</p>\n",
              "                <p style=\"margin: 5px 0 0 0; font-size: 1.1em; font-weight: bold; color: #4CAF50;\">$201.00</p>\n",
              "            </div>\n",
              "            <div>\n",
              "                <p style=\"margin: 0; color: #5d6d7e; font-size: 0.9em;\">5-Day Range</p>\n",
              "                <p style=\"margin: 5px 0 0 0; font-size: 1.1em; font-weight: bold; color: #1e3c72;\">$5.36</p>\n",
              "            </div>\n",
              "        </div>\n",
              "        \n",
              "            </div>\n",
              "            \n",
              "            <!-- Key Metrics -->\n",
              "            <div style=\"background: #f0f7ff; padding: 25px; border-radius: 10px; margin-bottom: 30px; border: 1px solid #d6e9ff;\">\n",
              "                <h3 style=\"margin: 0 0 20px 0; color: #1e3c72; font-size: 1.4em; text-align: center;\">KEY METRICS</h3>\n",
              "                <div style=\"display: grid; grid-template-columns: repeat(2, 1fr); gap: 15px; text-align: center;\">\n",
              "                    <div>\n",
              "                        <p style=\"margin: 0; color: #5d6d7e; font-size: 0.9em;\">Market Cap</p>\n",
              "                        <p style=\"margin: 5px 0 0 0; font-size: 1.2em; font-weight: bold; color: #2c3e50;\">$3,002,095,632,384</p>\n",
              "                    </div>\n",
              "                    <div>\n",
              "                        <p style=\"margin: 0; color: #5d6d7e; font-size: 0.9em;\">P/E Ratio</p>\n",
              "                        <p style=\"margin: 5px 0 0 0; font-size: 1.2em; font-weight: bold; color: #2c3e50;\">31.357256</p>\n",
              "                    </div>\n",
              "                    <div>\n",
              "                        <p style=\"margin: 0; color: #5d6d7e; font-size: 0.9em;\">52-Week Low</p>\n",
              "                        <p style=\"margin: 5px 0 0 0; font-size: 1.2em; font-weight: bold; color: #2c3e50;\">$169.21</p>\n",
              "                    </div>\n",
              "                    <div>\n",
              "                        <p style=\"margin: 0; color: #5d6d7e; font-size: 0.9em;\">52-Week High</p>\n",
              "                        <p style=\"margin: 5px 0 0 0; font-size: 1.2em; font-weight: bold; color: #2c3e50;\">$260.1</p>\n",
              "                    </div>\n",
              "                </div>\n",
              "            </div>\n",
              "            \n",
              "            <!-- Investment Thesis -->\n",
              "            <div style=\"background: linear-gradient(135deg, #34495e 0%, #2c3e50 100%); color: white; padding: 25px; border-radius: 10px; margin-bottom: 30px;\">\n",
              "                <h3 style=\"margin: 0 0 15px 0; font-size: 1.4em;\">INVESTMENT THESIS</h3>\n",
              "                <p style=\"margin: 0; line-height: 1.6; font-size: 1.1em;\">\n",
              "                    Apple's ecosystem strength and recurring services revenue provide sustainable competitive advantages. \n",
              "                    Despite premium valuation, strong fundamentals support long-term growth potential.\n",
              "                </p>\n",
              "            </div>\n",
              "            \n",
              "            <!-- Entry Strategy -->\n",
              "            <div style=\"background: #f8faff; border: 2px solid #2a5298; padding: 25px; border-radius: 10px; margin-bottom: 20px;\">\n",
              "                <h3 style=\"margin: 0 0 20px 0; color: #1e3c72; font-size: 1.4em; text-align: center;\">ENTRY STRATEGY</h3>\n",
              "                <div style=\"display: grid; grid-template-columns: repeat(2, 1fr); gap: 20px;\">\n",
              "                    <div style=\"text-align: center;\">\n",
              "                        <p style=\"margin: 0; color: #1e3c72; font-weight: bold;\">BUY ZONE</p>\n",
              "                        <p style=\"margin: 5px 0; font-size: 1.2em; color: #2c3e50;\">Entry at $201.00 or below</p>\n",
              "                    </div>\n",
              "                    <div style=\"text-align: center;\">\n",
              "                        <p style=\"margin: 0; color: #1e3c72; font-weight: bold;\">POSITION SIZE</p>\n",
              "                        <p style=\"margin: 5px 0; font-size: 1.2em; color: #2c3e50;\">3-5% of portfolio maximum</p>\n",
              "                    </div>\n",
              "                </div>\n",
              "            </div>\n",
              "            \n",
              "            <!-- Footer -->\n",
              "            <div style=\"text-align: center; padding: 20px; background: #f8faff; border-radius: 10px; color: #5d6d7e; border: 1px solid #e3ebf0;\">\n",
              "                <p style=\"margin: 0; font-size: 0.9em;\">\n",
              "                    Analysis generated by AI Investment Research Crew<br>\n",
              "                    This is not financial advice. Please do your own research.\n",
              "                </p>\n",
              "            </div>\n",
              "            \n",
              "        </div>\n",
              "    </div>\n",
              "    "
            ]
          },
          "metadata": {}
        },
        {
          "output_type": "stream",
          "name": "stdout",
          "text": [
            "✅ HTML Investment Report with real AI recommendations displayed!\n"
          ]
        }
      ]
    },
    {
      "cell_type": "markdown",
      "source": [
        "# Hands-on Lab: Part 2(Add a Financial Tool)"
      ],
      "metadata": {
        "id": "_MpqjI5-GfC-"
      }
    },
    {
      "cell_type": "code",
      "source": [
        "# Import CrewAI framework and set up specialized tools for financial analysis\n",
        "\n",
        "from crewai import Agent, Task, Crew\n",
        "from langchain_openai import ChatOpenAI\n",
        "# Built-in tools for web search, web scraping, and file reading\n",
        "from crewai_tools import WebsiteSearchTool, ScrapeWebsiteTool, FileReadTool\n",
        "\n",
        "# FINANCIAL DATA SCRAPING TOOLS:\n",
        "yahoo_finance_scraper = ScrapeWebsiteTool(website_url='https://finance.yahoo.com')    # Live stock prices\n",
        "marketwatch_scraper = ScrapeWebsiteTool(website_url='https://www.marketwatch.com')    # Market news\n",
        "morning_star_scraper = ScrapeWebsiteTool(website_url='https://www.morningstar.com/')  # provides financial analysis\n",
        "web_search = WebsiteSearchTool()                                                       # General web search\n",
        "\n",
        "# RAG (Retrieval-Augmented Generation) TOOL:\n",
        "file_reader = FileReadTool()  # Reads PDFs, text files, and documents you upload\n",
        "\n",
        "# AI MODEL CONFIGURATION:\n",
        "llm = ChatOpenAI(model=\"gpt-4o-mini\", temperature=0.3)  # Lower temp = more consistent output\n",
        "\n",
        "pretty_print(\"Investment tools locked and loaded!\", \"🔧 Tools Ready\", \"blue\")"
      ],
      "metadata": {
        "colab": {
          "base_uri": "https://localhost:8080/",
          "height": 164
        },
        "id": "1vYoTQrcGojn",
        "outputId": "13cff0d1-5875-43a9-f618-d51e5f997deb"
      },
      "execution_count": 16,
      "outputs": [
        {
          "output_type": "stream",
          "name": "stderr",
          "text": [
            "/usr/local/lib/python3.11/dist-packages/alembic/config.py:577: DeprecationWarning: No path_separator found in configuration; falling back to legacy splitting on spaces, commas, and colons for prepend_sys_path.  Consider adding path_separator=os to Alembic config.\n",
            "  util.warn_deprecated(\n"
          ]
        },
        {
          "output_type": "display_data",
          "data": {
            "text/plain": [
              "<IPython.core.display.HTML object>"
            ],
            "text/html": [
              "\n",
              "    <div style=\"border-left: 5px solid #1e4b8f; padding: 12px 16px; background-color: #f0f6ff;\n",
              "                border-radius: 6px; font-family: 'Segoe UI', sans-serif; line-height: 1.6; margin: 10px 0;\">\n",
              "        <strong style=\"color: #1e4b8f; font-size: 16px;\">🔧 Tools Ready</strong><br>\n",
              "        <span style=\"font-size: 14px; color: #333;\">Investment tools locked and loaded!</span>\n",
              "    </div>\n",
              "    "
            ]
          },
          "metadata": {}
        }
      ]
    },
    {
      "cell_type": "code",
      "source": [],
      "metadata": {
        "id": "Jns4oaVIIt7T"
      },
      "execution_count": null,
      "outputs": []
    },
    {
      "cell_type": "code",
      "execution_count": 17,
      "metadata": {
        "colab": {
          "base_uri": "https://localhost:8080/",
          "height": 199
        },
        "outputId": "be1e714a-534c-4f83-d6ea-37dcb70e1ad1",
        "id": "VBYPm9IlIuXZ"
      },
      "outputs": [
        {
          "output_type": "display_data",
          "data": {
            "text/plain": [
              "<IPython.core.display.HTML object>"
            ],
            "text/html": [
              "\n",
              "    <div style=\"border-left: 5px solid #1e4b8f; padding: 12px 16px; background-color: #f0f6ff;\n",
              "                border-radius: 6px; font-family: 'Segoe UI', sans-serif; line-height: 1.6; margin: 10px 0;\">\n",
              "        <strong style=\"color: #1e4b8f; font-size: 16px;\">👥 Team Ready</strong><br>\n",
              "        <span style=\"font-size: 14px; color: #333;\">💼 Investment dream team assembled!<br>📊 Portfolio Manager (Boss)<br>📰 Market Analyst<br>📚 Research Analyst<br>💹 Trading Strategist</span>\n",
              "    </div>\n",
              "    "
            ]
          },
          "metadata": {}
        }
      ],
      "source": [
        "# Create 4 specialized AI agents that work together like a real investment team\n",
        "\n",
        "# AGENT 1: PORTFOLIO MANAGER (THE BOSS)\n",
        "portfolio_manager = Agent(\n",
        "    role=\"Senior Portfolio Manager\",\n",
        "    goal=\"Make strategic investment decisions by coordinating research team\",\n",
        "    backstory=\"You're a seasoned Wall Street portfolio manager with 15+ years experience. You delegate research tasks to specialists and make final investment calls based on comprehensive analysis.\",\n",
        "    llm=llm,\n",
        "    tools=[web_search],\n",
        "    allow_delegation=True,  # 🔥 DELEGATION POWER! This agent can delegate tasks to others\n",
        "    max_delegation=3,       # Can delegate up to 3 tasks at once\n",
        "    verbose=False\n",
        ")\n",
        "# 📌 This agent acts as the team leader, assigning tasks and integrating all outputs to make final investment decisions.\n",
        "# Think of it as the executive strategist who oversees the whole operation and ensures every agent’s work aligns with the firm’s goals.\n",
        "\n",
        "# AGENT 2: MARKET NEWS ANALYST\n",
        "market_analyst = Agent(\n",
        "    role=\"Market News Analyst\",\n",
        "    goal=\"Track real-time market news and sentiment for specific stocks\",\n",
        "    backstory=\"You're a former financial journalist who now specializes in analyzing market news, earnings reports, and sentiment. You have your finger on the pulse of Wall Street.\",\n",
        "    llm=llm,\n",
        "    tools=[yahoo_finance_scraper, marketwatch_scraper, morning_star_scraper, web_search],  # Has access to financial websites\n",
        "    verbose=False\n",
        ")\n",
        "# 📰 This agent monitors live financial news and trends from trusted sources to detect any signals or events that may impact stock prices.\n",
        "# It plays a critical role in sentiment analysis and contextual understanding of market movement.\n",
        "\n",
        "# AGENT 3: RESEARCH DOCUMENT ANALYST (RAG SPECIALIST)\n",
        "research_analyst = Agent(\n",
        "    role=\"Research Document Analyst\",\n",
        "    goal=\"Analyze financial documents, earnings reports, and research files\",\n",
        "    backstory=\"You're a CFA charterholder who excels at digging through financial documents, SEC filings, and research reports to find hidden insights and key metrics.\",\n",
        "    llm=llm,\n",
        "    tools=[file_reader, web_search],  # Can read your uploaded files + web search\n",
        "    verbose=False\n",
        ")\n",
        "# 📄 This agent is the RAG powerhouse — it reads user-uploaded documents and extracts valuable insights.\n",
        "# It’s ideal for deep analysis of PDFs, reports, and any offline data that supports investment decisions.\n",
        "\n",
        "# AGENT 4: TRADING STRATEGIST\n",
        "trading_strategist = Agent(\n",
        "    role=\"Trading Strategist\",\n",
        "    goal=\"Synthesize all research into actionable BUY/SELL/HOLD recommendations\",\n",
        "    backstory=\"You're a quantitative analyst who combines technical analysis, fundamental analysis, and market sentiment to create clear, actionable trading strategies with specific price targets.\",\n",
        "    llm=llm,\n",
        "    tools=[web_search],\n",
        "    verbose=False\n",
        ")\n",
        "# 💹 This is the final decision-maker who converts all research into real trading signals.\n",
        "# It crafts buy/sell/hold strategies with target prices by balancing risk, trend, and fundamental indicators.\n",
        "\n",
        "pretty_print(\"💼 Investment dream team assembled!\\n📊 Portfolio Manager (Boss)\\n📰 Market Analyst\\n📚 Research Analyst\\n💹 Trading Strategist\", \"👥 Team Ready\", \"blue\")\n"
      ]
    },
    {
      "cell_type": "code",
      "source": [],
      "metadata": {
        "id": "XPrRC0tBI_ML"
      },
      "execution_count": null,
      "outputs": []
    },
    {
      "cell_type": "code",
      "execution_count": 18,
      "metadata": {
        "colab": {
          "base_uri": "https://localhost:8080/"
        },
        "outputId": "33cf78b7-525b-4161-a2f4-3513845e900f",
        "id": "Q3SJne-gI_jY"
      },
      "outputs": [
        {
          "output_type": "stream",
          "name": "stdout",
          "text": [
            "📋 Task templates created - ready for delegation!\n"
          ]
        }
      ],
      "source": [
        "# Create specific tasks for each agent with exact output formats to avoid messy results\n",
        "\n",
        "def create_investment_tasks(stock_symbol):\n",
        "    \"\"\"\n",
        "    Creates 4 specialized tasks that demonstrate delegation and RAG capabilities.\n",
        "    Each task has specific output format to prevent messy results.\n",
        "    \"\"\"\n",
        "\n",
        "    # TASK 1: PORTFOLIO MANAGER COORDINATION TASK (DELEGATION)\n",
        "    coordination_task = Task(\n",
        "        description=f\"\"\"As Portfolio Manager, coordinate investment analysis for {stock_symbol}.\n",
        "\n",
        "        DELEGATE to your team and create EXECUTIVE SUMMARY in this EXACT format:\n",
        "\n",
        "        🏢 {stock_symbol} INVESTMENT ANALYSIS\n",
        "        💰 RECOMMENDATION: [BUY/SELL/HOLD]\n",
        "        🎯 Target Price: $[X.XX]\n",
        "        📉 Stop Loss: $[X.XX]\n",
        "        ⏰ Timeframe: [Short/Medium/Long term]\n",
        "\n",
        "        KEY INSIGHTS (3 bullet points max):\n",
        "        • [Key point 1]\n",
        "        • [Key point 2]\n",
        "        • [Key point 3]\n",
        "\n",
        "        ⚠️ RISKS: [Main risk in 1 sentence]\n",
        "\n",
        "        Keep it SHORT and ACTIONABLE. No paragraphs!\"\"\",\n",
        "        agent=portfolio_manager,\n",
        "        expected_output=f\"Clean executive summary for {stock_symbol} with exact format\"\n",
        "    )\n",
        "\n",
        "    # TASK 2: MARKET NEWS ANALYSIS TASK (WEB SCRAPING)\n",
        "    market_task = Task(\n",
        "        description=f\"\"\"Find latest news for {stock_symbol} and summarize in EXACTLY this format:\n",
        "\n",
        "        📰 MARKET NEWS ({stock_symbol})\n",
        "        • [Latest news headline 1]\n",
        "        • [Latest news headline 2]\n",
        "        • [Latest news headline 3]\n",
        "\n",
        "        📊 SENTIMENT: [Positive/Negative/Neutral] - [Why in 1 sentence]\n",
        "\n",
        "        Keep it SHORT! Max 4 lines total.\"\"\",\n",
        "        agent=market_analyst,\n",
        "        expected_output=f\"Short news summary for {stock_symbol} in exact format\"\n",
        "    )\n",
        "\n",
        "    # TASK 3: DOCUMENT ANALYSIS TASK (RAG)\n",
        "    research_task = Task(\n",
        "        description=f\"\"\"Analyze {stock_symbol} financials and provide EXACTLY this format:\n",
        "\n",
        "        📊 FINANCIAL HEALTH ({stock_symbol})\n",
        "        • Revenue: [Growing/Declining/Stable]\n",
        "        • Profit: [Strong/Weak/Average]\n",
        "        • Debt: [Low/Medium/High]\n",
        "\n",
        "        💡 KEY METRIC: [Most important number]\n",
        "\n",
        "        Keep it SHORT! Max 4 lines total.\"\"\",\n",
        "        agent=research_analyst,\n",
        "        expected_output=f\"Short financial summary for {stock_symbol} in exact format\"\n",
        "    )\n",
        "\n",
        "    # TASK 4: TRADING STRATEGY TASK (SYNTHESIS)\n",
        "    strategy_task = Task(\n",
        "        description=f\"\"\"Create trading strategy for {stock_symbol} in EXACTLY this format:\n",
        "\n",
        "        💹 TRADING STRATEGY ({stock_symbol})\n",
        "        >>  Today's Price ($[X.XX])\n",
        "        🎯 Action: [BUY/SELL/HOLD]\n",
        "        💰 Entry Price: $[X.XX]\n",
        "        🚀 Target: $[X.XX]\n",
        "        🛑 Stop Loss: $[X.XX]\n",
        "\n",
        "        📈 WHY: [Reason in 1 sentence]\n",
        "\n",
        "        Keep it SHORT! Max 5 lines total.\"\"\",\n",
        "        agent=trading_strategist,\n",
        "        expected_output=f\"Short trading strategy for {stock_symbol} in exact format\"\n",
        "    )\n",
        "\n",
        "    return coordination_task, market_task, research_task, strategy_task\n",
        "\n",
        "print(\"📋 Task templates created - ready for delegation!\")"
      ]
    },
    {
      "cell_type": "code",
      "source": [],
      "metadata": {
        "id": "Sj4qXpeJJS_d"
      },
      "execution_count": null,
      "outputs": []
    },
    {
      "cell_type": "code",
      "execution_count": 19,
      "metadata": {
        "colab": {
          "base_uri": "https://localhost:8080/",
          "height": 109
        },
        "outputId": "da0e4308-17ca-4bb9-d714-a6168d4c5349",
        "id": "LRXRDDQ1JTRl"
      },
      "outputs": [
        {
          "output_type": "display_data",
          "data": {
            "text/plain": [
              "<IPython.core.display.HTML object>"
            ],
            "text/html": [
              "\n",
              "    <div style=\"border-left: 5px solid #1e4b8f; padding: 12px 16px; background-color: #f0f6ff;\n",
              "                border-radius: 6px; font-family: 'Segoe UI', sans-serif; line-height: 1.6; margin: 10px 0;\">\n",
              "        <strong style=\"color: #1e4b8f; font-size: 16px;\">🟢 CrewAI Initialized</strong><br>\n",
              "        <span style=\"font-size: 14px; color: #333;\">✅ Main analysis logic is ready to run!</span>\n",
              "    </div>\n",
              "    "
            ]
          },
          "metadata": {}
        }
      ],
      "source": [
        "# Create main function that assembles all agents into a working crew\n",
        "\n",
        "def analyze_stock(stock_symbol):\n",
        "    \"\"\"\n",
        "    Main function that runs the complete investment analysis workflow.\n",
        "    Demonstrates multi-agent collaboration with delegation and real-time data integration.\n",
        "    \"\"\"\n",
        "\n",
        "    # Create tasks for all 4 agents\n",
        "    coord_task, market_task, research_task, strategy_task = create_investment_tasks(stock_symbol)\n",
        "\n",
        "    # Assemble agents into crew - enables delegation between agents\n",
        "    investment_crew = Crew(\n",
        "        agents=[portfolio_manager, market_analyst, research_analyst, trading_strategist],\n",
        "        tasks=[coord_task, market_task, research_task, strategy_task],\n",
        "        verbose=False,          # Keeps output clean\n",
        "        max_iter=5,            # Allows for delegation loops\n",
        "        output_log_file=False  # Prevents messy log files\n",
        "    )\n",
        "\n",
        "    pretty_print(f\"Analyzing {stock_symbol}...\", \"💹 Processing\", \"yellow\")\n",
        "\n",
        "    # Execute crew - this is where delegation happens automatically\n",
        "    result = investment_crew.kickoff()\n",
        "\n",
        "    return result\n",
        "\n",
        "pretty_print(\"✅ Main analysis logic is ready to run!\", title=\"🟢 CrewAI Initialized\")"
      ]
    },
    {
      "cell_type": "code",
      "source": [],
      "metadata": {
        "id": "Al1h50r4Jdff"
      },
      "execution_count": null,
      "outputs": []
    },
    {
      "cell_type": "code",
      "execution_count": 20,
      "metadata": {
        "colab": {
          "base_uri": "https://localhost:8080/",
          "height": 828
        },
        "outputId": "73b64455-a169-402f-ec81-3bfb3ec9c1bc",
        "id": "RNuQWbO5JdzQ"
      },
      "outputs": [
        {
          "output_type": "stream",
          "name": "stdout",
          "text": [
            "Running advanced CrewAI analysis with delegation and real-time data...\n"
          ]
        },
        {
          "output_type": "display_data",
          "data": {
            "text/plain": [
              "<IPython.core.display.HTML object>"
            ],
            "text/html": [
              "\n",
              "    <div style=\"border-left: 5px solid #b26a00; padding: 12px 16px; background-color: #fff8e1;\n",
              "                border-radius: 6px; font-family: 'Segoe UI', sans-serif; line-height: 1.6; margin: 10px 0;\">\n",
              "        <strong style=\"color: #b26a00; font-size: 16px;\">💹 Processing</strong><br>\n",
              "        <span style=\"font-size: 14px; color: #333;\">Analyzing AAPL...</span>\n",
              "    </div>\n",
              "    "
            ]
          },
          "metadata": {}
        },
        {
          "output_type": "stream",
          "name": "stderr",
          "text": [
            "/usr/local/lib/python3.11/dist-packages/chromadb/types.py:144: PydanticDeprecatedSince211: Accessing the 'model_fields' attribute on the instance is deprecated. Instead, you should access this attribute from the model class. Deprecated in Pydantic V2.11 to be removed in V3.0.\n",
            "  return self.model_fields  # pydantic 2.x\n",
            "Inserting batches in chromadb: 100%|██████████| 1/1 [00:00<00:00,  3.07it/s]\n",
            "/usr/local/lib/python3.11/dist-packages/chromadb/types.py:144: PydanticDeprecatedSince211: Accessing the 'model_fields' attribute on the instance is deprecated. Instead, you should access this attribute from the model class. Deprecated in Pydantic V2.11 to be removed in V3.0.\n",
            "  return self.model_fields  # pydantic 2.x\n",
            "Inserting batches in chromadb:   0%|          | 0/1 [00:00<?, ?it/s]/usr/local/lib/python3.11/dist-packages/chromadb/types.py:144: PydanticDeprecatedSince211: Accessing the 'model_fields' attribute on the instance is deprecated. Instead, you should access this attribute from the model class. Deprecated in Pydantic V2.11 to be removed in V3.0.\n",
            "  return self.model_fields  # pydantic 2.x\n",
            "Inserting batches in chromadb: 100%|██████████| 1/1 [00:00<00:00,  2.36it/s]\n",
            "/usr/local/lib/python3.11/dist-packages/chromadb/types.py:144: PydanticDeprecatedSince211: Accessing the 'model_fields' attribute on the instance is deprecated. Instead, you should access this attribute from the model class. Deprecated in Pydantic V2.11 to be removed in V3.0.\n",
            "  return self.model_fields  # pydantic 2.x\n",
            "/usr/local/lib/python3.11/dist-packages/chromadb/types.py:144: PydanticDeprecatedSince211: Accessing the 'model_fields' attribute on the instance is deprecated. Instead, you should access this attribute from the model class. Deprecated in Pydantic V2.11 to be removed in V3.0.\n",
            "  return self.model_fields  # pydantic 2.x\n",
            "Inserting batches in chromadb:   0%|          | 0/1 [00:00<?, ?it/s]/usr/local/lib/python3.11/dist-packages/chromadb/types.py:144: PydanticDeprecatedSince211: Accessing the 'model_fields' attribute on the instance is deprecated. Instead, you should access this attribute from the model class. Deprecated in Pydantic V2.11 to be removed in V3.0.\n",
            "  return self.model_fields  # pydantic 2.x\n",
            "Inserting batches in chromadb: 100%|██████████| 1/1 [00:00<00:00,  3.32it/s]\n",
            "/usr/local/lib/python3.11/dist-packages/chromadb/types.py:144: PydanticDeprecatedSince211: Accessing the 'model_fields' attribute on the instance is deprecated. Instead, you should access this attribute from the model class. Deprecated in Pydantic V2.11 to be removed in V3.0.\n",
            "  return self.model_fields  # pydantic 2.x\n",
            "/usr/local/lib/python3.11/dist-packages/chromadb/types.py:144: PydanticDeprecatedSince211: Accessing the 'model_fields' attribute on the instance is deprecated. Instead, you should access this attribute from the model class. Deprecated in Pydantic V2.11 to be removed in V3.0.\n",
            "  return self.model_fields  # pydantic 2.x\n",
            "Inserting batches in chromadb:   0%|          | 0/1 [00:00<?, ?it/s]/usr/local/lib/python3.11/dist-packages/chromadb/types.py:144: PydanticDeprecatedSince211: Accessing the 'model_fields' attribute on the instance is deprecated. Instead, you should access this attribute from the model class. Deprecated in Pydantic V2.11 to be removed in V3.0.\n",
            "  return self.model_fields  # pydantic 2.x\n",
            "Inserting batches in chromadb: 100%|██████████| 1/1 [00:00<00:00,  3.36it/s]\n"
          ]
        },
        {
          "output_type": "stream",
          "name": "stdout",
          "text": [
            "\u001b[93m Maximum iterations reached. Requesting final answer.\u001b[00m\n"
          ]
        },
        {
          "output_type": "stream",
          "name": "stderr",
          "text": [
            "/usr/local/lib/python3.11/dist-packages/chromadb/types.py:144: PydanticDeprecatedSince211: Accessing the 'model_fields' attribute on the instance is deprecated. Instead, you should access this attribute from the model class. Deprecated in Pydantic V2.11 to be removed in V3.0.\n",
            "  return self.model_fields  # pydantic 2.x\n",
            "Inserting batches in chromadb: 100%|██████████| 1/1 [00:00<00:00,  2.95it/s]\n"
          ]
        },
        {
          "output_type": "stream",
          "name": "stdout",
          "text": [
            "💹 TRADING STRATEGY (AAPL)\n",
            "        >>  Today's Price ($200.94)\n",
            "        🎯 Action: BUY\n",
            "        💰 Entry Price: $200.00\n",
            "        🚀 Target: $200.00\n",
            "        🛑 Stop Loss: $160.00\n",
            "\n",
            "        📈 WHY: AAPL's strong financial performance and positive market sentiment position it well for growth.\n"
          ]
        },
        {
          "output_type": "display_data",
          "data": {
            "text/plain": [
              "<IPython.core.display.HTML object>"
            ],
            "text/html": [
              "\n",
              "    <div style=\"border-left: 5px solid #1e4b8f; padding: 12px 16px; background-color: #f0f6ff;\n",
              "                border-radius: 6px; font-family: 'Segoe UI', sans-serif; line-height: 1.6; margin: 10px 0;\">\n",
              "        <strong style=\"color: #1e4b8f; font-size: 16px;\">🎊 Success</strong><br>\n",
              "        <span style=\"font-size: 14px; color: #333;\">✅ Analysis complete! Your AI investment team used delegation to coordinate specialists, integrated real-time market data, and produced a professional investment report.</span>\n",
              "    </div>\n",
              "    "
            ]
          },
          "metadata": {}
        }
      ],
      "source": [
        "# Execute the complete analysis for Apple stock\n",
        "print(\"Running advanced CrewAI analysis with delegation and real-time data...\")\n",
        "result = analyze_stock('AAPL')\n",
        "print(result)\n",
        "\n",
        "pretty_print(\"✅ Analysis complete! Your AI investment team used delegation to coordinate specialists, integrated real-time market data, and produced a professional investment report.\", \"🎊 Success\", \"blue\")"
      ]
    },
    {
      "cell_type": "code",
      "source": [],
      "metadata": {
        "id": "Yw_CfS7BKrYH"
      },
      "execution_count": null,
      "outputs": []
    },
    {
      "cell_type": "code",
      "source": [
        "# Download HTML report from Dropbox and use it with real CrewAI result data\n",
        "\n",
        "import requests\n",
        "\n",
        "print(\"🔄 Loading HTML investment report from Dropbox...\")\n",
        "\n",
        "# Download the HTML report script\n",
        "dropbox_url = \"https://www.dropbox.com/scl/fi/kwuifm4ullucyvyxnnax0/HTML-Investment-Report.html?rlkey=jkfjmxnoks7rxwuxfvh46slap&dl=1\"\n",
        "\n",
        "response = requests.get(dropbox_url)\n",
        "code_content = response.text\n",
        "\n",
        "# Execute the code to load the function\n",
        "exec(code_content)\n",
        "\n",
        "print(f\"🎨 Generating HTML report with CrewAI result data...\")\n",
        "\n",
        "# Pass the result from your earlier CrewAI analysis\n",
        "symbol = 'AAPL' # Define the symbol variable\n",
        "html_report = create_html_investment_report(symbol, result)\n",
        "\n",
        "display(HTML(html_report))\n",
        "\n",
        "print(\"✅ HTML Investment Report with real AI recommendations displayed!\")"
      ],
      "metadata": {
        "colab": {
          "base_uri": "https://localhost:8080/",
          "height": 1000
        },
        "outputId": "d0d8063b-3977-48bd-ad0d-3f5adbd67c47",
        "id": "bX6e2SC9KsOf"
      },
      "execution_count": 21,
      "outputs": [
        {
          "output_type": "stream",
          "name": "stdout",
          "text": [
            "🔄 Loading HTML investment report from Dropbox...\n",
            "🎨 Generating HTML report with CrewAI result data...\n",
            "ðŸ”� Debug - Portfolio output: 🏢 AAPL INVESTMENT ANALYSIS  \n",
            "💰 RECOMMENDATION: BUY  \n",
            "🎯 Target Price: $200  \n",
            "📉 Stop Loss: $160  \n",
            "⏰ Timeframe: 12 months  \n",
            "\n",
            "KEY INSIGHTS (3 bullet points max):  \n",
            "• Strong Financial Performance: AAPL has...\n",
            "ðŸ”� Debug - Trading output: 💹 TRADING STRATEGY (AAPL)\n",
            "        >>  Today's Price ($200.94)\n",
            "        🎯 Action: BUY\n",
            "        💰 Entry Price: $200.00\n",
            "        🚀 Target: $200.00\n",
            "        🛑 Stop Loss: $160.00\n",
            "\n",
            "        📈 WHY: AAPL's strong ...\n",
            "ðŸ“Š Extracted - Rec: BUY, Target: $200, Stop: $160, Entry: $200.00\n"
          ]
        },
        {
          "output_type": "display_data",
          "data": {
            "text/plain": [
              "<IPython.core.display.HTML object>"
            ],
            "text/html": [
              "\n",
              "    <meta charset=\"UTF-8\">\n",
              "    <div style=\"font-family: 'Segoe UI', Arial, sans-serif; max-width: 800px; margin: 20px auto; background: linear-gradient(135deg, #1e3c72 0%, #2a5298 100%); border-radius: 15px; padding: 2px;\">\n",
              "        <div style=\"background: white; border-radius: 13px; padding: 30px; box-shadow: 0 10px 30px rgba(0,0,0,0.15);\">\n",
              "            \n",
              "            <!-- Header -->\n",
              "            <div style=\"text-align: center; margin-bottom: 30px; padding: 20px; background: linear-gradient(135deg, #1e3c72 0%, #2a5298 100%); border-radius: 10px; color: white;\">\n",
              "                <h1 style=\"margin: 0; font-size: 2.5em; font-weight: bold;\">AAPL INVESTMENT ANALYSIS</h1>\n",
              "                <p style=\"margin: 10px 0 0 0; font-size: 1.1em; opacity: 0.9;\">June 22, 2025 at 05:26 AM</p>\n",
              "            </div>\n",
              "            \n",
              "            <!-- Price Summary -->\n",
              "            <div style=\"display: flex; justify-content: space-around; margin-bottom: 30px; text-align: center;\">\n",
              "                <div style=\"background: #f8faff; padding: 20px; border-radius: 10px; flex: 1; margin: 0 10px; border: 1px solid #e3ebf0;\">\n",
              "                    <h3 style=\"margin: 0; color: #2c3e50; font-size: 1.2em;\">Current Price</h3>\n",
              "                    <p style=\"margin: 10px 0 0 0; font-size: 2em; font-weight: bold; color: #1e3c72;\">$201.0</p>\n",
              "                </div>\n",
              "                <div style=\"background: #f8faff; padding: 20px; border-radius: 10px; flex: 1; margin: 0 10px; border: 1px solid #e3ebf0;\">\n",
              "                    <h3 style=\"margin: 0; color: #2c3e50; font-size: 1.2em;\">Daily Change</h3>\n",
              "                    <p style=\"margin: 10px 0 0 0; font-size: 1.5em; font-weight: bold; color: #4CAF50;\">\n",
              "                        UP $4.42 (+2.25%)\n",
              "                    </p>\n",
              "                </div>\n",
              "            </div>\n",
              "            \n",
              "            <!-- Recommendation Box -->\n",
              "            <div style=\"background: linear-gradient(135deg, #1e3c72 0%, #2a5298 100%); color: white; padding: 25px; border-radius: 10px; text-align: center; margin-bottom: 30px; box-shadow: 0 8px 25px rgba(30, 60, 114, 0.3);\">\n",
              "                <h2 style=\"margin: 0; font-size: 1.8em;\">RECOMMENDATION: BUY</h2>\n",
              "                <div style=\"display: flex; justify-content: space-around; margin-top: 20px; text-align: center;\">\n",
              "                    <div>\n",
              "                        <p style=\"margin: 0; font-size: 0.9em; opacity: 0.8;\">Target Price</p>\n",
              "                        <p style=\"margin: 5px 0 0 0; font-size: 1.3em; font-weight: bold;\">$200</p>\n",
              "                    </div>\n",
              "                    <div>\n",
              "                        <p style=\"margin: 0; font-size: 0.9em; opacity: 0.8;\">Stop Loss</p>\n",
              "                        <p style=\"margin: 5px 0 0 0; font-size: 1.3em; font-weight: bold;\">$160</p>\n",
              "                    </div>\n",
              "                    <div>\n",
              "                        <p style=\"margin: 0; font-size: 0.9em; opacity: 0.8;\">Timeframe</p>\n",
              "                        <p style=\"margin: 5px 0 0 0; font-size: 1.3em; font-weight: bold;\">12 months</p>\n",
              "                    </div>\n",
              "                </div>\n",
              "            </div>\n",
              "            \n",
              "            <!-- Investment Justification -->\n",
              "            <div style=\"display: flex; gap: 20px; margin-bottom: 30px;\">\n",
              "                <div style=\"flex: 1; background: #f0f7ff; padding: 20px; border-radius: 10px; border-left: 5px solid #2a5298;\">\n",
              "                    <h3 style=\"margin: 0 0 15px 0; color: #1e3c72; font-size: 1.3em;\">BULLISH FACTORS</h3>\n",
              "                    <ul style=\"margin: 0; padding-left: 20px; line-height: 1.6; color: #34495e;\">\n",
              "                        <li>Strong brand loyalty creates pricing power</li>\n",
              "                        <li>Services revenue growing 15%+ annually</li>\n",
              "                        <li>iPhone upgrade cycle driving hardware sales</li>\n",
              "                        <li>$165B+ cash position provides flexibility</li>\n",
              "                        <li>Consistent dividend increases</li>\n",
              "                    </ul>\n",
              "                </div>\n",
              "                <div style=\"flex: 1; background: #f8faff; padding: 20px; border-radius: 10px; border-left: 5px solid #7f8c8d;\">\n",
              "                    <h3 style=\"margin: 0 0 15px 0; color: #5d6d7e; font-size: 1.3em;\">RISK FACTORS</h3>\n",
              "                    <ul style=\"margin: 0; padding-left: 20px; line-height: 1.6; color: #5d6d7e;\">\n",
              "                        <li>High P/E ratio indicates premium valuation</li>\n",
              "                        <li>Economic slowdown could impact spending</li>\n",
              "                        <li>China market dependency</li>\n",
              "                        <li>Regulatory scrutiny on App Store</li>\n",
              "                    </ul>\n",
              "                </div>\n",
              "            </div>\n",
              "            \n",
              "            <!-- Recent Price Performance -->\n",
              "            <div style=\"background: #f8faff; padding: 25px; border-radius: 10px; margin-bottom: 30px; border: 1px solid #e3ebf0;\">\n",
              "                <h3 style=\"margin: 0 0 20px 0; color: #1e3c72; font-size: 1.4em; text-align: center;\">LAST 5 TRADING DAYS PERFORMANCE</h3>\n",
              "                \n",
              "        <div style=\"text-align: center; margin-bottom: 20px;\">\n",
              "            <svg width=\"600\" height=\"200\" style=\"border: 1px solid #e3ebf0; border-radius: 8px; background: white;\">\n",
              "                <!-- Grid lines -->\n",
              "                <defs>\n",
              "                    <pattern id=\"grid\" width=\"50\" height=\"40\" patternUnits=\"userSpaceOnUse\">\n",
              "                        <path d=\"M 50 0 L 0 0 0 40\" fill=\"none\" stroke=\"#f0f7ff\" stroke-width=\"1\"/>\n",
              "                    </pattern>\n",
              "                </defs>\n",
              "                <rect width=\"100%\" height=\"100%\" fill=\"url(#grid)\" />\n",
              "                \n",
              "                <!-- Price line -->\n",
              "                <polyline fill=\"none\" stroke=\"#1e3c72\" stroke-width=\"3\" points=\"40.0,97.76122844625121 213.33333333333334,160.0 386.6666666666667,138.95517161865558 560.0,40.0\"/>\n",
              "                \n",
              "                <!-- Data points -->\n",
              "                <circle cx=\"40.0\" cy=\"97.76122844625121\" r=\"5\" fill=\"#2a5298\" stroke=\"white\" stroke-width=\"2\"/>\n",
              "<circle cx=\"213.33333333333334\" cy=\"160.0\" r=\"5\" fill=\"#2a5298\" stroke=\"white\" stroke-width=\"2\"/>\n",
              "<circle cx=\"386.6666666666667\" cy=\"138.95517161865558\" r=\"5\" fill=\"#2a5298\" stroke=\"white\" stroke-width=\"2\"/>\n",
              "<circle cx=\"560.0\" cy=\"40.0\" r=\"5\" fill=\"#2a5298\" stroke=\"white\" stroke-width=\"2\"/>\n",
              "                \n",
              "                <!-- Price labels -->\n",
              "                <text x=\"40.0\" y=\"82.76122844625121\" text-anchor=\"middle\" fill=\"#1e3c72\" font-size=\"12\" font-weight=\"bold\">$198.42</text>\n",
              "<text x=\"213.33333333333334\" y=\"145.0\" text-anchor=\"middle\" fill=\"#1e3c72\" font-size=\"12\" font-weight=\"bold\">$195.64</text>\n",
              "<text x=\"386.6666666666667\" y=\"123.95517161865558\" text-anchor=\"middle\" fill=\"#1e3c72\" font-size=\"12\" font-weight=\"bold\">$196.58</text>\n",
              "<text x=\"560.0\" y=\"25.0\" text-anchor=\"middle\" fill=\"#1e3c72\" font-size=\"12\" font-weight=\"bold\">$201.00</text>\n",
              "                \n",
              "                <!-- Date labels -->\n",
              "                <text x=\"40.0\" y=\"190\" text-anchor=\"middle\" fill=\"#5d6d7e\" font-size=\"11\">06/16</text>\n",
              "<text x=\"213.33333333333334\" y=\"190\" text-anchor=\"middle\" fill=\"#5d6d7e\" font-size=\"11\">06/17</text>\n",
              "<text x=\"386.6666666666667\" y=\"190\" text-anchor=\"middle\" fill=\"#5d6d7e\" font-size=\"11\">06/18</text>\n",
              "<text x=\"560.0\" y=\"190\" text-anchor=\"middle\" fill=\"#5d6d7e\" font-size=\"11\">06/20</text>\n",
              "            </svg>\n",
              "        </div>\n",
              "        \n",
              "        <!-- Price summary -->\n",
              "        <div style=\"display: flex; justify-content: space-around; text-align: center; margin-top: 15px;\">\n",
              "            <div>\n",
              "                <p style=\"margin: 0; color: #5d6d7e; font-size: 0.9em;\">5-Day Low</p>\n",
              "                <p style=\"margin: 5px 0 0 0; font-size: 1.1em; font-weight: bold; color: #FF6B6B;\">$195.64</p>\n",
              "            </div>\n",
              "            <div>\n",
              "                <p style=\"margin: 0; color: #5d6d7e; font-size: 0.9em;\">5-Day High</p>\n",
              "                <p style=\"margin: 5px 0 0 0; font-size: 1.1em; font-weight: bold; color: #4CAF50;\">$201.00</p>\n",
              "            </div>\n",
              "            <div>\n",
              "                <p style=\"margin: 0; color: #5d6d7e; font-size: 0.9em;\">5-Day Range</p>\n",
              "                <p style=\"margin: 5px 0 0 0; font-size: 1.1em; font-weight: bold; color: #1e3c72;\">$5.36</p>\n",
              "            </div>\n",
              "        </div>\n",
              "        \n",
              "            </div>\n",
              "            \n",
              "            <!-- Key Metrics -->\n",
              "            <div style=\"background: #f0f7ff; padding: 25px; border-radius: 10px; margin-bottom: 30px; border: 1px solid #d6e9ff;\">\n",
              "                <h3 style=\"margin: 0 0 20px 0; color: #1e3c72; font-size: 1.4em; text-align: center;\">KEY METRICS</h3>\n",
              "                <div style=\"display: grid; grid-template-columns: repeat(2, 1fr); gap: 15px; text-align: center;\">\n",
              "                    <div>\n",
              "                        <p style=\"margin: 0; color: #5d6d7e; font-size: 0.9em;\">Market Cap</p>\n",
              "                        <p style=\"margin: 5px 0 0 0; font-size: 1.2em; font-weight: bold; color: #2c3e50;\">$3,002,095,632,384</p>\n",
              "                    </div>\n",
              "                    <div>\n",
              "                        <p style=\"margin: 0; color: #5d6d7e; font-size: 0.9em;\">P/E Ratio</p>\n",
              "                        <p style=\"margin: 5px 0 0 0; font-size: 1.2em; font-weight: bold; color: #2c3e50;\">31.357256</p>\n",
              "                    </div>\n",
              "                    <div>\n",
              "                        <p style=\"margin: 0; color: #5d6d7e; font-size: 0.9em;\">52-Week Low</p>\n",
              "                        <p style=\"margin: 5px 0 0 0; font-size: 1.2em; font-weight: bold; color: #2c3e50;\">$169.21</p>\n",
              "                    </div>\n",
              "                    <div>\n",
              "                        <p style=\"margin: 0; color: #5d6d7e; font-size: 0.9em;\">52-Week High</p>\n",
              "                        <p style=\"margin: 5px 0 0 0; font-size: 1.2em; font-weight: bold; color: #2c3e50;\">$260.1</p>\n",
              "                    </div>\n",
              "                </div>\n",
              "            </div>\n",
              "            \n",
              "            <!-- Investment Thesis -->\n",
              "            <div style=\"background: linear-gradient(135deg, #34495e 0%, #2c3e50 100%); color: white; padding: 25px; border-radius: 10px; margin-bottom: 30px;\">\n",
              "                <h3 style=\"margin: 0 0 15px 0; font-size: 1.4em;\">INVESTMENT THESIS</h3>\n",
              "                <p style=\"margin: 0; line-height: 1.6; font-size: 1.1em;\">\n",
              "                    Apple's ecosystem strength and recurring services revenue provide sustainable competitive advantages. \n",
              "                    Despite premium valuation, strong fundamentals support long-term growth potential.\n",
              "                </p>\n",
              "            </div>\n",
              "            \n",
              "            <!-- Entry Strategy -->\n",
              "            <div style=\"background: #f8faff; border: 2px solid #2a5298; padding: 25px; border-radius: 10px; margin-bottom: 20px;\">\n",
              "                <h3 style=\"margin: 0 0 20px 0; color: #1e3c72; font-size: 1.4em; text-align: center;\">ENTRY STRATEGY</h3>\n",
              "                <div style=\"display: grid; grid-template-columns: repeat(2, 1fr); gap: 20px;\">\n",
              "                    <div style=\"text-align: center;\">\n",
              "                        <p style=\"margin: 0; color: #1e3c72; font-weight: bold;\">BUY ZONE</p>\n",
              "                        <p style=\"margin: 5px 0; font-size: 1.2em; color: #2c3e50;\">Entry at $200.00 or below</p>\n",
              "                    </div>\n",
              "                    <div style=\"text-align: center;\">\n",
              "                        <p style=\"margin: 0; color: #1e3c72; font-weight: bold;\">POSITION SIZE</p>\n",
              "                        <p style=\"margin: 5px 0; font-size: 1.2em; color: #2c3e50;\">3-5% of portfolio maximum</p>\n",
              "                    </div>\n",
              "                </div>\n",
              "            </div>\n",
              "            \n",
              "            <!-- Footer -->\n",
              "            <div style=\"text-align: center; padding: 20px; background: #f8faff; border-radius: 10px; color: #5d6d7e; border: 1px solid #e3ebf0;\">\n",
              "                <p style=\"margin: 0; font-size: 0.9em;\">\n",
              "                    Analysis generated by AI Investment Research Crew<br>\n",
              "                    This is not financial advice. Please do your own research.\n",
              "                </p>\n",
              "            </div>\n",
              "            \n",
              "        </div>\n",
              "    </div>\n",
              "    "
            ]
          },
          "metadata": {}
        },
        {
          "output_type": "stream",
          "name": "stdout",
          "text": [
            "✅ HTML Investment Report with real AI recommendations displayed!\n"
          ]
        }
      ]
    },
    {
      "cell_type": "code",
      "source": [],
      "metadata": {
        "id": "Sg0nidmkLioc"
      },
      "execution_count": null,
      "outputs": []
    },
    {
      "cell_type": "markdown",
      "source": [
        "# Hands-on Lab: Part 3(Test New Stock Symbols)"
      ],
      "metadata": {
        "id": "83GLvCXPLkmy"
      }
    },
    {
      "cell_type": "markdown",
      "source": [
        "# Running the model for 'TSLA'"
      ],
      "metadata": {
        "id": "gxXAVqdJLqyq"
      }
    },
    {
      "cell_type": "code",
      "source": [
        "# Execute the complete analysis for Tesla stock\n",
        "print(\"Running advanced CrewAI analysis with delegation and real-time data...\")\n",
        "result = analyze_stock('TSLA')\n",
        "print(result)\n",
        "\n",
        "pretty_print(\"✅ Analysis complete! Your AI investment team used delegation to coordinate specialists, integrated real-time market data, and produced a professional investment report.\", \"🎊 Success\", \"blue\")"
      ],
      "metadata": {
        "colab": {
          "base_uri": "https://localhost:8080/",
          "height": 533
        },
        "id": "731LsujDNKra",
        "outputId": "c9353168-f55e-488b-94c9-5f4a292a12c7"
      },
      "execution_count": 22,
      "outputs": [
        {
          "output_type": "stream",
          "name": "stdout",
          "text": [
            "Running advanced CrewAI analysis with delegation and real-time data...\n"
          ]
        },
        {
          "output_type": "display_data",
          "data": {
            "text/plain": [
              "<IPython.core.display.HTML object>"
            ],
            "text/html": [
              "\n",
              "    <div style=\"border-left: 5px solid #b26a00; padding: 12px 16px; background-color: #fff8e1;\n",
              "                border-radius: 6px; font-family: 'Segoe UI', sans-serif; line-height: 1.6; margin: 10px 0;\">\n",
              "        <strong style=\"color: #b26a00; font-size: 16px;\">💹 Processing</strong><br>\n",
              "        <span style=\"font-size: 14px; color: #333;\">Analyzing TSLA...</span>\n",
              "    </div>\n",
              "    "
            ]
          },
          "metadata": {}
        },
        {
          "output_type": "stream",
          "name": "stdout",
          "text": [
            "\u001b[93m Maximum iterations reached. Requesting final answer.\u001b[00m\n"
          ]
        },
        {
          "output_type": "stream",
          "name": "stderr",
          "text": [
            "/usr/local/lib/python3.11/dist-packages/chromadb/types.py:144: PydanticDeprecatedSince211: Accessing the 'model_fields' attribute on the instance is deprecated. Instead, you should access this attribute from the model class. Deprecated in Pydantic V2.11 to be removed in V3.0.\n",
            "  return self.model_fields  # pydantic 2.x\n",
            "Inserting batches in chromadb: 100%|██████████| 1/1 [00:00<00:00,  3.22it/s]\n",
            "Inserting batches in chromadb:   0%|          | 0/1 [00:00<?, ?it/s]/usr/local/lib/python3.11/dist-packages/chromadb/types.py:144: PydanticDeprecatedSince211: Accessing the 'model_fields' attribute on the instance is deprecated. Instead, you should access this attribute from the model class. Deprecated in Pydantic V2.11 to be removed in V3.0.\n",
            "  return self.model_fields  # pydantic 2.x\n",
            "Inserting batches in chromadb: 100%|██████████| 1/1 [00:00<00:00,  1.84it/s]\n",
            "/usr/local/lib/python3.11/dist-packages/chromadb/types.py:144: PydanticDeprecatedSince211: Accessing the 'model_fields' attribute on the instance is deprecated. Instead, you should access this attribute from the model class. Deprecated in Pydantic V2.11 to be removed in V3.0.\n",
            "  return self.model_fields  # pydantic 2.x\n"
          ]
        },
        {
          "output_type": "stream",
          "name": "stdout",
          "text": [
            "💹 TRADING STRATEGY (TSLA)\n",
            "        >>  Today's Price ($321.77)\n",
            "        🎯 Action: BUY\n",
            "        💰 Entry Price: $321.00\n",
            "        🚀 Target: $300.00\n",
            "        🛑 Stop Loss: $250.00\n",
            "\n",
            "        📈 WHY: Strong demand for EVs and recent earnings growth position TSLA for continued success.\n"
          ]
        },
        {
          "output_type": "display_data",
          "data": {
            "text/plain": [
              "<IPython.core.display.HTML object>"
            ],
            "text/html": [
              "\n",
              "    <div style=\"border-left: 5px solid #1e4b8f; padding: 12px 16px; background-color: #f0f6ff;\n",
              "                border-radius: 6px; font-family: 'Segoe UI', sans-serif; line-height: 1.6; margin: 10px 0;\">\n",
              "        <strong style=\"color: #1e4b8f; font-size: 16px;\">🎊 Success</strong><br>\n",
              "        <span style=\"font-size: 14px; color: #333;\">✅ Analysis complete! Your AI investment team used delegation to coordinate specialists, integrated real-time market data, and produced a professional investment report.</span>\n",
              "    </div>\n",
              "    "
            ]
          },
          "metadata": {}
        }
      ]
    },
    {
      "cell_type": "code",
      "source": [
        "# Download HTML report from Dropbox and use it with real CrewAI result data\n",
        "\n",
        "import requests\n",
        "\n",
        "print(\"🔄 Loading HTML investment report from Dropbox...\")\n",
        "\n",
        "# Download the HTML report script\n",
        "dropbox_url = \"https://www.dropbox.com/scl/fi/kwuifm4ullucyvyxnnax0/HTML-Investment-Report.html?rlkey=jkfjmxnoks7rxwuxfvh46slap&dl=1\"\n",
        "\n",
        "response = requests.get(dropbox_url)\n",
        "code_content = response.text\n",
        "\n",
        "# Execute the code to load the function\n",
        "exec(code_content)\n",
        "\n",
        "print(f\"🎨 Generating HTML report with CrewAI result data...\")\n",
        "\n",
        "# Pass the result from your earlier CrewAI analysis\n",
        "symbol = 'TSLA' # Define the symbol variable\n",
        "html_report = create_html_investment_report(symbol, result)\n",
        "\n",
        "display(HTML(html_report))\n",
        "\n",
        "print(\"✅ HTML Investment Report with real AI recommendations displayed!\")"
      ],
      "metadata": {
        "colab": {
          "base_uri": "https://localhost:8080/",
          "height": 1000
        },
        "id": "tDh6pCthN-cy",
        "outputId": "c03da4dd-33f5-4d8f-c8ac-067e105245f1"
      },
      "execution_count": 23,
      "outputs": [
        {
          "output_type": "stream",
          "name": "stdout",
          "text": [
            "🔄 Loading HTML investment report from Dropbox...\n",
            "🎨 Generating HTML report with CrewAI result data...\n",
            "ðŸ”� Debug - Portfolio output: 🏢 TSLA INVESTMENT ANALYSIS  \n",
            "💰 RECOMMENDATION: BUY  \n",
            "🎯 Target Price: $300.00  \n",
            "📉 Stop Loss: $250.00  \n",
            "⏰ Timeframe: Medium term  \n",
            "\n",
            "KEY INSIGHTS:  \n",
            "• TSLA continues to lead the EV market with strong dem...\n",
            "ðŸ”� Debug - Trading output: 💹 TRADING STRATEGY (TSLA)\n",
            "        >>  Today's Price ($321.77)\n",
            "        🎯 Action: BUY\n",
            "        💰 Entry Price: $321.00\n",
            "        🚀 Target: $300.00\n",
            "        🛑 Stop Loss: $250.00\n",
            "\n",
            "        📈 WHY: Strong demand ...\n",
            "ðŸ“Š Extracted - Rec: BUY, Target: $300.00, Stop: $250.00, Entry: $321.00\n"
          ]
        },
        {
          "output_type": "display_data",
          "data": {
            "text/plain": [
              "<IPython.core.display.HTML object>"
            ],
            "text/html": [
              "\n",
              "    <meta charset=\"UTF-8\">\n",
              "    <div style=\"font-family: 'Segoe UI', Arial, sans-serif; max-width: 800px; margin: 20px auto; background: linear-gradient(135deg, #1e3c72 0%, #2a5298 100%); border-radius: 15px; padding: 2px;\">\n",
              "        <div style=\"background: white; border-radius: 13px; padding: 30px; box-shadow: 0 10px 30px rgba(0,0,0,0.15);\">\n",
              "            \n",
              "            <!-- Header -->\n",
              "            <div style=\"text-align: center; margin-bottom: 30px; padding: 20px; background: linear-gradient(135deg, #1e3c72 0%, #2a5298 100%); border-radius: 10px; color: white;\">\n",
              "                <h1 style=\"margin: 0; font-size: 2.5em; font-weight: bold;\">TSLA INVESTMENT ANALYSIS</h1>\n",
              "                <p style=\"margin: 10px 0 0 0; font-size: 1.1em; opacity: 0.9;\">June 22, 2025 at 05:29 AM</p>\n",
              "            </div>\n",
              "            \n",
              "            <!-- Price Summary -->\n",
              "            <div style=\"display: flex; justify-content: space-around; margin-bottom: 30px; text-align: center;\">\n",
              "                <div style=\"background: #f8faff; padding: 20px; border-radius: 10px; flex: 1; margin: 0 10px; border: 1px solid #e3ebf0;\">\n",
              "                    <h3 style=\"margin: 0; color: #2c3e50; font-size: 1.2em;\">Current Price</h3>\n",
              "                    <p style=\"margin: 10px 0 0 0; font-size: 2em; font-weight: bold; color: #1e3c72;\">$322.16</p>\n",
              "                </div>\n",
              "                <div style=\"background: #f8faff; padding: 20px; border-radius: 10px; flex: 1; margin: 0 10px; border: 1px solid #e3ebf0;\">\n",
              "                    <h3 style=\"margin: 0; color: #2c3e50; font-size: 1.2em;\">Daily Change</h3>\n",
              "                    <p style=\"margin: 10px 0 0 0; font-size: 1.5em; font-weight: bold; color: #4CAF50;\">\n",
              "                        UP $0.11 (+0.03%)\n",
              "                    </p>\n",
              "                </div>\n",
              "            </div>\n",
              "            \n",
              "            <!-- Recommendation Box -->\n",
              "            <div style=\"background: linear-gradient(135deg, #1e3c72 0%, #2a5298 100%); color: white; padding: 25px; border-radius: 10px; text-align: center; margin-bottom: 30px; box-shadow: 0 8px 25px rgba(30, 60, 114, 0.3);\">\n",
              "                <h2 style=\"margin: 0; font-size: 1.8em;\">RECOMMENDATION: BUY</h2>\n",
              "                <div style=\"display: flex; justify-content: space-around; margin-top: 20px; text-align: center;\">\n",
              "                    <div>\n",
              "                        <p style=\"margin: 0; font-size: 0.9em; opacity: 0.8;\">Target Price</p>\n",
              "                        <p style=\"margin: 5px 0 0 0; font-size: 1.3em; font-weight: bold;\">$300.00</p>\n",
              "                    </div>\n",
              "                    <div>\n",
              "                        <p style=\"margin: 0; font-size: 0.9em; opacity: 0.8;\">Stop Loss</p>\n",
              "                        <p style=\"margin: 5px 0 0 0; font-size: 1.3em; font-weight: bold;\">$250.00</p>\n",
              "                    </div>\n",
              "                    <div>\n",
              "                        <p style=\"margin: 0; font-size: 0.9em; opacity: 0.8;\">Timeframe</p>\n",
              "                        <p style=\"margin: 5px 0 0 0; font-size: 1.3em; font-weight: bold;\">Medium term</p>\n",
              "                    </div>\n",
              "                </div>\n",
              "            </div>\n",
              "            \n",
              "            <!-- Investment Justification -->\n",
              "            <div style=\"display: flex; gap: 20px; margin-bottom: 30px;\">\n",
              "                <div style=\"flex: 1; background: #f0f7ff; padding: 20px; border-radius: 10px; border-left: 5px solid #2a5298;\">\n",
              "                    <h3 style=\"margin: 0 0 15px 0; color: #1e3c72; font-size: 1.3em;\">BULLISH FACTORS</h3>\n",
              "                    <ul style=\"margin: 0; padding-left: 20px; line-height: 1.6; color: #34495e;\">\n",
              "                        <li>Strong brand loyalty creates pricing power</li>\n",
              "                        <li>Services revenue growing 15%+ annually</li>\n",
              "                        <li>iPhone upgrade cycle driving hardware sales</li>\n",
              "                        <li>$165B+ cash position provides flexibility</li>\n",
              "                        <li>Consistent dividend increases</li>\n",
              "                    </ul>\n",
              "                </div>\n",
              "                <div style=\"flex: 1; background: #f8faff; padding: 20px; border-radius: 10px; border-left: 5px solid #7f8c8d;\">\n",
              "                    <h3 style=\"margin: 0 0 15px 0; color: #5d6d7e; font-size: 1.3em;\">RISK FACTORS</h3>\n",
              "                    <ul style=\"margin: 0; padding-left: 20px; line-height: 1.6; color: #5d6d7e;\">\n",
              "                        <li>High P/E ratio indicates premium valuation</li>\n",
              "                        <li>Economic slowdown could impact spending</li>\n",
              "                        <li>China market dependency</li>\n",
              "                        <li>Regulatory scrutiny on App Store</li>\n",
              "                    </ul>\n",
              "                </div>\n",
              "            </div>\n",
              "            \n",
              "            <!-- Recent Price Performance -->\n",
              "            <div style=\"background: #f8faff; padding: 25px; border-radius: 10px; margin-bottom: 30px; border: 1px solid #e3ebf0;\">\n",
              "                <h3 style=\"margin: 0 0 20px 0; color: #1e3c72; font-size: 1.4em; text-align: center;\">LAST 5 TRADING DAYS PERFORMANCE</h3>\n",
              "                \n",
              "        <div style=\"text-align: center; margin-bottom: 20px;\">\n",
              "            <svg width=\"600\" height=\"200\" style=\"border: 1px solid #e3ebf0; border-radius: 8px; background: white;\">\n",
              "                <!-- Grid lines -->\n",
              "                <defs>\n",
              "                    <pattern id=\"grid\" width=\"50\" height=\"40\" patternUnits=\"userSpaceOnUse\">\n",
              "                        <path d=\"M 50 0 L 0 0 0 40\" fill=\"none\" stroke=\"#f0f7ff\" stroke-width=\"1\"/>\n",
              "                    </pattern>\n",
              "                </defs>\n",
              "                <rect width=\"100%\" height=\"100%\" fill=\"url(#grid)\" />\n",
              "                \n",
              "                <!-- Price line -->\n",
              "                <polyline fill=\"none\" stroke=\"#1e3c72\" stroke-width=\"3\" points=\"40.0,40.0 213.33333333333334,160.0 386.6666666666667,106.47904005731002 560.0,105.44602710285953\"/>\n",
              "                \n",
              "                <!-- Data points -->\n",
              "                <circle cx=\"40.0\" cy=\"40.0\" r=\"5\" fill=\"#2a5298\" stroke=\"white\" stroke-width=\"2\"/>\n",
              "<circle cx=\"213.33333333333334\" cy=\"160.0\" r=\"5\" fill=\"#2a5298\" stroke=\"white\" stroke-width=\"2\"/>\n",
              "<circle cx=\"386.6666666666667\" cy=\"106.47904005731002\" r=\"5\" fill=\"#2a5298\" stroke=\"white\" stroke-width=\"2\"/>\n",
              "<circle cx=\"560.0\" cy=\"105.44602710285953\" r=\"5\" fill=\"#2a5298\" stroke=\"white\" stroke-width=\"2\"/>\n",
              "                \n",
              "                <!-- Price labels -->\n",
              "                <text x=\"40.0\" y=\"25.0\" text-anchor=\"middle\" fill=\"#1e3c72\" font-size=\"12\" font-weight=\"bold\">$329.13</text>\n",
              "<text x=\"213.33333333333334\" y=\"145.0\" text-anchor=\"middle\" fill=\"#1e3c72\" font-size=\"12\" font-weight=\"bold\">$316.35</text>\n",
              "<text x=\"386.6666666666667\" y=\"91.47904005731002\" text-anchor=\"middle\" fill=\"#1e3c72\" font-size=\"12\" font-weight=\"bold\">$322.05</text>\n",
              "<text x=\"560.0\" y=\"90.44602710285953\" text-anchor=\"middle\" fill=\"#1e3c72\" font-size=\"12\" font-weight=\"bold\">$322.16</text>\n",
              "                \n",
              "                <!-- Date labels -->\n",
              "                <text x=\"40.0\" y=\"190\" text-anchor=\"middle\" fill=\"#5d6d7e\" font-size=\"11\">06/16</text>\n",
              "<text x=\"213.33333333333334\" y=\"190\" text-anchor=\"middle\" fill=\"#5d6d7e\" font-size=\"11\">06/17</text>\n",
              "<text x=\"386.6666666666667\" y=\"190\" text-anchor=\"middle\" fill=\"#5d6d7e\" font-size=\"11\">06/18</text>\n",
              "<text x=\"560.0\" y=\"190\" text-anchor=\"middle\" fill=\"#5d6d7e\" font-size=\"11\">06/20</text>\n",
              "            </svg>\n",
              "        </div>\n",
              "        \n",
              "        <!-- Price summary -->\n",
              "        <div style=\"display: flex; justify-content: space-around; text-align: center; margin-top: 15px;\">\n",
              "            <div>\n",
              "                <p style=\"margin: 0; color: #5d6d7e; font-size: 0.9em;\">5-Day Low</p>\n",
              "                <p style=\"margin: 5px 0 0 0; font-size: 1.1em; font-weight: bold; color: #FF6B6B;\">$316.35</p>\n",
              "            </div>\n",
              "            <div>\n",
              "                <p style=\"margin: 0; color: #5d6d7e; font-size: 0.9em;\">5-Day High</p>\n",
              "                <p style=\"margin: 5px 0 0 0; font-size: 1.1em; font-weight: bold; color: #4CAF50;\">$329.13</p>\n",
              "            </div>\n",
              "            <div>\n",
              "                <p style=\"margin: 0; color: #5d6d7e; font-size: 0.9em;\">5-Day Range</p>\n",
              "                <p style=\"margin: 5px 0 0 0; font-size: 1.1em; font-weight: bold; color: #1e3c72;\">$12.78</p>\n",
              "            </div>\n",
              "        </div>\n",
              "        \n",
              "            </div>\n",
              "            \n",
              "            <!-- Key Metrics -->\n",
              "            <div style=\"background: #f0f7ff; padding: 25px; border-radius: 10px; margin-bottom: 30px; border: 1px solid #d6e9ff;\">\n",
              "                <h3 style=\"margin: 0 0 20px 0; color: #1e3c72; font-size: 1.4em; text-align: center;\">KEY METRICS</h3>\n",
              "                <div style=\"display: grid; grid-template-columns: repeat(2, 1fr); gap: 15px; text-align: center;\">\n",
              "                    <div>\n",
              "                        <p style=\"margin: 0; color: #5d6d7e; font-size: 0.9em;\">Market Cap</p>\n",
              "                        <p style=\"margin: 5px 0 0 0; font-size: 1.2em; font-weight: bold; color: #2c3e50;\">$1,037,664,518,144</p>\n",
              "                    </div>\n",
              "                    <div>\n",
              "                        <p style=\"margin: 0; color: #5d6d7e; font-size: 0.9em;\">P/E Ratio</p>\n",
              "                        <p style=\"margin: 5px 0 0 0; font-size: 1.2em; font-weight: bold; color: #2c3e50;\">185.14943</p>\n",
              "                    </div>\n",
              "                    <div>\n",
              "                        <p style=\"margin: 0; color: #5d6d7e; font-size: 0.9em;\">52-Week Low</p>\n",
              "                        <p style=\"margin: 5px 0 0 0; font-size: 1.2em; font-weight: bold; color: #2c3e50;\">$182.0</p>\n",
              "                    </div>\n",
              "                    <div>\n",
              "                        <p style=\"margin: 0; color: #5d6d7e; font-size: 0.9em;\">52-Week High</p>\n",
              "                        <p style=\"margin: 5px 0 0 0; font-size: 1.2em; font-weight: bold; color: #2c3e50;\">$488.54</p>\n",
              "                    </div>\n",
              "                </div>\n",
              "            </div>\n",
              "            \n",
              "            <!-- Investment Thesis -->\n",
              "            <div style=\"background: linear-gradient(135deg, #34495e 0%, #2c3e50 100%); color: white; padding: 25px; border-radius: 10px; margin-bottom: 30px;\">\n",
              "                <h3 style=\"margin: 0 0 15px 0; font-size: 1.4em;\">INVESTMENT THESIS</h3>\n",
              "                <p style=\"margin: 0; line-height: 1.6; font-size: 1.1em;\">\n",
              "                    Apple's ecosystem strength and recurring services revenue provide sustainable competitive advantages. \n",
              "                    Despite premium valuation, strong fundamentals support long-term growth potential.\n",
              "                </p>\n",
              "            </div>\n",
              "            \n",
              "            <!-- Entry Strategy -->\n",
              "            <div style=\"background: #f8faff; border: 2px solid #2a5298; padding: 25px; border-radius: 10px; margin-bottom: 20px;\">\n",
              "                <h3 style=\"margin: 0 0 20px 0; color: #1e3c72; font-size: 1.4em; text-align: center;\">ENTRY STRATEGY</h3>\n",
              "                <div style=\"display: grid; grid-template-columns: repeat(2, 1fr); gap: 20px;\">\n",
              "                    <div style=\"text-align: center;\">\n",
              "                        <p style=\"margin: 0; color: #1e3c72; font-weight: bold;\">BUY ZONE</p>\n",
              "                        <p style=\"margin: 5px 0; font-size: 1.2em; color: #2c3e50;\">Entry at $321.00 or below</p>\n",
              "                    </div>\n",
              "                    <div style=\"text-align: center;\">\n",
              "                        <p style=\"margin: 0; color: #1e3c72; font-weight: bold;\">POSITION SIZE</p>\n",
              "                        <p style=\"margin: 5px 0; font-size: 1.2em; color: #2c3e50;\">3-5% of portfolio maximum</p>\n",
              "                    </div>\n",
              "                </div>\n",
              "            </div>\n",
              "            \n",
              "            <!-- Footer -->\n",
              "            <div style=\"text-align: center; padding: 20px; background: #f8faff; border-radius: 10px; color: #5d6d7e; border: 1px solid #e3ebf0;\">\n",
              "                <p style=\"margin: 0; font-size: 0.9em;\">\n",
              "                    Analysis generated by AI Investment Research Crew<br>\n",
              "                    This is not financial advice. Please do your own research.\n",
              "                </p>\n",
              "            </div>\n",
              "            \n",
              "        </div>\n",
              "    </div>\n",
              "    "
            ]
          },
          "metadata": {}
        },
        {
          "output_type": "stream",
          "name": "stdout",
          "text": [
            "✅ HTML Investment Report with real AI recommendations displayed!\n"
          ]
        }
      ]
    },
    {
      "cell_type": "markdown",
      "source": [
        "# Running the model for 'GOOGL'"
      ],
      "metadata": {
        "id": "EJij226VOQIc"
      }
    },
    {
      "cell_type": "code",
      "source": [
        "# Execute the complete analysis for Google stock\n",
        "print(\"Running advanced CrewAI analysis with delegation and real-time data...\")\n",
        "result = analyze_stock('GOOGL')\n",
        "print(result)\n",
        "\n",
        "pretty_print(\"✅ Analysis complete! Your AI investment team used delegation to coordinate specialists, integrated real-time market data, and produced a professional investment report.\", \"🎊 Success\", \"blue\")"
      ],
      "metadata": {
        "colab": {
          "base_uri": "https://localhost:8080/",
          "height": 759
        },
        "id": "HtBbsUQOOVOw",
        "outputId": "4d2175dd-310b-4881-ff26-0263840a9159"
      },
      "execution_count": 24,
      "outputs": [
        {
          "output_type": "stream",
          "name": "stdout",
          "text": [
            "Running advanced CrewAI analysis with delegation and real-time data...\n"
          ]
        },
        {
          "output_type": "display_data",
          "data": {
            "text/plain": [
              "<IPython.core.display.HTML object>"
            ],
            "text/html": [
              "\n",
              "    <div style=\"border-left: 5px solid #b26a00; padding: 12px 16px; background-color: #fff8e1;\n",
              "                border-radius: 6px; font-family: 'Segoe UI', sans-serif; line-height: 1.6; margin: 10px 0;\">\n",
              "        <strong style=\"color: #b26a00; font-size: 16px;\">💹 Processing</strong><br>\n",
              "        <span style=\"font-size: 14px; color: #333;\">Analyzing GOOGL...</span>\n",
              "    </div>\n",
              "    "
            ]
          },
          "metadata": {}
        },
        {
          "output_type": "stream",
          "name": "stdout",
          "text": [
            "\u001b[93m Maximum iterations reached. Requesting final answer.\u001b[00m\n"
          ]
        },
        {
          "output_type": "stream",
          "name": "stderr",
          "text": [
            "/usr/local/lib/python3.11/dist-packages/chromadb/types.py:144: PydanticDeprecatedSince211: Accessing the 'model_fields' attribute on the instance is deprecated. Instead, you should access this attribute from the model class. Deprecated in Pydantic V2.11 to be removed in V3.0.\n",
            "  return self.model_fields  # pydantic 2.x\n",
            "Inserting batches in chromadb:   0%|          | 0/1 [00:00<?, ?it/s]/usr/local/lib/python3.11/dist-packages/chromadb/types.py:144: PydanticDeprecatedSince211: Accessing the 'model_fields' attribute on the instance is deprecated. Instead, you should access this attribute from the model class. Deprecated in Pydantic V2.11 to be removed in V3.0.\n",
            "  return self.model_fields  # pydantic 2.x\n",
            "Inserting batches in chromadb: 100%|██████████| 1/1 [00:00<00:00,  3.11it/s]\n",
            "/usr/local/lib/python3.11/dist-packages/chromadb/types.py:144: PydanticDeprecatedSince211: Accessing the 'model_fields' attribute on the instance is deprecated. Instead, you should access this attribute from the model class. Deprecated in Pydantic V2.11 to be removed in V3.0.\n",
            "  return self.model_fields  # pydantic 2.x\n",
            "Inserting batches in chromadb:   0%|          | 0/1 [00:00<?, ?it/s]/usr/local/lib/python3.11/dist-packages/chromadb/types.py:144: PydanticDeprecatedSince211: Accessing the 'model_fields' attribute on the instance is deprecated. Instead, you should access this attribute from the model class. Deprecated in Pydantic V2.11 to be removed in V3.0.\n",
            "  return self.model_fields  # pydantic 2.x\n",
            "Inserting batches in chromadb: 100%|██████████| 1/1 [00:00<00:00,  2.25it/s]\n",
            "/usr/local/lib/python3.11/dist-packages/chromadb/types.py:144: PydanticDeprecatedSince211: Accessing the 'model_fields' attribute on the instance is deprecated. Instead, you should access this attribute from the model class. Deprecated in Pydantic V2.11 to be removed in V3.0.\n",
            "  return self.model_fields  # pydantic 2.x\n",
            "Inserting batches in chromadb: 100%|██████████| 1/1 [00:00<00:00,  2.18it/s]\n",
            "/usr/local/lib/python3.11/dist-packages/chromadb/types.py:144: PydanticDeprecatedSince211: Accessing the 'model_fields' attribute on the instance is deprecated. Instead, you should access this attribute from the model class. Deprecated in Pydantic V2.11 to be removed in V3.0.\n",
            "  return self.model_fields  # pydantic 2.x\n",
            "Inserting batches in chromadb: 100%|██████████| 1/1 [00:00<00:00,  3.30it/s]\n",
            "/usr/local/lib/python3.11/dist-packages/chromadb/types.py:144: PydanticDeprecatedSince211: Accessing the 'model_fields' attribute on the instance is deprecated. Instead, you should access this attribute from the model class. Deprecated in Pydantic V2.11 to be removed in V3.0.\n",
            "  return self.model_fields  # pydantic 2.x\n",
            "Inserting batches in chromadb:   0%|          | 0/1 [00:00<?, ?it/s]/usr/local/lib/python3.11/dist-packages/chromadb/types.py:144: PydanticDeprecatedSince211: Accessing the 'model_fields' attribute on the instance is deprecated. Instead, you should access this attribute from the model class. Deprecated in Pydantic V2.11 to be removed in V3.0.\n",
            "  return self.model_fields  # pydantic 2.x\n",
            "Inserting batches in chromadb: 100%|██████████| 1/1 [00:00<00:00,  3.35it/s]\n"
          ]
        },
        {
          "output_type": "stream",
          "name": "stdout",
          "text": [
            "💹 TRADING STRATEGY (GOOGL)\n",
            "        >>  Today's Price ($167.58)\n",
            "        🎯 Action: BUY\n",
            "        💰 Entry Price: $167.58\n",
            "        🚀 Target: $1500.00\n",
            "        🛑 Stop Loss: $1200.00\n",
            "\n",
            "        📈 WHY: GOOGL's strong revenue growth and market position in digital advertising and cloud services indicate significant long-term potential.\n"
          ]
        },
        {
          "output_type": "display_data",
          "data": {
            "text/plain": [
              "<IPython.core.display.HTML object>"
            ],
            "text/html": [
              "\n",
              "    <div style=\"border-left: 5px solid #1e4b8f; padding: 12px 16px; background-color: #f0f6ff;\n",
              "                border-radius: 6px; font-family: 'Segoe UI', sans-serif; line-height: 1.6; margin: 10px 0;\">\n",
              "        <strong style=\"color: #1e4b8f; font-size: 16px;\">🎊 Success</strong><br>\n",
              "        <span style=\"font-size: 14px; color: #333;\">✅ Analysis complete! Your AI investment team used delegation to coordinate specialists, integrated real-time market data, and produced a professional investment report.</span>\n",
              "    </div>\n",
              "    "
            ]
          },
          "metadata": {}
        }
      ]
    },
    {
      "cell_type": "code",
      "source": [
        "# Download HTML report from Dropbox and use it with real CrewAI result data\n",
        "\n",
        "import requests\n",
        "\n",
        "print(\"🔄 Loading HTML investment report from Dropbox...\")\n",
        "\n",
        "# Download the HTML report script\n",
        "dropbox_url = \"https://www.dropbox.com/scl/fi/kwuifm4ullucyvyxnnax0/HTML-Investment-Report.html?rlkey=jkfjmxnoks7rxwuxfvh46slap&dl=1\"\n",
        "\n",
        "response = requests.get(dropbox_url)\n",
        "code_content = response.text\n",
        "\n",
        "# Execute the code to load the function\n",
        "exec(code_content)\n",
        "\n",
        "print(f\"🎨 Generating HTML report with CrewAI result data...\")\n",
        "\n",
        "# Pass the result from your earlier CrewAI analysis\n",
        "symbol = 'GOOGL' # Define the symbol variable\n",
        "html_report = create_html_investment_report(symbol, result)\n",
        "\n",
        "display(HTML(html_report))\n",
        "\n",
        "print(\"✅ HTML Investment Report with real AI recommendations displayed!\")"
      ],
      "metadata": {
        "colab": {
          "base_uri": "https://localhost:8080/",
          "height": 1000
        },
        "id": "-m7k7_9cOVG6",
        "outputId": "b79d4046-dfe2-45a6-cfa6-b624a252cfdd"
      },
      "execution_count": 25,
      "outputs": [
        {
          "output_type": "stream",
          "name": "stdout",
          "text": [
            "🔄 Loading HTML investment report from Dropbox...\n",
            "🎨 Generating HTML report with CrewAI result data...\n",
            "ðŸ”� Debug - Portfolio output: 🏢 GOOGL INVESTMENT ANALYSIS  \n",
            "💰 RECOMMENDATION: BUY  \n",
            "🎯 Target Price: $1500.00  \n",
            "📉 Stop Loss: $1200.00  \n",
            "⏰ Timeframe: Long term  \n",
            "\n",
            "KEY INSIGHTS (3 bullet points max):  \n",
            "• GOOGL has demonstrated consis...\n",
            "ðŸ”� Debug - Trading output: 💹 TRADING STRATEGY (GOOGL)\n",
            "        >>  Today's Price ($167.58)\n",
            "        🎯 Action: BUY\n",
            "        💰 Entry Price: $167.58\n",
            "        🚀 Target: $1500.00\n",
            "        🛑 Stop Loss: $1200.00\n",
            "\n",
            "        📈 WHY: GOOGL's str...\n",
            "ðŸ“Š Extracted - Rec: BUY, Target: $1500.00, Stop: $1200.00, Entry: $167.58\n"
          ]
        },
        {
          "output_type": "display_data",
          "data": {
            "text/plain": [
              "<IPython.core.display.HTML object>"
            ],
            "text/html": [
              "\n",
              "    <meta charset=\"UTF-8\">\n",
              "    <div style=\"font-family: 'Segoe UI', Arial, sans-serif; max-width: 800px; margin: 20px auto; background: linear-gradient(135deg, #1e3c72 0%, #2a5298 100%); border-radius: 15px; padding: 2px;\">\n",
              "        <div style=\"background: white; border-radius: 13px; padding: 30px; box-shadow: 0 10px 30px rgba(0,0,0,0.15);\">\n",
              "            \n",
              "            <!-- Header -->\n",
              "            <div style=\"text-align: center; margin-bottom: 30px; padding: 20px; background: linear-gradient(135deg, #1e3c72 0%, #2a5298 100%); border-radius: 10px; color: white;\">\n",
              "                <h1 style=\"margin: 0; font-size: 2.5em; font-weight: bold;\">GOOGL INVESTMENT ANALYSIS</h1>\n",
              "                <p style=\"margin: 10px 0 0 0; font-size: 1.1em; opacity: 0.9;\">June 22, 2025 at 05:31 AM</p>\n",
              "            </div>\n",
              "            \n",
              "            <!-- Price Summary -->\n",
              "            <div style=\"display: flex; justify-content: space-around; margin-bottom: 30px; text-align: center;\">\n",
              "                <div style=\"background: #f8faff; padding: 20px; border-radius: 10px; flex: 1; margin: 0 10px; border: 1px solid #e3ebf0;\">\n",
              "                    <h3 style=\"margin: 0; color: #2c3e50; font-size: 1.2em;\">Current Price</h3>\n",
              "                    <p style=\"margin: 10px 0 0 0; font-size: 2em; font-weight: bold; color: #1e3c72;\">$166.64</p>\n",
              "                </div>\n",
              "                <div style=\"background: #f8faff; padding: 20px; border-radius: 10px; flex: 1; margin: 0 10px; border: 1px solid #e3ebf0;\">\n",
              "                    <h3 style=\"margin: 0; color: #2c3e50; font-size: 1.2em;\">Daily Change</h3>\n",
              "                    <p style=\"margin: 10px 0 0 0; font-size: 1.5em; font-weight: bold; color: #FF6B6B;\">\n",
              "                        DOWN $-6.68 (-3.85%)\n",
              "                    </p>\n",
              "                </div>\n",
              "            </div>\n",
              "            \n",
              "            <!-- Recommendation Box -->\n",
              "            <div style=\"background: linear-gradient(135deg, #1e3c72 0%, #2a5298 100%); color: white; padding: 25px; border-radius: 10px; text-align: center; margin-bottom: 30px; box-shadow: 0 8px 25px rgba(30, 60, 114, 0.3);\">\n",
              "                <h2 style=\"margin: 0; font-size: 1.8em;\">RECOMMENDATION: BUY</h2>\n",
              "                <div style=\"display: flex; justify-content: space-around; margin-top: 20px; text-align: center;\">\n",
              "                    <div>\n",
              "                        <p style=\"margin: 0; font-size: 0.9em; opacity: 0.8;\">Target Price</p>\n",
              "                        <p style=\"margin: 5px 0 0 0; font-size: 1.3em; font-weight: bold;\">$1500.00</p>\n",
              "                    </div>\n",
              "                    <div>\n",
              "                        <p style=\"margin: 0; font-size: 0.9em; opacity: 0.8;\">Stop Loss</p>\n",
              "                        <p style=\"margin: 5px 0 0 0; font-size: 1.3em; font-weight: bold;\">$1200.00</p>\n",
              "                    </div>\n",
              "                    <div>\n",
              "                        <p style=\"margin: 0; font-size: 0.9em; opacity: 0.8;\">Timeframe</p>\n",
              "                        <p style=\"margin: 5px 0 0 0; font-size: 1.3em; font-weight: bold;\">Long term</p>\n",
              "                    </div>\n",
              "                </div>\n",
              "            </div>\n",
              "            \n",
              "            <!-- Investment Justification -->\n",
              "            <div style=\"display: flex; gap: 20px; margin-bottom: 30px;\">\n",
              "                <div style=\"flex: 1; background: #f0f7ff; padding: 20px; border-radius: 10px; border-left: 5px solid #2a5298;\">\n",
              "                    <h3 style=\"margin: 0 0 15px 0; color: #1e3c72; font-size: 1.3em;\">BULLISH FACTORS</h3>\n",
              "                    <ul style=\"margin: 0; padding-left: 20px; line-height: 1.6; color: #34495e;\">\n",
              "                        <li>Strong brand loyalty creates pricing power</li>\n",
              "                        <li>Services revenue growing 15%+ annually</li>\n",
              "                        <li>iPhone upgrade cycle driving hardware sales</li>\n",
              "                        <li>$165B+ cash position provides flexibility</li>\n",
              "                        <li>Consistent dividend increases</li>\n",
              "                    </ul>\n",
              "                </div>\n",
              "                <div style=\"flex: 1; background: #f8faff; padding: 20px; border-radius: 10px; border-left: 5px solid #7f8c8d;\">\n",
              "                    <h3 style=\"margin: 0 0 15px 0; color: #5d6d7e; font-size: 1.3em;\">RISK FACTORS</h3>\n",
              "                    <ul style=\"margin: 0; padding-left: 20px; line-height: 1.6; color: #5d6d7e;\">\n",
              "                        <li>High P/E ratio indicates premium valuation</li>\n",
              "                        <li>Economic slowdown could impact spending</li>\n",
              "                        <li>China market dependency</li>\n",
              "                        <li>Regulatory scrutiny on App Store</li>\n",
              "                    </ul>\n",
              "                </div>\n",
              "            </div>\n",
              "            \n",
              "            <!-- Recent Price Performance -->\n",
              "            <div style=\"background: #f8faff; padding: 25px; border-radius: 10px; margin-bottom: 30px; border: 1px solid #e3ebf0;\">\n",
              "                <h3 style=\"margin: 0 0 20px 0; color: #1e3c72; font-size: 1.4em; text-align: center;\">LAST 5 TRADING DAYS PERFORMANCE</h3>\n",
              "                \n",
              "        <div style=\"text-align: center; margin-bottom: 20px;\">\n",
              "            <svg width=\"600\" height=\"200\" style=\"border: 1px solid #e3ebf0; border-radius: 8px; background: white;\">\n",
              "                <!-- Grid lines -->\n",
              "                <defs>\n",
              "                    <pattern id=\"grid\" width=\"50\" height=\"40\" patternUnits=\"userSpaceOnUse\">\n",
              "                        <path d=\"M 50 0 L 0 0 0 40\" fill=\"none\" stroke=\"#f0f7ff\" stroke-width=\"1\"/>\n",
              "                    </pattern>\n",
              "                </defs>\n",
              "                <rect width=\"100%\" height=\"100%\" fill=\"url(#grid)\" />\n",
              "                \n",
              "                <!-- Price line -->\n",
              "                <polyline fill=\"none\" stroke=\"#1e3c72\" stroke-width=\"3\" points=\"40.0,40.0 213.33333333333334,49.71380369946375 386.6666666666667,80.86865096101705 560.0,160.0\"/>\n",
              "                \n",
              "                <!-- Data points -->\n",
              "                <circle cx=\"40.0\" cy=\"40.0\" r=\"5\" fill=\"#2a5298\" stroke=\"white\" stroke-width=\"2\"/>\n",
              "<circle cx=\"213.33333333333334\" cy=\"49.71380369946375\" r=\"5\" fill=\"#2a5298\" stroke=\"white\" stroke-width=\"2\"/>\n",
              "<circle cx=\"386.6666666666667\" cy=\"80.86865096101705\" r=\"5\" fill=\"#2a5298\" stroke=\"white\" stroke-width=\"2\"/>\n",
              "<circle cx=\"560.0\" cy=\"160.0\" r=\"5\" fill=\"#2a5298\" stroke=\"white\" stroke-width=\"2\"/>\n",
              "                \n",
              "                <!-- Price labels -->\n",
              "                <text x=\"40.0\" y=\"25.0\" text-anchor=\"middle\" fill=\"#1e3c72\" font-size=\"12\" font-weight=\"bold\">$176.77</text>\n",
              "<text x=\"213.33333333333334\" y=\"34.71380369946375\" text-anchor=\"middle\" fill=\"#1e3c72\" font-size=\"12\" font-weight=\"bold\">$175.95</text>\n",
              "<text x=\"386.6666666666667\" y=\"65.86865096101705\" text-anchor=\"middle\" fill=\"#1e3c72\" font-size=\"12\" font-weight=\"bold\">$173.32</text>\n",
              "<text x=\"560.0\" y=\"145.0\" text-anchor=\"middle\" fill=\"#1e3c72\" font-size=\"12\" font-weight=\"bold\">$166.64</text>\n",
              "                \n",
              "                <!-- Date labels -->\n",
              "                <text x=\"40.0\" y=\"190\" text-anchor=\"middle\" fill=\"#5d6d7e\" font-size=\"11\">06/16</text>\n",
              "<text x=\"213.33333333333334\" y=\"190\" text-anchor=\"middle\" fill=\"#5d6d7e\" font-size=\"11\">06/17</text>\n",
              "<text x=\"386.6666666666667\" y=\"190\" text-anchor=\"middle\" fill=\"#5d6d7e\" font-size=\"11\">06/18</text>\n",
              "<text x=\"560.0\" y=\"190\" text-anchor=\"middle\" fill=\"#5d6d7e\" font-size=\"11\">06/20</text>\n",
              "            </svg>\n",
              "        </div>\n",
              "        \n",
              "        <!-- Price summary -->\n",
              "        <div style=\"display: flex; justify-content: space-around; text-align: center; margin-top: 15px;\">\n",
              "            <div>\n",
              "                <p style=\"margin: 0; color: #5d6d7e; font-size: 0.9em;\">5-Day Low</p>\n",
              "                <p style=\"margin: 5px 0 0 0; font-size: 1.1em; font-weight: bold; color: #FF6B6B;\">$166.64</p>\n",
              "            </div>\n",
              "            <div>\n",
              "                <p style=\"margin: 0; color: #5d6d7e; font-size: 0.9em;\">5-Day High</p>\n",
              "                <p style=\"margin: 5px 0 0 0; font-size: 1.1em; font-weight: bold; color: #4CAF50;\">$176.77</p>\n",
              "            </div>\n",
              "            <div>\n",
              "                <p style=\"margin: 0; color: #5d6d7e; font-size: 0.9em;\">5-Day Range</p>\n",
              "                <p style=\"margin: 5px 0 0 0; font-size: 1.1em; font-weight: bold; color: #1e3c72;\">$10.13</p>\n",
              "            </div>\n",
              "        </div>\n",
              "        \n",
              "            </div>\n",
              "            \n",
              "            <!-- Key Metrics -->\n",
              "            <div style=\"background: #f0f7ff; padding: 25px; border-radius: 10px; margin-bottom: 30px; border: 1px solid #d6e9ff;\">\n",
              "                <h3 style=\"margin: 0 0 20px 0; color: #1e3c72; font-size: 1.4em; text-align: center;\">KEY METRICS</h3>\n",
              "                <div style=\"display: grid; grid-template-columns: repeat(2, 1fr); gap: 15px; text-align: center;\">\n",
              "                    <div>\n",
              "                        <p style=\"margin: 0; color: #5d6d7e; font-size: 0.9em;\">Market Cap</p>\n",
              "                        <p style=\"margin: 5px 0 0 0; font-size: 1.2em; font-weight: bold; color: #2c3e50;\">$2,028,092,129,280</p>\n",
              "                    </div>\n",
              "                    <div>\n",
              "                        <p style=\"margin: 0; color: #5d6d7e; font-size: 0.9em;\">P/E Ratio</p>\n",
              "                        <p style=\"margin: 5px 0 0 0; font-size: 1.2em; font-weight: bold; color: #2c3e50;\">18.57748</p>\n",
              "                    </div>\n",
              "                    <div>\n",
              "                        <p style=\"margin: 0; color: #5d6d7e; font-size: 0.9em;\">52-Week Low</p>\n",
              "                        <p style=\"margin: 5px 0 0 0; font-size: 1.2em; font-weight: bold; color: #2c3e50;\">$140.53</p>\n",
              "                    </div>\n",
              "                    <div>\n",
              "                        <p style=\"margin: 0; color: #5d6d7e; font-size: 0.9em;\">52-Week High</p>\n",
              "                        <p style=\"margin: 5px 0 0 0; font-size: 1.2em; font-weight: bold; color: #2c3e50;\">$207.05</p>\n",
              "                    </div>\n",
              "                </div>\n",
              "            </div>\n",
              "            \n",
              "            <!-- Investment Thesis -->\n",
              "            <div style=\"background: linear-gradient(135deg, #34495e 0%, #2c3e50 100%); color: white; padding: 25px; border-radius: 10px; margin-bottom: 30px;\">\n",
              "                <h3 style=\"margin: 0 0 15px 0; font-size: 1.4em;\">INVESTMENT THESIS</h3>\n",
              "                <p style=\"margin: 0; line-height: 1.6; font-size: 1.1em;\">\n",
              "                    Apple's ecosystem strength and recurring services revenue provide sustainable competitive advantages. \n",
              "                    Despite premium valuation, strong fundamentals support long-term growth potential.\n",
              "                </p>\n",
              "            </div>\n",
              "            \n",
              "            <!-- Entry Strategy -->\n",
              "            <div style=\"background: #f8faff; border: 2px solid #2a5298; padding: 25px; border-radius: 10px; margin-bottom: 20px;\">\n",
              "                <h3 style=\"margin: 0 0 20px 0; color: #1e3c72; font-size: 1.4em; text-align: center;\">ENTRY STRATEGY</h3>\n",
              "                <div style=\"display: grid; grid-template-columns: repeat(2, 1fr); gap: 20px;\">\n",
              "                    <div style=\"text-align: center;\">\n",
              "                        <p style=\"margin: 0; color: #1e3c72; font-weight: bold;\">BUY ZONE</p>\n",
              "                        <p style=\"margin: 5px 0; font-size: 1.2em; color: #2c3e50;\">Entry at $167.58 or below</p>\n",
              "                    </div>\n",
              "                    <div style=\"text-align: center;\">\n",
              "                        <p style=\"margin: 0; color: #1e3c72; font-weight: bold;\">POSITION SIZE</p>\n",
              "                        <p style=\"margin: 5px 0; font-size: 1.2em; color: #2c3e50;\">3-5% of portfolio maximum</p>\n",
              "                    </div>\n",
              "                </div>\n",
              "            </div>\n",
              "            \n",
              "            <!-- Footer -->\n",
              "            <div style=\"text-align: center; padding: 20px; background: #f8faff; border-radius: 10px; color: #5d6d7e; border: 1px solid #e3ebf0;\">\n",
              "                <p style=\"margin: 0; font-size: 0.9em;\">\n",
              "                    Analysis generated by AI Investment Research Crew<br>\n",
              "                    This is not financial advice. Please do your own research.\n",
              "                </p>\n",
              "            </div>\n",
              "            \n",
              "        </div>\n",
              "    </div>\n",
              "    "
            ]
          },
          "metadata": {}
        },
        {
          "output_type": "stream",
          "name": "stdout",
          "text": [
            "✅ HTML Investment Report with real AI recommendations displayed!\n"
          ]
        }
      ]
    },
    {
      "cell_type": "markdown",
      "source": [
        "# Running the model for 'NVDA'"
      ],
      "metadata": {
        "id": "3HPLxETBPU0y"
      }
    },
    {
      "cell_type": "code",
      "source": [
        "# Execute the complete analysis for Nvidia stock\n",
        "print(\"Running advanced CrewAI analysis with delegation and real-time data...\")\n",
        "result = analyze_stock('NVDA')\n",
        "print(result)\n",
        "\n",
        "pretty_print(\"✅ Analysis complete! Your AI investment team used delegation to coordinate specialists, integrated real-time market data, and produced a professional investment report.\", \"🎊 Success\", \"blue\")"
      ],
      "metadata": {
        "colab": {
          "base_uri": "https://localhost:8080/",
          "height": 1000
        },
        "id": "KtrWj_vwPaF_",
        "outputId": "44f62641-ce2c-40aa-fcf6-a3e3754ab90b"
      },
      "execution_count": 26,
      "outputs": [
        {
          "output_type": "stream",
          "name": "stdout",
          "text": [
            "Running advanced CrewAI analysis with delegation and real-time data...\n"
          ]
        },
        {
          "output_type": "display_data",
          "data": {
            "text/plain": [
              "<IPython.core.display.HTML object>"
            ],
            "text/html": [
              "\n",
              "    <div style=\"border-left: 5px solid #b26a00; padding: 12px 16px; background-color: #fff8e1;\n",
              "                border-radius: 6px; font-family: 'Segoe UI', sans-serif; line-height: 1.6; margin: 10px 0;\">\n",
              "        <strong style=\"color: #b26a00; font-size: 16px;\">💹 Processing</strong><br>\n",
              "        <span style=\"font-size: 14px; color: #333;\">Analyzing NVDA...</span>\n",
              "    </div>\n",
              "    "
            ]
          },
          "metadata": {}
        },
        {
          "output_type": "stream",
          "name": "stderr",
          "text": [
            "Inserting batches in chromadb:   0%|          | 0/1 [00:00<?, ?it/s]/usr/local/lib/python3.11/dist-packages/chromadb/types.py:144: PydanticDeprecatedSince211: Accessing the 'model_fields' attribute on the instance is deprecated. Instead, you should access this attribute from the model class. Deprecated in Pydantic V2.11 to be removed in V3.0.\n",
            "  return self.model_fields  # pydantic 2.x\n",
            "Inserting batches in chromadb: 100%|██████████| 1/1 [00:00<00:00,  3.09it/s]\n",
            "/usr/local/lib/python3.11/dist-packages/chromadb/types.py:144: PydanticDeprecatedSince211: Accessing the 'model_fields' attribute on the instance is deprecated. Instead, you should access this attribute from the model class. Deprecated in Pydantic V2.11 to be removed in V3.0.\n",
            "  return self.model_fields  # pydantic 2.x\n",
            "/usr/local/lib/python3.11/dist-packages/chromadb/types.py:144: PydanticDeprecatedSince211: Accessing the 'model_fields' attribute on the instance is deprecated. Instead, you should access this attribute from the model class. Deprecated in Pydantic V2.11 to be removed in V3.0.\n",
            "  return self.model_fields  # pydantic 2.x\n",
            "/usr/local/lib/python3.11/dist-packages/chromadb/types.py:144: PydanticDeprecatedSince211: Accessing the 'model_fields' attribute on the instance is deprecated. Instead, you should access this attribute from the model class. Deprecated in Pydantic V2.11 to be removed in V3.0.\n",
            "  return self.model_fields  # pydantic 2.x\n",
            "/usr/local/lib/python3.11/dist-packages/chromadb/types.py:144: PydanticDeprecatedSince211: Accessing the 'model_fields' attribute on the instance is deprecated. Instead, you should access this attribute from the model class. Deprecated in Pydantic V2.11 to be removed in V3.0.\n",
            "  return self.model_fields  # pydantic 2.x\n"
          ]
        },
        {
          "output_type": "stream",
          "name": "stdout",
          "text": [
            "\u001b[93m Maximum iterations reached. Requesting final answer.\u001b[00m\n",
            "\u001b[93m Maximum iterations reached. Requesting final answer.\u001b[00m\n"
          ]
        },
        {
          "output_type": "stream",
          "name": "stderr",
          "text": [
            "/usr/local/lib/python3.11/dist-packages/chromadb/types.py:144: PydanticDeprecatedSince211: Accessing the 'model_fields' attribute on the instance is deprecated. Instead, you should access this attribute from the model class. Deprecated in Pydantic V2.11 to be removed in V3.0.\n",
            "  return self.model_fields  # pydantic 2.x\n",
            "Inserting batches in chromadb:   0%|          | 0/1 [00:00<?, ?it/s]/usr/local/lib/python3.11/dist-packages/chromadb/types.py:144: PydanticDeprecatedSince211: Accessing the 'model_fields' attribute on the instance is deprecated. Instead, you should access this attribute from the model class. Deprecated in Pydantic V2.11 to be removed in V3.0.\n",
            "  return self.model_fields  # pydantic 2.x\n",
            "Inserting batches in chromadb: 100%|██████████| 1/1 [00:00<00:00,  2.79it/s]\n",
            "/usr/local/lib/python3.11/dist-packages/chromadb/types.py:144: PydanticDeprecatedSince211: Accessing the 'model_fields' attribute on the instance is deprecated. Instead, you should access this attribute from the model class. Deprecated in Pydantic V2.11 to be removed in V3.0.\n",
            "  return self.model_fields  # pydantic 2.x\n",
            "Inserting batches in chromadb:   0%|          | 0/1 [00:00<?, ?it/s]/usr/local/lib/python3.11/dist-packages/chromadb/types.py:144: PydanticDeprecatedSince211: Accessing the 'model_fields' attribute on the instance is deprecated. Instead, you should access this attribute from the model class. Deprecated in Pydantic V2.11 to be removed in V3.0.\n",
            "  return self.model_fields  # pydantic 2.x\n",
            "Inserting batches in chromadb: 100%|██████████| 1/1 [00:00<00:00,  2.22it/s]\n",
            "/usr/local/lib/python3.11/dist-packages/chromadb/types.py:144: PydanticDeprecatedSince211: Accessing the 'model_fields' attribute on the instance is deprecated. Instead, you should access this attribute from the model class. Deprecated in Pydantic V2.11 to be removed in V3.0.\n",
            "  return self.model_fields  # pydantic 2.x\n",
            "/usr/local/lib/python3.11/dist-packages/chromadb/types.py:144: PydanticDeprecatedSince211: Accessing the 'model_fields' attribute on the instance is deprecated. Instead, you should access this attribute from the model class. Deprecated in Pydantic V2.11 to be removed in V3.0.\n",
            "  return self.model_fields  # pydantic 2.x\n",
            "/usr/local/lib/python3.11/dist-packages/chromadb/types.py:144: PydanticDeprecatedSince211: Accessing the 'model_fields' attribute on the instance is deprecated. Instead, you should access this attribute from the model class. Deprecated in Pydantic V2.11 to be removed in V3.0.\n",
            "  return self.model_fields  # pydantic 2.x\n",
            "/usr/local/lib/python3.11/dist-packages/chromadb/types.py:144: PydanticDeprecatedSince211: Accessing the 'model_fields' attribute on the instance is deprecated. Instead, you should access this attribute from the model class. Deprecated in Pydantic V2.11 to be removed in V3.0.\n",
            "  return self.model_fields  # pydantic 2.x\n",
            "Inserting batches in chromadb:   0%|          | 0/1 [00:00<?, ?it/s]/usr/local/lib/python3.11/dist-packages/chromadb/types.py:144: PydanticDeprecatedSince211: Accessing the 'model_fields' attribute on the instance is deprecated. Instead, you should access this attribute from the model class. Deprecated in Pydantic V2.11 to be removed in V3.0.\n",
            "  return self.model_fields  # pydantic 2.x\n",
            "Inserting batches in chromadb: 100%|██████████| 1/1 [00:00<00:00,  3.14it/s]\n",
            "Inserting batches in chromadb:   0%|          | 0/1 [00:00<?, ?it/s]/usr/local/lib/python3.11/dist-packages/chromadb/types.py:144: PydanticDeprecatedSince211: Accessing the 'model_fields' attribute on the instance is deprecated. Instead, you should access this attribute from the model class. Deprecated in Pydantic V2.11 to be removed in V3.0.\n",
            "  return self.model_fields  # pydantic 2.x\n",
            "Inserting batches in chromadb: 100%|██████████| 1/1 [00:00<00:00,  3.17it/s]\n",
            "/usr/local/lib/python3.11/dist-packages/chromadb/types.py:144: PydanticDeprecatedSince211: Accessing the 'model_fields' attribute on the instance is deprecated. Instead, you should access this attribute from the model class. Deprecated in Pydantic V2.11 to be removed in V3.0.\n",
            "  return self.model_fields  # pydantic 2.x\n",
            "/usr/local/lib/python3.11/dist-packages/chromadb/types.py:144: PydanticDeprecatedSince211: Accessing the 'model_fields' attribute on the instance is deprecated. Instead, you should access this attribute from the model class. Deprecated in Pydantic V2.11 to be removed in V3.0.\n",
            "  return self.model_fields  # pydantic 2.x\n",
            "/usr/local/lib/python3.11/dist-packages/chromadb/types.py:144: PydanticDeprecatedSince211: Accessing the 'model_fields' attribute on the instance is deprecated. Instead, you should access this attribute from the model class. Deprecated in Pydantic V2.11 to be removed in V3.0.\n",
            "  return self.model_fields  # pydantic 2.x\n",
            "Inserting batches in chromadb:   0%|          | 0/1 [00:00<?, ?it/s]/usr/local/lib/python3.11/dist-packages/chromadb/types.py:144: PydanticDeprecatedSince211: Accessing the 'model_fields' attribute on the instance is deprecated. Instead, you should access this attribute from the model class. Deprecated in Pydantic V2.11 to be removed in V3.0.\n",
            "  return self.model_fields  # pydantic 2.x\n",
            "Inserting batches in chromadb: 100%|██████████| 1/1 [00:00<00:00,  3.36it/s]\n",
            "/usr/local/lib/python3.11/dist-packages/chromadb/types.py:144: PydanticDeprecatedSince211: Accessing the 'model_fields' attribute on the instance is deprecated. Instead, you should access this attribute from the model class. Deprecated in Pydantic V2.11 to be removed in V3.0.\n",
            "  return self.model_fields  # pydantic 2.x\n",
            "Inserting batches in chromadb:   0%|          | 0/1 [00:00<?, ?it/s]WARNING:chromadb.segment.impl.vector.local_persistent_hnsw:Add of existing embedding ID: default-app-id--2e5b929e75319232730f30731eed751ab596cd28729c20935597b8470609ae26\n",
            "WARNING:chromadb.segment.impl.vector.local_persistent_hnsw:Add of existing embedding ID: default-app-id--de115425f572d5e594224bc19d648b0b6d61dcb5f37d8d821b17de0a2caa5e9a\n",
            "Inserting batches in chromadb: 100%|██████████| 1/1 [00:00<00:00,  3.06it/s]\n"
          ]
        },
        {
          "output_type": "stream",
          "name": "stdout",
          "text": [
            "💹 TRADING STRATEGY (NVDA)\n",
            "        >>  Today's Price ($143.82)\n",
            "        🎯 Action: BUY\n",
            "        💰 Entry Price: $143.82\n",
            "        🚀 Target: $200.00\n",
            "        🛑 Stop Loss: $145.00\n",
            "\n",
            "        📈 WHY: NVIDIA is a leader in the GPU market with strong demand driven by gaming and AI applications.\n"
          ]
        },
        {
          "output_type": "display_data",
          "data": {
            "text/plain": [
              "<IPython.core.display.HTML object>"
            ],
            "text/html": [
              "\n",
              "    <div style=\"border-left: 5px solid #1e4b8f; padding: 12px 16px; background-color: #f0f6ff;\n",
              "                border-radius: 6px; font-family: 'Segoe UI', sans-serif; line-height: 1.6; margin: 10px 0;\">\n",
              "        <strong style=\"color: #1e4b8f; font-size: 16px;\">🎊 Success</strong><br>\n",
              "        <span style=\"font-size: 14px; color: #333;\">✅ Analysis complete! Your AI investment team used delegation to coordinate specialists, integrated real-time market data, and produced a professional investment report.</span>\n",
              "    </div>\n",
              "    "
            ]
          },
          "metadata": {}
        }
      ]
    },
    {
      "cell_type": "code",
      "source": [
        "# Download HTML report from Dropbox and use it with real CrewAI result data\n",
        "\n",
        "import requests\n",
        "\n",
        "print(\"🔄 Loading HTML investment report from Dropbox...\")\n",
        "\n",
        "# Download the HTML report script\n",
        "dropbox_url = \"https://www.dropbox.com/scl/fi/kwuifm4ullucyvyxnnax0/HTML-Investment-Report.html?rlkey=jkfjmxnoks7rxwuxfvh46slap&dl=1\"\n",
        "\n",
        "response = requests.get(dropbox_url)\n",
        "code_content = response.text\n",
        "\n",
        "# Execute the code to load the function\n",
        "exec(code_content)\n",
        "\n",
        "print(f\"🎨 Generating HTML report with CrewAI result data...\")\n",
        "\n",
        "# Pass the result from your earlier CrewAI analysis\n",
        "symbol = 'NVDA' # Define the symbol variable\n",
        "html_report = create_html_investment_report(symbol, result)\n",
        "\n",
        "display(HTML(html_report))\n",
        "\n",
        "print(\"✅ HTML Investment Report with real AI recommendations displayed!\")"
      ],
      "metadata": {
        "colab": {
          "base_uri": "https://localhost:8080/",
          "height": 1000
        },
        "id": "Cg1LT6-1Qp9R",
        "outputId": "501c29ec-405d-47d2-ef8c-a5dd8cab5dd0"
      },
      "execution_count": 27,
      "outputs": [
        {
          "output_type": "stream",
          "name": "stdout",
          "text": [
            "🔄 Loading HTML investment report from Dropbox...\n",
            "🎨 Generating HTML report with CrewAI result data...\n",
            "ðŸ”� Debug - Portfolio output: 🏢 NVDA INVESTMENT ANALYSIS  \n",
            "💰 RECOMMENDATION: BUY  \n",
            "🎯 Target Price: $200.00  \n",
            "📉 Stop Loss: $145.00  \n",
            "⏰ Timeframe: Long term  \n",
            "\n",
            "KEY INSIGHTS:  \n",
            "• NVIDIA is a leader in the GPU market, with strong dema...\n",
            "ðŸ”� Debug - Trading output: 💹 TRADING STRATEGY (NVDA)\n",
            "        >>  Today's Price ($143.82)\n",
            "        🎯 Action: BUY\n",
            "        💰 Entry Price: $143.82\n",
            "        🚀 Target: $200.00\n",
            "        🛑 Stop Loss: $145.00\n",
            "\n",
            "        📈 WHY: NVIDIA is a le...\n",
            "ðŸ“Š Extracted - Rec: BUY, Target: $200.00, Stop: $145.00, Entry: $143.82\n"
          ]
        },
        {
          "output_type": "display_data",
          "data": {
            "text/plain": [
              "<IPython.core.display.HTML object>"
            ],
            "text/html": [
              "\n",
              "    <meta charset=\"UTF-8\">\n",
              "    <div style=\"font-family: 'Segoe UI', Arial, sans-serif; max-width: 800px; margin: 20px auto; background: linear-gradient(135deg, #1e3c72 0%, #2a5298 100%); border-radius: 15px; padding: 2px;\">\n",
              "        <div style=\"background: white; border-radius: 13px; padding: 30px; box-shadow: 0 10px 30px rgba(0,0,0,0.15);\">\n",
              "            \n",
              "            <!-- Header -->\n",
              "            <div style=\"text-align: center; margin-bottom: 30px; padding: 20px; background: linear-gradient(135deg, #1e3c72 0%, #2a5298 100%); border-radius: 10px; color: white;\">\n",
              "                <h1 style=\"margin: 0; font-size: 2.5em; font-weight: bold;\">NVDA INVESTMENT ANALYSIS</h1>\n",
              "                <p style=\"margin: 10px 0 0 0; font-size: 1.1em; opacity: 0.9;\">June 22, 2025 at 05:35 AM</p>\n",
              "            </div>\n",
              "            \n",
              "            <!-- Price Summary -->\n",
              "            <div style=\"display: flex; justify-content: space-around; margin-bottom: 30px; text-align: center;\">\n",
              "                <div style=\"background: #f8faff; padding: 20px; border-radius: 10px; flex: 1; margin: 0 10px; border: 1px solid #e3ebf0;\">\n",
              "                    <h3 style=\"margin: 0; color: #2c3e50; font-size: 1.2em;\">Current Price</h3>\n",
              "                    <p style=\"margin: 10px 0 0 0; font-size: 2em; font-weight: bold; color: #1e3c72;\">$143.85</p>\n",
              "                </div>\n",
              "                <div style=\"background: #f8faff; padding: 20px; border-radius: 10px; flex: 1; margin: 0 10px; border: 1px solid #e3ebf0;\">\n",
              "                    <h3 style=\"margin: 0; color: #2c3e50; font-size: 1.2em;\">Daily Change</h3>\n",
              "                    <p style=\"margin: 10px 0 0 0; font-size: 1.5em; font-weight: bold; color: #FF6B6B;\">\n",
              "                        DOWN $-1.63 (-1.12%)\n",
              "                    </p>\n",
              "                </div>\n",
              "            </div>\n",
              "            \n",
              "            <!-- Recommendation Box -->\n",
              "            <div style=\"background: linear-gradient(135deg, #1e3c72 0%, #2a5298 100%); color: white; padding: 25px; border-radius: 10px; text-align: center; margin-bottom: 30px; box-shadow: 0 8px 25px rgba(30, 60, 114, 0.3);\">\n",
              "                <h2 style=\"margin: 0; font-size: 1.8em;\">RECOMMENDATION: BUY</h2>\n",
              "                <div style=\"display: flex; justify-content: space-around; margin-top: 20px; text-align: center;\">\n",
              "                    <div>\n",
              "                        <p style=\"margin: 0; font-size: 0.9em; opacity: 0.8;\">Target Price</p>\n",
              "                        <p style=\"margin: 5px 0 0 0; font-size: 1.3em; font-weight: bold;\">$200.00</p>\n",
              "                    </div>\n",
              "                    <div>\n",
              "                        <p style=\"margin: 0; font-size: 0.9em; opacity: 0.8;\">Stop Loss</p>\n",
              "                        <p style=\"margin: 5px 0 0 0; font-size: 1.3em; font-weight: bold;\">$145.00</p>\n",
              "                    </div>\n",
              "                    <div>\n",
              "                        <p style=\"margin: 0; font-size: 0.9em; opacity: 0.8;\">Timeframe</p>\n",
              "                        <p style=\"margin: 5px 0 0 0; font-size: 1.3em; font-weight: bold;\">Long term</p>\n",
              "                    </div>\n",
              "                </div>\n",
              "            </div>\n",
              "            \n",
              "            <!-- Investment Justification -->\n",
              "            <div style=\"display: flex; gap: 20px; margin-bottom: 30px;\">\n",
              "                <div style=\"flex: 1; background: #f0f7ff; padding: 20px; border-radius: 10px; border-left: 5px solid #2a5298;\">\n",
              "                    <h3 style=\"margin: 0 0 15px 0; color: #1e3c72; font-size: 1.3em;\">BULLISH FACTORS</h3>\n",
              "                    <ul style=\"margin: 0; padding-left: 20px; line-height: 1.6; color: #34495e;\">\n",
              "                        <li>Strong brand loyalty creates pricing power</li>\n",
              "                        <li>Services revenue growing 15%+ annually</li>\n",
              "                        <li>iPhone upgrade cycle driving hardware sales</li>\n",
              "                        <li>$165B+ cash position provides flexibility</li>\n",
              "                        <li>Consistent dividend increases</li>\n",
              "                    </ul>\n",
              "                </div>\n",
              "                <div style=\"flex: 1; background: #f8faff; padding: 20px; border-radius: 10px; border-left: 5px solid #7f8c8d;\">\n",
              "                    <h3 style=\"margin: 0 0 15px 0; color: #5d6d7e; font-size: 1.3em;\">RISK FACTORS</h3>\n",
              "                    <ul style=\"margin: 0; padding-left: 20px; line-height: 1.6; color: #5d6d7e;\">\n",
              "                        <li>High P/E ratio indicates premium valuation</li>\n",
              "                        <li>Economic slowdown could impact spending</li>\n",
              "                        <li>China market dependency</li>\n",
              "                        <li>Regulatory scrutiny on App Store</li>\n",
              "                    </ul>\n",
              "                </div>\n",
              "            </div>\n",
              "            \n",
              "            <!-- Recent Price Performance -->\n",
              "            <div style=\"background: #f8faff; padding: 25px; border-radius: 10px; margin-bottom: 30px; border: 1px solid #e3ebf0;\">\n",
              "                <h3 style=\"margin: 0 0 20px 0; color: #1e3c72; font-size: 1.4em; text-align: center;\">LAST 5 TRADING DAYS PERFORMANCE</h3>\n",
              "                \n",
              "        <div style=\"text-align: center; margin-bottom: 20px;\">\n",
              "            <svg width=\"600\" height=\"200\" style=\"border: 1px solid #e3ebf0; border-radius: 8px; background: white;\">\n",
              "                <!-- Grid lines -->\n",
              "                <defs>\n",
              "                    <pattern id=\"grid\" width=\"50\" height=\"40\" patternUnits=\"userSpaceOnUse\">\n",
              "                        <path d=\"M 50 0 L 0 0 0 40\" fill=\"none\" stroke=\"#f0f7ff\" stroke-width=\"1\"/>\n",
              "                    </pattern>\n",
              "                </defs>\n",
              "                <rect width=\"100%\" height=\"100%\" fill=\"url(#grid)\" />\n",
              "                \n",
              "                <!-- Price line -->\n",
              "                <polyline fill=\"none\" stroke=\"#1e3c72\" stroke-width=\"3\" points=\"40.0,98.15938515113785 213.33333333333334,140.12338166874176 386.6666666666667,40.0 560.0,160.0\"/>\n",
              "                \n",
              "                <!-- Data points -->\n",
              "                <circle cx=\"40.0\" cy=\"98.15938515113785\" r=\"5\" fill=\"#2a5298\" stroke=\"white\" stroke-width=\"2\"/>\n",
              "<circle cx=\"213.33333333333334\" cy=\"140.12338166874176\" r=\"5\" fill=\"#2a5298\" stroke=\"white\" stroke-width=\"2\"/>\n",
              "<circle cx=\"386.6666666666667\" cy=\"40.0\" r=\"5\" fill=\"#2a5298\" stroke=\"white\" stroke-width=\"2\"/>\n",
              "<circle cx=\"560.0\" cy=\"160.0\" r=\"5\" fill=\"#2a5298\" stroke=\"white\" stroke-width=\"2\"/>\n",
              "                \n",
              "                <!-- Price labels -->\n",
              "                <text x=\"40.0\" y=\"83.15938515113785\" text-anchor=\"middle\" fill=\"#1e3c72\" font-size=\"12\" font-weight=\"bold\">$144.69</text>\n",
              "<text x=\"213.33333333333334\" y=\"125.12338166874176\" text-anchor=\"middle\" fill=\"#1e3c72\" font-size=\"12\" font-weight=\"bold\">$144.12</text>\n",
              "<text x=\"386.6666666666667\" y=\"25.0\" text-anchor=\"middle\" fill=\"#1e3c72\" font-size=\"12\" font-weight=\"bold\">$145.48</text>\n",
              "<text x=\"560.0\" y=\"145.0\" text-anchor=\"middle\" fill=\"#1e3c72\" font-size=\"12\" font-weight=\"bold\">$143.85</text>\n",
              "                \n",
              "                <!-- Date labels -->\n",
              "                <text x=\"40.0\" y=\"190\" text-anchor=\"middle\" fill=\"#5d6d7e\" font-size=\"11\">06/16</text>\n",
              "<text x=\"213.33333333333334\" y=\"190\" text-anchor=\"middle\" fill=\"#5d6d7e\" font-size=\"11\">06/17</text>\n",
              "<text x=\"386.6666666666667\" y=\"190\" text-anchor=\"middle\" fill=\"#5d6d7e\" font-size=\"11\">06/18</text>\n",
              "<text x=\"560.0\" y=\"190\" text-anchor=\"middle\" fill=\"#5d6d7e\" font-size=\"11\">06/20</text>\n",
              "            </svg>\n",
              "        </div>\n",
              "        \n",
              "        <!-- Price summary -->\n",
              "        <div style=\"display: flex; justify-content: space-around; text-align: center; margin-top: 15px;\">\n",
              "            <div>\n",
              "                <p style=\"margin: 0; color: #5d6d7e; font-size: 0.9em;\">5-Day Low</p>\n",
              "                <p style=\"margin: 5px 0 0 0; font-size: 1.1em; font-weight: bold; color: #FF6B6B;\">$143.85</p>\n",
              "            </div>\n",
              "            <div>\n",
              "                <p style=\"margin: 0; color: #5d6d7e; font-size: 0.9em;\">5-Day High</p>\n",
              "                <p style=\"margin: 5px 0 0 0; font-size: 1.1em; font-weight: bold; color: #4CAF50;\">$145.48</p>\n",
              "            </div>\n",
              "            <div>\n",
              "                <p style=\"margin: 0; color: #5d6d7e; font-size: 0.9em;\">5-Day Range</p>\n",
              "                <p style=\"margin: 5px 0 0 0; font-size: 1.1em; font-weight: bold; color: #1e3c72;\">$1.63</p>\n",
              "            </div>\n",
              "        </div>\n",
              "        \n",
              "            </div>\n",
              "            \n",
              "            <!-- Key Metrics -->\n",
              "            <div style=\"background: #f0f7ff; padding: 25px; border-radius: 10px; margin-bottom: 30px; border: 1px solid #d6e9ff;\">\n",
              "                <h3 style=\"margin: 0 0 20px 0; color: #1e3c72; font-size: 1.4em; text-align: center;\">KEY METRICS</h3>\n",
              "                <div style=\"display: grid; grid-template-columns: repeat(2, 1fr); gap: 15px; text-align: center;\">\n",
              "                    <div>\n",
              "                        <p style=\"margin: 0; color: #5d6d7e; font-size: 0.9em;\">Market Cap</p>\n",
              "                        <p style=\"margin: 5px 0 0 0; font-size: 1.2em; font-weight: bold; color: #2c3e50;\">$3,508,156,497,920</p>\n",
              "                    </div>\n",
              "                    <div>\n",
              "                        <p style=\"margin: 0; color: #5d6d7e; font-size: 0.9em;\">P/E Ratio</p>\n",
              "                        <p style=\"margin: 5px 0 0 0; font-size: 1.2em; font-weight: bold; color: #2c3e50;\">46.254025</p>\n",
              "                    </div>\n",
              "                    <div>\n",
              "                        <p style=\"margin: 0; color: #5d6d7e; font-size: 0.9em;\">52-Week Low</p>\n",
              "                        <p style=\"margin: 5px 0 0 0; font-size: 1.2em; font-weight: bold; color: #2c3e50;\">$86.62</p>\n",
              "                    </div>\n",
              "                    <div>\n",
              "                        <p style=\"margin: 0; color: #5d6d7e; font-size: 0.9em;\">52-Week High</p>\n",
              "                        <p style=\"margin: 5px 0 0 0; font-size: 1.2em; font-weight: bold; color: #2c3e50;\">$153.13</p>\n",
              "                    </div>\n",
              "                </div>\n",
              "            </div>\n",
              "            \n",
              "            <!-- Investment Thesis -->\n",
              "            <div style=\"background: linear-gradient(135deg, #34495e 0%, #2c3e50 100%); color: white; padding: 25px; border-radius: 10px; margin-bottom: 30px;\">\n",
              "                <h3 style=\"margin: 0 0 15px 0; font-size: 1.4em;\">INVESTMENT THESIS</h3>\n",
              "                <p style=\"margin: 0; line-height: 1.6; font-size: 1.1em;\">\n",
              "                    Apple's ecosystem strength and recurring services revenue provide sustainable competitive advantages. \n",
              "                    Despite premium valuation, strong fundamentals support long-term growth potential.\n",
              "                </p>\n",
              "            </div>\n",
              "            \n",
              "            <!-- Entry Strategy -->\n",
              "            <div style=\"background: #f8faff; border: 2px solid #2a5298; padding: 25px; border-radius: 10px; margin-bottom: 20px;\">\n",
              "                <h3 style=\"margin: 0 0 20px 0; color: #1e3c72; font-size: 1.4em; text-align: center;\">ENTRY STRATEGY</h3>\n",
              "                <div style=\"display: grid; grid-template-columns: repeat(2, 1fr); gap: 20px;\">\n",
              "                    <div style=\"text-align: center;\">\n",
              "                        <p style=\"margin: 0; color: #1e3c72; font-weight: bold;\">BUY ZONE</p>\n",
              "                        <p style=\"margin: 5px 0; font-size: 1.2em; color: #2c3e50;\">Entry at $143.82 or below</p>\n",
              "                    </div>\n",
              "                    <div style=\"text-align: center;\">\n",
              "                        <p style=\"margin: 0; color: #1e3c72; font-weight: bold;\">POSITION SIZE</p>\n",
              "                        <p style=\"margin: 5px 0; font-size: 1.2em; color: #2c3e50;\">3-5% of portfolio maximum</p>\n",
              "                    </div>\n",
              "                </div>\n",
              "            </div>\n",
              "            \n",
              "            <!-- Footer -->\n",
              "            <div style=\"text-align: center; padding: 20px; background: #f8faff; border-radius: 10px; color: #5d6d7e; border: 1px solid #e3ebf0;\">\n",
              "                <p style=\"margin: 0; font-size: 0.9em;\">\n",
              "                    Analysis generated by AI Investment Research Crew<br>\n",
              "                    This is not financial advice. Please do your own research.\n",
              "                </p>\n",
              "            </div>\n",
              "            \n",
              "        </div>\n",
              "    </div>\n",
              "    "
            ]
          },
          "metadata": {}
        },
        {
          "output_type": "stream",
          "name": "stdout",
          "text": [
            "✅ HTML Investment Report with real AI recommendations displayed!\n"
          ]
        }
      ]
    },
    {
      "cell_type": "code",
      "source": [],
      "metadata": {
        "id": "qd0XyLKYLv8X"
      },
      "execution_count": null,
      "outputs": []
    },
    {
      "cell_type": "code",
      "source": [
        "# +++++ 🎓 Lab Completion Certificate (Dropbox Version)\n",
        "# ++++++++++++++++++++++++++++++++++++++++++++++++++++++++++++++++++++++++++++++++++++++\n",
        "# Download and run completion certificate from Dropbox\n",
        "\n",
        "import requests\n",
        "\n",
        "print(\"🔄 Loading completion certificate from Dropbox...\")\n",
        "\n",
        "# Download and execute the completion script\n",
        "dropbox_url = \"https://www.dropbox.com/scl/fi/5molmat6myeqaf96kp50v/CrewAI_Completiton.py?rlkey=7v7yaf9gi5hupkxiqaits50rd&dl=1\"\n",
        "\n",
        "response = requests.get(dropbox_url)\n",
        "exec(response.text)"
      ],
      "metadata": {
        "id": "ipWQtkv7kFhn",
        "colab": {
          "base_uri": "https://localhost:8080/",
          "height": 1000
        },
        "outputId": "59d26b42-e993-4fc6-e4a7-dd902f1e48db"
      },
      "execution_count": 28,
      "outputs": [
        {
          "name": "stdout",
          "output_type": "stream",
          "text": [
            "🔄 Loading completion certificate from Dropbox...\n",
            "Using existing start time from previous cell...\n",
            "Congratulations on completing the Advanced CrewAI Lab!\n",
            "Please enter your information for certification:\n",
            "--------------------------------------------------\n",
            "Enter your full name: Sayalee Sanjay Pande\n",
            "Enter your student ID: 001200189\n",
            "How long did it take you to complete this lab? (in minutes): 120\n",
            "\n",
            "ACADEMIC INTEGRITY CONFIRMATION\n",
            "----------------------------------------\n",
            "Do you confirm you have completed this lab all by yourself and understand the concepts? (yes/no): yes\n",
            "\n",
            "SKILLS REFLECTION\n",
            "Please answer these questions (4-5 words each):\n",
            "---------------------------------------------\n",
            "How does agent delegation work? manager agent delegates tasks to specialist agent\n",
            "What is RAG integration? using user uploaded document with AI to get accurate results\n",
            "Why use real-time data? to get accurate recommendations on up-to-date data\n"
          ]
        },
        {
          "output_type": "display_data",
          "data": {
            "text/plain": [
              "<IPython.core.display.HTML object>"
            ],
            "text/html": [
              "\n",
              "<div style=\"\n",
              "    max-width: 900px;\n",
              "    margin: 20px auto;\n",
              "    background: linear-gradient(135deg, #1e3c72 0%, #2a5298 50%, #4a90e2 100%);\n",
              "    border-radius: 20px;\n",
              "    padding: 0;\n",
              "    box-shadow: 0 15px 40px rgba(30, 60, 114, 0.2), 0 5px 15px rgba(0,0,0,0.1);\n",
              "    color: white;\n",
              "    font-family: -apple-system, BlinkMacSystemFont, 'Segoe UI', 'Inter', 'Roboto', 'Helvetica Neue', Arial, sans-serif;\n",
              "    text-align: center;\n",
              "    position: relative;\n",
              "    overflow: hidden;\n",
              "\">\n",
              "    <!-- Blue Header Section -->\n",
              "    <div style=\"\n",
              "        background: linear-gradient(135deg, #1e3c72 0%, #2a5298 100%);\n",
              "        padding: 35px 30px;\n",
              "        border-radius: 20px 20px 0 0;\n",
              "        position: relative;\n",
              "    \">\n",
              "        <div style=\"position: absolute; top: -15px; right: -15px; width: 80px; height: 80px; \n",
              "                    background: radial-gradient(circle, rgba(255,255,255,0.1) 40%, transparent 70%); \n",
              "                    border-radius: 50%;\"></div>\n",
              "        \n",
              "        <h1 style=\"margin: 0 0 10px 0; font-size: 40px; font-weight: 300; color: white; \n",
              "                   text-shadow: 2px 2px 6px rgba(0,0,0,0.3); letter-spacing: 1px;\">\n",
              "            Congratulations!\n",
              "        </h1>\n",
              "        <h2 style=\"margin: 0; font-size: 22px; font-weight: 400; color: rgba(255,255,255,0.9);\">\n",
              "            You Completed this Module\n",
              "        </h2>\n",
              "    </div>\n",
              "\n",
              "    <!-- White Content Section -->\n",
              "    <div style=\"background: white; padding: 30px; color: #2c3e50; border-radius: 0 0 20px 20px;\">\n",
              "        \n",
              "        <!-- Course Title & Student Info Row -->\n",
              "        <div style=\"display: grid; grid-template-columns: 2fr 1fr; gap: 25px; margin-bottom: 25px;\">\n",
              "            <!-- Course Info -->\n",
              "            <div style=\"background: linear-gradient(135deg, rgba(30, 60, 114, 0.06) 0%, rgba(74, 144, 226, 0.06) 100%);\n",
              "                       border: 2px solid rgba(30, 60, 114, 0.12); border-radius: 15px; padding: 25px; text-align: left;\">\n",
              "                <h3 style=\"margin: 0 0 12px 0; font-size: 24px; color: #1e3c72; font-weight: 500;\">\n",
              "                    Advanced CrewAI: Multi-Agent Investment Analysis\n",
              "                </h3>\n",
              "                <p style=\"margin: 0; font-size: 15px; color: #546e7a; font-style: italic; line-height: 1.3;\">\n",
              "                    Mastered agentic AI systems, delegation workflows, and autonomous AI agents for complex task execution.\n",
              "                </p>\n",
              "            </div>\n",
              "            \n",
              "            <!-- Student Info -->\n",
              "            <div style=\"background: #ffffff; border: 2px solid #e3f2fd; border-radius: 15px; padding: 25px;\n",
              "                       box-shadow: 0 3px 12px rgba(30, 60, 114, 0.08);\">\n",
              "                <h2 style=\"margin: 0 0 8px 0; font-size: 24px; color: #1e3c72; font-weight: 600;\">Sayalee Sanjay Pande</h2>\n",
              "                <p style=\"margin: 0; font-size: 16px; color: #546e7a;\">\n",
              "                    ID: <strong style=\"color: #2a5298;\">001200189</strong>\n",
              "                </p>\n",
              "            </div>\n",
              "        </div>\n",
              "        \n",
              "        <!-- Time, Date & Skills Row -->\n",
              "        <div style=\"display: grid; grid-template-columns: 1fr 1fr 2fr; gap: 20px;\">\n",
              "            <!-- Time -->\n",
              "            <div style=\"background: linear-gradient(135deg, #f8fbff 0%, #e3f2fd 100%); border: 2px solid #bbdefb;\n",
              "                       border-radius: 12px; padding: 20px; box-shadow: 0 2px 8px rgba(30, 60, 114, 0.08);\">\n",
              "                <div style=\"font-size: 14px; color: #546e7a; margin-bottom: 5px; font-weight: 500;\">\n",
              "                    &#9201; Time\n",
              "                </div>\n",
              "                <div style=\"font-size: 22px; font-weight: bold; color: #1e3c72;\">120 min</div>\n",
              "            </div>\n",
              "            \n",
              "            <!-- Date -->\n",
              "            <div style=\"background: linear-gradient(135deg, #f8fbff 0%, #e3f2fd 100%); border: 2px solid #bbdefb;\n",
              "                       border-radius: 12px; padding: 20px; box-shadow: 0 2px 8px rgba(30, 60, 114, 0.08);\">\n",
              "                <div style=\"font-size: 14px; color: #546e7a; margin-bottom: 5px; font-weight: 500;\">\n",
              "                    &#128197; Completed\n",
              "                </div>\n",
              "                <div style=\"font-size: 18px; font-weight: bold; color: #1e3c72;\">June 22, 2025 at 05:51 AM</div>\n",
              "            </div>\n",
              "            \n",
              "            <!-- Skills -->\n",
              "            <div style=\"background: linear-gradient(135deg, rgba(30, 60, 114, 0.04) 0%, rgba(74, 144, 226, 0.04) 100%);\n",
              "                       border: 2px solid rgba(30, 60, 114, 0.1); border-radius: 15px; padding: 20px;\">\n",
              "                <h4 style=\"margin: 0 0 15px 0; font-size: 18px; color: #1e3c72; font-weight: 500; text-align: left;\">\n",
              "                    &#128218; Skills Mastered\n",
              "                </h4>\n",
              "                <div style=\"display: grid; grid-template-columns: 1fr; gap: 8px; font-size: 14px; text-align: left;\">\n",
              "                    <div style=\"color: #2c3e50; background: #ffffff; padding: 10px; border-radius: 8px;\n",
              "                               border-left: 4px solid #1e3c72; box-shadow: 0 1px 4px rgba(0,0,0,0.05);\">\n",
              "                        &#128161; <strong>Delegation:</strong> <span style=\"color: #2a5298;\">manager agent delegates tasks to specialist agent</span>\n",
              "                    </div>\n",
              "                    <div style=\"color: #2c3e50; background: #ffffff; padding: 10px; border-radius: 8px;\n",
              "                               border-left: 4px solid #1e3c72; box-shadow: 0 1px 4px rgba(0,0,0,0.05);\">\n",
              "                        &#128269; <strong>RAG:</strong> <span style=\"color: #2a5298;\">using user uploaded document with AI to get accurate results</span>\n",
              "                    </div>\n",
              "                    <div style=\"color: #2c3e50; background: #ffffff; padding: 10px; border-radius: 8px;\n",
              "                               border-left: 4px solid #1e3c72; box-shadow: 0 1px 4px rgba(0,0,0,0.05);\">\n",
              "                        &#9889; <strong>Real-time:</strong> <span style=\"color: #2a5298;\">to get accurate recommendations on up-to-date data</span>\n",
              "                    </div>\n",
              "                </div>\n",
              "            </div>\n",
              "        </div>\n",
              "        \n",
              "        <!-- Footer -->\n",
              "        <div style=\"margin-top: 25px; padding: 20px; background: linear-gradient(135deg, #f8fbff 0%, #e3f2fd 100%);\n",
              "                   border: 2px solid #e3f2fd; border-radius: 15px;\">\n",
              "            <p style=\"margin: 0; font-size: 16px; font-style: italic; color: #2c3e50;\">\n",
              "                &#127942; <span style=\"color: #1e3c72; font-weight: bold;\">Congratulations</span> on mastering advanced AI agent collaboration!\n",
              "            </p>\n",
              "        </div>\n",
              "    </div>\n",
              "</div>\n"
            ]
          },
          "metadata": {}
        },
        {
          "output_type": "stream",
          "name": "stdout",
          "text": [
            "\n",
            "ðŸŽ‰ Well done, Sayalee Sanjay Pande! You've mastered advanced AI agent collaboration!\n"
          ]
        }
      ]
    },
    {
      "cell_type": "code",
      "source": [],
      "metadata": {
        "id": "-NbvVLWruHNf"
      },
      "execution_count": null,
      "outputs": []
    }
  ],
  "metadata": {
    "kernelspec": {
      "display_name": "Python 3",
      "language": "python",
      "name": "python3"
    },
    "language_info": {
      "codemirror_mode": {
        "name": "ipython",
        "version": 3
      },
      "file_extension": ".py",
      "name": "python",
      "nbconvert_exporter": "python",
      "pygments_lexer": "ipython3",
      "version": "3.8.5"
    },
    "colab": {
      "provenance": [],
      "include_colab_link": true
    }
  },
  "nbformat": 4,
  "nbformat_minor": 0
}