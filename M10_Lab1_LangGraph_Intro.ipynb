{
  "nbformat": 4,
  "nbformat_minor": 0,
  "metadata": {
    "colab": {
      "provenance": [],
      "include_colab_link": true
    },
    "kernelspec": {
      "name": "python3",
      "display_name": "Python 3"
    },
    "language_info": {
      "name": "python"
    }
  },
  "cells": [
    {
      "cell_type": "markdown",
      "metadata": {
        "id": "view-in-github",
        "colab_type": "text"
      },
      "source": [
        "<a href=\"https://colab.research.google.com/github/sayaleepande/GenAI/blob/main/M10_Lab1_LangGraph_Intro.ipynb\" target=\"_parent\"><img src=\"https://colab.research.google.com/assets/colab-badge.svg\" alt=\"Open In Colab\"/></a>"
      ]
    },
    {
      "cell_type": "markdown",
      "source": [
        "<div style=\"font-family: 'Segoe UI', sans-serif; background-color: #f4faff; padding: 20px; border-radius: 12px; border-left: 6px solid #3399ff; color: #1a1a1a\">\n",
        "\n",
        "  <h1 style=\"color: #0066cc;\">🚀 <strong>LangGraph Lab: Part 1: Introduction</strong></h1>\n",
        "  <p><strong style=\"color: #3399ff;\">Prof. Dehghani</strong></p>\n",
        "\n",
        "  <h2 style=\"color: #004c99;\">🔹 Building More Controllable LLM Agents with LangGraph</h2>\n",
        "\n",
        "  <h3 style=\"color: #0059b3;\">🔷 Introduction</h3>\n",
        "  <p>\n",
        "    <strong>LangGraph</strong> is a framework designed for building <strong>agent and multi-agent applications</strong> with structured control.\n",
        "    While large language models (LLMs) are powerful, they often require <strong>more precise workflows</strong> to ensure reliability.\n",
        "  </p>\n",
        "  <p>\n",
        "    Many real-world applications need agents to follow <strong>specific steps</strong>, such as always calling a certain tool first or adjusting their prompts\n",
        "    based on the current state. Traditional agent frameworks may not provide enough control for these scenarios.\n",
        "    <strong>LangGraph</strong> introduces a <em>graph-based approach</em> that allows developers to define structured workflows while still benefiting from LLM flexibility.\n",
        "  </p>\n",
        "  <p>\n",
        "    This lab is adapted from the\n",
        "    <a href=\"https://academy.langchain.com/courses/intro-to-langgraph\" target=\"_blank\" style=\"color:#0066cc;\">\n",
        "      LangChain Academy's Intro to LangGraph\n",
        "    </a>, which provides additional details and use cases.\n",
        "  </p>\n",
        "\n",
        "  <h3 style=\"color: #0059b3;\">🎯 Lab Objectives</h3>\n",
        "  <ul>\n",
        "    <li>The role of <strong>graphs</strong> in LLM-based agent workflows</li>\n",
        "    <li>How to define <strong>nodes</strong> (decision points) and <strong>edges</strong> (paths) in LangGraph</li>\n",
        "    <li>Implementing an <strong>agent with controlled decision-making</strong></li>\n",
        "    <li>Exploring <strong>multi-agent interactions</strong> within a structured framework</li>\n",
        "  </ul>\n",
        "\n",
        "  <h3 style=\"color: #0059b3;\">⚙️ Getting Started</h3>\n",
        "  <p>Run the following cell to install the required libraries:</p>\n",
        "</div>\n"
      ],
      "metadata": {
        "id": "-sCUJNA-pzym"
      }
    },
    {
      "cell_type": "code",
      "execution_count": 12,
      "metadata": {
        "id": "dUBqvLcsoxyf"
      },
      "outputs": [],
      "source": [
        "# ++++ 🛠️ Minimal Install for LangGraph-based Graph Workflows (No LLMs)\n",
        "\n",
        "%%capture --no-stderr\n",
        "!pip install --quiet -U langgraph          # 🔄 Core framework for graph-based stateful workflows\n",
        "!pip install --quiet -U langchain_core     # 🧠 Core utilities and types required by LangGraph\n"
      ]
    },
    {
      "cell_type": "code",
      "source": [
        "# ++++ 📦 Standard Imports\n",
        "import os\n",
        "from IPython.display import display, HTML\n",
        "import json"
      ],
      "metadata": {
        "id": "T3QCXxG7LnRC"
      },
      "execution_count": 13,
      "outputs": []
    },
    {
      "cell_type": "code",
      "source": [
        "# 🖨️ pretty_print(): Reusable HTML display function for model outputs\n",
        "def pretty_print(text, title=\"🤖 Model Response\"):\n",
        "    \"\"\"\n",
        "    Display model response in styled HTML block.\n",
        "    Handles bulleted lists and line breaks.\n",
        "    \"\"\"\n",
        "    lines = text.strip().split('\\n')\n",
        "    is_bulleted = all(line.strip().startswith((\"-\", \"•\", \"*\")) for line in lines if line.strip())\n",
        "\n",
        "    if is_bulleted:\n",
        "        list_items = ''.join(f\"<li>{line.lstrip('-•* ').strip()}</li>\" for line in lines if line.strip())\n",
        "        content_html = f\"<ul style='margin-top: 6px;'>{list_items}</ul>\"\n",
        "    else:\n",
        "        content_html = text.replace(\"\\n\", \"<br>\")  # fallback for plain lines\n",
        "\n",
        "    display(HTML(f\"\"\"\n",
        "    <div style=\"background-color:#f8f9fc; border-left:5px solid #4285f4;\n",
        "                padding:16px; margin-top:16px; font-family:'Segoe UI', sans-serif;\n",
        "                color:#202124; line-height:1.6;\">\n",
        "      <strong>{title}</strong><br><br>\n",
        "      {content_html}\n",
        "    </div>\n",
        "    \"\"\"))"
      ],
      "metadata": {
        "id": "tOLxstE5LXtH"
      },
      "execution_count": 14,
      "outputs": []
    },
    {
      "cell_type": "markdown",
      "source": [
        "<div style=\"background-color:#f8f9fc; border-left:5px solid #4285f4;\n",
        "            padding:16px; margin-top:16px; font-family:'Segoe UI', sans-serif;\n",
        "            color:#202124; line-height:1.6;\">\n",
        "\n",
        "  <strong>🧩 The Simplest Graph</strong><br><br>\n",
        "\n",
        "  Let's build a simple graph with <strong>three nodes</strong> and <strong>one conditional edge</strong>.\n",
        "  This structure allows an agent to make a decision at a branching point, directing the flow based on predefined conditions.<br><br>\n",
        "\n",
        "  <img src=\"https://cdn.prod.website-files.com/65b8cd72835ceeacd4449a53/66dba5f465f6e9a2482ad935_simple-graph1.png\" width=\"600\" style=\"border-radius: 8px; border: 1px solid #ccc;\"/><br><br>\n",
        "\n",
        "  This example demonstrates how <strong>LangGraph</strong> enables structured decision-making while maintaining flexibility.\n",
        "</div>\n"
      ],
      "metadata": {
        "id": "iPZfc7FKtqXr"
      }
    },
    {
      "cell_type": "markdown",
      "source": [
        "<div style=\"background-color:#f8f9fc; border-left:5px solid #4285f4;\n",
        "            padding:20px; margin-top:16px; font-family:'Segoe UI', sans-serif;\n",
        "            color:#202124; line-height:1.6;\">\n",
        "\n",
        "  <h3 style=\"margin-top:0;\">🛠️ Understanding Graph Components</h3>\n",
        "\n",
        "  LangGraph workflows consist of <strong>three main components</strong>: <em>State, Nodes, and Edges</em>. Each plays a key role in defining how information flows through the graph.\n",
        "\n",
        "  <hr style=\"margin:18px 0;\">\n",
        "\n",
        "  <h4>🧠 State</h4>\n",
        "  <p>\n",
        "    The <strong>State</strong>\n",
        "    (<a href=\"https://langchain-ai.github.io/langgraph/concepts/low_level/#state\" target=\"_blank\">docs</a>)\n",
        "    acts as the <strong>shared memory</strong> of the graph, storing data that nodes can read and modify.\n",
        "  </p>\n",
        "  <ul>\n",
        "    <li>Every <em>node and edge</em> interacts with the state.</li>\n",
        "    <li>Defined using <code>TypedDict</code> from Python’s <code>typing</code> module.</li>\n",
        "    <li>Nodes modify the state by updating specific keys.</li>\n",
        "  </ul>\n",
        "\n",
        "  <hr style=\"margin:18px 0;\">\n",
        "\n",
        "  <h4>🔵 Nodes</h4>\n",
        "  <p>\n",
        "    A <strong>Node</strong>\n",
        "    (<a href=\"https://langchain-ai.github.io/langgraph/concepts/low_level/#nodes\" target=\"_blank\">docs</a>)\n",
        "    is a simple <strong>Python function</strong> that processes the state.\n",
        "  </p>\n",
        "  <ul>\n",
        "    <li>The <strong>first argument</strong> of a node is always the <em>state</em>.</li>\n",
        "    <li>Nodes can read and modify the state via keys like <code>state['graph_state']</code>.</li>\n",
        "    <li>Return values update the state;\n",
        "        <a href=\"https://langchain-ai.github.io/langgraph/concepts/low_level/#reducers\" target=\"_blank\">reducers</a>\n",
        "        handle value replacement.</li>\n",
        "  </ul>\n",
        "\n",
        "  <hr style=\"margin:18px 0;\">\n",
        "\n",
        "  <h4>🔀 Edges</h4>\n",
        "  <p>\n",
        "    An <strong>Edge</strong>\n",
        "    (<a href=\"https://langchain-ai.github.io/langgraph/concepts/low_level/#edges\" target=\"_blank\">docs</a>)\n",
        "    connects nodes and controls how data flows between them.\n",
        "  </p>\n",
        "  <ul>\n",
        "    <li><strong>Normal Edges</strong> → Always flow to the next node (e.g., <code>node_1 → node_2</code>).</li>\n",
        "    <li><strong>Conditional Edges</strong>\n",
        "        (<a href=\"https://langchain-ai.github.io/langgraph/concepts/low_level/#conditional-edges\" target=\"_blank\">docs</a>)\n",
        "        → Use logic to determine the next node.</li>\n",
        "  </ul>\n",
        "  <p>\n",
        "    Conditional edges <em>act\n"
      ],
      "metadata": {
        "id": "ldOostBhtwUI"
      }
    },
    {
      "cell_type": "code",
      "source": [
        "# 📦 Import TypedDict and Literal for defining structured state\n",
        "from typing_extensions import TypedDict  # For backward-compatible typed dicts\n",
        "from typing import Literal               # For fixed value types\n",
        "import random                            # For simulating mood selection\n",
        "\n",
        "# 🎯 Define the State Schema\n",
        "# The state acts as shared memory for the graph.\n",
        "# It stores a key-value pair where 'graph_state' holds a string that evolves as nodes modify it.\n",
        "class State(TypedDict):\n",
        "    graph_state: str  # Tracks the sentence as it builds through the nodes\n",
        "\n",
        "\n",
        "# 🔵 Define Nodes\n",
        "# Each node modifies the 'graph_state' by appending its own text.\n",
        "# Nodes simulate a simple sentence-building process.\n",
        "\n",
        "def node_1(state: State) -> State:\n",
        "    \"\"\"Node 1 initializes the sentence with 'I am'.\"\"\"\n",
        "    print(\"--- Node 1 ---\")\n",
        "    return {\"graph_state\": state[\"graph_state\"] + \" I am\"}\n",
        "\n",
        "def node_2(state: State) -> State:\n",
        "    \"\"\"Node 2 completes the sentence with 'happy!'.\"\"\"\n",
        "    print(\"--- Node 2 ---\")\n",
        "    return {\"graph_state\": state[\"graph_state\"] + \" happy!\"}\n",
        "\n",
        "def node_3(state: State) -> State:\n",
        "    \"\"\"Node 3 completes the sentence with 'sad!'.\"\"\"\n",
        "    print(\"--- Node 3 ---\")\n",
        "    return {\"graph_state\": state[\"graph_state\"] + \" sad!\"}\n",
        "\n",
        "\n",
        "# 🔀 Define the Decision Function\n",
        "# This function decides whether to send the state to Node 2 or Node 3.\n",
        "# It randomly picks between the two, simulating an unpredictable emotional outcome.\n",
        "\n",
        "def decide_mood(state: State) -> Literal[\"node_2\", \"node_3\"]:\n",
        "    \"\"\"Randomly selects between Node 2 (happy) and Node 3 (sad).\"\"\"\n",
        "    return \"node_2\" if random.random() < 0.5 else \"node_3\"\n"
      ],
      "metadata": {
        "id": "rSoT9P3NtseJ"
      },
      "execution_count": 15,
      "outputs": []
    },
    {
      "cell_type": "markdown",
      "source": [
        "## 🚀 Graph Construction  \n",
        "\n",
        "Now, it's time to build the graph using the **components** defined earlier. The **StateGraph class** is used to create and manage the graph structure.  \n",
        "\n",
        "### 🏗️ Steps to Build the Graph  \n",
        "1. **Initialize the Graph** → Create a `StateGraph` using the `State` class.  \n",
        "2. **Add Nodes and Edges** → Define how the graph flows.  \n",
        "3. **Use Special Nodes**:  \n",
        "   - **`START` Node** → Sends user input into the graph.  \n",
        "   - **`END` Node** → Represents a terminal state.  \n",
        "4. **Compile the Graph** → Ensures structural validity.  \n",
        "5. **Visualize** → Convert it into a **Mermaid diagram** for better understanding.  \n",
        "\n",
        "### 🔗 Reference Table  \n",
        "\n",
        "| Concept       | Documentation Link |\n",
        "|--------------|------------------|\n",
        "| StateGraph Class | [StateGraph Docs](https://langchain-ai.github.io/langgraph/concepts/low_level/#stategraph) |\n",
        "| START Node   | [START Node Docs](https://langchain-ai.github.io/langgraph/concepts/low_level/#start-node) |\n",
        "| END Node     | [END Node Docs](https://langchain-ai.github.io/langgraph/concepts/low_level/#end-node) |\n",
        "| Graph Compilation | [Compiling a Graph](https://langchain-ai.github.io/langgraph/concepts/low_level/#compiling-your-graph) |\n",
        "| Mermaid Diagrams | [Mermaid Docs](https://github.com/mermaid-js/mermaid) |\n",
        "\n",
        "This approach makes the graph more **structured, adaptable, and easy to debug**.  \n"
      ],
      "metadata": {
        "id": "lrjO8J8DvENy"
      }
    },
    {
      "cell_type": "code",
      "source": [
        "# ++++ 🧩 Build and Visualize the LangGraph\n",
        "\n",
        "# 📦 Import display utilities and graph construction tools\n",
        "from IPython.display import Image, display  # For rendering the graph diagram\n",
        "from langgraph.graph import StateGraph, START, END  # Core LangGraph components\n",
        "\n",
        "# 🏗️ Initialize the Graph Builder with the defined State schema\n",
        "builder = StateGraph(State)\n",
        "\n",
        "# 🔵 Add Nodes: These are the functional units of the graph\n",
        "builder.add_node(\"node_1\", node_1)  # Starts the sentence\n",
        "builder.add_node(\"node_2\", node_2)  # Appends \"happy!\"\n",
        "builder.add_node(\"node_3\", node_3)  # Appends \"sad!\"\n",
        "\n",
        "# 🔗 Define Graph Flow: Edges between nodes\n",
        "builder.add_edge(START, \"node_1\")  # Entry point → node_1\n",
        "builder.add_conditional_edges(\"node_1\", decide_mood)  # Conditional path → node_2 or node_3\n",
        "builder.add_edge(\"node_2\", END)  # Happy path → END\n",
        "builder.add_edge(\"node_3\", END)  # Sad path → END\n",
        "\n",
        "# ✅ Compile the graph for execution\n",
        "graph = builder.compile()\n",
        "\n",
        "# 🖼️ Visualize the final graph structure\n",
        "display(Image(graph.get_graph().draw_mermaid_png()))\n"
      ],
      "metadata": {
        "id": "OskefMiJvDn7",
        "colab": {
          "base_uri": "https://localhost:8080/",
          "height": 350
        },
        "outputId": "eaa9fe67-6e15-48af-8004-925e732daa30"
      },
      "execution_count": 16,
      "outputs": [
        {
          "output_type": "display_data",
          "data": {
            "image/png": "[encoded data removed]",
            "text/plain": [
              "<IPython.core.display.Image object>"
            ]
          },
          "metadata": {}
        }
      ]
    },
    {
      "cell_type": "markdown",
      "source": [
        "<div style=\"background-color:#f8f9fc; border-left:5px solid #4285f4;\n",
        "            padding:16px; margin-top:16px; font-family:'Segoe UI', sans-serif;\n",
        "            color:#202124; line-height:1.6;\">\n",
        "\n",
        "  <h3 style=\"margin-top:0;\">🧮 Graph Invocation</h3>\n",
        "\n",
        "  The compiled graph follows the\n",
        "  <a href=\"https://python.langchain.com/docs/concepts/runnables/\" target=\"_blank\">runnable protocol</a>,\n",
        "  providing a standardized way to execute LangChain components.\n",
        "\n",
        "  <br><br>\n",
        "  The <code>invoke</code> method is used to start execution, with an input dictionary like\n",
        "  <code>{\"graph_state\": \"Hi, this is Lance.\"}</code> setting the initial state. The graph begins at the\n",
        "  <code>START</code> node and moves through the defined nodes (<code>node_1</code>, <code>node_2</code>,\n",
        "  <code>node_3</code>) based on the control flow.\n",
        "\n",
        "  <br><br>\n",
        "  A conditional edge determines whether the execution moves from <code>node_1</code> to <code>node_2</code> or\n",
        "  <code>node_3</code>, following a 50/50 probability rule. Each node processes the current state, modifies the\n",
        "  <code>graph_state</code> value, and returns the updated state.\n",
        "\n",
        "  <br><br>\n",
        "  The execution continues along the directed edges until it reaches the <code>END</code> node, where the final\n",
        "  graph state is returned.\n",
        "</div>\n"
      ],
      "metadata": {
        "id": "c9PlWY6jvvf6"
      }
    },
    {
      "cell_type": "code",
      "source": [
        "pretty_print(graph.invoke({\"graph_state\": \"Hi, this is Lance.\"})[\"graph_state\"], title=\"🧠 Mood Result\")\n"
      ],
      "metadata": {
        "id": "1tEzUm9QveUE",
        "colab": {
          "base_uri": "https://localhost:8080/",
          "height": 167
        },
        "outputId": "b512209d-f070-425f-89f4-3f698c21a3ae"
      },
      "execution_count": 17,
      "outputs": [
        {
          "output_type": "stream",
          "name": "stdout",
          "text": [
            "--- Node 1 ---\n",
            "--- Node 2 ---\n"
          ]
        },
        {
          "output_type": "display_data",
          "data": {
            "text/plain": [
              "<IPython.core.display.HTML object>"
            ],
            "text/html": [
              "\n",
              "    <div style=\"background-color:#f8f9fc; border-left:5px solid #4285f4;\n",
              "                padding:16px; margin-top:16px; font-family:'Segoe UI', sans-serif;\n",
              "                color:#202124; line-height:1.6;\">\n",
              "      <strong>🧠 Mood Result</strong><br><br>\n",
              "      Hi, this is Lance. I am happy!\n",
              "    </div>\n",
              "    "
            ]
          },
          "metadata": {}
        }
      ]
    },
    {
      "cell_type": "code",
      "source": [
        "# ++++ 😕 Add a New Mood Option (\"confused!\") and Test the Updated LangGraph\n",
        "\n",
        "# ✅ 1. Define the new mood node\n",
        "def node_4(state: State) -> State:\n",
        "    \"\"\"Node 4 completes the sentence with 'confused!'.\"\"\"\n",
        "    print(\"--- Node 4 ---\")\n",
        "    return {\"graph_state\": state[\"graph_state\"] + \" confused!\"}\n",
        "\n",
        "# ✅ 2. Update the decision logic to include the new node\n",
        "def decide_mood(state: State) -> Literal[\"node_2\", \"node_3\", \"node_4\"]:\n",
        "    r = random.random()\n",
        "    if r < 0.33:\n",
        "        return \"node_2\"\n",
        "    elif r < 0.66:\n",
        "        return \"node_3\"\n",
        "    return \"node_4\"\n",
        "\n",
        "# ✅ 3. Rebuild the full graph with the new mood included\n",
        "builder = StateGraph(State)\n",
        "\n",
        "builder.add_node(\"node_1\", node_1)\n",
        "builder.add_node(\"node_2\", node_2)\n",
        "builder.add_node(\"node_3\", node_3)\n",
        "builder.add_node(\"node_4\", node_4)  # Register the new node\n",
        "\n",
        "builder.add_edge(START, \"node_1\")\n",
        "builder.add_conditional_edges(\"node_1\", decide_mood)\n",
        "builder.add_edge(\"node_2\", END)\n",
        "builder.add_edge(\"node_3\", END)\n",
        "builder.add_edge(\"node_4\", END)  # Connect new mood to END\n",
        "\n",
        "# ✅ 4. Compile the updated graph\n",
        "graph = builder.compile()\n",
        "\n",
        "# 🖼️ 5. Visualize the updated graph\n",
        "display(Image(graph.get_graph().draw_mermaid_png()))\n",
        "\n",
        "# 🧪 6. Invoke the graph multiple times to see different mood outcomes\n",
        "for i in range(3):\n",
        "    result = graph.invoke({\"graph_state\": f\"Hi, this is Lance {i+1}.\"})\n",
        "    pretty_print(result[\"graph_state\"], title=f\"🧠 Mood Result #{i+1}\")\n"
      ],
      "metadata": {
        "id": "yZoIQ6ovfavH",
        "colab": {
          "base_uri": "https://localhost:8080/",
          "height": 800
        },
        "outputId": "2a7caf8e-0fda-4ec4-da52-133d2dbe0795"
      },
      "execution_count": 18,
      "outputs": [
        {
          "output_type": "display_data",
          "data": {
            "image/png": "[encoded data removed]",
            "text/plain": [
              "<IPython.core.display.Image object>"
            ]
          },
          "metadata": {}
        },
        {
          "output_type": "stream",
          "name": "stdout",
          "text": [
            "--- Node 1 ---\n",
            "--- Node 3 ---\n"
          ]
        },
        {
          "output_type": "display_data",
          "data": {
            "text/plain": [
              "<IPython.core.display.HTML object>"
            ],
            "text/html": [
              "\n",
              "    <div style=\"background-color:#f8f9fc; border-left:5px solid #4285f4;\n",
              "                padding:16px; margin-top:16px; font-family:'Segoe UI', sans-serif;\n",
              "                color:#202124; line-height:1.6;\">\n",
              "      <strong>🧠 Mood Result #1</strong><br><br>\n",
              "      Hi, this is Lance 1. I am sad!\n",
              "    </div>\n",
              "    "
            ]
          },
          "metadata": {}
        },
        {
          "output_type": "stream",
          "name": "stdout",
          "text": [
            "--- Node 1 ---\n",
            "--- Node 4 ---\n"
          ]
        },
        {
          "output_type": "display_data",
          "data": {
            "text/plain": [
              "<IPython.core.display.HTML object>"
            ],
            "text/html": [
              "\n",
              "    <div style=\"background-color:#f8f9fc; border-left:5px solid #4285f4;\n",
              "                padding:16px; margin-top:16px; font-family:'Segoe UI', sans-serif;\n",
              "                color:#202124; line-height:1.6;\">\n",
              "      <strong>🧠 Mood Result #2</strong><br><br>\n",
              "      Hi, this is Lance 2. I am confused!\n",
              "    </div>\n",
              "    "
            ]
          },
          "metadata": {}
        },
        {
          "output_type": "stream",
          "name": "stdout",
          "text": [
            "--- Node 1 ---\n",
            "--- Node 3 ---\n"
          ]
        },
        {
          "output_type": "display_data",
          "data": {
            "text/plain": [
              "<IPython.core.display.HTML object>"
            ],
            "text/html": [
              "\n",
              "    <div style=\"background-color:#f8f9fc; border-left:5px solid #4285f4;\n",
              "                padding:16px; margin-top:16px; font-family:'Segoe UI', sans-serif;\n",
              "                color:#202124; line-height:1.6;\">\n",
              "      <strong>🧠 Mood Result #3</strong><br><br>\n",
              "      Hi, this is Lance 3. I am sad!\n",
              "    </div>\n",
              "    "
            ]
          },
          "metadata": {}
        }
      ]
    },
    {
      "cell_type": "markdown",
      "source": [
        "<div style=\"background-color:#f8f9fc; border-left:5px solid #3399ff;\n",
        "            padding:18px; margin-top:16px; font-family:'Segoe UI', sans-serif;\n",
        "            color:#202124; line-height:1.6;\">\n",
        "\n",
        "  <h2 style=\"margin-top:0;\">✈️ Airport Security Screening Simulation</h2>\n",
        "  <h4>🎓 <em>LangGraph Hands-On Exercise</em></h4>\n",
        "\n",
        "  <p>\n",
        "    In this hands-on activity, you'll simulate an <strong>airport security screening process</strong> using the\n",
        "    <strong>LangGraph</strong> framework. Passengers arrive at security and are categorized into different paths:\n",
        "  </p>\n",
        "\n",
        "  <ul>\n",
        "    <li><strong>TSA PreCheck (20%)</strong> → Fast screening with minimal delay</li>\n",
        "    <li><strong>Regular Screening (80%)</strong> → Standard security check</li>\n",
        "    <li><strong>Additional Screening (10% of Regular)</strong> → Extra manual inspection before gate entry</li>\n",
        "  </ul>\n",
        "\n",
        "  <p>Here’s a visual representation of the screening logic:</p>\n",
        "\n",
        "  <img src=\"https://www.dropbox.com/scl/fi/o3ipy33svrcg64myu0u0s/AirPort_Security.png?rlkey=d6hc4bqdphzducnixba9ic2ai&dl=1\"\n",
        "       width=\"600\" style=\"border-radius: 8px; border: 1px solid #ccc; margin-top:10px;\" />\n",
        "\n",
        "  <hr style=\"margin:20px 0;\">\n",
        "\n",
        "  <h4>🧪 Task: Complete the Missing Code</h4>\n",
        "  <p>\n",
        "    Your goal is to <strong>fill in the placeholders</strong> (e.g., <code>------</code>) to build a working LangGraph simulation.\n",
        "  </p>\n",
        "  <ul>\n",
        "    <li>Define node functions for <code>precheck_screening</code>, <code>regular_screening</code>, and <code>manual_check</code>.</li>\n",
        "    <li>Write a <code>screening_decision()</code> function to route passengers correctly.</li>\n",
        "    <li>Register the nodes and connect them with edges in the graph.</li>\n",
        "  </ul>\n",
        "\n",
        "  <p style=\"margin-top:12px;\">\n",
        "    Once complete, you will be able to run <code>graph.invoke({\"passenger_id\": \"P123\"})</code> to simulate a screening outcome.\n",
        "  </p>\n",
        "</div>\n"
      ],
      "metadata": {
        "id": "qZ3g3hX9aZ_E"
      }
    },
    {
      "cell_type": "code",
      "source": [
        "from typing_extensions import TypedDict\n",
        "from typing import Literal\n",
        "import random\n",
        "from IPython.display import Image, display\n",
        "from langgraph.graph import StateGraph, START, END\n",
        "\n",
        "\n",
        "# 🎯 Define the State Schema\n",
        "class AirportState(TypedDict):\n",
        "    passenger_type: str  # Tracks whether passenger is Regular or TSA PreCheck\n",
        "\n",
        "# 🔵 Define Nodes\n",
        "def start_node(state: AirportState) -> AirportState:\n",
        "    \"\"\"Initial step where a passenger enters security.\"\"\"\n",
        "    print(\"🛫 Passenger arrives at security.\")\n",
        "    return state\n",
        "\n",
        "def tsa_screening(state: AirportState) -> AirportState:\n",
        "    \"\"\"TSA PreCheck passengers go through expedited screening.\"\"\"\n",
        "    print(\"🟢 TSA PreCheck passenger goes through expedited screening.\")\n",
        "    return state\n",
        "\n",
        "def regular_screening(state: AirportState) -> AirportState:\n",
        "    \"\"\"Regular passengers go through standard screening.\"\"\"\n",
        "    print(\"🔎 Regular passenger goes through standard screening.\")\n",
        "    return state\n",
        "\n",
        "def additional_screening(state: AirportState) -> AirportState:\n",
        "    \"\"\"Additional screening for some regular passengers.\"\"\"\n",
        "    print(\"⚠️ Additional screening required for passenger.\")\n",
        "    return state\n",
        "\n",
        "def gates(state: AirportState) -> AirportState:\n",
        "    \"\"\"All passengers proceed to the boarding gates.\"\"\"\n",
        "    print(\"✅ Passenger cleared security. Proceeding to Gates!\")\n",
        "    return state\n",
        "\n",
        "# 🔀 Define the First Decision Function (TSA or Regular)\n",
        "def assign_passenger_type(state: AirportState) -> Literal[\"tsa_screening\", \"regular_screening\"]:\n",
        "    \"\"\"Randomly assigns passengers to TSA PreCheck (20%) or Regular (80%).\"\"\"\n",
        "    if random.random() < 0.20:\n",
        "        print(\"🟢 Passenger assigned to TSA PreCheck.\")\n",
        "        return \"tsa_screening\"\n",
        "    else:\n",
        "        print(\"🔵 Passenger assigned to Regular Screening.\")\n",
        "        return \"regular_screening\"\n",
        "\n",
        "# 🔀 Define the Second Decision Function (Regular -> Additional Screening or Gates)\n",
        "def additional_screening_decision(state: AirportState) -> Literal[\"additional_screening\", \"gates\"]:\n",
        "    \"\"\"10% of regular passengers go to additional screening, while 90% proceed to gates.\"\"\"\n",
        "    if random.random() < 0.10:\n",
        "        print(\"⚠️ Passenger selected for additional screening.\")\n",
        "        return \"additional_screening\"\n",
        "    else:\n",
        "        print(\"✅ Passenger cleared security after regular screening.\")\n",
        "        return \"gates\"\n",
        "\n",
        "# 🏗️ Build the Graph\n",
        "builder = StateGraph(AirportState)\n",
        "\n",
        "# 🔵 Add Nodes\n",
        "builder.add_node(\"start_node\", start_node)\n",
        "builder.add_node(\"tsa_screening\", tsa_screening)\n",
        "builder.add_node(\"regular_screening\", regular_screening)\n",
        "builder.add_node(\"additional_screening\", additional_screening)\n",
        "builder.add_node(\"gates\", gates)\n",
        "\n",
        "# 🔗 Define Graph Flow (Edges)\n",
        "builder.add_edge(START, \"start_node\")\n",
        "builder.add_conditional_edges(\"start_node\", assign_passenger_type)\n",
        "builder.add_edge(\"tsa_screening\", \"gates\")\n",
        "builder.add_conditional_edges(\"regular_screening\", additional_screening_decision)\n",
        "builder.add_edge(\"additional_screening\", \"gates\")\n",
        "builder.add_edge(\"gates\", END)\n",
        "\n",
        "# ✅ Compile the Graph\n",
        "graph = builder.compile()\n",
        "\n",
        "# 🖼️ Visualize the Graph\n",
        "display(Image(graph.get_graph().draw_mermaid_png()))\n",
        "\n",
        "# 🚀 Run the Graph\n",
        "\n",
        "graph.invoke({\"passenger_type\":\"Hi, this is the airport security screening\"})\n"
      ],
      "metadata": {
        "id": "EfNDrq4cf6Ko",
        "colab": {
          "base_uri": "https://localhost:8080/",
          "height": 652
        },
        "outputId": "051fa834-8b25-46a9-ba49-e29f78ce15f5"
      },
      "execution_count": 20,
      "outputs": [
        {
          "output_type": "display_data",
          "data": {
            "image/png": "[encoded data removed]",
            "text/plain": [
              "<IPython.core.display.Image object>"
            ]
          },
          "metadata": {}
        },
        {
          "output_type": "stream",
          "name": "stdout",
          "text": [
            "🛫 Passenger arrives at security.\n",
            "🔵 Passenger assigned to Regular Screening.\n",
            "🔎 Regular passenger goes through standard screening.\n",
            "✅ Passenger cleared security after regular screening.\n",
            "✅ Passenger cleared security. Proceeding to Gates!\n"
          ]
        },
        {
          "output_type": "execute_result",
          "data": {
            "text/plain": [
              "{'passenger_type': 'Hi, this is the airport security screening'}"
            ]
          },
          "metadata": {},
          "execution_count": 20
        }
      ]
    },
    {
      "cell_type": "code",
      "source": [
        "# # 🔄 Test your code: Refresh this cell to see how the model works on different scenarios\n",
        "\n",
        "graph.invoke({\"passenger_type\":\"Hi, this is the airport security screening\"})"
      ],
      "metadata": {
        "id": "1K2FjSsteUKC",
        "colab": {
          "base_uri": "https://localhost:8080/"
        },
        "outputId": "1407caab-1d56-4f32-9ec4-e933798bf58d"
      },
      "execution_count": 21,
      "outputs": [
        {
          "output_type": "stream",
          "name": "stdout",
          "text": [
            "🛫 Passenger arrives at security.\n",
            "🟢 Passenger assigned to TSA PreCheck.\n",
            "🟢 TSA PreCheck passenger goes through expedited screening.\n",
            "✅ Passenger cleared security. Proceeding to Gates!\n"
          ]
        },
        {
          "output_type": "execute_result",
          "data": {
            "text/plain": [
              "{'passenger_type': 'Hi, this is the airport security screening'}"
            ]
          },
          "metadata": {},
          "execution_count": 21
        }
      ]
    },
    {
      "cell_type": "markdown",
      "source": [],
      "metadata": {
        "id": "Hd2a6PJmd7RX"
      }
    }
  ]
}