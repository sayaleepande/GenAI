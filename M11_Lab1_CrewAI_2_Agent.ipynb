{
  "nbformat": 4,
  "nbformat_minor": 0,
  "metadata": {
    "colab": {
      "provenance": [],
      "include_colab_link": true
    },
    "kernelspec": {
      "name": "python3",
      "display_name": "Python 3"
    },
    "language_info": {
      "name": "python"
    }
  },
  "cells": [
    {
      "cell_type": "markdown",
      "metadata": {
        "id": "view-in-github",
        "colab_type": "text"
      },
      "source": [
        "<a href=\"https://colab.research.google.com/github/sayaleepande/GenAI/blob/main/M11_Lab1_CrewAI_2_Agent.ipynb\" target=\"_parent\"><img src=\"https://colab.research.google.com/assets/colab-badge.svg\" alt=\"Open In Colab\"/></a>"
      ]
    },
    {
      "cell_type": "markdown",
      "source": [
        "<!DOCTYPE html>\n",
        "<html lang=\"en\">\n",
        "<head>\n",
        "  <meta charset=\"UTF-8\">\n",
        "  <title>CrewAI Lab</title>\n",
        "  <style>\n",
        "    body {\n",
        "      font-family: 'Segoe UI', sans-serif;\n",
        "      background-color: #f8fbff;\n",
        "      color: #222;\n",
        "      padding: 30px;\n",
        "      line-height: 1.6;\n",
        "    }\n",
        "\n",
        "    h1, h2 {\n",
        "      color: #1e4b8f;\n",
        "    }\n",
        "\n",
        "    a {\n",
        "      color: #1e4b8f;\n",
        "      text-decoration: none;\n",
        "    }\n",
        "\n",
        "    a:hover {\n",
        "      text-decoration: underline;\n",
        "    }\n",
        "\n",
        "    .center {\n",
        "      text-align: center;\n",
        "    }\n",
        "\n",
        "    .title-img {\n",
        "      width: 600px;\n",
        "      max-width: 100%;\n",
        "      margin-bottom: 20px;\n",
        "    }\n",
        "\n",
        "    .table-container {\n",
        "      overflow-x: auto;\n",
        "      margin-top: 20px;\n",
        "    }\n",
        "\n",
        "    table {\n",
        "      border-collapse: collapse;\n",
        "      width: 100%;\n",
        "      background-color: #fff;\n",
        "      box-shadow: 0 2px 5px rgba(0,0,0,0.05);\n",
        "    }\n",
        "\n",
        "    th, td {\n",
        "      padding: 12px 16px;\n",
        "      text-align: left;\n",
        "      border-bottom: 1px solid #e0e0e0;\n",
        "    }\n",
        "\n",
        "    th {\n",
        "      background-color: #e6f0fb;\n",
        "      color: #1e4b8f;\n",
        "    }\n",
        "\n",
        "    ul {\n",
        "      margin-top: 10px;\n",
        "    }\n",
        "  </style>\n",
        "</head>\n",
        "<body>\n",
        "\n",
        "  <div class=\"center\">\n",
        "    <img src=\"https://www.dropbox.com/scl/fi/72c3k12bjnhxdebypttum/crewAI_title.png?dl=1\" alt=\"crewAI Title\" class=\"title-img\">\n",
        "  </div>\n",
        "\n",
        "  <h1>Welcome to the CrewAI Lab</h1>\n",
        "\n",
        "  <p>\n",
        "    This lab introduces <strong>CrewAI</strong>, a powerful platform for orchestrating collaborative AI agents, and explores its integration with LangChain and n8n.\n",
        "    Visit the <a href=\"https://www.crewai.com/\" target=\"_blank\">CrewAI website</a> to learn more about how CrewAI empowers teams to build complex, automated workflows and advanced_\n"
      ],
      "metadata": {
        "id": "RnuULFZpox3S"
      }
    },
    {
      "cell_type": "markdown",
      "metadata": {
        "id": "intro"
      },
      "source": [
        "# 🤖 CrewAI 2-Agent Tutorial\n",
        "## What is CrewAI?\n",
        "\n",
        "**CrewAI** is a Python framework that creates teams of AI agents working together. Think of it as hiring specialists - each agent has a specific role and expertise.\n",
        "\n",
        "### 🏗️ Core Components:\n",
        "1. **🤖 Agents**: AI team members with specific roles\n",
        "2. **📋 Tasks**: Individual assignments\n",
        "3. **👥 Crew**: Manages the team workflow\n",
        "4. **🔧 Tools**: Special abilities (web search, calculations, etc.)\n",
        "\n",
        "---"
      ]
    },
    {
      "cell_type": "code",
      "execution_count": 1,
      "metadata": {
        "id": "pretty_print",
        "colab": {
          "base_uri": "https://localhost:8080/"
        },
        "outputId": "622cabdd-4c2e-45c1-8cec-0cde114ad6e9"
      },
      "outputs": [
        {
          "output_type": "stream",
          "name": "stdout",
          "text": [
            "🎨 Pretty print utility ready!\n"
          ]
        }
      ],
      "source": [
        "# +++++ 🎨 Pretty Print Utility\n",
        "# ++++++++++++++++++++++++++++++++++++++++++++++++++++++++++++++++++++++++++++++++++++++\n",
        "# Create styled message boxes for better visual output in Colab\n",
        "\n",
        "from IPython.display import display, HTML\n",
        "\n",
        "def pretty_print(text, title=\"ℹ️ Info\", theme=\"blue\"):\n",
        "    \"\"\"Displays a styled message box with optional color themes: blue, red, or yellow.\"\"\"\n",
        "\n",
        "    themes = {\n",
        "        \"blue\": {\"color\": \"#1e4b8f\", \"background\": \"#f0f6ff\"},\n",
        "        \"red\": {\"color\": \"#c62828\", \"background\": \"#ffebee\"},\n",
        "        \"yellow\": {\"color\": \"#b26a00\", \"background\": \"#fff8e1\"}\n",
        "    }\n",
        "\n",
        "    style = themes.get(theme.lower(), themes[\"blue\"])\n",
        "    formatted_text = text.replace('\\n', '<br>')\n",
        "\n",
        "    display(HTML(f\"\"\"\n",
        "    <div style=\"border-left: 5px solid {style['color']}; padding: 12px 16px; background-color: {style['background']};\n",
        "                border-radius: 6px; font-family: 'Segoe UI', sans-serif; line-height: 1.6; margin: 10px 0;\">\n",
        "        <strong style=\"color: {style['color']}; font-size: 16px;\">{title}</strong><br>\n",
        "        <span style=\"font-size: 14px; color: #333;\">{formatted_text}</span>\n",
        "    </div>\n",
        "    \"\"\"))\n",
        "\n",
        "print(\"🎨 Pretty print utility ready!\")"
      ]
    },
    {
      "cell_type": "code",
      "source": [
        "# +++++ 📦 Installation & API Setup\n",
        "# ++++++++++++++++++++++++++++++++++++++++++++++++++++++++++++++++++++++++++++++++++++++\n",
        "# Install packages and setup secure API key\n",
        "\n",
        "!pip install crewai crewai-tools -q\n",
        "\n",
        "try:\n",
        "    from google.colab import userdata\n",
        "    import os\n",
        "    os.environ[\"OPENAI_API_KEY\"] = userdata.get('OPENAI_API_KEY')\n",
        "    pretty_print(\"🔐 API key loaded successfully!\", \"✅ Setup Complete\", \"blue\")\n",
        "except:\n",
        "    pretty_print(\"⚠️ Please set OPENAI_API_KEY in Colab → More → Secrets\", \"❌ Missing API Key\", \"red\")"
      ],
      "metadata": {
        "id": "install_setup",
        "colab": {
          "base_uri": "https://localhost:8080/",
          "height": 1000
        },
        "outputId": "9e45c811-3011-487e-80f6-93c376939229"
      },
      "execution_count": 2,
      "outputs": [
        {
          "output_type": "stream",
          "name": "stdout",
          "text": [
            "\u001b[2K     \u001b[90m━━━━━━━━━━━━━━━━━━━━━━━━━━━━━━━━━━━━━━━━\u001b[0m \u001b[32m42.8/42.8 kB\u001b[0m \u001b[31m2.1 MB/s\u001b[0m eta \u001b[36m0:00:00\u001b[0m\n",
            "\u001b[2K     \u001b[90m━━━━━━━━━━━━━━━━━━━━━━━━━━━━━━━━━━━━━━━━\u001b[0m \u001b[32m67.3/67.3 kB\u001b[0m \u001b[31m3.8 MB/s\u001b[0m eta \u001b[36m0:00:00\u001b[0m\n",
            "\u001b[?25h  Installing build dependencies ... \u001b[?25l\u001b[?25hdone\n",
            "  Getting requirements to build wheel ... \u001b[?25l\u001b[?25hdone\n",
            "  Preparing metadata (pyproject.toml) ... \u001b[?25l\u001b[?25hdone\n",
            "\u001b[2K     \u001b[90m━━━━━━━━━━━━━━━━━━━━━━━━━━━━━━━━━━━━━━━━\u001b[0m \u001b[32m48.2/48.2 kB\u001b[0m \u001b[31m3.7 MB/s\u001b[0m eta \u001b[36m0:00:00\u001b[0m\n",
            "\u001b[2K   \u001b[90m━━━━━━━━━━━━━━━━━━━━━━━━━━━━━━━━━━━━━━━━\u001b[0m \u001b[32m324.6/324.6 kB\u001b[0m \u001b[31m25.3 MB/s\u001b[0m eta \u001b[36m0:00:00\u001b[0m\n",
            "\u001b[2K   \u001b[90m━━━━━━━━━━━━━━━━━━━━━━━━━━━━━━━━━━━━━━━━\u001b[0m \u001b[32m8.0/8.0 MB\u001b[0m \u001b[31m104.8 MB/s\u001b[0m eta \u001b[36m0:00:00\u001b[0m\n",
            "\u001b[2K   \u001b[90m━━━━━━━━━━━━━━━━━━━━━━━━━━━━━━━━━━━━━━━━\u001b[0m \u001b[32m16.4/16.4 MB\u001b[0m \u001b[31m96.7 MB/s\u001b[0m eta \u001b[36m0:00:00\u001b[0m\n",
            "\u001b[2K   \u001b[90m━━━━━━━━━━━━━━━━━━━━━━━━━━━━━━━━━━━━━━━━\u001b[0m \u001b[32m606.3/606.3 kB\u001b[0m \u001b[31m37.3 MB/s\u001b[0m eta \u001b[36m0:00:00\u001b[0m\n",
            "\u001b[2K   \u001b[90m━━━━━━━━━━━━━━━━━━━━━━━━━━━━━━━━━━━━━━━━\u001b[0m \u001b[32m138.8/138.8 kB\u001b[0m \u001b[31m10.2 MB/s\u001b[0m eta \u001b[36m0:00:00\u001b[0m\n",
            "\u001b[2K   \u001b[90m━━━━━━━━━━━━━━━━━━━━━━━━━━━━━━━━━━━━━━━━\u001b[0m \u001b[32m147.8/147.8 kB\u001b[0m \u001b[31m10.9 MB/s\u001b[0m eta \u001b[36m0:00:00\u001b[0m\n",
            "\u001b[2K   \u001b[90m━━━━━━━━━━━━━━━━━━━━━━━━━━━━━━━━━━━━━━━━\u001b[0m \u001b[32m211.3/211.3 kB\u001b[0m \u001b[31m12.4 MB/s\u001b[0m eta \u001b[36m0:00:00\u001b[0m\n",
            "\u001b[2K   \u001b[90m━━━━━━━━━━━━━━━━━━━━━━━━━━━━━━━━━━━━━━━━\u001b[0m \u001b[32m628.3/628.3 kB\u001b[0m \u001b[31m37.8 MB/s\u001b[0m eta \u001b[36m0:00:00\u001b[0m\n",
            "\u001b[2K   \u001b[90m━━━━━━━━━━━━━━━━━━━━━━━━━━━━━━━━━━━━━━━━\u001b[0m \u001b[32m2.4/2.4 MB\u001b[0m \u001b[31m83.1 MB/s\u001b[0m eta \u001b[36m0:00:00\u001b[0m\n",
            "\u001b[2K   \u001b[90m━━━━━━━━━━━━━━━━━━━━━━━━━━━━━━━━━━━━━━━━\u001b[0m \u001b[32m94.6/94.6 kB\u001b[0m \u001b[31m7.4 MB/s\u001b[0m eta \u001b[36m0:00:00\u001b[0m\n",
            "\u001b[2K   \u001b[90m━━━━━━━━━━━━━━━━━━━━━━━━━━━━━━━━━━━━━━━━\u001b[0m \u001b[32m33.0/33.0 MB\u001b[0m \u001b[31m26.6 MB/s\u001b[0m eta \u001b[36m0:00:00\u001b[0m\n",
            "\u001b[2K   \u001b[90m━━━━━━━━━━━━━━━━━━━━━━━━━━━━━━━━━━━━━━━━\u001b[0m \u001b[32m65.8/65.8 kB\u001b[0m \u001b[31m4.7 MB/s\u001b[0m eta \u001b[36m0:00:00\u001b[0m\n",
            "\u001b[2K   \u001b[90m━━━━━━━━━━━━━━━━━━━━━━━━━━━━━━━━━━━━━━━━\u001b[0m \u001b[32m55.7/55.7 kB\u001b[0m \u001b[31m3.9 MB/s\u001b[0m eta \u001b[36m0:00:00\u001b[0m\n",
            "\u001b[2K   \u001b[90m━━━━━━━━━━━━━━━━━━━━━━━━━━━━━━━━━━━━━━━━\u001b[0m \u001b[32m118.5/118.5 kB\u001b[0m \u001b[31m9.9 MB/s\u001b[0m eta \u001b[36m0:00:00\u001b[0m\n",
            "\u001b[2K   \u001b[90m━━━━━━━━━━━━━━━━━━━━━━━━━━━━━━━━━━━━━━━━\u001b[0m \u001b[32m196.2/196.2 kB\u001b[0m \u001b[31m14.5 MB/s\u001b[0m eta \u001b[36m0:00:00\u001b[0m\n",
            "\u001b[2K   \u001b[90m━━━━━━━━━━━━━━━━━━━━━━━━━━━━━━━━━━━━━━━━\u001b[0m \u001b[32m60.0/60.0 kB\u001b[0m \u001b[31m5.1 MB/s\u001b[0m eta \u001b[36m0:00:00\u001b[0m\n",
            "\u001b[2K   \u001b[90m━━━━━━━━━━━━━━━━━━━━━━━━━━━━━━━━━━━━━━━━\u001b[0m \u001b[32m5.6/5.6 MB\u001b[0m \u001b[31m103.8 MB/s\u001b[0m eta \u001b[36m0:00:00\u001b[0m\n",
            "\u001b[2K   \u001b[90m━━━━━━━━━━━━━━━━━━━━━━━━━━━━━━━━━━━━━━━━\u001b[0m \u001b[32m5.6/5.6 MB\u001b[0m \u001b[31m99.4 MB/s\u001b[0m eta \u001b[36m0:00:00\u001b[0m\n",
            "\u001b[2K   \u001b[90m━━━━━━━━━━━━━━━━━━━━━━━━━━━━━━━━━━━━━━━━\u001b[0m \u001b[32m57.6/57.6 kB\u001b[0m \u001b[31m4.3 MB/s\u001b[0m eta \u001b[36m0:00:00\u001b[0m\n",
            "\u001b[2K   \u001b[90m━━━━━━━━━━━━━━━━━━━━━━━━━━━━━━━━━━━━━━━━\u001b[0m \u001b[32m756.0/756.0 kB\u001b[0m \u001b[31m46.4 MB/s\u001b[0m eta \u001b[36m0:00:00\u001b[0m\n",
            "\u001b[2K   \u001b[90m━━━━━━━━━━━━━━━━━━━━━━━━━━━━━━━━━━━━━━━━\u001b[0m \u001b[32m3.0/3.0 MB\u001b[0m \u001b[31m83.2 MB/s\u001b[0m eta \u001b[36m0:00:00\u001b[0m\n",
            "\u001b[2K   \u001b[90m━━━━━━━━━━━━━━━━━━━━━━━━━━━━━━━━━━━━━━━━\u001b[0m \u001b[32m236.0/236.0 kB\u001b[0m \u001b[31m20.2 MB/s\u001b[0m eta \u001b[36m0:00:00\u001b[0m\n",
            "\u001b[2K   \u001b[90m━━━━━━━━━━━━━━━━━━━━━━━━━━━━━━━━━━━━━━━━\u001b[0m \u001b[32m17.8/17.8 MB\u001b[0m \u001b[31m81.9 MB/s\u001b[0m eta \u001b[36m0:00:00\u001b[0m\n",
            "\u001b[2K   \u001b[90m━━━━━━━━━━━━━━━━━━━━━━━━━━━━━━━━━━━━━━━━\u001b[0m \u001b[32m242.7/242.7 kB\u001b[0m \u001b[31m16.9 MB/s\u001b[0m eta \u001b[36m0:00:00\u001b[0m\n",
            "\u001b[2K   \u001b[90m━━━━━━━━━━━━━━━━━━━━━━━━━━━━━━━━━━━━━━━━\u001b[0m \u001b[32m284.2/284.2 kB\u001b[0m \u001b[31m21.5 MB/s\u001b[0m eta \u001b[36m0:00:00\u001b[0m\n",
            "\u001b[2K   \u001b[90m━━━━━━━━━━━━━━━━━━━━━━━━━━━━━━━━━━━━━━━━\u001b[0m \u001b[32m131.6/131.6 kB\u001b[0m \u001b[31m9.9 MB/s\u001b[0m eta \u001b[36m0:00:00\u001b[0m\n",
            "\u001b[2K   \u001b[90m━━━━━━━━━━━━━━━━━━━━━━━━━━━━━━━━━━━━━━━━\u001b[0m \u001b[32m345.6/345.6 kB\u001b[0m \u001b[31m24.1 MB/s\u001b[0m eta \u001b[36m0:00:00\u001b[0m\n",
            "\u001b[2K   \u001b[90m━━━━━━━━━━━━━━━━━━━━━━━━━━━━━━━━━━━━━━━━\u001b[0m \u001b[32m1.9/1.9 MB\u001b[0m \u001b[31m68.3 MB/s\u001b[0m eta \u001b[36m0:00:00\u001b[0m\n",
            "\u001b[2K   \u001b[90m━━━━━━━━━━━━━━━━━━━━━━━━━━━━━━━━━━━━━━━━\u001b[0m \u001b[32m45.1/45.1 kB\u001b[0m \u001b[31m3.0 MB/s\u001b[0m eta \u001b[36m0:00:00\u001b[0m\n",
            "\u001b[2K   \u001b[90m━━━━━━━━━━━━━━━━━━━━━━━━━━━━━━━━━━━━━━━━\u001b[0m \u001b[32m2.5/2.5 MB\u001b[0m \u001b[31m79.1 MB/s\u001b[0m eta \u001b[36m0:00:00\u001b[0m\n",
            "\u001b[2K   \u001b[90m━━━━━━━━━━━━━━━━━━━━━━━━━━━━━━━━━━━━━━━━\u001b[0m \u001b[32m50.9/50.9 kB\u001b[0m \u001b[31m3.1 MB/s\u001b[0m eta \u001b[36m0:00:00\u001b[0m\n",
            "\u001b[2K   \u001b[90m━━━━━━━━━━━━━━━━━━━━━━━━━━━━━━━━━━━━━━━━\u001b[0m \u001b[32m162.6/162.6 kB\u001b[0m \u001b[31m10.9 MB/s\u001b[0m eta \u001b[36m0:00:00\u001b[0m\n",
            "\u001b[2K   \u001b[90m━━━━━━━━━━━━━━━━━━━━━━━━━━━━━━━━━━━━━━━━\u001b[0m \u001b[32m101.6/101.6 kB\u001b[0m \u001b[31m7.2 MB/s\u001b[0m eta \u001b[36m0:00:00\u001b[0m\n",
            "\u001b[2K   \u001b[90m━━━━━━━━━━━━━━━━━━━━━━━━━━━━━━━━━━━━━━━━\u001b[0m \u001b[32m89.1/89.1 kB\u001b[0m \u001b[31m5.7 MB/s\u001b[0m eta \u001b[36m0:00:00\u001b[0m\n",
            "\u001b[2K   \u001b[90m━━━━━━━━━━━━━━━━━━━━━━━━━━━━━━━━━━━━━━━━\u001b[0m \u001b[32m304.2/304.2 kB\u001b[0m \u001b[31m19.6 MB/s\u001b[0m eta \u001b[36m0:00:00\u001b[0m\n",
            "\u001b[2K   \u001b[90m━━━━━━━━━━━━━━━━━━━━━━━━━━━━━━━━━━━━━━━━\u001b[0m \u001b[32m2.9/2.9 MB\u001b[0m \u001b[31m79.2 MB/s\u001b[0m eta \u001b[36m0:00:00\u001b[0m\n",
            "\u001b[2K   \u001b[90m━━━━━━━━━━━━━━━━━━━━━━━━━━━━━━━━━━━━━━━━\u001b[0m \u001b[32m71.1/71.1 kB\u001b[0m \u001b[31m5.4 MB/s\u001b[0m eta \u001b[36m0:00:00\u001b[0m\n",
            "\u001b[2K   \u001b[90m━━━━━━━━━━━━━━━━━━━━━━━━━━━━━━━━━━━━━━━━\u001b[0m \u001b[32m46.0/46.0 kB\u001b[0m \u001b[31m3.2 MB/s\u001b[0m eta \u001b[36m0:00:00\u001b[0m\n",
            "\u001b[2K   \u001b[90m━━━━━━━━━━━━━━━━━━━━━━━━━━━━━━━━━━━━━━━━\u001b[0m \u001b[32m259.5/259.5 kB\u001b[0m \u001b[31m16.8 MB/s\u001b[0m eta \u001b[36m0:00:00\u001b[0m\n",
            "\u001b[2K   \u001b[90m━━━━━━━━━━━━━━━━━━━━━━━━━━━━━━━━━━━━━━━━\u001b[0m \u001b[32m459.8/459.8 kB\u001b[0m \u001b[31m29.5 MB/s\u001b[0m eta \u001b[36m0:00:00\u001b[0m\n",
            "\u001b[2K   \u001b[90m━━━━━━━━━━━━━━━━━━━━━━━━━━━━━━━━━━━━━━━━\u001b[0m \u001b[32m86.8/86.8 kB\u001b[0m \u001b[31m7.4 MB/s\u001b[0m eta \u001b[36m0:00:00\u001b[0m\n",
            "\u001b[2K   \u001b[90m━━━━━━━━━━━━━━━━━━━━━━━━━━━━━━━━━━━━━━━━\u001b[0m \u001b[32m1.6/1.6 MB\u001b[0m \u001b[31m63.4 MB/s\u001b[0m eta \u001b[36m0:00:00\u001b[0m\n",
            "\u001b[2K   \u001b[90m━━━━━━━━━━━━━━━━━━━━━━━━━━━━━━━━━━━━━━━━\u001b[0m \u001b[32m209.2/209.2 kB\u001b[0m \u001b[31m16.4 MB/s\u001b[0m eta \u001b[36m0:00:00\u001b[0m\n",
            "\u001b[2K   \u001b[90m━━━━━━━━━━━━━━━━━━━━━━━━━━━━━━━━━━━━━━━━\u001b[0m \u001b[32m44.4/44.4 kB\u001b[0m \u001b[31m3.4 MB/s\u001b[0m eta \u001b[36m0:00:00\u001b[0m\n",
            "\u001b[2K   \u001b[90m━━━━━━━━━━━━━━━━━━━━━━━━━━━━━━━━━━━━━━━━\u001b[0m \u001b[32m329.0/329.0 kB\u001b[0m \u001b[31m23.4 MB/s\u001b[0m eta \u001b[36m0:00:00\u001b[0m\n",
            "\u001b[2K   \u001b[90m━━━━━━━━━━━━━━━━━━━━━━━━━━━━━━━━━━━━━━━━\u001b[0m \u001b[32m4.0/4.0 MB\u001b[0m \u001b[31m69.5 MB/s\u001b[0m eta \u001b[36m0:00:00\u001b[0m\n",
            "\u001b[2K   \u001b[90m━━━━━━━━━━━━━━━━━━━━━━━━━━━━━━━━━━━━━━━━\u001b[0m \u001b[32m453.1/453.1 kB\u001b[0m \u001b[31m28.1 MB/s\u001b[0m eta \u001b[36m0:00:00\u001b[0m\n",
            "\u001b[2K   \u001b[90m━━━━━━━━━━━━━━━━━━━━━━━━━━━━━━━━━━━━━━━━\u001b[0m \u001b[32m3.3/3.3 MB\u001b[0m \u001b[31m85.9 MB/s\u001b[0m eta \u001b[36m0:00:00\u001b[0m\n",
            "\u001b[2K   \u001b[90m━━━━━━━━━━━━━━━━━━━━━━━━━━━━━━━━━━━━━━━━\u001b[0m \u001b[32m50.9/50.9 kB\u001b[0m \u001b[31m4.0 MB/s\u001b[0m eta \u001b[36m0:00:00\u001b[0m\n",
            "\u001b[?25h  Building wheel for pypika (pyproject.toml) ... \u001b[?25l\u001b[?25hdone\n",
            "\u001b[31mERROR: pip's dependency resolver does not currently take into account all the packages that are installed. This behaviour is the source of the following dependency conflicts.\n",
            "transformers 4.52.4 requires tokenizers<0.22,>=0.21, but you have tokenizers 0.20.3 which is incompatible.\u001b[0m\u001b[31m\n",
            "\u001b[0m"
          ]
        },
        {
          "output_type": "display_data",
          "data": {
            "text/plain": [
              "<IPython.core.display.HTML object>"
            ],
            "text/html": [
              "\n",
              "    <div style=\"border-left: 5px solid #1e4b8f; padding: 12px 16px; background-color: #f0f6ff;\n",
              "                border-radius: 6px; font-family: 'Segoe UI', sans-serif; line-height: 1.6; margin: 10px 0;\">\n",
              "        <strong style=\"color: #1e4b8f; font-size: 16px;\">✅ Setup Complete</strong><br>\n",
              "        <span style=\"font-size: 14px; color: #333;\">🔐 API key loaded successfully!</span>\n",
              "    </div>\n",
              "    "
            ]
          },
          "metadata": {}
        }
      ]
    },
    {
      "cell_type": "markdown",
      "source": [
        "## 🤖 Defining Agents in CrewAI\n",
        "\n",
        "In CrewAI, each **agent** represents an autonomous expert responsible for a specific task.  \n",
        "You define agents using three main components:\n",
        "\n",
        "- **Role 🎯:** Clearly describes the agent's professional role or expertise.\n",
        "- **Goal 🎯:** Defines the specific objective the agent should achieve.\n",
        "- **Backstory 📖:** Provides a short narrative about the agent’s expertise or experience, giving context to their behavior.\n",
        "## Understanding 2-Agent System\n",
        "\n",
        "We'll create **2 specialized agents**:\n",
        "- **🔍 Research Agent**: Gathers information using web search\n",
        "- **📝 Analysis Agent**: Analyzes and summarizes findings"
      ],
      "metadata": {
        "id": "agents_explanation"
      }
    },
    {
      "cell_type": "code",
      "source": [
        "# +++++ 🤖 Creating 2 Generalized Agents (NO TOOLS)\n",
        "# ++++++++++++++++++++++++++++++++++++++++++++++++++++++++++++++++++++++++++++++++++++++\n",
        "# Define two generalized agents that can handle any topic\n",
        "\n",
        "from crewai import Agent\n",
        "\n",
        "# 🔍 Agent 1: Research Agent (Generalized)\n",
        "research_agent = Agent(\n",
        "    role=\"Research Specialist\",\n",
        "    goal=\"Gather comprehensive information about any given topic using existing knowledge\",\n",
        "    backstory=\"\"\"You are an experienced researcher with broad knowledge across many fields.\n",
        "    You excel at providing detailed, accurate information on various topics from your training data.\"\"\",\n",
        "    verbose=True,\n",
        "    allow_delegation=False\n",
        ")\n",
        "\n",
        "# 📝 Agent 2: Analysis Agent (Generalized)\n",
        "analysis_agent = Agent(\n",
        "    role=\"Content Analyst\",\n",
        "    goal=\"Analyze and summarize information into clear, concise insights\",\n",
        "    backstory=\"\"\"You are an expert analyst who can synthesize complex information into\n",
        "    actionable insights. You excel at creating structured summaries and key takeaways.\"\"\",\n",
        "    verbose=True,\n",
        "    allow_delegation=False\n",
        ")\n",
        "\n",
        "pretty_print(\"🤖 Two generalized agents created successfully!\\n🔍 Research Agent - Gathers information\\n📝 Analysis Agent - Synthesizes findings\\n\\n⚠️ Note: No tools yet - agents use existing knowledge\", \"✅ Agents Ready\", \"blue\")"
      ],
      "metadata": {
        "id": "create_agents",
        "colab": {
          "base_uri": "https://localhost:8080/",
          "height": 199
        },
        "outputId": "cab74f68-8733-4fe6-8efc-f10857e5152d"
      },
      "execution_count": 3,
      "outputs": [
        {
          "output_type": "display_data",
          "data": {
            "text/plain": [
              "<IPython.core.display.HTML object>"
            ],
            "text/html": [
              "\n",
              "    <div style=\"border-left: 5px solid #1e4b8f; padding: 12px 16px; background-color: #f0f6ff;\n",
              "                border-radius: 6px; font-family: 'Segoe UI', sans-serif; line-height: 1.6; margin: 10px 0;\">\n",
              "        <strong style=\"color: #1e4b8f; font-size: 16px;\">✅ Agents Ready</strong><br>\n",
              "        <span style=\"font-size: 14px; color: #333;\">🤖 Two generalized agents created successfully!<br>🔍 Research Agent - Gathers information<br>📝 Analysis Agent - Synthesizes findings<br><br>⚠️ Note: No tools yet - agents use existing knowledge</span>\n",
              "    </div>\n",
              "    "
            ]
          },
          "metadata": {}
        }
      ]
    },
    {
      "cell_type": "markdown",
      "source": [
        "## 📋 What is a Task?\n",
        "\n",
        "In CrewAI, a **Task** is a unit of work assigned to an agent. It describes what the agent should do and what kind of output is expected.\n",
        "\n",
        "## 🛠️ What’s happening here?\n",
        "\n",
        "We define two tasks:\n",
        "- A **Research Task** asking the agent to gather detailed facts about the topic.\n",
        "- An **Analysis Task** asking another agent to summarize and interpret the findings.\n",
        "\n",
        "The `TOPIC` variable makes both tasks reusable for any subject by simply changing one line.\n"
      ],
      "metadata": {
        "id": "hyHiXU-gvVQY"
      }
    },
    {
      "cell_type": "code",
      "source": [
        "# +++++ 📋 Creating Tasks with Topic Variable\n",
        "# ++++++++++++++++++++++++++++++++++++++++++++++++++++++++++++++++++++++++++++++++++++++\n",
        "\n",
        "from crewai import Task  # Only import Task here\n",
        "\n",
        "# Define your topic of interest\n",
        "TOPIC = \"Harvard University's impact on education and Nobel Prize connections\"\n",
        "\n",
        "# 🧠 Task 1: Research Task\n",
        "research_task = Task(\n",
        "    description=f\"\"\"Research the topic: {TOPIC}\n",
        "\n",
        "    Provide comprehensive information including:\n",
        "    1. Key facts and background information\n",
        "    2. Important developments and achievements\n",
        "    3. Current status and recent updates\n",
        "    4. Significance and impact\n",
        "\n",
        "    Use your existing knowledge to provide accurate, detailed information.\"\"\",\n",
        "    expected_output=\"Comprehensive research findings about the topic\",\n",
        "    agent=research_agent\n",
        ")\n",
        "\n",
        "# 🔎 Task 2: Analysis Task\n",
        "analysis_task = Task(\n",
        "    description=f\"\"\"Analyze the research findings about: {TOPIC}\n",
        "\n",
        "    Create a structured summary with:\n",
        "    1. One paragraph overview (3-4 sentences)\n",
        "    2. 3-4 key bullet points highlighting main insights\n",
        "    3. Brief conclusion about significance\n",
        "\n",
        "    Keep responses concise and well-structured.\"\"\",\n",
        "    expected_output=\"A structured analysis with paragraph summary and bullet points\",\n",
        "    agent=analysis_agent\n",
        ")\n",
        "\n",
        "pretty_print(\"📋 Tasks created for research and analysis\", \"✅ Tasks Ready\", \"blue\")\n"
      ],
      "metadata": {
        "id": "create_tasks_and_run",
        "colab": {
          "base_uri": "https://localhost:8080/",
          "height": 109
        },
        "outputId": "61b4fb69-a707-493a-8ce0-206c9d965eb8"
      },
      "execution_count": 4,
      "outputs": [
        {
          "output_type": "display_data",
          "data": {
            "text/plain": [
              "<IPython.core.display.HTML object>"
            ],
            "text/html": [
              "\n",
              "    <div style=\"border-left: 5px solid #1e4b8f; padding: 12px 16px; background-color: #f0f6ff;\n",
              "                border-radius: 6px; font-family: 'Segoe UI', sans-serif; line-height: 1.6; margin: 10px 0;\">\n",
              "        <strong style=\"color: #1e4b8f; font-size: 16px;\">✅ Tasks Ready</strong><br>\n",
              "        <span style=\"font-size: 14px; color: #333;\">📋 Tasks created for research and analysis</span>\n",
              "    </div>\n",
              "    "
            ]
          },
          "metadata": {}
        }
      ]
    },
    {
      "cell_type": "markdown",
      "source": [
        "## 🧑‍🤝‍🧑 What is a Crew?\n",
        "\n",
        "A **Crew** is a group of agents and tasks that work together. It manages who does what and how tasks are coordinated.\n",
        "\n",
        "## 🛠️ What’s happening here?\n",
        "\n",
        "We create a crew with:\n",
        "- Two agents: one for research, one for analysis.\n",
        "- Two tasks: assigned to those agents.\n",
        "\n",
        "The crew uses delegation and iteration (`max_iter=3`) to complete the full job.\n"
      ],
      "metadata": {
        "id": "yNQn3MlSvYXr"
      }
    },
    {
      "cell_type": "code",
      "source": [
        "# +++++ 🧑‍🤝‍🧑 Creating Crew with Agents and Tasks\n",
        "# ++++++++++++++++++++++++++++++++++++++++++++++++++++++++++++++++++++++++++++++++++++++\n",
        "\n",
        "from crewai import Crew  # Only import Crew here\n",
        "\n",
        "# Create a crew that includes the two tasks and corresponding agents\n",
        "education_crew = Crew(\n",
        "    agents=[research_agent, analysis_agent],\n",
        "    tasks=[research_task, analysis_task],\n",
        "    verbose=False,\n",
        "    max_iter=1  # Reasonable number of coordination loops\n",
        ")\n",
        "\n",
        "pretty_print(\"🤖 Crew assembled with Research and Analysis agents\", \"✅ Crew Ready\", \"green\")\n"
      ],
      "metadata": {
        "id": "HnpIA22-u7pU",
        "colab": {
          "base_uri": "https://localhost:8080/",
          "height": 109
        },
        "outputId": "8cc29f69-a452-4612-f6f8-98bb683395c5"
      },
      "execution_count": 5,
      "outputs": [
        {
          "output_type": "display_data",
          "data": {
            "text/plain": [
              "<IPython.core.display.HTML object>"
            ],
            "text/html": [
              "\n",
              "    <div style=\"border-left: 5px solid #1e4b8f; padding: 12px 16px; background-color: #f0f6ff;\n",
              "                border-radius: 6px; font-family: 'Segoe UI', sans-serif; line-height: 1.6; margin: 10px 0;\">\n",
              "        <strong style=\"color: #1e4b8f; font-size: 16px;\">✅ Crew Ready</strong><br>\n",
              "        <span style=\"font-size: 14px; color: #333;\">🤖 Crew assembled with Research and Analysis agents</span>\n",
              "    </div>\n",
              "    "
            ]
          },
          "metadata": {}
        }
      ]
    },
    {
      "cell_type": "markdown",
      "source": [
        "## 🚀 What is Crew Execution?\n",
        "\n",
        "**Execution** means running the crew — agents perform their tasks in order and produce a final result.\n",
        "\n",
        "## 🛠️ What’s happening here?\n",
        "\n",
        "- We start execution using `.kickoff()`\n",
        "- The research and analysis agents complete their tasks\n",
        "- The result is printed with `pretty_print` for clear display\n",
        "\n",
        "The current topic is shown for reference, so you always know what the crew is working on.\n"
      ],
      "metadata": {
        "id": "j8UcsdfavdrW"
      }
    },
    {
      "cell_type": "code",
      "source": [
        "# +++++ 🚀 Execute the Crew on Selected Topic\n",
        "# ++++++++++++++++++++++++++++++++++++++++++++++++++++++++++++++++++++++++++++++++++++++\n",
        "\n",
        "# Use the previously defined topic and crew\n",
        "pretty_print(f\"🎯 Running crew for topic: {TOPIC}\", \"🚀 Execution Started\", \"yellow\")\n",
        "\n",
        "# Run the crew and store the result\n",
        "crew_result = education_crew.kickoff()\n",
        "\n",
        "# Display the result - Convert to string first!\n",
        "pretty_print(str(crew_result), \"🧠 Final Output\", \"blue\")"
      ],
      "metadata": {
        "id": "512hmUOkvAl3",
        "colab": {
          "base_uri": "https://localhost:8080/",
          "height": 1000
        },
        "outputId": "6b52c20f-c876-470d-c826-9149d3d081f4"
      },
      "execution_count": 6,
      "outputs": [
        {
          "output_type": "display_data",
          "data": {
            "text/plain": [
              "<IPython.core.display.HTML object>"
            ],
            "text/html": [
              "\n",
              "    <div style=\"border-left: 5px solid #b26a00; padding: 12px 16px; background-color: #fff8e1;\n",
              "                border-radius: 6px; font-family: 'Segoe UI', sans-serif; line-height: 1.6; margin: 10px 0;\">\n",
              "        <strong style=\"color: #b26a00; font-size: 16px;\">🚀 Execution Started</strong><br>\n",
              "        <span style=\"font-size: 14px; color: #333;\">🎯 Running crew for topic: Harvard University's impact on education and Nobel Prize connections</span>\n",
              "    </div>\n",
              "    "
            ]
          },
          "metadata": {}
        },
        {
          "output_type": "stream",
          "name": "stdout",
          "text": [
            "\u001b[1m\u001b[95m# Agent:\u001b[00m \u001b[1m\u001b[92mResearch Specialist\u001b[00m\n",
            "\u001b[95m## Task:\u001b[00m \u001b[92mResearch the topic: Harvard University's impact on education and Nobel Prize connections\n",
            "\n",
            "    Provide comprehensive information including:\n",
            "    1. Key facts and background information\n",
            "    2. Important developments and achievements\n",
            "    3. Current status and recent updates\n",
            "    4. Significance and impact\n",
            "\n",
            "    Use your existing knowledge to provide accurate, detailed information.\u001b[00m\n",
            "\n",
            "\n",
            "\u001b[1m\u001b[95m# Agent:\u001b[00m \u001b[1m\u001b[92mResearch Specialist\u001b[00m\n",
            "\u001b[95m## Final Answer:\u001b[00m \u001b[92m\n",
            "**1. Key Facts and Background Information:**\n",
            "   - Founded in 1636, Harvard University is the oldest institution of higher education in the United States, located in Cambridge, Massachusetts.\n",
            "   - Harvard is a private Ivy League research university that has educated many influential leaders across various fields including politics, science, literature, and business.\n",
            "   - The university is comprised of 12 degree-granting schools, including the renowned Harvard College, Harvard Law School, Harvard Medical School, and Harvard Business School.\n",
            "   - As of 2023, Harvard's endowment exceeds $53 billion, making it one of the wealthiest universities globally.\n",
            "\n",
            "**2. Important Developments and Achievements:**\n",
            "   - Harvard has a long-standing tradition of academic excellence, producing countless notable alumni, including eight U.S. presidents, over 150 Nobel laureates, and numerous National Medal of Science recipients.\n",
            "   - In 1901, the Nobel Prize in Physics was awarded to Harvard's first Nobel laureate, Wilhelm Röntgen, cementing its historical connection to groundbreaking research.\n",
            "   - Since then, Harvard has been associated with several notable Nobel laureates across various categories, including:\n",
            "     - **Medicine:** Notable winners include Paul Farmer and Michael Rosbash.\n",
            "     - **Economics:** Economists like Amartya Sen and George Stigler have received the prize.\n",
            "     - **Peace:** Harvard alumni, like Barack Obama, have also won the Nobel Peace Prize.\n",
            "   - The Nobel Prize connections reflect the university's influence and commitment to advancing knowledge in multiple disciplines.\n",
            "\n",
            "**3. Current Status and Recent Updates:**\n",
            "   - Harvard continues to be a leader in education and research, consistently ranking among the top universities worldwide according to various ranking organizations.\n",
            "   - In recent years, Harvard has focused on expanding its reach in online education, particularly with the Harvard Online Learning initiative, which seeks to make education accessible to a broader audience.\n",
            "   - Harvard's commitment to diversity and inclusion has been highlighted through various initiatives aimed at recruiting a diverse student body and faculty.\n",
            "   - In 2021, the university announced a plan to invest $100 million over the following decade toward advancing racial equity and social justice.\n",
            "\n",
            "**4. Significance and Impact:**\n",
            "   - Harvard University plays a significant role not only in shaping academic thought and research but also in influencing public policy, business leaders, and scientific advancements globally.\n",
            "   - The university's emphasis on research is a critical factor in its educational philosophy, leading to innovations in fields such as medicine, environmental science, and technology.\n",
            "   - Harvard alumni often occupy positions of power in various sectors, influencing social, political, and economic landscapes around the world.\n",
            "   - The institution's commitment to providing a liberal arts education fosters critical thinking and ethical reasoning in its graduates, shaping future leaders equipped to tackle complex global issues.\n",
            "   - Overall, Harvard's continuing evolution in pedagogy and research ensures its ongoing impact on education and society, solidifying its status as a pivotal institution in both historical and contemporary contexts.\n",
            "\n",
            "By maintaining its traditions of excellence and adapting to modern challenges, Harvard University remains a cornerstone of higher education with a profound legacy of impacting both its students and the world at large.\u001b[00m\n",
            "\n",
            "\n",
            "\u001b[1m\u001b[95m# Agent:\u001b[00m \u001b[1m\u001b[92mContent Analyst\u001b[00m\n",
            "\u001b[95m## Task:\u001b[00m \u001b[92mAnalyze the research findings about: Harvard University's impact on education and Nobel Prize connections\n",
            "\n",
            "    Create a structured summary with:\n",
            "    1. One paragraph overview (3-4 sentences)\n",
            "    2. 3-4 key bullet points highlighting main insights\n",
            "    3. Brief conclusion about significance\n",
            "\n",
            "    Keep responses concise and well-structured.\u001b[00m\n",
            "\n",
            "\n",
            "\u001b[1m\u001b[95m# Agent:\u001b[00m \u001b[1m\u001b[92mContent Analyst\u001b[00m\n",
            "\u001b[95m## Final Answer:\u001b[00m \u001b[92m\n",
            "**Overview:**  \n",
            "Harvard University, established in 1636, is the oldest higher education institution in the United States and a prestigious Ivy League research university. With a robust endowment of over $53 billion, it plays a crucial role in shaping future leaders across diverse fields through its 12 degree-granting schools. The university has a remarkable legacy of academic excellence, including educating 150 Nobel laureates, showcasing its significant contribution to research and knowledge across multiple disciplines.\n",
            "\n",
            "**Key Insights:**\n",
            "- Harvard’s historical connection to the Nobel Prize began in 1901 with its first laureate, Wilhelm Röntgen, and continues with numerous recipients in fields like Medicine (e.g., Paul Farmer), Economics (e.g., Amartya Sen), and Peace (e.g., Barack Obama).\n",
            "- The institution maintains its influence through ongoing innovations in education, including efforts in online learning and a commitment to diversity, exemplified by plans to invest $100 million to advance racial equity and social justice.\n",
            "- Harvard's alumni occupy crucial roles globally, affecting decisions in politics, business, and science, demonstrating the university's far-reaching impact on society and public policy.\n",
            "- Its commitment to liberal arts education fosters critical thinking and ethical reasoning, equipping graduates to address complex global challenges.\n",
            "\n",
            "**Conclusion:**  \n",
            "Harvard University stands as a pillar of higher education, with a profound impact that extends far beyond academia. Its continuous adaptation to modern educational needs and its emphasis on research and diversity ensure that it not only influences the academic landscape but also shapes societal progress and leadership in various fields. The legacy and ongoing contributions of Harvard reaffirm its essential role in fostering knowledge and innovation on a global scale.\u001b[00m\n",
            "\n",
            "\n"
          ]
        },
        {
          "output_type": "display_data",
          "data": {
            "text/plain": [
              "<IPython.core.display.HTML object>"
            ],
            "text/html": [
              "\n",
              "    <div style=\"border-left: 5px solid #1e4b8f; padding: 12px 16px; background-color: #f0f6ff;\n",
              "                border-radius: 6px; font-family: 'Segoe UI', sans-serif; line-height: 1.6; margin: 10px 0;\">\n",
              "        <strong style=\"color: #1e4b8f; font-size: 16px;\">🧠 Final Output</strong><br>\n",
              "        <span style=\"font-size: 14px; color: #333;\">**Overview:**  <br>Harvard University, established in 1636, is the oldest higher education institution in the United States and a prestigious Ivy League research university. With a robust endowment of over $53 billion, it plays a crucial role in shaping future leaders across diverse fields through its 12 degree-granting schools. The university has a remarkable legacy of academic excellence, including educating 150 Nobel laureates, showcasing its significant contribution to research and knowledge across multiple disciplines.<br><br>**Key Insights:**<br>- Harvard’s historical connection to the Nobel Prize began in 1901 with its first laureate, Wilhelm Röntgen, and continues with numerous recipients in fields like Medicine (e.g., Paul Farmer), Economics (e.g., Amartya Sen), and Peace (e.g., Barack Obama).<br>- The institution maintains its influence through ongoing innovations in education, including efforts in online learning and a commitment to diversity, exemplified by plans to invest $100 million to advance racial equity and social justice.<br>- Harvard's alumni occupy crucial roles globally, affecting decisions in politics, business, and science, demonstrating the university's far-reaching impact on society and public policy.<br>- Its commitment to liberal arts education fosters critical thinking and ethical reasoning, equipping graduates to address complex global challenges.<br><br>**Conclusion:**  <br>Harvard University stands as a pillar of higher education, with a profound impact that extends far beyond academia. Its continuous adaptation to modern educational needs and its emphasis on research and diversity ensure that it not only influences the academic landscape but also shapes societal progress and leadership in various fields. The legacy and ongoing contributions of Harvard reaffirm its essential role in fostering knowledge and innovation on a global scale.</span>\n",
              "    </div>\n",
              "    "
            ]
          },
          "metadata": {}
        }
      ]
    },
    {
      "cell_type": "code",
      "source": [
        "# +++++ 🧪 Hands-On: Test with Different Topics\n",
        "# ++++++++++++++++++++++++++++++++++++++++++++++++++++++++++++++++++++++++++++++++++++++\n",
        "# Test the generalized agents with any topic you want\n",
        "\n",
        "def analyze_topic(topic):\n",
        "    \"\"\"Analyze any topic using our 2-agent crew\"\"\"\n",
        "\n",
        "    research_task_custom = Task(\n",
        "        description=f\"\"\"Research the topic: {topic}\n",
        "\n",
        "        Provide comprehensive information including:\n",
        "        1. Key facts and background information\n",
        "        2. Important developments and achievements\n",
        "        3. Current status and recent context\n",
        "        4. Significance and impact\n",
        "\n",
        "        Use your existing knowledge to provide accurate information.\"\"\",\n",
        "        expected_output=f\"Research findings about: {topic}\",\n",
        "        agent=research_agent\n",
        "    )\n",
        "\n",
        "    analysis_task_custom = Task(\n",
        "        description=f\"\"\"Analyze the research findings about: {topic}\n",
        "\n",
        "        Create a structured summary with:\n",
        "        1. One paragraph overview (3-4 sentences)\n",
        "        2. 3-4 key bullet points\n",
        "        3. Brief significance statement\n",
        "\n",
        "        Keep it concise and well-structured.\"\"\",\n",
        "        expected_output=\"Structured analysis with summary and key points\",\n",
        "        agent=analysis_agent\n",
        "    )\n",
        "\n",
        "    topic_crew = Crew(\n",
        "        agents=[research_agent, analysis_agent],\n",
        "        tasks=[research_task_custom, analysis_task_custom],\n",
        "        verbose=False\n",
        "    )\n",
        "\n",
        "    result = topic_crew.kickoff()\n",
        "    pretty_print(str(result), f\"📋 Analysis: {topic}\", \"blue\")\n",
        "    return result\n",
        "\n",
        "# 🎯 Test different topics - try these!\n",
        "print(\"🎯 Try these example topics:\")\n",
        "print('analyze_topic(\"Climate Change and Global Warming\")')\n",
        "print('analyze_topic(\"Artificial Intelligence in Healthcare\")')\n",
        "print('analyze_topic(\"Space Exploration and Mars Missions\")')\n",
        "print('analyze_topic(\"Renewable Energy Technologies\")')\n",
        "\n",
        "# Example: Uncomment to test\n",
        "analyze_topic(\"Climate Change and Global Warming\")"
      ],
      "metadata": {
        "id": "test_questions",
        "colab": {
          "base_uri": "https://localhost:8080/",
          "height": 1000
        },
        "outputId": "bc98bbe5-fb37-4bd1-bb82-a530c7af27e7"
      },
      "execution_count": 8,
      "outputs": [
        {
          "output_type": "stream",
          "name": "stdout",
          "text": [
            "🎯 Try these example topics:\n",
            "analyze_topic(\"Climate Change and Global Warming\")\n",
            "analyze_topic(\"Artificial Intelligence in Healthcare\")\n",
            "analyze_topic(\"Space Exploration and Mars Missions\")\n",
            "analyze_topic(\"Renewable Energy Technologies\")\n",
            "\u001b[1m\u001b[95m# Agent:\u001b[00m \u001b[1m\u001b[92mResearch Specialist\u001b[00m\n",
            "\u001b[95m## Task:\u001b[00m \u001b[92mResearch the topic: Climate Change and Global Warming\n",
            "\n",
            "        Provide comprehensive information including:\n",
            "        1. Key facts and background information\n",
            "        2. Important developments and achievements\n",
            "        3. Current status and recent context\n",
            "        4. Significance and impact\n",
            "\n",
            "        Use your existing knowledge to provide accurate information.\u001b[00m\n",
            "\n",
            "\n",
            "\u001b[1m\u001b[95m# Agent:\u001b[00m \u001b[1m\u001b[92mResearch Specialist\u001b[00m\n",
            "\u001b[95m## Final Answer:\u001b[00m \u001b[92m\n",
            "**Climate Change and Global Warming**\n",
            "\n",
            "**1. Key Facts and Background Information:**\n",
            "Climate change refers to significant changes in global temperatures and weather patterns over time. While climate change is a natural phenomenon, scientific evidence shows that human activities, particularly the burning of fossil fuels, deforestation, and industrial processes, are accelerating these changes. This increase in greenhouse gases (GHGs), especially carbon dioxide (CO2) and methane (CH4), traps heat in the atmosphere, leading to global warming, which is a key aspect of climate change.\n",
            "\n",
            "The Intergovernmental Panel on Climate Change (IPCC) has reported that the Earth's average surface temperature has risen about 1.2 degrees Celsius since the late 19th century. This rise is primarily driven by increased CO2 levels, which have climbed from about 280 parts per million (ppm) pre-industrial levels to over 410 ppm today.\n",
            "\n",
            "**2. Important Developments and Achievements:**\n",
            "Multiple international agreements have aimed to address climate change:\n",
            "- **The Kyoto Protocol (1997):** This was one of the first major international treaties aimed at reducing greenhouse gas emissions. It set binding targets for developed countries to lower their emissions.\n",
            "- **The Paris Agreement (2015):** Signed by nearly every country, this accord aims to limit global warming to well below 2 degrees Celsius above pre-industrial levels, with efforts to limit the increase to 1.5 degrees Celsius. Each country commits to setting and reporting their own emission reduction targets.\n",
            "- **The Glasgow Climate Pact (2021):** Developed during the COP26 summit, this pact emphasized the need for increased climate finance for developing nations and reinforced the commitments made under the Paris Agreement.\n",
            "\n",
            "In addition to these treaties, various nations have implemented renewable energy initiatives, such as solar and wind power, shown significant advancements in carbon capture technologies, and established frameworks for transitioning to a low-carbon economy.\n",
            "\n",
            "**3. Current Status and Recent Context:**\n",
            "As of October 2023, the urgency to address climate change has intensified with ongoing severe weather events, including hurricanes, floods, droughts, and wildfires that scientists attribute to climate change. Recent data indicates that both global temperatures and GHG concentrations are continuing to rise, leading to increasing sea levels and detrimental impacts on biodiversity.\n",
            "\n",
            "In 2023, the IPCC released its Sixth Assessment Report, reiterating the alarming trajectory of climate impacts on ecosystems and human health, and highlighting that immediate action is necessary to prevent the worst effects. A series of climate strikes and civil society movements have amplified awareness and demand for governmental accountability regarding climate action.\n",
            "\n",
            "Additionally, significant investments are being made in green technologies and sustainable practices across various sectors, such as agriculture, transportation, and urban planning, reflecting a growing recognition of the economic opportunities associated with climate action.\n",
            "\n",
            "**4. Significance and Impact:**\n",
            "The significance of addressing climate change cannot be overstated. It poses a profound threat to global health, biodiversity, food security, water supply, and economic stability. The impacts are interlinked with social issues, as marginalized communities are often the most affected despite contributing least to the problem.\n",
            "\n",
            "Climate change has implications for international security and migration patterns, as changes in climate may lead to displacement and conflict over scarce resources. Furthermore, various sectors, including agriculture, health, and the economy, stand to face serious disruptions if global warming is not addressed promptly.\n",
            "\n",
            "In contrast, proactive measures to mitigate climate change can drive innovation, create jobs in renewable energy sectors, and improve public health through better air quality and reduced pollution.\n",
            "\n",
            "In summary, climate change and global warming represent some of the most critical challenges facing humanity today. Proactive global response is essential not only to safeguard our environment but also to foster a sustainable future for generations to come.\u001b[00m\n",
            "\n",
            "\n",
            "\u001b[1m\u001b[95m# Agent:\u001b[00m \u001b[1m\u001b[92mContent Analyst\u001b[00m\n",
            "\u001b[95m## Task:\u001b[00m \u001b[92mAnalyze the research findings about: Climate Change and Global Warming\n",
            "\n",
            "        Create a structured summary with:\n",
            "        1. One paragraph overview (3-4 sentences)\n",
            "        2. 3-4 key bullet points\n",
            "        3. Brief significance statement\n",
            "\n",
            "        Keep it concise and well-structured.\u001b[00m\n",
            "\n",
            "\n",
            "\u001b[1m\u001b[95m# Agent:\u001b[00m \u001b[1m\u001b[92mContent Analyst\u001b[00m\n",
            "\u001b[95m## Final Answer:\u001b[00m \u001b[92m\n",
            "**Overview:**  \n",
            "Climate change refers to significant alterations in global temperature and weather patterns, exacerbated by human activities such as fossil fuel combustion and deforestation. This has led to an increase in greenhouse gases (GHGs), notably carbon dioxide and methane, which contribute to global warming. The Intergovernmental Panel on Climate Change (IPCC) indicates that the Earth's average surface temperature has risen by approximately 1.2 degrees Celsius since the late 19th century, primarily due to human-induced carbon emissions.\n",
            "\n",
            "**Key Bullet Points:**  \n",
            "- The Kyoto Protocol (1997) and the Paris Agreement (2015) are foundational international treaties aiming to reduce greenhouse gas emissions and limit global warming to well below 2 degrees Celsius.\n",
            "- The Glasgow Climate Pact (2021) reaffirms commitments made under the Paris Agreement and emphasizes increasing climate finance for developing nations.\n",
            "- The IPCC's Sixth Assessment Report (2023) highlights an urgent need for immediate action due to rising global temperatures and an increase in severe weather events linked to climate change.\n",
            "- Investments in renewable energy and green technologies are growing, indicating an economic shift towards sustainable practices that also address climate change.\n",
            "\n",
            "**Significance Statement:**  \n",
            "Addressing climate change is critical not only for global health and biodiversity but also for economic stability and social equity. The ongoing impacts threaten food security, water supply, and can drive international conflict and migration. Proactive measures not only mitigate climate effects but also foster innovation, create jobs, and improve public health outcomes, ensuring a sustainable future for all.\u001b[00m\n",
            "\n",
            "\n"
          ]
        },
        {
          "output_type": "display_data",
          "data": {
            "text/plain": [
              "<IPython.core.display.HTML object>"
            ],
            "text/html": [
              "\n",
              "    <div style=\"border-left: 5px solid #1e4b8f; padding: 12px 16px; background-color: #f0f6ff;\n",
              "                border-radius: 6px; font-family: 'Segoe UI', sans-serif; line-height: 1.6; margin: 10px 0;\">\n",
              "        <strong style=\"color: #1e4b8f; font-size: 16px;\">📋 Analysis: Climate Change and Global Warming</strong><br>\n",
              "        <span style=\"font-size: 14px; color: #333;\">**Overview:**  <br>Climate change refers to significant alterations in global temperature and weather patterns, exacerbated by human activities such as fossil fuel combustion and deforestation. This has led to an increase in greenhouse gases (GHGs), notably carbon dioxide and methane, which contribute to global warming. The Intergovernmental Panel on Climate Change (IPCC) indicates that the Earth's average surface temperature has risen by approximately 1.2 degrees Celsius since the late 19th century, primarily due to human-induced carbon emissions.<br><br>**Key Bullet Points:**  <br>- The Kyoto Protocol (1997) and the Paris Agreement (2015) are foundational international treaties aiming to reduce greenhouse gas emissions and limit global warming to well below 2 degrees Celsius.<br>- The Glasgow Climate Pact (2021) reaffirms commitments made under the Paris Agreement and emphasizes increasing climate finance for developing nations.<br>- The IPCC's Sixth Assessment Report (2023) highlights an urgent need for immediate action due to rising global temperatures and an increase in severe weather events linked to climate change.<br>- Investments in renewable energy and green technologies are growing, indicating an economic shift towards sustainable practices that also address climate change.<br><br>**Significance Statement:**  <br>Addressing climate change is critical not only for global health and biodiversity but also for economic stability and social equity. The ongoing impacts threaten food security, water supply, and can drive international conflict and migration. Proactive measures not only mitigate climate effects but also foster innovation, create jobs, and improve public health outcomes, ensuring a sustainable future for all.</span>\n",
              "    </div>\n",
              "    "
            ]
          },
          "metadata": {}
        },
        {
          "output_type": "execute_result",
          "data": {
            "text/plain": [
              "CrewOutput(raw=\"**Overview:**  \\nClimate change refers to significant alterations in global temperature and weather patterns, exacerbated by human activities such as fossil fuel combustion and deforestation. This has led to an increase in greenhouse gases (GHGs), notably carbon dioxide and methane, which contribute to global warming. The Intergovernmental Panel on Climate Change (IPCC) indicates that the Earth's average surface temperature has risen by approximately 1.2 degrees Celsius since the late 19th century, primarily due to human-induced carbon emissions.\\n\\n**Key Bullet Points:**  \\n- The Kyoto Protocol (1997) and the Paris Agreement (2015) are foundational international treaties aiming to reduce greenhouse gas emissions and limit global warming to well below 2 degrees Celsius.\\n- The Glasgow Climate Pact (2021) reaffirms commitments made under the Paris Agreement and emphasizes increasing climate finance for developing nations.\\n- The IPCC's Sixth Assessment Report (2023) highlights an urgent need for immediate action due to rising global temperatures and an increase in severe weather events linked to climate change.\\n- Investments in renewable energy and green technologies are growing, indicating an economic shift towards sustainable practices that also address climate change.\\n\\n**Significance Statement:**  \\nAddressing climate change is critical not only for global health and biodiversity but also for economic stability and social equity. The ongoing impacts threaten food security, water supply, and can drive international conflict and migration. Proactive measures not only mitigate climate effects but also foster innovation, create jobs, and improve public health outcomes, ensuring a sustainable future for all.\", pydantic=None, json_dict=None, tasks_output=[TaskOutput(description='Research the topic: Climate Change and Global Warming\\n\\n        Provide comprehensive information including:\\n        1. Key facts and background information\\n        2. Important developments and achievements\\n        3. Current status and recent context\\n        4. Significance and impact\\n\\n        Use your existing knowledge to provide accurate information.', name=None, expected_output='Research findings about: Climate Change and Global Warming', summary='Research the topic: Climate Change and Global Warming\\n\\n  ...', raw=\"**Climate Change and Global Warming**\\n\\n**1. Key Facts and Background Information:**\\nClimate change refers to significant changes in global temperatures and weather patterns over time. While climate change is a natural phenomenon, scientific evidence shows that human activities, particularly the burning of fossil fuels, deforestation, and industrial processes, are accelerating these changes. This increase in greenhouse gases (GHGs), especially carbon dioxide (CO2) and methane (CH4), traps heat in the atmosphere, leading to global warming, which is a key aspect of climate change.\\n\\nThe Intergovernmental Panel on Climate Change (IPCC) has reported that the Earth's average surface temperature has risen about 1.2 degrees Celsius since the late 19th century. This rise is primarily driven by increased CO2 levels, which have climbed from about 280 parts per million (ppm) pre-industrial levels to over 410 ppm today.\\n\\n**2. Important Developments and Achievements:**\\nMultiple international agreements have aimed to address climate change:\\n- **The Kyoto Protocol (1997):** This was one of the first major international treaties aimed at reducing greenhouse gas emissions. It set binding targets for developed countries to lower their emissions.\\n- **The Paris Agreement (2015):** Signed by nearly every country, this accord aims to limit global warming to well below 2 degrees Celsius above pre-industrial levels, with efforts to limit the increase to 1.5 degrees Celsius. Each country commits to setting and reporting their own emission reduction targets.\\n- **The Glasgow Climate Pact (2021):** Developed during the COP26 summit, this pact emphasized the need for increased climate finance for developing nations and reinforced the commitments made under the Paris Agreement.\\n\\nIn addition to these treaties, various nations have implemented renewable energy initiatives, such as solar and wind power, shown significant advancements in carbon capture technologies, and established frameworks for transitioning to a low-carbon economy.\\n\\n**3. Current Status and Recent Context:**\\nAs of October 2023, the urgency to address climate change has intensified with ongoing severe weather events, including hurricanes, floods, droughts, and wildfires that scientists attribute to climate change. Recent data indicates that both global temperatures and GHG concentrations are continuing to rise, leading to increasing sea levels and detrimental impacts on biodiversity.\\n\\nIn 2023, the IPCC released its Sixth Assessment Report, reiterating the alarming trajectory of climate impacts on ecosystems and human health, and highlighting that immediate action is necessary to prevent the worst effects. A series of climate strikes and civil society movements have amplified awareness and demand for governmental accountability regarding climate action.\\n\\nAdditionally, significant investments are being made in green technologies and sustainable practices across various sectors, such as agriculture, transportation, and urban planning, reflecting a growing recognition of the economic opportunities associated with climate action.\\n\\n**4. Significance and Impact:**\\nThe significance of addressing climate change cannot be overstated. It poses a profound threat to global health, biodiversity, food security, water supply, and economic stability. The impacts are interlinked with social issues, as marginalized communities are often the most affected despite contributing least to the problem.\\n\\nClimate change has implications for international security and migration patterns, as changes in climate may lead to displacement and conflict over scarce resources. Furthermore, various sectors, including agriculture, health, and the economy, stand to face serious disruptions if global warming is not addressed promptly.\\n\\nIn contrast, proactive measures to mitigate climate change can drive innovation, create jobs in renewable energy sectors, and improve public health through better air quality and reduced pollution.\\n\\nIn summary, climate change and global warming represent some of the most critical challenges facing humanity today. Proactive global response is essential not only to safeguard our environment but also to foster a sustainable future for generations to come.\", pydantic=None, json_dict=None, agent='Research Specialist', output_format=<OutputFormat.RAW: 'raw'>), TaskOutput(description='Analyze the research findings about: Climate Change and Global Warming\\n\\n        Create a structured summary with:\\n        1. One paragraph overview (3-4 sentences)\\n        2. 3-4 key bullet points\\n        3. Brief significance statement\\n\\n        Keep it concise and well-structured.', name=None, expected_output='Structured analysis with summary and key points', summary='Analyze the research findings about: Climate Change and Global Warming\\n\\n...', raw=\"**Overview:**  \\nClimate change refers to significant alterations in global temperature and weather patterns, exacerbated by human activities such as fossil fuel combustion and deforestation. This has led to an increase in greenhouse gases (GHGs), notably carbon dioxide and methane, which contribute to global warming. The Intergovernmental Panel on Climate Change (IPCC) indicates that the Earth's average surface temperature has risen by approximately 1.2 degrees Celsius since the late 19th century, primarily due to human-induced carbon emissions.\\n\\n**Key Bullet Points:**  \\n- The Kyoto Protocol (1997) and the Paris Agreement (2015) are foundational international treaties aiming to reduce greenhouse gas emissions and limit global warming to well below 2 degrees Celsius.\\n- The Glasgow Climate Pact (2021) reaffirms commitments made under the Paris Agreement and emphasizes increasing climate finance for developing nations.\\n- The IPCC's Sixth Assessment Report (2023) highlights an urgent need for immediate action due to rising global temperatures and an increase in severe weather events linked to climate change.\\n- Investments in renewable energy and green technologies are growing, indicating an economic shift towards sustainable practices that also address climate change.\\n\\n**Significance Statement:**  \\nAddressing climate change is critical not only for global health and biodiversity but also for economic stability and social equity. The ongoing impacts threaten food security, water supply, and can drive international conflict and migration. Proactive measures not only mitigate climate effects but also foster innovation, create jobs, and improve public health outcomes, ensuring a sustainable future for all.\", pydantic=None, json_dict=None, agent='Content Analyst', output_format=<OutputFormat.RAW: 'raw'>)], token_usage=UsageMetrics(total_tokens=4519, prompt_tokens=2432, cached_prompt_tokens=0, completion_tokens=2087, successful_requests=4))"
            ]
          },
          "metadata": {},
          "execution_count": 8
        }
      ]
    },
    {
      "cell_type": "markdown",
      "source": [
        "## 🔧 Part 2: Adding Tools to Agents\n",
        "\n",
        "Now let's **extend our lab** by adding tools to make our agents more powerful!\n",
        "\n",
        "In CrewAI, agents can be equipped with **tools** to perform external tasks such as:\n",
        "- Searching the web 🌐\n",
        "- Reading from websites 📖\n",
        "- Calling APIs 📡\n",
        "- Doing calculations 🧮\n",
        "\n",
        "### 🛠️ Tool Types in CrewAI\n",
        "\n",
        "CrewAI supports many tools via `crewai_tools` and `langchain` integration. In this part, we focus on using a **web search tool** that:\n",
        "- ✅ Works without requiring an API key\n",
        "- 🔓 Is fully integrated with CrewAI\n",
        "- 🧠 Allows the agent to gather **current information** from the internet\n",
        "\n",
        "---\n",
        "\n",
        "### 🌐 WebsiteSearchTool – Free Web Search (No API Key Needed)\n",
        "\n",
        "The `WebsiteSearchTool` is a built-in tool from `crewai_tools` that allows agents to search the web without credentials. It’s perfect for:\n",
        "- Research agents looking for up-to-date content\n",
        "- Summarizing recent news and trends\n",
        "- Pulling data from publicly accessible websites\n",
        "\n",
        "```python\n",
        "from crewai_tools import WebsiteSearchTool\n",
        "\n",
        "search_tool = WebsiteSearchTool()\n"
      ],
      "metadata": {
        "id": "math_lab_intro"
      }
    },
    {
      "cell_type": "code",
      "source": [
        "from crewai import Agent, Task, Crew\n",
        "from crewai_tools import WebsiteSearchTool\n",
        "\n",
        "# 🔍 Create a free web search agent (no API key required)\n",
        "web_researcher = Agent(\n",
        "    role=\"Web Research Agent\",\n",
        "    goal=\"Gather current online information using free CrewAI web search tool\",\n",
        "    backstory=\"You research current events with the built-in CrewAI WebsiteSearchTool (no API key needed).\",\n",
        "    tools=[WebsiteSearchTool()],\n",
        "    verbose=True,\n",
        "    allow_delegation=False\n",
        ")\n",
        "\n",
        "pretty_print(\"🔍 Web research agent created with WebsiteSearchTool!\\n🌐 Can search websites without API keys\", \"✅ Web Agent Ready\", \"blue\")\n",
        "\n",
        "# 🎯 Task: perform and analyze search\n",
        "def search_current_info(topic):\n",
        "    search_task = Task(\n",
        "        description=f\"Use the free WebsiteSearchTool to search for recent updates on: {topic}\",\n",
        "        expected_output=\"Raw search results\",\n",
        "        agent=web_researcher\n",
        "    )\n",
        "    analysis_task = Task(\n",
        "        description=f\"Analyze the raw search results for: {topic}. Summarize key findings.\",\n",
        "        expected_output=\"Summary of insights\",\n",
        "        agent=web_researcher\n",
        "    )\n",
        "    crew = Crew(agents=[web_researcher], tasks=[search_task, analysis_task], verbose=False)\n",
        "\n",
        "    pretty_print(f\"🔍 Searching for current information about: {topic}\", \"🚀 Web Search Started\", \"yellow\")\n",
        "\n",
        "    result = crew.kickoff()\n",
        "\n",
        "    pretty_print(str(result), f\"🌐 Search Results: {topic}\", \"blue\")\n",
        "\n",
        "    return result"
      ],
      "metadata": {
        "id": "math_agent",
        "colab": {
          "base_uri": "https://localhost:8080/",
          "height": 221
        },
        "outputId": "7ae56c24-fd20-4392-8193-043ecc3b2f5c"
      },
      "execution_count": 9,
      "outputs": [
        {
          "output_type": "stream",
          "name": "stderr",
          "text": [
            "/usr/local/lib/python3.11/dist-packages/alembic/config.py:577: DeprecationWarning: No path_separator found in configuration; falling back to legacy splitting on spaces, commas, and colons for prepend_sys_path.  Consider adding path_separator=os to Alembic config.\n",
            "  util.warn_deprecated(\n",
            "/usr/local/lib/python3.11/dist-packages/chromadb/types.py:144: PydanticDeprecatedSince211: Accessing the 'model_fields' attribute on the instance is deprecated. Instead, you should access this attribute from the model class. Deprecated in Pydantic V2.11 to be removed in V3.0.\n",
            "  return self.model_fields  # pydantic 2.x\n"
          ]
        },
        {
          "output_type": "display_data",
          "data": {
            "text/plain": [
              "<IPython.core.display.HTML object>"
            ],
            "text/html": [
              "\n",
              "    <div style=\"border-left: 5px solid #1e4b8f; padding: 12px 16px; background-color: #f0f6ff;\n",
              "                border-radius: 6px; font-family: 'Segoe UI', sans-serif; line-height: 1.6; margin: 10px 0;\">\n",
              "        <strong style=\"color: #1e4b8f; font-size: 16px;\">✅ Web Agent Ready</strong><br>\n",
              "        <span style=\"font-size: 14px; color: #333;\">🔍 Web research agent created with WebsiteSearchTool!<br>🌐 Can search websites without API keys</span>\n",
              "    </div>\n",
              "    "
            ]
          },
          "metadata": {}
        }
      ]
    },
    {
      "cell_type": "code",
      "source": [
        "# 🧪 Example usage:\n",
        "result = search_current_info(\"latest AI breakthroughs 2025\")"
      ],
      "metadata": {
        "id": "1dGCBZej7Jpw",
        "colab": {
          "base_uri": "https://localhost:8080/",
          "height": 1000
        },
        "outputId": "d23d2b10-6950-4014-e6f7-682991e8c1f7"
      },
      "execution_count": 10,
      "outputs": [
        {
          "output_type": "display_data",
          "data": {
            "text/plain": [
              "<IPython.core.display.HTML object>"
            ],
            "text/html": [
              "\n",
              "    <div style=\"border-left: 5px solid #b26a00; padding: 12px 16px; background-color: #fff8e1;\n",
              "                border-radius: 6px; font-family: 'Segoe UI', sans-serif; line-height: 1.6; margin: 10px 0;\">\n",
              "        <strong style=\"color: #b26a00; font-size: 16px;\">🚀 Web Search Started</strong><br>\n",
              "        <span style=\"font-size: 14px; color: #333;\">🔍 Searching for current information about: latest AI breakthroughs 2025</span>\n",
              "    </div>\n",
              "    "
            ]
          },
          "metadata": {}
        },
        {
          "output_type": "stream",
          "name": "stdout",
          "text": [
            "\u001b[1m\u001b[95m# Agent:\u001b[00m \u001b[1m\u001b[92mWeb Research Agent\u001b[00m\n",
            "\u001b[95m## Task:\u001b[00m \u001b[92mUse the free WebsiteSearchTool to search for recent updates on: latest AI breakthroughs 2025\u001b[00m\n"
          ]
        },
        {
          "output_type": "stream",
          "name": "stderr",
          "text": [
            "Inserting batches in chromadb:   0%|          | 0/1 [00:00<?, ?it/s]/usr/local/lib/python3.11/dist-packages/chromadb/types.py:144: PydanticDeprecatedSince211: Accessing the 'model_fields' attribute on the instance is deprecated. Instead, you should access this attribute from the model class. Deprecated in Pydantic V2.11 to be removed in V3.0.\n",
            "  return self.model_fields  # pydantic 2.x\n",
            "Inserting batches in chromadb: 100%|██████████| 1/1 [00:00<00:00,  1.13it/s]\n"
          ]
        },
        {
          "output_type": "stream",
          "name": "stdout",
          "text": [
            "\n",
            "\n",
            "\u001b[1m\u001b[95m# Agent:\u001b[00m \u001b[1m\u001b[92mWeb Research Agent\u001b[00m\n",
            "\u001b[95m## Thought:\u001b[00m \u001b[92mAction: Search in a specific website\u001b[00m\n",
            "\u001b[95m## Using tool:\u001b[00m \u001b[92mSearch in a specific website\u001b[00m\n",
            "\u001b[95m## Tool Input:\u001b[00m \u001b[92m\n",
            "\"{\\\"search_query\\\": \\\"latest AI breakthroughs 2025\\\", \\\"website\\\": \\\"https://www.techcrunch.com\\\"}\"\u001b[00m\n",
            "\u001b[95m## Tool Output:\u001b[00m \u001b[92m\n",
            "Relevant Content:\n",
            "DeepMind, Twelve Labs, and Amazon TC Video Jun 6, 2025 AI See More AI A timeline of the US semiconductor market in 2025 Rebecca Szkutak 6 hours ago AI Nvidia’s AI empire: A look at its top startup investments Marina Temkin 6 hours ago AI Here are the 24 US AI startups that have raised $100M or more in 2025 Rebecca Szkutak 19 hours ago AI ‘Kid-pilled’ Sam Altman ‘constantly’ asked ChatGPT questions about his newborn Amanda Silberling 20 hours ago Startups Six-month-old, solo-owned vibe coder Base44 sells to Wix for $80M cash Julie Bort 20 hours ago Security See More Security Internet collapses across Iran, say web-monitoring firms Lorenzo Franceschi-Bicchierai 1 day ago Security Hackers steal and destroy millions from Iran’s largest crypto exchange Zack Whittaker 1 day ago Security Pro-Israel hacktivist group claims responsibility for alleged Iranian bank hack Lorenzo Franceschi-Bicchierai 2 days ago Security As grocery shortages persist, UNFI says it’s recovering from cyberattack Zack Whittaker 2 days ago In Brief UK watchdog fines 23andMe over 2023 data breach Zack Whittaker 2 days ago Venture See More TechCrunch Disrupt 2025 TechCrunch Disrupt 2025: The Builders Stage agenda is now live and taking shape TechCrunch Events 2 hours ago TechCrunch All Stage 2025 Raising a Series C+? Cathy Gao’s bringing the real playbook to TechCrunch All Stage TechCrunch Events 2 hours ago TechCrunch All Stage 2025 At TechCrunch All Stage: VC red flags, founder signals, and pre-seed traps — Charles Hudson will tell you what investors really see TechCrunch Events 2 hours ago TechCrunch All Stage 2025 4 days left: Lock in your TechCrunch All Stage pass — or miss $210 in savings TechCrunch Events 3 hours ago In Brief No, Andreessen Horowitz didn’t post that crypto scam tweet Julie Bort 17 hours ago Startups Seed to Series C: What VCs actually want from AI startups Rebecca Bellan Theresa Loconsolo 1 day ago TechCrunch All Stage 2025 Scale smarter: 5 days left to save up to $210 on your\n",
            "\n",
            "beyond—founders and VCs of all stages are heading to Boston. Be part of the conversation. Save $200+ now and tap into powerful takeaways, peer insights, and game-changing connections. Register Now Most Popular Six-month-old, solo-owned vibe coder Base44 sells to Wix for $80M cash Julie Bort Police shut down Cluely’s party, the ‘cheat at everything’ startup Julie Bort Sam Altman says Meta tried and failed to poach OpenAI’s talent with $100M offers Maxwell Zeff Finland warms up the world’s largest sand battery, and the economics look appealing Tim De Chant The US Navy is more aggressively telling startups, ‘We want you’ Connie Loizos Google reportedly plans to cut ties with Scale AI Anthony Ha Google Cloud outage brings down a lot of the internet Maxwell Zeff Storylines See More Catch up on trending topics Apps WWDC 2025 live updates: iOS 26, Liquid Glass, Apple Intelligence updates, and everything else revealed 29 Stories Jun 9, 2025 Enterprise Google I/O 2025 live coverage: Google AI Ultra, Project Mariner, Gemini app updates, and more 62 Stories May 20, 2025 Transportation Tesla earnings wrap up: Elon Musk talks DOGE, Trump and tariffs, robotaxis, AI, and cheap EVs 27 Stories Apr 22, 2025 AI Nvidia GTC 2025 live updates: Blackwell Ultra, GM partnerships, and two ‘personal AI supercomputers’ 33 Stories Mar 17, 2025 AI SXSW 2025 live coverage: Health tips from Bryan Johnson, concerns about Elon Musk, and what it’s like to actually ride a Waymo Uber on the conference’s final day 36 Stories Mar 7, 2025 Enterprise Alphabet earnings live updates: AI, Gemini 2.0, Google Cloud, and more 12 Stories Feb 4, 2025 Transportation Tesla earnings live updates: Promising ‘return to growth’ and cheaper cars 35 Stories Jan 29, 2025 Hardware Samsung Unpacked 2025 live updates: Galaxy S25, new AI features, and more 8 Stories Jan 22, 2025 Upcoming Events See More TechCrunch All Stage 2025 Boston, Massachusetts July 15, 2025 Presented by Register Now Book Exhibit Table Save $200+ before\n",
            "\n",
            "June 23 TechCrunch Disrupt 2025 San Francisco, CA October 27 – 29, 2025 Register Now Book Exhibit Table Save up to $675 Newsletters See More Subscribe for the industry’s biggest tech news Startups See More TechCrunch Disrupt 2025 TechCrunch Disrupt 2025: The Builders Stage agenda is now live and taking shape TechCrunch Events 2 hours ago TechCrunch All Stage 2025 Raising a Series C+? Cathy Gao’s bringing the real playbook to TechCrunch All Stage TechCrunch Events 2 hours ago TechCrunch All Stage 2025 At TechCrunch All Stage: VC red flags, founder signals, and pre-seed traps — Charles Hudson will tell you what investors really see TechCrunch Events 2 hours ago TechCrunch All Stage 2025 4 days left: Lock in your TechCrunch All Stage pass — or miss $210 in savings TechCrunch Events 3 hours ago AI Nvidia’s AI empire: A look at its top startup investments Marina Temkin 6 hours ago Video See More Venture How this VC spots the global game changers Accel Partner Sonali De Rycker chatted with TechCrunch’s Editor-in-Chief Connie Loizos about what it takes to spot and scale category-defining companies in today’s fast-evolving tech landscape. May 14, 2025 More From: AI How AI chatbots keep people coming back TC Video 2 days ago AI The AI policy playbook: What global startups need to know TC Video Jun 9, 2025 AI Behind your firewall: secure generative AI for regulated enterprises TC Video Jun 9, 2025 AI Suite AI: how SAP is bringing AI to the enterprise TC Video Jun 9, 2025 AI Anthropic’s Jared Kaplan Charts the Course for Enterprise AI TC Video Jun 6, 2025 AI Building Your AI Engine: How OpenAI Works with Startups TC Video Jun 6, 2025 AI AI startups take to the stage to pitch their companies to a panel of judges TC Video Jun 6, 2025 AI Building More Scalable GenAI Applications for Startups and Developers TC Video Jun 6, 2025 AI Disruption playbook: How to beat AI incumbents at their own game TC Video Jun 6, 2025 AI The best ways to build on top of foundation models, with\u001b[00m\n",
            "\n",
            "\n",
            "\u001b[1m\u001b[95m# Agent:\u001b[00m \u001b[1m\u001b[92mWeb Research Agent\u001b[00m\n",
            "\u001b[95m## Final Answer:\u001b[00m \u001b[92m\n",
            "DeepMind, Twelve Labs, and Amazon TC Video Jun 6, 2025 AI See More AI A timeline of the US semiconductor market in 2025 Rebecca Szkutak 6 hours ago AI Nvidia’s AI empire: A look at its top startup investments Marina Temkin 6 hours ago AI Here are the 24 US AI startups that have raised $100M or more in 2025 Rebecca Szkutak 19 hours ago AI ‘Kid-pilled’ Sam Altman ‘constantly’ asked ChatGPT questions about his newborn Amanda Silberling 20 hours ago Startups Six-month-old, solo-owned vibe coder Base44 sells to Wix for $80M cash Julie Bort 20 hours ago Security See More Security Internet collapses across Iran, say web-monitoring firms Lorenzo Franceschi-Bicchierai 1 day ago Security Hackers steal and destroy millions from Iran’s largest crypto exchange Zack Whittaker 1 day ago Security Pro-Israel hacktivist group claims responsibility for alleged Iranian bank hack Lorenzo Franceschi-Bicchierai 2 days ago Security As grocery shortages persist, UNFI says it’s recovering from cyberattack Zack Whittaker 2 days ago In Brief UK watchdog fines 23andMe over 2023 data breach Zack Whittaker 2 days ago Venture See More TechCrunch Disrupt 2025 TechCrunch Disrupt 2025: The Builders Stage agenda is now live and taking shape TechCrunch Events 2 hours ago TechCrunch All Stage 2025 Raising a Series C+? Cathy Gao’s bringing the real playbook to TechCrunch All Stage TechCrunch Events 2 hours ago TechCrunch All Stage 2025 At TechCrunch All Stage: VC red flags, founder signals, and pre-seed traps — Charles Hudson will tell you what investors really see TechCrunch Events 2 hours ago TechCrunch All Stage 2025 4 days left: Lock in your TechCrunch All Stage pass — or miss $210 in savings TechCrunch Events 3 hours ago In Brief No, Andreessen Horowitz didn’t post that crypto scam tweet Julie Bort 17 hours ago Startups Seed to Series C: What VCs actually want from AI startups Rebecca Bellan Theresa Loconsolo 1 day ago TechCrunch All Stage 2025 Scale smarter: 5 days left to save up to $210 on your beyond—founders and VCs of all stages are heading to Boston. Be part of the conversation. Save $200+ now and tap into powerful takeaways, peer insights, and game-changing connections. Register Now Most Popular Six-month-old, solo-owned vibe coder Base44 sells to Wix for $80M cash Julie Bort Police shut down Cluely’s party, the ‘cheat at everything’ startup Julie Bort Sam Altman says Meta tried and failed to poach OpenAI’s talent with $100M offers Maxwell Zeff Finland warms up the world’s largest sand battery, and the economics look appealing Tim De Chant The US Navy is more aggressively telling startups, ‘We want you’ Connie Loizos Google reportedly plans to cut ties with Scale AI Anthony Ha Google Cloud outage brings down a lot of the internet Maxwell Zeff Storylines See More Catch up on trending topics Apps WWDC 2025 live updates: iOS 26, Liquid Glass, Apple Intelligence updates, and everything else revealed 29 Stories Jun 9, 2025 Enterprise Google I/O 2025 live coverage: Google AI Ultra, Project Mariner, Gemini app updates, and more 62 Stories May 20, 2025 Transportation Tesla earnings wrap up: Elon Musk talks DOGE, Trump and tariffs, robotaxis, AI, and cheap EVs 27 Stories Apr 22, 2025 AI Nvidia GTC 2025 live updates: Blackwell Ultra, GM partnerships, and two ‘personal AI supercomputers’ 33 Stories Mar 17, 2025 AI SXSW 2025 live coverage: Health tips from Bryan Johnson, concerns about Elon Musk, and what it’s like to actually ride a Waymo Uber on the conference’s final day 36 Stories Mar 7, 2025 Enterprise Alphabet earnings live updates: AI, Gemini 2.0, Google Cloud, and more 12 Stories Feb 4, 2025 Transportation Tesla earnings live updates: Promising ‘return to growth’ and cheaper cars 35 Stories Jan 29, 2025 Hardware Samsung Unpacked 2025 live updates: Galaxy S25, new AI features, and more 8 Stories Jan 22, 2025 Upcoming Events See More TechCrunch All Stage 2025 Boston, Massachusetts July 15, 2025 Presented by Register Now Book Exhibit Table Save $200+ before June 23 TechCrunch Disrupt 2025 San Francisco, CA October 27 – 29, 2025 Register Now Book Exhibit Table Save up to $675 Newsletters See More Subscribe for the industry’s biggest tech news Startups See More TechCrunch Disrupt 2025 TechCrunch Disrupt 2025: The Builders Stage agenda is now live and taking shape TechCrunch Events 2 hours ago TechCrunch All Stage 2025 Raising a Series C+? Cathy Gao’s bringing the real playbook to TechCrunch All Stage TechCrunch Events 2 hours ago TechCrunch All Stage 2025 At TechCrunch All Stage: VC red flags, founder signals, and pre-seed traps — Charles Hudson will tell you what investors really see TechCrunch Events 2 hours ago TechCrunch All Stage 2025 4 days left: Lock in your TechCrunch All Stage pass — or miss $210 in savings TechCrunch Events 3 hours ago AI Nvidia’s AI empire: A look at its top startup investments Marina Temkin 6 hours ago Video See More Venture How this VC spots the global game changers Accel Partner Sonali De Rycker chatted with TechCrunch’s Editor-in-Chief Connie Loizos about what it takes to spot and scale category-defining companies in today’s fast-evolving tech landscape. May 14, 2025 More From: AI How AI chatbots keep people coming back TC Video 2 days ago AI The AI policy playbook: What global startups need to know TC Video Jun 9, 2025 AI Behind your firewall: secure generative AI for regulated enterprises TC Video Jun 9, 2025 AI Suite AI: how SAP is bringing AI to the enterprise TC Video Jun 9, 2025 AI Anthropic’s Jared Kaplan Charts the Course for Enterprise AI TC Video Jun 6, 2025 AI Building Your AI Engine: How OpenAI Works with Startups TC Video Jun 6, 2025 AI AI startups take to the stage to pitch their companies to a panel of judges TC Video Jun 6, 2025 AI Building More Scalable GenAI Applications for Startups and Developers TC Video Jun 6, 2025 AI Disruption playbook: How to beat AI incumbents at their own game TC Video Jun 6, 2025 AI The best ways to build on top of foundation models, with\u001b[00m\n",
            "\n",
            "\n",
            "\u001b[1m\u001b[95m# Agent:\u001b[00m \u001b[1m\u001b[92mWeb Research Agent\u001b[00m\n",
            "\u001b[95m## Task:\u001b[00m \u001b[92mAnalyze the raw search results for: latest AI breakthroughs 2025. Summarize key findings.\u001b[00m\n"
          ]
        },
        {
          "output_type": "stream",
          "name": "stderr",
          "text": [
            "Inserting batches in chromadb:   0%|          | 0/1 [00:00<?, ?it/s]/usr/local/lib/python3.11/dist-packages/chromadb/types.py:144: PydanticDeprecatedSince211: Accessing the 'model_fields' attribute on the instance is deprecated. Instead, you should access this attribute from the model class. Deprecated in Pydantic V2.11 to be removed in V3.0.\n",
            "  return self.model_fields  # pydantic 2.x\n",
            "Inserting batches in chromadb: 100%|██████████| 1/1 [00:00<00:00,  2.09it/s]\n"
          ]
        },
        {
          "output_type": "stream",
          "name": "stdout",
          "text": [
            "\n",
            "\n",
            "\u001b[1m\u001b[95m# Agent:\u001b[00m \u001b[1m\u001b[92mWeb Research Agent\u001b[00m\n",
            "\u001b[95m## Thought:\u001b[00m \u001b[92mI need to search for the latest information on AI breakthroughs in 2025 to gather insights and summarize the key findings.\u001b[00m\n",
            "\u001b[95m## Using tool:\u001b[00m \u001b[92mSearch in a specific website\u001b[00m\n",
            "\u001b[95m## Tool Input:\u001b[00m \u001b[92m\n",
            "\"{\\\"search_query\\\": \\\"latest AI breakthroughs 2025\\\", \\\"website\\\": \\\"https://techcrunch.com\\\"}\"\u001b[00m\n",
            "\u001b[95m## Tool Output:\u001b[00m \u001b[92m\n",
            "Relevant Content:\n",
            "DeepMind, Twelve Labs, and Amazon TC Video Jun 6, 2025 AI See More AI A timeline of the US semiconductor market in 2025 Rebecca Szkutak 6 hours ago AI Nvidia’s AI empire: A look at its top startup investments Marina Temkin 6 hours ago AI Here are the 24 US AI startups that have raised $100M or more in 2025 Rebecca Szkutak 19 hours ago AI ‘Kid-pilled’ Sam Altman ‘constantly’ asked ChatGPT questions about his newborn Amanda Silberling 20 hours ago Startups Six-month-old, solo-owned vibe coder Base44 sells to Wix for $80M cash Julie Bort 20 hours ago Security See More Security Internet collapses across Iran, say web-monitoring firms Lorenzo Franceschi-Bicchierai 1 day ago Security Hackers steal and destroy millions from Iran’s largest crypto exchange Zack Whittaker 1 day ago Security Pro-Israel hacktivist group claims responsibility for alleged Iranian bank hack Lorenzo Franceschi-Bicchierai 2 days ago Security As grocery shortages persist, UNFI says it’s recovering from cyberattack Zack Whittaker 2 days ago In Brief UK watchdog fines 23andMe over 2023 data breach Zack Whittaker 2 days ago Venture See More TechCrunch Disrupt 2025 TechCrunch Disrupt 2025: The Builders Stage agenda is now live and taking shape TechCrunch Events 2 hours ago TechCrunch All Stage 2025 Raising a Series C+? Cathy Gao’s bringing the real playbook to TechCrunch All Stage TechCrunch Events 2 hours ago TechCrunch All Stage 2025 At TechCrunch All Stage: VC red flags, founder signals, and pre-seed traps — Charles Hudson will tell you what investors really see TechCrunch Events 2 hours ago TechCrunch All Stage 2025 4 days left: Lock in your TechCrunch All Stage pass — or miss $210 in savings TechCrunch Events 3 hours ago In Brief No, Andreessen Horowitz didn’t post that crypto scam tweet Julie Bort 17 hours ago Startups Seed to Series C: What VCs actually want from AI startups Rebecca Bellan Theresa Loconsolo 1 day ago TechCrunch All Stage 2025 Scale smarter: 5 days left to save up to $210 on your\n",
            "\n",
            "DeepMind, Twelve Labs, and Amazon TC Video Jun 6, 2025 AI See More AI A timeline of the US semiconductor market in 2025 Rebecca Szkutak 6 hours ago AI Nvidia’s AI empire: A look at its top startup investments Marina Temkin 6 hours ago AI Here are the 24 US AI startups that have raised $100M or more in 2025 Rebecca Szkutak 19 hours ago AI ‘Kid-pilled’ Sam Altman ‘constantly’ asked ChatGPT questions about his newborn Amanda Silberling 20 hours ago Startups Six-month-old, solo-owned vibe coder Base44 sells to Wix for $80M cash Julie Bort 20 hours ago Security See More Security Internet collapses across Iran, say web-monitoring firms Lorenzo Franceschi-Bicchierai 1 day ago Security Hackers steal and destroy millions from Iran’s largest crypto exchange Zack Whittaker 1 day ago Security Pro-Israel hacktivist group claims responsibility for alleged Iranian bank hack Lorenzo Franceschi-Bicchierai 2 days ago Security As grocery shortages persist, UNFI says it’s recovering from cyberattack Zack Whittaker 2 days ago In Brief UK watchdog fines 23andMe over 2023 data breach Zack Whittaker 2 days ago Venture See More TechCrunch Disrupt 2025 TechCrunch Disrupt 2025: The Builders Stage agenda is now live and taking shape TechCrunch Events 2 hours ago TechCrunch All Stage 2025 Raising a Series C+? Cathy Gao’s bringing the real playbook to TechCrunch All Stage TechCrunch Events 2 hours ago TechCrunch All Stage 2025 At TechCrunch All Stage: VC red flags, founder signals, and pre-seed traps — Charles Hudson will tell you what investors really see TechCrunch Events 2 hours ago TechCrunch All Stage 2025 4 days left: Lock in your TechCrunch All Stage pass — or miss $210 in savings TechCrunch Events 3 hours ago In Brief No, Andreessen Horowitz didn’t post that crypto scam tweet Julie Bort 17 hours ago Startups Seed to Series C: What VCs actually want from AI startups Rebecca Bellan Theresa Loconsolo 1 day ago TechCrunch All Stage 2025 Scale smarter: 5 days left to save up to $210 on your\n",
            "\n",
            "beyond—founders and VCs of all stages are heading to Boston. Be part of the conversation. Save $200+ now and tap into powerful takeaways, peer insights, and game-changing connections. Register Now Most Popular Six-month-old, solo-owned vibe coder Base44 sells to Wix for $80M cash Julie Bort Police shut down Cluely’s party, the ‘cheat at everything’ startup Julie Bort Sam Altman says Meta tried and failed to poach OpenAI’s talent with $100M offers Maxwell Zeff Finland warms up the world’s largest sand battery, and the economics look appealing Tim De Chant The US Navy is more aggressively telling startups, ‘We want you’ Connie Loizos Google reportedly plans to cut ties with Scale AI Anthony Ha Google Cloud outage brings down a lot of the internet Maxwell Zeff Storylines See More Catch up on trending topics Apps WWDC 2025 live updates: iOS 26, Liquid Glass, Apple Intelligence updates, and everything else revealed 29 Stories Jun 9, 2025 Enterprise Google I/O 2025 live coverage: Google AI Ultra, Project Mariner, Gemini app updates, and more 62 Stories May 20, 2025 Transportation Tesla earnings wrap up: Elon Musk talks DOGE, Trump and tariffs, robotaxis, AI, and cheap EVs 27 Stories Apr 22, 2025 AI Nvidia GTC 2025 live updates: Blackwell Ultra, GM partnerships, and two ‘personal AI supercomputers’ 33 Stories Mar 17, 2025 AI SXSW 2025 live coverage: Health tips from Bryan Johnson, concerns about Elon Musk, and what it’s like to actually ride a Waymo Uber on the conference’s final day 36 Stories Mar 7, 2025 Enterprise Alphabet earnings live updates: AI, Gemini 2.0, Google Cloud, and more 12 Stories Feb 4, 2025 Transportation Tesla earnings live updates: Promising ‘return to growth’ and cheaper cars 35 Stories Jan 29, 2025 Hardware Samsung Unpacked 2025 live updates: Galaxy S25, new AI features, and more 8 Stories Jan 22, 2025 Upcoming Events See More TechCrunch All Stage 2025 Boston, Massachusetts July 15, 2025 Presented by Register Now Book Exhibit Table Save $200+ before\u001b[00m\n",
            "\n",
            "\n",
            "\u001b[1m\u001b[95m# Agent:\u001b[00m \u001b[1m\u001b[92mWeb Research Agent\u001b[00m\n",
            "\u001b[95m## Final Answer:\u001b[00m \u001b[92m\n",
            "DeepMind, Twelve Labs, and Amazon TC Video Jun 6, 2025 AI See More AI A timeline of the US semiconductor market in 2025 Rebecca Szkutak 6 hours ago AI Nvidia’s AI empire: A look at its top startup investments Marina Temkin 6 hours ago AI Here are the 24 US AI startups that have raised $100M or more in 2025 Rebecca Szkutak 19 hours ago AI ‘Kid-pilled’ Sam Altman ‘constantly’ asked ChatGPT questions about his newborn Amanda Silberling 20 hours ago Startups Six-month-old, solo-owned vibe coder Base44 sells to Wix for $80M cash Julie Bort 20 hours ago Security See More Security Internet collapses across Iran, say web-monitoring firms Lorenzo Franceschi-Bicchierai 1 day ago Security Hackers steal and destroy millions from Iran’s largest crypto exchange Zack Whittaker 1 day ago Security Pro-Israel hacktivist group claims responsibility for alleged Iranian bank hack Lorenzo Franceschi-Bicchierai 2 days ago Security As grocery shortages persist, UNFI says it’s recovering from cyberattack Zack Whittaker 2 days ago In Brief UK watchdog fines 23andMe over 2023 data breach Zack Whittaker 2 days ago Venture See More TechCrunch Disrupt 2025 TechCrunch Disrupt 2025: The Builders Stage agenda is now live and taking shape TechCrunch Events 2 hours ago TechCrunch All Stage 2025 Raising a Series C+? Cathy Gao’s bringing the real playbook to TechCrunch All Stage TechCrunch Events 2 hours ago TechCrunch All Stage 2025 At TechCrunch All Stage: VC red flags, founder signals, and pre-seed traps — Charles Hudson will tell you what investors really see TechCrunch Events 2 hours ago Technical advancements highlighted include various significant startup investments by major players like Nvidia as well as an increase in funding across the AI sector, marking a trend of robust activity and innovation in the industry, particularly among new startups and ventures focused on AI.\u001b[00m\n",
            "\n",
            "\n"
          ]
        },
        {
          "output_type": "display_data",
          "data": {
            "text/plain": [
              "<IPython.core.display.HTML object>"
            ],
            "text/html": [
              "\n",
              "    <div style=\"border-left: 5px solid #1e4b8f; padding: 12px 16px; background-color: #f0f6ff;\n",
              "                border-radius: 6px; font-family: 'Segoe UI', sans-serif; line-height: 1.6; margin: 10px 0;\">\n",
              "        <strong style=\"color: #1e4b8f; font-size: 16px;\">🌐 Search Results: latest AI breakthroughs 2025</strong><br>\n",
              "        <span style=\"font-size: 14px; color: #333;\">DeepMind, Twelve Labs, and Amazon TC Video Jun 6, 2025 AI See More AI A timeline of the US semiconductor market in 2025 Rebecca Szkutak 6 hours ago AI Nvidia’s AI empire: A look at its top startup investments Marina Temkin 6 hours ago AI Here are the 24 US AI startups that have raised $100M or more in 2025 Rebecca Szkutak 19 hours ago AI ‘Kid-pilled’ Sam Altman ‘constantly’ asked ChatGPT questions about his newborn Amanda Silberling 20 hours ago Startups Six-month-old, solo-owned vibe coder Base44 sells to Wix for $80M cash Julie Bort 20 hours ago Security See More Security Internet collapses across Iran, say web-monitoring firms Lorenzo Franceschi-Bicchierai 1 day ago Security Hackers steal and destroy millions from Iran’s largest crypto exchange Zack Whittaker 1 day ago Security Pro-Israel hacktivist group claims responsibility for alleged Iranian bank hack Lorenzo Franceschi-Bicchierai 2 days ago Security As grocery shortages persist, UNFI says it’s recovering from cyberattack Zack Whittaker 2 days ago In Brief UK watchdog fines 23andMe over 2023 data breach Zack Whittaker 2 days ago Venture See More TechCrunch Disrupt 2025 TechCrunch Disrupt 2025: The Builders Stage agenda is now live and taking shape TechCrunch Events 2 hours ago TechCrunch All Stage 2025 Raising a Series C+? Cathy Gao’s bringing the real playbook to TechCrunch All Stage TechCrunch Events 2 hours ago TechCrunch All Stage 2025 At TechCrunch All Stage: VC red flags, founder signals, and pre-seed traps — Charles Hudson will tell you what investors really see TechCrunch Events 2 hours ago Technical advancements highlighted include various significant startup investments by major players like Nvidia as well as an increase in funding across the AI sector, marking a trend of robust activity and innovation in the industry, particularly among new startups and ventures focused on AI.</span>\n",
              "    </div>\n",
              "    "
            ]
          },
          "metadata": {}
        }
      ]
    },
    {
      "cell_type": "code",
      "source": [
        "# +++++ ✍️ HANDS-ON EXERCISE: Complete the Mathematical Model\n",
        "# ++++++++++++++++++++++++++++++++++++++++++++++++++++++++++++++++++++++++++++++++++++++\n",
        "# Fill in the 10 blanks to create a working mathematical analysis crew!\n",
        "\n",
        "# Sample data: Years vs Harvard Nobel Prize winners\n",
        "sample_data = \"2020,2;2021,1;2022,3;2023,2;2024,1\"\n",
        "\n",
        "# Fill in the blanks below (replace ----- with your answers):\n",
        "\n",
        "# 1. Import the Task class\n",
        "from crewai import Task\n",
        "\n",
        "# 2. Create a mathematical analysis task\n",
        "math_task = Task(\n",
        "    description=f\"\"\"Analyze the sample data: {sample_data}\n",
        "\n",
        "    This data shows: Year, Number of Harvard Nobel Prize winners\n",
        "\n",
        "    Perform linear regression analysis and provide:\n",
        "    1. The mathematical relationship (slope and intercept)\n",
        "    2. How well the model fits the data (R-squared)\n",
        "    3. Interpret about what this relationship means\n",
        "\n",
        "    Remember: NO predictions beyond 2024!\"\"\",\n",
        "    expected_output=\"Mathematical analysis of the Harvard Nobel Prize data\",\n",
        "    agent=math_agent  # 3. Which agent should handle this task?\n",
        ")\n",
        "\n",
        "# 4. Create a second agent for interpretation\n",
        "interpretation_agent = Agent(\n",
        "    role=\"Interpretation Agent\",  # 5. What should this agent's role be?\n",
        "    goal=\"Interpret mathematical results in educational context\",\n",
        "    backstory=\"\"\"You are an expert in educational statistics who interprets mathematical\n",
        "    results for educators. You focus on understanding patterns in existing data.\"\"\",\n",
        "    verbose=True,\n",
        "    allow_delegation=False  # 6. Should this agent delegate? True or False?\n",
        ")\n",
        "\n",
        "# 7. Create an interpretation task\n",
        "interpretation_task = Task(\n",
        "    description=\"Interpret the mathematical regression results. Explain what the slope, intercept, and R-squared mean in the context of Harvard Nobel Prize winners. Focus on describing the relationship in the data only.\",\n",
        "    expected_output=\"Clear interpretation of the mathematical relationship\",\n",
        "    agent=interpretation_agent  # 8. Which agent should handle this task?\n",
        ")\n",
        "\n",
        "# 9. Create a crew with both agents\n",
        "math_crew = Crew(\n",
        "    agents=[math_agent, interpretation_agent],  # 10. Add the second agent here\n",
        "    tasks=[math_task, interpretation_task],\n",
        "    verbose=True\n",
        ")\n",
        "\n",
        "# Test the mathematical crew\n",
        "print(\"🧮 Testing Mathematical Model Crew...\")\n",
        "print(\"=\"*50)\n",
        "\n",
        "# Uncomment to run after filling in the blanks:\n",
        "result = math_crew.kickoff()\n",
        "pretty_print(str(result), \"🧮 Mathematical Analysis\", \"yellow\")\n",
        "\n",
        "print(\"✍️ Complete the 10 blanks above, then uncomment the last 3 lines to run!\")"
      ],
      "metadata": {
        "id": "hands_on_exercise",
        "colab": {
          "base_uri": "https://localhost:8080/",
          "height": 211
        },
        "outputId": "dddf73a8-e194-4c96-d3d0-6d304b37fccc"
      },
      "execution_count": 12,
      "outputs": [
        {
          "output_type": "error",
          "ename": "NameError",
          "evalue": "name 'math_agent' is not defined",
          "traceback": [
            "\u001b[0;31m---------------------------------------------------------------------------\u001b[0m",
            "\u001b[0;31mNameError\u001b[0m                                 Traceback (most recent call last)",
            "\u001b[0;32m/tmp/ipython-input-12-2284867960.py\u001b[0m in \u001b[0;36m<cell line: 0>\u001b[0;34m()\u001b[0m\n\u001b[1;32m     24\u001b[0m     Remember: NO predictions beyond 2024!\"\"\",\n\u001b[1;32m     25\u001b[0m     \u001b[0mexpected_output\u001b[0m\u001b[0;34m=\u001b[0m\u001b[0;34m\"Mathematical analysis of the Harvard Nobel Prize data\"\u001b[0m\u001b[0;34m,\u001b[0m\u001b[0;34m\u001b[0m\u001b[0;34m\u001b[0m\u001b[0m\n\u001b[0;32m---> 26\u001b[0;31m     \u001b[0magent\u001b[0m\u001b[0;34m=\u001b[0m\u001b[0mmath_agent\u001b[0m  \u001b[0;31m# 3. Which agent should handle this task?\u001b[0m\u001b[0;34m\u001b[0m\u001b[0;34m\u001b[0m\u001b[0m\n\u001b[0m\u001b[1;32m     27\u001b[0m )\n\u001b[1;32m     28\u001b[0m \u001b[0;34m\u001b[0m\u001b[0m\n",
            "\u001b[0;31mNameError\u001b[0m: name 'math_agent' is not defined"
          ]
        }
      ]
    },
    {
      "cell_type": "code",
      "source": [
        "# +++++ ✅ ANSWER KEY - Mathematical Model Solution\n",
        "# ++++++++++++++++++++++++++++++++++++++++++++++++++++++++++++++++++++++++++++++++++++++\n",
        "# Complete solution for the hands-on exercise\n",
        "\n",
        "# ANSWERS:\n",
        "# 1. Task\n",
        "# 2. Summary (or \"Interpretation\")\n",
        "# 3. math_agent\n",
        "# 4. Any role related to interpretation (e.g., \"Data Interpreter\")\n",
        "# 5. \"Statistical Interpreter\" (or similar)\n",
        "# 6. False\n",
        "# 7. interpretation_task\n",
        "# 8. interpretation_agent\n",
        "# 9. math_crew\n",
        "# 10. interpretation_agent\n",
        "\n",
        "# Here's the complete working solution:\n",
        "from crewai import Task\n",
        "\n",
        "sample_data = \"2020,2;2021,1;2022,3;2023,2;2024,1\"\n",
        "\n",
        "math_task = Task(\n",
        "    description=f\"\"\"Analyze the sample data: {sample_data}\n",
        "\n",
        "    This data shows: Year, Number of Harvard Nobel Prize winners\n",
        "\n",
        "    Perform linear regression analysis and provide:\n",
        "    1. The mathematical relationship (slope and intercept)\n",
        "    2. How well the model fits the data (R-squared)\n",
        "    3. Summary of what this relationship means\n",
        "\n",
        "    Remember: NO predictions beyond 2024!\"\"\",\n",
        "    expected_output=\"Mathematical analysis of the Harvard Nobel Prize data\",\n",
        "    agent=math_agent\n",
        ")\n",
        "\n",
        "interpretation_agent = Agent(\n",
        "    role=\"Statistical Interpreter\",\n",
        "    goal=\"Interpret mathematical results in educational context\",\n",
        "    backstory=\"\"\"You are an expert in educational statistics who interprets mathematical\n",
        "    results for educators. You focus on understanding patterns in existing data.\"\"\",\n",
        "    verbose=True,\n",
        "    allow_delegation=False\n",
        ")\n",
        "\n",
        "interpretation_task = Task(\n",
        "    description=\"Interpret the mathematical regression results. Explain what the slope, intercept, and R-squared mean in the context of Harvard Nobel Prize winners. Focus on describing the relationship in the data only.\",\n",
        "    expected_output=\"Clear interpretation of the mathematical relationship\",\n",
        "    agent=interpretation_agent\n",
        ")\n",
        "\n",
        "math_crew = Crew(\n",
        "    agents=[math_agent, interpretation_agent],\n",
        "    tasks=[math_task, interpretation_task],\n",
        "    verbose=True\n",
        ")\n",
        "\n",
        "# Run the complete mathematical analysis\n",
        "result = math_crew.kickoff()\n",
        "pretty_print(str(result), \"🧮 Complete Mathematical Analysis\", \"yellow\")"
      ],
      "metadata": {
        "id": "answer_key"
      },
      "execution_count": null,
      "outputs": []
    },
    {
      "cell_type": "markdown",
      "source": [
        "## 🎓 Lab Summary\n",
        "\n",
        "### What You've Learned:\n",
        "1. **🤖 2-Agent System**: Created research and analysis agents\n",
        "2. **🔧 Web Search Tool**: Added real-time information gathering\n",
        "3. **🧮 Mathematical Tool**: Built custom regression analysis capability\n",
        "4. **🛡️ Guardrails**: Implemented safety measures against speculation\n",
        "5. **✍️ Hands-On Practice**: Completed a fill-in-the-blanks exercise\n",
        "\n",
        "### Key Concepts:\n",
        "- **Tool Integration**: How to add capabilities to agents\n",
        "- **Task Coordination**: Sequential workflow between agents\n",
        "- **Prompt Optimization**: Consistent, clear instructions\n",
        "- **Safety Measures**: Preventing inappropriate predictions\n",
        "\n",
        "### 🚀 Next Steps:\n",
        "- Try different tools (file processing, API calls, etc.)\n",
        "- Experiment with more complex mathematical models\n",
        "- Create domain-specific agents for your field\n",
        "- Build multi-agent workflows for your projects\n",
        "\n",
        "**Congratulations! You've mastered CrewAI with tools and mathematical modeling! 🎉**"
      ],
      "metadata": {
        "id": "conclusion"
      }
    }
  ]
}