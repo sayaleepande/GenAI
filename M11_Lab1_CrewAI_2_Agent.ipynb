{
  "nbformat": 4,
  "nbformat_minor": 0,
  "metadata": {
    "colab": {
      "provenance": [],
      "include_colab_link": true
    },
    "kernelspec": {
      "name": "python3",
      "display_name": "Python 3"
    },
    "language_info": {
      "name": "python"
    }
  },
  "cells": [
    {
      "cell_type": "markdown",
      "metadata": {
        "id": "view-in-github",
        "colab_type": "text"
      },
      "source": [
        "<a href=\"https://colab.research.google.com/github/sayaleepande/GenAI/blob/main/M11_Lab1_CrewAI_2_Agent.ipynb\" target=\"_parent\"><img src=\"https://colab.research.google.com/assets/colab-badge.svg\" alt=\"Open In Colab\"/></a>"
      ]
    },
    {
      "cell_type": "markdown",
      "source": [
        "<!DOCTYPE html>\n",
        "<html lang=\"en\">\n",
        "<head>\n",
        "  <meta charset=\"UTF-8\">\n",
        "  <title>CrewAI Lab</title>\n",
        "  <style>\n",
        "    body {\n",
        "      font-family: 'Segoe UI', sans-serif;\n",
        "      background-color: #f8fbff;\n",
        "      color: #222;\n",
        "      padding: 30px;\n",
        "      line-height: 1.6;\n",
        "    }\n",
        "\n",
        "    h1, h2 {\n",
        "      color: #1e4b8f;\n",
        "    }\n",
        "\n",
        "    a {\n",
        "      color: #1e4b8f;\n",
        "      text-decoration: none;\n",
        "    }\n",
        "\n",
        "    a:hover {\n",
        "      text-decoration: underline;\n",
        "    }\n",
        "\n",
        "    .center {\n",
        "      text-align: center;\n",
        "    }\n",
        "\n",
        "    .title-img {\n",
        "      width: 600px;\n",
        "      max-width: 100%;\n",
        "      margin-bottom: 20px;\n",
        "    }\n",
        "\n",
        "    .table-container {\n",
        "      overflow-x: auto;\n",
        "      margin-top: 20px;\n",
        "    }\n",
        "\n",
        "    table {\n",
        "      border-collapse: collapse;\n",
        "      width: 100%;\n",
        "      background-color: #fff;\n",
        "      box-shadow: 0 2px 5px rgba(0,0,0,0.05);\n",
        "    }\n",
        "\n",
        "    th, td {\n",
        "      padding: 12px 16px;\n",
        "      text-align: left;\n",
        "      border-bottom: 1px solid #e0e0e0;\n",
        "    }\n",
        "\n",
        "    th {\n",
        "      background-color: #e6f0fb;\n",
        "      color: #1e4b8f;\n",
        "    }\n",
        "\n",
        "    ul {\n",
        "      margin-top: 10px;\n",
        "    }\n",
        "  </style>\n",
        "</head>\n",
        "<body>\n",
        "\n",
        "  <div class=\"center\">\n",
        "    <img src=\"https://www.dropbox.com/scl/fi/72c3k12bjnhxdebypttum/crewAI_title.png?dl=1\" alt=\"crewAI Title\" class=\"title-img\">\n",
        "  </div>\n",
        "\n",
        "  <h1>Welcome to the CrewAI Lab</h1>\n",
        "\n",
        "  <p>\n",
        "    This lab introduces <strong>CrewAI</strong>, a powerful platform for orchestrating collaborative AI agents, and explores its integration with LangChain and n8n.\n",
        "    Visit the <a href=\"https://www.crewai.com/\" target=\"_blank\">CrewAI website</a> to learn more about how CrewAI empowers teams to build complex, automated workflows and advanced_\n"
      ],
      "metadata": {
        "id": "RnuULFZpox3S"
      }
    },
    {
      "cell_type": "markdown",
      "metadata": {
        "id": "intro"
      },
      "source": [
        "# 🤖 CrewAI 2-Agent Tutorial\n",
        "## What is CrewAI?\n",
        "\n",
        "**CrewAI** is a Python framework that creates teams of AI agents working together. Think of it as hiring specialists - each agent has a specific role and expertise.\n",
        "\n",
        "### 🏗️ Core Components:\n",
        "1. **🤖 Agents**: AI team members with specific roles\n",
        "2. **📋 Tasks**: Individual assignments\n",
        "3. **👥 Crew**: Manages the team workflow\n",
        "4. **🔧 Tools**: Special abilities (web search, calculations, etc.)\n",
        "\n",
        "---"
      ]
    },
    {
      "cell_type": "code",
      "execution_count": 1,
      "metadata": {
        "id": "pretty_print",
        "colab": {
          "base_uri": "https://localhost:8080/"
        },
        "outputId": "42db746c-fd9b-4ed7-85d1-1f5fc3073c62"
      },
      "outputs": [
        {
          "output_type": "stream",
          "name": "stdout",
          "text": [
            "🎨 Pretty print utility ready!\n"
          ]
        }
      ],
      "source": [
        "# +++++ 🎨 Pretty Print Utility\n",
        "# ++++++++++++++++++++++++++++++++++++++++++++++++++++++++++++++++++++++++++++++++++++++\n",
        "# Create styled message boxes for better visual output in Colab\n",
        "\n",
        "from IPython.display import display, HTML\n",
        "\n",
        "def pretty_print(text, title=\"ℹ️ Info\", theme=\"blue\"):\n",
        "    \"\"\"Displays a styled message box with optional color themes: blue, red, or yellow.\"\"\"\n",
        "\n",
        "    themes = {\n",
        "        \"blue\": {\"color\": \"#1e4b8f\", \"background\": \"#f0f6ff\"},\n",
        "        \"red\": {\"color\": \"#c62828\", \"background\": \"#ffebee\"},\n",
        "        \"yellow\": {\"color\": \"#b26a00\", \"background\": \"#fff8e1\"}\n",
        "    }\n",
        "\n",
        "    style = themes.get(theme.lower(), themes[\"blue\"])\n",
        "    formatted_text = text.replace('\\n', '<br>')\n",
        "\n",
        "    display(HTML(f\"\"\"\n",
        "    <div style=\"border-left: 5px solid {style['color']}; padding: 12px 16px; background-color: {style['background']};\n",
        "                border-radius: 6px; font-family: 'Segoe UI', sans-serif; line-height: 1.6; margin: 10px 0;\">\n",
        "        <strong style=\"color: {style['color']}; font-size: 16px;\">{title}</strong><br>\n",
        "        <span style=\"font-size: 14px; color: #333;\">{formatted_text}</span>\n",
        "    </div>\n",
        "    \"\"\"))\n",
        "\n",
        "print(\"🎨 Pretty print utility ready!\")"
      ]
    },
    {
      "cell_type": "code",
      "source": [
        "# +++++ 📦 Installation & API Setup\n",
        "# ++++++++++++++++++++++++++++++++++++++++++++++++++++++++++++++++++++++++++++++++++++++\n",
        "# Install packages and setup secure API key\n",
        "\n",
        "!pip install crewai crewai-tools -q\n",
        "\n",
        "try:\n",
        "    from google.colab import userdata\n",
        "    import os\n",
        "    os.environ[\"OPENAI_API_KEY\"] = userdata.get('OPENAI_API_KEY')\n",
        "    pretty_print(\"🔐 API key loaded successfully!\", \"✅ Setup Complete\", \"blue\")\n",
        "except:\n",
        "    pretty_print(\"⚠️ Please set OPENAI_API_KEY in Colab → More → Secrets\", \"❌ Missing API Key\", \"red\")"
      ],
      "metadata": {
        "id": "install_setup",
        "colab": {
          "base_uri": "https://localhost:8080/",
          "height": 1000
        },
        "outputId": "6a757414-15a5-4905-c1f2-18bfc72dff64"
      },
      "execution_count": 2,
      "outputs": [
        {
          "output_type": "stream",
          "name": "stdout",
          "text": [
            "\u001b[2K     \u001b[90m━━━━━━━━━━━━━━━━━━━━━━━━━━━━━━━━━━━━━━━━\u001b[0m \u001b[32m42.8/42.8 kB\u001b[0m \u001b[31m2.7 MB/s\u001b[0m eta \u001b[36m0:00:00\u001b[0m\n",
            "\u001b[2K     \u001b[90m━━━━━━━━━━━━━━━━━━━━━━━━━━━━━━━━━━━━━━━━\u001b[0m \u001b[32m67.3/67.3 kB\u001b[0m \u001b[31m4.0 MB/s\u001b[0m eta \u001b[36m0:00:00\u001b[0m\n",
            "\u001b[?25h  Installing build dependencies ... \u001b[?25l\u001b[?25hdone\n",
            "  Getting requirements to build wheel ... \u001b[?25l\u001b[?25hdone\n",
            "  Preparing metadata (pyproject.toml) ... \u001b[?25l\u001b[?25hdone\n",
            "\u001b[2K     \u001b[90m━━━━━━━━━━━━━━━━━━━━━━━━━━━━━━━━━━━━━━━━\u001b[0m \u001b[32m48.2/48.2 kB\u001b[0m \u001b[31m3.3 MB/s\u001b[0m eta \u001b[36m0:00:00\u001b[0m\n",
            "\u001b[2K   \u001b[90m━━━━━━━━━━━━━━━━━━━━━━━━━━━━━━━━━━━━━━━━\u001b[0m \u001b[32m324.6/324.6 kB\u001b[0m \u001b[31m11.8 MB/s\u001b[0m eta \u001b[36m0:00:00\u001b[0m\n",
            "\u001b[2K   \u001b[90m━━━━━━━━━━━━━━━━━━━━━━━━━━━━━━━━━━━━━━━━\u001b[0m \u001b[32m8.0/8.0 MB\u001b[0m \u001b[31m81.7 MB/s\u001b[0m eta \u001b[36m0:00:00\u001b[0m\n",
            "\u001b[2K   \u001b[90m━━━━━━━━━━━━━━━━━━━━━━━━━━━━━━━━━━━━━━━━\u001b[0m \u001b[32m16.4/16.4 MB\u001b[0m \u001b[31m49.7 MB/s\u001b[0m eta \u001b[36m0:00:00\u001b[0m\n",
            "\u001b[2K   \u001b[90m━━━━━━━━━━━━━━━━━━━━━━━━━━━━━━━━━━━━━━━━\u001b[0m \u001b[32m606.3/606.3 kB\u001b[0m \u001b[31m31.9 MB/s\u001b[0m eta \u001b[36m0:00:00\u001b[0m\n",
            "\u001b[2K   \u001b[90m━━━━━━━━━━━━━━━━━━━━━━━━━━━━━━━━━━━━━━━━\u001b[0m \u001b[32m138.8/138.8 kB\u001b[0m \u001b[31m8.3 MB/s\u001b[0m eta \u001b[36m0:00:00\u001b[0m\n",
            "\u001b[2K   \u001b[90m━━━━━━━━━━━━━━━━━━━━━━━━━━━━━━━━━━━━━━━━\u001b[0m \u001b[32m94.9/94.9 kB\u001b[0m \u001b[31m6.0 MB/s\u001b[0m eta \u001b[36m0:00:00\u001b[0m\n",
            "\u001b[2K   \u001b[90m━━━━━━━━━━━━━━━━━━━━━━━━━━━━━━━━━━━━━━━━\u001b[0m \u001b[32m147.8/147.8 kB\u001b[0m \u001b[31m10.0 MB/s\u001b[0m eta \u001b[36m0:00:00\u001b[0m\n",
            "\u001b[2K   \u001b[90m━━━━━━━━━━━━━━━━━━━━━━━━━━━━━━━━━━━━━━━━\u001b[0m \u001b[32m211.3/211.3 kB\u001b[0m \u001b[31m14.2 MB/s\u001b[0m eta \u001b[36m0:00:00\u001b[0m\n",
            "\u001b[2K   \u001b[90m━━━━━━━━━━━━━━━━━━━━━━━━━━━━━━━━━━━━━━━━\u001b[0m \u001b[32m628.3/628.3 kB\u001b[0m \u001b[31m32.3 MB/s\u001b[0m eta \u001b[36m0:00:00\u001b[0m\n",
            "\u001b[2K   \u001b[90m━━━━━━━━━━━━━━━━━━━━━━━━━━━━━━━━━━━━━━━━\u001b[0m \u001b[32m2.4/2.4 MB\u001b[0m \u001b[31m50.1 MB/s\u001b[0m eta \u001b[36m0:00:00\u001b[0m\n",
            "\u001b[2K   \u001b[90m━━━━━━━━━━━━━━━━━━━━━━━━━━━━━━━━━━━━━━━━\u001b[0m \u001b[32m94.6/94.6 kB\u001b[0m \u001b[31m5.9 MB/s\u001b[0m eta \u001b[36m0:00:00\u001b[0m\n",
            "\u001b[2K   \u001b[90m━━━━━━━━━━━━━━━━━━━━━━━━━━━━━━━━━━━━━━━━\u001b[0m \u001b[32m33.0/33.0 MB\u001b[0m \u001b[31m22.6 MB/s\u001b[0m eta \u001b[36m0:00:00\u001b[0m\n",
            "\u001b[2K   \u001b[90m━━━━━━━━━━━━━━━━━━━━━━━━━━━━━━━━━━━━━━━━\u001b[0m \u001b[32m65.8/65.8 kB\u001b[0m \u001b[31m3.9 MB/s\u001b[0m eta \u001b[36m0:00:00\u001b[0m\n",
            "\u001b[2K   \u001b[90m━━━━━━━━━━━━━━━━━━━━━━━━━━━━━━━━━━━━━━━━\u001b[0m \u001b[32m55.7/55.7 kB\u001b[0m \u001b[31m3.6 MB/s\u001b[0m eta \u001b[36m0:00:00\u001b[0m\n",
            "\u001b[2K   \u001b[90m━━━━━━━━━━━━━━━━━━━━━━━━━━━━━━━━━━━━━━━━\u001b[0m \u001b[32m118.5/118.5 kB\u001b[0m \u001b[31m8.1 MB/s\u001b[0m eta \u001b[36m0:00:00\u001b[0m\n",
            "\u001b[2K   \u001b[90m━━━━━━━━━━━━━━━━━━━━━━━━━━━━━━━━━━━━━━━━\u001b[0m \u001b[32m196.2/196.2 kB\u001b[0m \u001b[31m14.2 MB/s\u001b[0m eta \u001b[36m0:00:00\u001b[0m\n",
            "\u001b[2K   \u001b[90m━━━━━━━━━━━━━━━━━━━━━━━━━━━━━━━━━━━━━━━━\u001b[0m \u001b[32m60.0/60.0 kB\u001b[0m \u001b[31m4.2 MB/s\u001b[0m eta \u001b[36m0:00:00\u001b[0m\n",
            "\u001b[2K   \u001b[90m━━━━━━━━━━━━━━━━━━━━━━━━━━━━━━━━━━━━━━━━\u001b[0m \u001b[32m5.6/5.6 MB\u001b[0m \u001b[31m85.2 MB/s\u001b[0m eta \u001b[36m0:00:00\u001b[0m\n",
            "\u001b[2K   \u001b[90m━━━━━━━━━━━━━━━━━━━━━━━━━━━━━━━━━━━━━━━━\u001b[0m \u001b[32m5.6/5.6 MB\u001b[0m \u001b[31m68.7 MB/s\u001b[0m eta \u001b[36m0:00:00\u001b[0m\n",
            "\u001b[2K   \u001b[90m━━━━━━━━━━━━━━━━━━━━━━━━━━━━━━━━━━━━━━━━\u001b[0m \u001b[32m57.6/57.6 kB\u001b[0m \u001b[31m3.9 MB/s\u001b[0m eta \u001b[36m0:00:00\u001b[0m\n",
            "\u001b[2K   \u001b[90m━━━━━━━━━━━━━━━━━━━━━━━━━━━━━━━━━━━━━━━━\u001b[0m \u001b[32m756.0/756.0 kB\u001b[0m \u001b[31m10.1 MB/s\u001b[0m eta \u001b[36m0:00:00\u001b[0m\n",
            "\u001b[2K   \u001b[90m━━━━━━━━━━━━━━━━━━━━━━━━━━━━━━━━━━━━━━━━\u001b[0m \u001b[32m3.0/3.0 MB\u001b[0m \u001b[31m42.1 MB/s\u001b[0m eta \u001b[36m0:00:00\u001b[0m\n",
            "\u001b[2K   \u001b[90m━━━━━━━━━━━━━━━━━━━━━━━━━━━━━━━━━━━━━━━━\u001b[0m \u001b[32m236.0/236.0 kB\u001b[0m \u001b[31m16.8 MB/s\u001b[0m eta \u001b[36m0:00:00\u001b[0m\n",
            "\u001b[2K   \u001b[90m━━━━━━━━━━━━━━━━━━━━━━━━━━━━━━━━━━━━━━━━\u001b[0m \u001b[32m17.8/17.8 MB\u001b[0m \u001b[31m62.8 MB/s\u001b[0m eta \u001b[36m0:00:00\u001b[0m\n",
            "\u001b[2K   \u001b[90m━━━━━━━━━━━━━━━━━━━━━━━━━━━━━━━━━━━━━━━━\u001b[0m \u001b[32m242.7/242.7 kB\u001b[0m \u001b[31m16.2 MB/s\u001b[0m eta \u001b[36m0:00:00\u001b[0m\n",
            "\u001b[2K   \u001b[90m━━━━━━━━━━━━━━━━━━━━━━━━━━━━━━━━━━━━━━━━\u001b[0m \u001b[32m284.2/284.2 kB\u001b[0m \u001b[31m14.8 MB/s\u001b[0m eta \u001b[36m0:00:00\u001b[0m\n",
            "\u001b[2K   \u001b[90m━━━━━━━━━━━━━━━━━━━━━━━━━━━━━━━━━━━━━━━━\u001b[0m \u001b[32m131.6/131.6 kB\u001b[0m \u001b[31m9.2 MB/s\u001b[0m eta \u001b[36m0:00:00\u001b[0m\n",
            "\u001b[2K   \u001b[90m━━━━━━━━━━━━━━━━━━━━━━━━━━━━━━━━━━━━━━━━\u001b[0m \u001b[32m345.6/345.6 kB\u001b[0m \u001b[31m21.0 MB/s\u001b[0m eta \u001b[36m0:00:00\u001b[0m\n",
            "\u001b[2K   \u001b[90m━━━━━━━━━━━━━━━━━━━━━━━━━━━━━━━━━━━━━━━━\u001b[0m \u001b[32m1.9/1.9 MB\u001b[0m \u001b[31m51.5 MB/s\u001b[0m eta \u001b[36m0:00:00\u001b[0m\n",
            "\u001b[2K   \u001b[90m━━━━━━━━━━━━━━━━━━━━━━━━━━━━━━━━━━━━━━━━\u001b[0m \u001b[32m45.1/45.1 kB\u001b[0m \u001b[31m2.7 MB/s\u001b[0m eta \u001b[36m0:00:00\u001b[0m\n",
            "\u001b[2K   \u001b[90m━━━━━━━━━━━━━━━━━━━━━━━━━━━━━━━━━━━━━━━━\u001b[0m \u001b[32m2.5/2.5 MB\u001b[0m \u001b[31m55.1 MB/s\u001b[0m eta \u001b[36m0:00:00\u001b[0m\n",
            "\u001b[2K   \u001b[90m━━━━━━━━━━━━━━━━━━━━━━━━━━━━━━━━━━━━━━━━\u001b[0m \u001b[32m50.9/50.9 kB\u001b[0m \u001b[31m3.5 MB/s\u001b[0m eta \u001b[36m0:00:00\u001b[0m\n",
            "\u001b[2K   \u001b[90m━━━━━━━━━━━━━━━━━━━━━━━━━━━━━━━━━━━━━━━━\u001b[0m \u001b[32m161.2/161.2 kB\u001b[0m \u001b[31m10.5 MB/s\u001b[0m eta \u001b[36m0:00:00\u001b[0m\n",
            "\u001b[2K   \u001b[90m━━━━━━━━━━━━━━━━━━━━━━━━━━━━━━━━━━━━━━━━\u001b[0m \u001b[32m101.6/101.6 kB\u001b[0m \u001b[31m6.1 MB/s\u001b[0m eta \u001b[36m0:00:00\u001b[0m\n",
            "\u001b[2K   \u001b[90m━━━━━━━━━━━━━━━━━━━━━━━━━━━━━━━━━━━━━━━━\u001b[0m \u001b[32m89.1/89.1 kB\u001b[0m \u001b[31m6.4 MB/s\u001b[0m eta \u001b[36m0:00:00\u001b[0m\n",
            "\u001b[2K   \u001b[90m━━━━━━━━━━━━━━━━━━━━━━━━━━━━━━━━━━━━━━━━\u001b[0m \u001b[32m304.2/304.2 kB\u001b[0m \u001b[31m17.8 MB/s\u001b[0m eta \u001b[36m0:00:00\u001b[0m\n",
            "\u001b[2K   \u001b[90m━━━━━━━━━━━━━━━━━━━━━━━━━━━━━━━━━━━━━━━━\u001b[0m \u001b[32m2.9/2.9 MB\u001b[0m \u001b[31m65.3 MB/s\u001b[0m eta \u001b[36m0:00:00\u001b[0m\n",
            "\u001b[2K   \u001b[90m━━━━━━━━━━━━━━━━━━━━━━━━━━━━━━━━━━━━━━━━\u001b[0m \u001b[32m71.1/71.1 kB\u001b[0m \u001b[31m4.3 MB/s\u001b[0m eta \u001b[36m0:00:00\u001b[0m\n",
            "\u001b[2K   \u001b[90m━━━━━━━━━━━━━━━━━━━━━━━━━━━━━━━━━━━━━━━━\u001b[0m \u001b[32m46.0/46.0 kB\u001b[0m \u001b[31m3.0 MB/s\u001b[0m eta \u001b[36m0:00:00\u001b[0m\n",
            "\u001b[2K   \u001b[90m━━━━━━━━━━━━━━━━━━━━━━━━━━━━━━━━━━━━━━━━\u001b[0m \u001b[32m259.5/259.5 kB\u001b[0m \u001b[31m15.7 MB/s\u001b[0m eta \u001b[36m0:00:00\u001b[0m\n",
            "\u001b[2K   \u001b[90m━━━━━━━━━━━━━━━━━━━━━━━━━━━━━━━━━━━━━━━━\u001b[0m \u001b[32m459.8/459.8 kB\u001b[0m \u001b[31m24.7 MB/s\u001b[0m eta \u001b[36m0:00:00\u001b[0m\n",
            "\u001b[2K   \u001b[90m━━━━━━━━━━━━━━━━━━━━━━━━━━━━━━━━━━━━━━━━\u001b[0m \u001b[32m86.8/86.8 kB\u001b[0m \u001b[31m4.9 MB/s\u001b[0m eta \u001b[36m0:00:00\u001b[0m\n",
            "\u001b[2K   \u001b[90m━━━━━━━━━━━━━━━━━━━━━━━━━━━━━━━━━━━━━━━━\u001b[0m \u001b[32m1.6/1.6 MB\u001b[0m \u001b[31m59.2 MB/s\u001b[0m eta \u001b[36m0:00:00\u001b[0m\n",
            "\u001b[2K   \u001b[90m━━━━━━━━━━━━━━━━━━━━━━━━━━━━━━━━━━━━━━━━\u001b[0m \u001b[32m209.2/209.2 kB\u001b[0m \u001b[31m14.5 MB/s\u001b[0m eta \u001b[36m0:00:00\u001b[0m\n",
            "\u001b[2K   \u001b[90m━━━━━━━━━━━━━━━━━━━━━━━━━━━━━━━━━━━━━━━━\u001b[0m \u001b[32m44.4/44.4 kB\u001b[0m \u001b[31m2.9 MB/s\u001b[0m eta \u001b[36m0:00:00\u001b[0m\n",
            "\u001b[2K   \u001b[90m━━━━━━━━━━━━━━━━━━━━━━━━━━━━━━━━━━━━━━━━\u001b[0m \u001b[32m329.0/329.0 kB\u001b[0m \u001b[31m22.6 MB/s\u001b[0m eta \u001b[36m0:00:00\u001b[0m\n",
            "\u001b[2K   \u001b[90m━━━━━━━━━━━━━━━━━━━━━━━━━━━━━━━━━━━━━━━━\u001b[0m \u001b[32m71.5/71.5 kB\u001b[0m \u001b[31m4.8 MB/s\u001b[0m eta \u001b[36m0:00:00\u001b[0m\n",
            "\u001b[2K   \u001b[90m━━━━━━━━━━━━━━━━━━━━━━━━━━━━━━━━━━━━━━━━\u001b[0m \u001b[32m4.0/4.0 MB\u001b[0m \u001b[31m67.3 MB/s\u001b[0m eta \u001b[36m0:00:00\u001b[0m\n",
            "\u001b[2K   \u001b[90m━━━━━━━━━━━━━━━━━━━━━━━━━━━━━━━━━━━━━━━━\u001b[0m \u001b[32m453.1/453.1 kB\u001b[0m \u001b[31m26.5 MB/s\u001b[0m eta \u001b[36m0:00:00\u001b[0m\n",
            "\u001b[2K   \u001b[90m━━━━━━━━━━━━━━━━━━━━━━━━━━━━━━━━━━━━━━━━\u001b[0m \u001b[32m3.3/3.3 MB\u001b[0m \u001b[31m70.0 MB/s\u001b[0m eta \u001b[36m0:00:00\u001b[0m\n",
            "\u001b[2K   \u001b[90m━━━━━━━━━━━━━━━━━━━━━━━━━━━━━━━━━━━━━━━━\u001b[0m \u001b[32m50.9/50.9 kB\u001b[0m \u001b[31m3.3 MB/s\u001b[0m eta \u001b[36m0:00:00\u001b[0m\n",
            "\u001b[?25h  Building wheel for pypika (pyproject.toml) ... \u001b[?25l\u001b[?25hdone\n",
            "\u001b[31mERROR: pip's dependency resolver does not currently take into account all the packages that are installed. This behaviour is the source of the following dependency conflicts.\n",
            "transformers 4.52.4 requires tokenizers<0.22,>=0.21, but you have tokenizers 0.20.3 which is incompatible.\u001b[0m\u001b[31m\n",
            "\u001b[0m"
          ]
        },
        {
          "output_type": "display_data",
          "data": {
            "text/plain": [
              "<IPython.core.display.HTML object>"
            ],
            "text/html": [
              "\n",
              "    <div style=\"border-left: 5px solid #1e4b8f; padding: 12px 16px; background-color: #f0f6ff;\n",
              "                border-radius: 6px; font-family: 'Segoe UI', sans-serif; line-height: 1.6; margin: 10px 0;\">\n",
              "        <strong style=\"color: #1e4b8f; font-size: 16px;\">✅ Setup Complete</strong><br>\n",
              "        <span style=\"font-size: 14px; color: #333;\">🔐 API key loaded successfully!</span>\n",
              "    </div>\n",
              "    "
            ]
          },
          "metadata": {}
        }
      ]
    },
    {
      "cell_type": "markdown",
      "source": [
        "## 🤖 Defining Agents in CrewAI\n",
        "\n",
        "In CrewAI, each **agent** represents an autonomous expert responsible for a specific task.  \n",
        "You define agents using three main components:\n",
        "\n",
        "- **Role 🎯:** Clearly describes the agent's professional role or expertise.\n",
        "- **Goal 🎯:** Defines the specific objective the agent should achieve.\n",
        "- **Backstory 📖:** Provides a short narrative about the agent’s expertise or experience, giving context to their behavior.\n",
        "## Understanding 2-Agent System\n",
        "\n",
        "We'll create **2 specialized agents**:\n",
        "- **🔍 Research Agent**: Gathers information using web search\n",
        "- **📝 Analysis Agent**: Analyzes and summarizes findings"
      ],
      "metadata": {
        "id": "agents_explanation"
      }
    },
    {
      "cell_type": "code",
      "source": [
        "# +++++ 🤖 Creating 2 Generalized Agents (NO TOOLS)\n",
        "# ++++++++++++++++++++++++++++++++++++++++++++++++++++++++++++++++++++++++++++++++++++++\n",
        "# Define two generalized agents that can handle any topic\n",
        "\n",
        "from crewai import Agent\n",
        "\n",
        "# 🔍 Agent 1: Research Agent (Generalized)\n",
        "research_agent = Agent(\n",
        "    role=\"Research Specialist\",\n",
        "    goal=\"Gather comprehensive information about any given topic using existing knowledge\",\n",
        "    backstory=\"\"\"You are an experienced researcher with broad knowledge across many fields.\n",
        "    You excel at providing detailed, accurate information on various topics from your training data.\"\"\",\n",
        "    verbose=True,\n",
        "    allow_delegation=False\n",
        ")\n",
        "\n",
        "# 📝 Agent 2: Analysis Agent (Generalized)\n",
        "analysis_agent = Agent(\n",
        "    role=\"Content Analyst\",\n",
        "    goal=\"Analyze and summarize information into clear, concise insights\",\n",
        "    backstory=\"\"\"You are an expert analyst who can synthesize complex information into\n",
        "    actionable insights. You excel at creating structured summaries and key takeaways.\"\"\",\n",
        "    verbose=True,\n",
        "    allow_delegation=False\n",
        ")\n",
        "\n",
        "pretty_print(\"🤖 Two generalized agents created successfully!\\n🔍 Research Agent - Gathers information\\n📝 Analysis Agent - Synthesizes findings\\n\\n⚠️ Note: No tools yet - agents use existing knowledge\", \"✅ Agents Ready\", \"blue\")"
      ],
      "metadata": {
        "id": "create_agents",
        "colab": {
          "base_uri": "https://localhost:8080/",
          "height": 199
        },
        "outputId": "02460f70-e641-4bba-9eb9-7579726321f6"
      },
      "execution_count": 3,
      "outputs": [
        {
          "output_type": "display_data",
          "data": {
            "text/plain": [
              "<IPython.core.display.HTML object>"
            ],
            "text/html": [
              "\n",
              "    <div style=\"border-left: 5px solid #1e4b8f; padding: 12px 16px; background-color: #f0f6ff;\n",
              "                border-radius: 6px; font-family: 'Segoe UI', sans-serif; line-height: 1.6; margin: 10px 0;\">\n",
              "        <strong style=\"color: #1e4b8f; font-size: 16px;\">✅ Agents Ready</strong><br>\n",
              "        <span style=\"font-size: 14px; color: #333;\">🤖 Two generalized agents created successfully!<br>🔍 Research Agent - Gathers information<br>📝 Analysis Agent - Synthesizes findings<br><br>⚠️ Note: No tools yet - agents use existing knowledge</span>\n",
              "    </div>\n",
              "    "
            ]
          },
          "metadata": {}
        }
      ]
    },
    {
      "cell_type": "markdown",
      "source": [
        "## 📋 What is a Task?\n",
        "\n",
        "In CrewAI, a **Task** is a unit of work assigned to an agent. It describes what the agent should do and what kind of output is expected.\n",
        "\n",
        "## 🛠️ What’s happening here?\n",
        "\n",
        "We define two tasks:\n",
        "- A **Research Task** asking the agent to gather detailed facts about the topic.\n",
        "- An **Analysis Task** asking another agent to summarize and interpret the findings.\n",
        "\n",
        "The `TOPIC` variable makes both tasks reusable for any subject by simply changing one line.\n"
      ],
      "metadata": {
        "id": "hyHiXU-gvVQY"
      }
    },
    {
      "cell_type": "code",
      "source": [
        "# +++++ 📋 Creating Tasks with Topic Variable\n",
        "# ++++++++++++++++++++++++++++++++++++++++++++++++++++++++++++++++++++++++++++++++++++++\n",
        "\n",
        "from crewai import Task  # Only import Task here\n",
        "\n",
        "# Define your topic of interest\n",
        "TOPIC = \"Harvard University's impact on education and Nobel Prize connections\"\n",
        "\n",
        "# 🧠 Task 1: Research Task\n",
        "research_task = Task(\n",
        "    description=f\"\"\"Research the topic: {TOPIC}\n",
        "\n",
        "    Provide comprehensive information including:\n",
        "    1. Key facts and background information\n",
        "    2. Important developments and achievements\n",
        "    3. Current status and recent updates\n",
        "    4. Significance and impact\n",
        "\n",
        "    Use your existing knowledge to provide accurate, detailed information.\"\"\",\n",
        "    expected_output=\"Comprehensive research findings about the topic\",\n",
        "    agent=research_agent\n",
        ")\n",
        "\n",
        "# 🔎 Task 2: Analysis Task\n",
        "analysis_task = Task(\n",
        "    description=f\"\"\"Analyze the research findings about: {TOPIC}\n",
        "\n",
        "    Create a structured summary with:\n",
        "    1. One paragraph overview (3-4 sentences)\n",
        "    2. 3-4 key bullet points highlighting main insights\n",
        "    3. Brief conclusion about significance\n",
        "\n",
        "    Keep responses concise and well-structured.\"\"\",\n",
        "    expected_output=\"A structured analysis with paragraph summary and bullet points\",\n",
        "    agent=analysis_agent\n",
        ")\n",
        "\n",
        "pretty_print(\"📋 Tasks created for research and analysis\", \"✅ Tasks Ready\", \"blue\")\n"
      ],
      "metadata": {
        "id": "create_tasks_and_run",
        "colab": {
          "base_uri": "https://localhost:8080/",
          "height": 109
        },
        "outputId": "27c404ac-28fc-43d8-d2c0-35b21e24ce5c"
      },
      "execution_count": 4,
      "outputs": [
        {
          "output_type": "display_data",
          "data": {
            "text/plain": [
              "<IPython.core.display.HTML object>"
            ],
            "text/html": [
              "\n",
              "    <div style=\"border-left: 5px solid #1e4b8f; padding: 12px 16px; background-color: #f0f6ff;\n",
              "                border-radius: 6px; font-family: 'Segoe UI', sans-serif; line-height: 1.6; margin: 10px 0;\">\n",
              "        <strong style=\"color: #1e4b8f; font-size: 16px;\">✅ Tasks Ready</strong><br>\n",
              "        <span style=\"font-size: 14px; color: #333;\">📋 Tasks created for research and analysis</span>\n",
              "    </div>\n",
              "    "
            ]
          },
          "metadata": {}
        }
      ]
    },
    {
      "cell_type": "markdown",
      "source": [
        "## 🧑‍🤝‍🧑 What is a Crew?\n",
        "\n",
        "A **Crew** is a group of agents and tasks that work together. It manages who does what and how tasks are coordinated.\n",
        "\n",
        "## 🛠️ What’s happening here?\n",
        "\n",
        "We create a crew with:\n",
        "- Two agents: one for research, one for analysis.\n",
        "- Two tasks: assigned to those agents.\n",
        "\n",
        "The crew uses delegation and iteration (`max_iter=3`) to complete the full job.\n"
      ],
      "metadata": {
        "id": "yNQn3MlSvYXr"
      }
    },
    {
      "cell_type": "code",
      "source": [
        "# +++++ 🧑‍🤝‍🧑 Creating Crew with Agents and Tasks\n",
        "# ++++++++++++++++++++++++++++++++++++++++++++++++++++++++++++++++++++++++++++++++++++++\n",
        "\n",
        "from crewai import Crew  # Only import Crew here\n",
        "\n",
        "# Create a crew that includes the two tasks and corresponding agents\n",
        "education_crew = Crew(\n",
        "    agents=[research_agent, analysis_agent],\n",
        "    tasks=[research_task, analysis_task],\n",
        "    verbose=False,\n",
        "    max_iter=1  # Reasonable number of coordination loops\n",
        ")\n",
        "\n",
        "pretty_print(\"🤖 Crew assembled with Research and Analysis agents\", \"✅ Crew Ready\", \"green\")\n"
      ],
      "metadata": {
        "id": "HnpIA22-u7pU",
        "colab": {
          "base_uri": "https://localhost:8080/",
          "height": 109
        },
        "outputId": "ad0cdce7-88db-48cf-af7e-faa6527e742b"
      },
      "execution_count": 5,
      "outputs": [
        {
          "output_type": "display_data",
          "data": {
            "text/plain": [
              "<IPython.core.display.HTML object>"
            ],
            "text/html": [
              "\n",
              "    <div style=\"border-left: 5px solid #1e4b8f; padding: 12px 16px; background-color: #f0f6ff;\n",
              "                border-radius: 6px; font-family: 'Segoe UI', sans-serif; line-height: 1.6; margin: 10px 0;\">\n",
              "        <strong style=\"color: #1e4b8f; font-size: 16px;\">✅ Crew Ready</strong><br>\n",
              "        <span style=\"font-size: 14px; color: #333;\">🤖 Crew assembled with Research and Analysis agents</span>\n",
              "    </div>\n",
              "    "
            ]
          },
          "metadata": {}
        }
      ]
    },
    {
      "cell_type": "markdown",
      "source": [
        "## 🚀 What is Crew Execution?\n",
        "\n",
        "**Execution** means running the crew — agents perform their tasks in order and produce a final result.\n",
        "\n",
        "## 🛠️ What’s happening here?\n",
        "\n",
        "- We start execution using `.kickoff()`\n",
        "- The research and analysis agents complete their tasks\n",
        "- The result is printed with `pretty_print` for clear display\n",
        "\n",
        "The current topic is shown for reference, so you always know what the crew is working on.\n"
      ],
      "metadata": {
        "id": "j8UcsdfavdrW"
      }
    },
    {
      "cell_type": "code",
      "source": [
        "# +++++ 🚀 Execute the Crew on Selected Topic\n",
        "# ++++++++++++++++++++++++++++++++++++++++++++++++++++++++++++++++++++++++++++++++++++++\n",
        "\n",
        "# Use the previously defined topic and crew\n",
        "pretty_print(f\"🎯 Running crew for topic: {TOPIC}\", \"🚀 Execution Started\", \"yellow\")\n",
        "\n",
        "# Run the crew and store the result\n",
        "crew_result = education_crew.kickoff()\n",
        "\n",
        "# Display the result - Convert to string first!\n",
        "pretty_print(str(crew_result), \"🧠 Final Output\", \"blue\")"
      ],
      "metadata": {
        "id": "512hmUOkvAl3",
        "colab": {
          "base_uri": "https://localhost:8080/",
          "height": 1000
        },
        "outputId": "186ccab6-f953-4862-c9fa-2758c4d76791"
      },
      "execution_count": 6,
      "outputs": [
        {
          "output_type": "display_data",
          "data": {
            "text/plain": [
              "<IPython.core.display.HTML object>"
            ],
            "text/html": [
              "\n",
              "    <div style=\"border-left: 5px solid #b26a00; padding: 12px 16px; background-color: #fff8e1;\n",
              "                border-radius: 6px; font-family: 'Segoe UI', sans-serif; line-height: 1.6; margin: 10px 0;\">\n",
              "        <strong style=\"color: #b26a00; font-size: 16px;\">🚀 Execution Started</strong><br>\n",
              "        <span style=\"font-size: 14px; color: #333;\">🎯 Running crew for topic: Harvard University's impact on education and Nobel Prize connections</span>\n",
              "    </div>\n",
              "    "
            ]
          },
          "metadata": {}
        },
        {
          "output_type": "stream",
          "name": "stdout",
          "text": [
            "\u001b[1m\u001b[95m# Agent:\u001b[00m \u001b[1m\u001b[92mResearch Specialist\u001b[00m\n",
            "\u001b[95m## Task:\u001b[00m \u001b[92mResearch the topic: Harvard University's impact on education and Nobel Prize connections\n",
            "\n",
            "    Provide comprehensive information including:\n",
            "    1. Key facts and background information\n",
            "    2. Important developments and achievements\n",
            "    3. Current status and recent updates\n",
            "    4. Significance and impact\n",
            "\n",
            "    Use your existing knowledge to provide accurate, detailed information.\u001b[00m\n",
            "\n",
            "\n",
            "\u001b[1m\u001b[95m# Agent:\u001b[00m \u001b[1m\u001b[92mResearch Specialist\u001b[00m\n",
            "\u001b[95m## Final Answer:\u001b[00m \u001b[92m\n",
            "1. Key Facts and Background Information:\n",
            "   - Harvard University, established in 1636, is one of the oldest institutions of higher education in the United States and is located in Cambridge, Massachusetts. It is a member of the Ivy League and is renowned for its rigorous admissions process, academic excellence, and global influence.\n",
            "   - The university comprises 12 degree-granting schools, including Harvard College (the undergraduate institution), the Harvard Business School, the Harvard Law School, and the Harvard Medical School, among others.\n",
            "   - Harvard's endowment is the largest of any academic institution in the world, providing substantial resources for research, scholarship, and financial aid.\n",
            "\n",
            "2. Important Developments and Achievements:\n",
            "   - Over the years, Harvard has been at the forefront of numerous educational innovations and advancements. It was one of the first universities to adopt the elective system, allowing students to choose their courses rather than following a prescribed curriculum.\n",
            "   - Harvard pioneered the use of case studies in business education, revolutionizing how business concepts are taught.\n",
            "   - The university has a long history of producing distinguished alumni, including eight U.S. presidents, numerous foreign heads of state, and a significant number of Nobel laureates.\n",
            "   - As of 2023, 161 Nobel Prize winners are affiliated with Harvard, showcasing the institution's pivotal role in various fields, particularly in science and the humanities.\n",
            "\n",
            "3. Current Status and Recent Updates:\n",
            "   - Harvard continues to adapt to contemporary educational needs, including the expansion of online learning opportunities and hybrid models of education, particularly accelerated by the COVID-19 pandemic.\n",
            "   - The university is actively engaged in research addressing global challenges such as climate change, public health, and artificial intelligence. Its various research centers, like the Harvard T.H. Chan School of Public Health, are leading groundbreaking studies that earn international recognition.\n",
            "   - Diverse initiatives focus on enhancing inclusivity and accessibility in education, seeking to broaden the demographic representation of its student body and faculty.\n",
            "\n",
            "4. Significance and Impact:\n",
            "   - The impact of Harvard University on education extends far beyond its campus. It has set standards for academic rigor and has influenced policies and practices in education globally.\n",
            "   - The university's contribution to knowledge, through research and scholarly publications, has shaped various disciplines, fostering innovation and critical thinking.\n",
            "   - Harvard's connection to the Nobel Prizes highlights its role in nurturing talent and supporting groundbreaking research that leads to significant advancements in human knowledge and societal betterment.\n",
            "   - Its alumni network fosters collaboration and innovation across various sectors, influencing technology, politics, culture, and the economy worldwide.\n",
            "\n",
            "In conclusion, Harvard University's profound influence on education, exemplified by its innovative teaching methods, extensive research output, and remarkable contributions to the Nobel Prize community, underscores its status as a leading global institution. It not only represents academic excellence but also embodies a commitment to addressing the world's most pressing challenges through education and research.\u001b[00m\n",
            "\n",
            "\n",
            "\u001b[1m\u001b[95m# Agent:\u001b[00m \u001b[1m\u001b[92mContent Analyst\u001b[00m\n",
            "\u001b[95m## Task:\u001b[00m \u001b[92mAnalyze the research findings about: Harvard University's impact on education and Nobel Prize connections\n",
            "\n",
            "    Create a structured summary with:\n",
            "    1. One paragraph overview (3-4 sentences)\n",
            "    2. 3-4 key bullet points highlighting main insights\n",
            "    3. Brief conclusion about significance\n",
            "\n",
            "    Keep responses concise and well-structured.\u001b[00m\n",
            "\n",
            "\n",
            "\u001b[1m\u001b[95m# Agent:\u001b[00m \u001b[1m\u001b[92mContent Analyst\u001b[00m\n",
            "\u001b[95m## Final Answer:\u001b[00m \u001b[92m\n",
            "Harvard University, established in 1636, is one of the oldest and most prestigious institutions of higher education globally, renowned for its comprehensive academic programs and substantial academic influence. With a substantial endowment, it continues to lead educational advancements and innovations, significantly impacting multiple fields through its research outputs and talented alumni. Harvard's strong connection to the Nobel Prize community underscores its dedication to fostering groundbreaking research and producing distinguished scholars.\n",
            "\n",
            "- Harvard's endowment is the largest of any academic institution, enabling extensive resources for research, scholarships, and innovation.\n",
            "- The university has pioneered educational methods such as the elective system and case study approach, continually adapting to contemporary educational needs, including a focus on online learning.\n",
            "- 161 Nobel Prize winners have affiliations with Harvard, emphasizing its role in cultivating talent and contributing significantly to numerous disciplines.\n",
            "- Harvard works actively towards enhancing inclusivity and accessibility in education, striving for a diverse student body and faculty representation.\n",
            "\n",
            "In conclusion, Harvard University's significant impact on education manifests through its innovative teaching methodologies, outstanding research contributions, and essential role in the Nobel Prize community. Its status as a global academic leader reflects a commitment to advancing knowledge and addressing societal challenges, ensuring its ongoing influence on education and beyond.\u001b[00m\n",
            "\n",
            "\n"
          ]
        },
        {
          "output_type": "display_data",
          "data": {
            "text/plain": [
              "<IPython.core.display.HTML object>"
            ],
            "text/html": [
              "\n",
              "    <div style=\"border-left: 5px solid #1e4b8f; padding: 12px 16px; background-color: #f0f6ff;\n",
              "                border-radius: 6px; font-family: 'Segoe UI', sans-serif; line-height: 1.6; margin: 10px 0;\">\n",
              "        <strong style=\"color: #1e4b8f; font-size: 16px;\">🧠 Final Output</strong><br>\n",
              "        <span style=\"font-size: 14px; color: #333;\">Harvard University, established in 1636, is one of the oldest and most prestigious institutions of higher education globally, renowned for its comprehensive academic programs and substantial academic influence. With a substantial endowment, it continues to lead educational advancements and innovations, significantly impacting multiple fields through its research outputs and talented alumni. Harvard's strong connection to the Nobel Prize community underscores its dedication to fostering groundbreaking research and producing distinguished scholars.<br><br>- Harvard's endowment is the largest of any academic institution, enabling extensive resources for research, scholarships, and innovation.<br>- The university has pioneered educational methods such as the elective system and case study approach, continually adapting to contemporary educational needs, including a focus on online learning.<br>- 161 Nobel Prize winners have affiliations with Harvard, emphasizing its role in cultivating talent and contributing significantly to numerous disciplines.<br>- Harvard works actively towards enhancing inclusivity and accessibility in education, striving for a diverse student body and faculty representation.<br><br>In conclusion, Harvard University's significant impact on education manifests through its innovative teaching methodologies, outstanding research contributions, and essential role in the Nobel Prize community. Its status as a global academic leader reflects a commitment to advancing knowledge and addressing societal challenges, ensuring its ongoing influence on education and beyond.</span>\n",
              "    </div>\n",
              "    "
            ]
          },
          "metadata": {}
        }
      ]
    },
    {
      "cell_type": "code",
      "source": [
        "# +++++ 🧪 Hands-On: Test with Different Topics\n",
        "# ++++++++++++++++++++++++++++++++++++++++++++++++++++++++++++++++++++++++++++++++++++++\n",
        "# Test the generalized agents with any topic you want\n",
        "\n",
        "def analyze_topic(topic):\n",
        "    \"\"\"Analyze any topic using our 2-agent crew\"\"\"\n",
        "\n",
        "    research_task_custom = Task(\n",
        "        description=f\"\"\"Research the topic: {topic}\n",
        "\n",
        "        Provide comprehensive information including:\n",
        "        1. Key facts and background information\n",
        "        2. Important developments and achievements\n",
        "        3. Current status and recent context\n",
        "        4. Significance and impact\n",
        "\n",
        "        Use your existing knowledge to provide accurate information.\"\"\",\n",
        "        expected_output=f\"Research findings about: {topic}\",\n",
        "        agent=research_agent\n",
        "    )\n",
        "\n",
        "    analysis_task_custom = Task(\n",
        "        description=f\"\"\"Analyze the research findings about: {topic}\n",
        "\n",
        "        Create a structured summary with:\n",
        "        1. One paragraph overview (3-4 sentences)\n",
        "        2. 3-4 key bullet points\n",
        "        3. Brief significance statement\n",
        "\n",
        "        Keep it concise and well-structured.\"\"\",\n",
        "        expected_output=\"Structured analysis with summary and key points\",\n",
        "        agent=analysis_agent\n",
        "    )\n",
        "\n",
        "    topic_crew = Crew(\n",
        "        agents=[research_agent, analysis_agent],\n",
        "        tasks=[research_task_custom, analysis_task_custom],\n",
        "        verbose=False\n",
        "    )\n",
        "\n",
        "    result = topic_crew.kickoff()\n",
        "    pretty_print(str(result), f\"📋 Analysis: {topic}\", \"blue\")\n",
        "    return result\n",
        "\n",
        "# 🎯 Test different topics - try these!\n",
        "print(\"🎯 Try these example topics:\")\n",
        "print('analyze_topic(\"Climate Change and Global Warming\")')\n",
        "print('analyze_topic(\"Artificial Intelligence in Healthcare\")')\n",
        "print('analyze_topic(\"Space Exploration and Mars Missions\")')\n",
        "print('analyze_topic(\"Renewable Energy Technologies\")')\n",
        "\n",
        "# Example: Uncomment to test\n",
        "# analyze_topic(\"Climate Change and Global Warming\")"
      ],
      "metadata": {
        "id": "test_questions"
      },
      "execution_count": null,
      "outputs": []
    },
    {
      "cell_type": "markdown",
      "source": [
        "## 🔧 Part 2: Adding Tools to Agents\n",
        "\n",
        "Now let's **extend our lab** by adding tools to make our agents more powerful!\n",
        "\n",
        "In CrewAI, agents can be equipped with **tools** to perform external tasks such as:\n",
        "- Searching the web 🌐\n",
        "- Reading from websites 📖\n",
        "- Calling APIs 📡\n",
        "- Doing calculations 🧮\n",
        "\n",
        "### 🛠️ Tool Types in CrewAI\n",
        "\n",
        "CrewAI supports many tools via `crewai_tools` and `langchain` integration. In this part, we focus on using a **web search tool** that:\n",
        "- ✅ Works without requiring an API key\n",
        "- 🔓 Is fully integrated with CrewAI\n",
        "- 🧠 Allows the agent to gather **current information** from the internet\n",
        "\n",
        "---\n",
        "\n",
        "### 🌐 WebsiteSearchTool – Free Web Search (No API Key Needed)\n",
        "\n",
        "The `WebsiteSearchTool` is a built-in tool from `crewai_tools` that allows agents to search the web without credentials. It’s perfect for:\n",
        "- Research agents looking for up-to-date content\n",
        "- Summarizing recent news and trends\n",
        "- Pulling data from publicly accessible websites\n",
        "\n",
        "```python\n",
        "from crewai_tools import WebsiteSearchTool\n",
        "\n",
        "search_tool = WebsiteSearchTool()\n"
      ],
      "metadata": {
        "id": "math_lab_intro"
      }
    },
    {
      "cell_type": "code",
      "source": [
        "from crewai import Agent, Task, Crew\n",
        "from crewai_tools import WebsiteSearchTool\n",
        "\n",
        "# 🔍 Create a free web search agent (no API key required)\n",
        "web_researcher = Agent(\n",
        "    role=\"Web Research Agent\",\n",
        "    goal=\"Gather current online information using free CrewAI web search tool\",\n",
        "    backstory=\"You research current events with the built-in CrewAI WebsiteSearchTool (no API key needed).\",\n",
        "    tools=[WebsiteSearchTool()],\n",
        "    verbose=True,\n",
        "    allow_delegation=False\n",
        ")\n",
        "\n",
        "pretty_print(\"🔍 Web research agent created with WebsiteSearchTool!\\n🌐 Can search websites without API keys\", \"✅ Web Agent Ready\", \"blue\")\n",
        "\n",
        "# 🎯 Task: perform and analyze search\n",
        "def search_current_info(topic):\n",
        "    search_task = Task(\n",
        "        description=f\"Use the free WebsiteSearchTool to search for recent updates on: {topic}\",\n",
        "        expected_output=\"Raw search results\",\n",
        "        agent=web_researcher\n",
        "    )\n",
        "    analysis_task = Task(\n",
        "        description=f\"Analyze the raw search results for: {topic}. Summarize key findings.\",\n",
        "        expected_output=\"Summary of insights\",\n",
        "        agent=web_researcher\n",
        "    )\n",
        "    crew = Crew(agents=[web_researcher], tasks=[search_task, analysis_task], verbose=False)\n",
        "\n",
        "    pretty_print(f\"🔍 Searching for current information about: {topic}\", \"🚀 Web Search Started\", \"yellow\")\n",
        "\n",
        "    result = crew.kickoff()\n",
        "\n",
        "    pretty_print(str(result), f\"🌐 Search Results: {topic}\", \"blue\")\n",
        "\n",
        "    return result"
      ],
      "metadata": {
        "id": "math_agent"
      },
      "execution_count": null,
      "outputs": []
    },
    {
      "cell_type": "code",
      "source": [
        "# 🧪 Example usage:\n",
        "result = search_current_info(\"latest AI breakthroughs 2025\")"
      ],
      "metadata": {
        "id": "1dGCBZej7Jpw"
      },
      "execution_count": null,
      "outputs": []
    },
    {
      "cell_type": "code",
      "source": [
        "# +++++ ✍️ HANDS-ON EXERCISE: Complete the Mathematical Model\n",
        "# ++++++++++++++++++++++++++++++++++++++++++++++++++++++++++++++++++++++++++++++++++++++\n",
        "# Fill in the 10 blanks to create a working mathematical analysis crew!\n",
        "\n",
        "# Sample data: Years vs Harvard Nobel Prize winners\n",
        "sample_data = \"2020,2;2021,1;2022,3;2023,2;2024,1\"\n",
        "\n",
        "# Fill in the blanks below (replace ----- with your answers):\n",
        "\n",
        "# 1. Import the Task class\n",
        "from crewai import -----\n",
        "\n",
        "# 2. Create a mathematical analysis task\n",
        "math_task = Task(\n",
        "    description=f\"\"\"Analyze the sample data: {sample_data}\n",
        "\n",
        "    This data shows: Year, Number of Harvard Nobel Prize winners\n",
        "\n",
        "    Perform linear regression analysis and provide:\n",
        "    1. The mathematical relationship (slope and intercept)\n",
        "    2. How well the model fits the data (R-squared)\n",
        "    3. ----- about what this relationship means\n",
        "\n",
        "    Remember: NO predictions beyond 2024!\"\"\",\n",
        "    expected_output=\"Mathematical analysis of the Harvard Nobel Prize data\",\n",
        "    agent=-----  # 3. Which agent should handle this task?\n",
        ")\n",
        "\n",
        "# 4. Create a second agent for interpretation\n",
        "interpretation_agent = Agent(\n",
        "    role=\"-----\",  # 5. What should this agent's role be?\n",
        "    goal=\"Interpret mathematical results in educational context\",\n",
        "    backstory=\"\"\"You are an expert in educational statistics who interprets mathematical\n",
        "    results for educators. You focus on understanding patterns in existing data.\"\"\",\n",
        "    verbose=True,\n",
        "    allow_delegation=-----  # 6. Should this agent delegate? True or False?\n",
        ")\n",
        "\n",
        "# 7. Create an interpretation task\n",
        "interpretation_task = Task(\n",
        "    description=\"Interpret the mathematical regression results. Explain what the slope, intercept, and R-squared mean in the context of Harvard Nobel Prize winners. Focus on describing the relationship in the data only.\",\n",
        "    expected_output=\"Clear interpretation of the mathematical relationship\",\n",
        "    agent=-----  # 8. Which agent should handle this task?\n",
        ")\n",
        "\n",
        "# 9. Create a crew with both agents\n",
        "math_crew = Crew(\n",
        "    agents=[math_agent, -----],  # 10. Add the second agent here\n",
        "    tasks=[math_task, interpretation_task],\n",
        "    verbose=True\n",
        ")\n",
        "\n",
        "# Test the mathematical crew\n",
        "print(\"🧮 Testing Mathematical Model Crew...\")\n",
        "print(\"=\"*50)\n",
        "\n",
        "# Uncomment to run after filling in the blanks:\n",
        "# result = math_crew.kickoff()\n",
        "# pretty_print(str(result), \"🧮 Mathematical Analysis\", \"yellow\")\n",
        "\n",
        "print(\"✍️ Complete the 10 blanks above, then uncomment the last 3 lines to run!\")"
      ],
      "metadata": {
        "id": "hands_on_exercise"
      },
      "execution_count": null,
      "outputs": []
    },
    {
      "cell_type": "code",
      "source": [
        "# +++++ ✅ ANSWER KEY - Mathematical Model Solution\n",
        "# ++++++++++++++++++++++++++++++++++++++++++++++++++++++++++++++++++++++++++++++++++++++\n",
        "# Complete solution for the hands-on exercise\n",
        "\n",
        "# ANSWERS:\n",
        "# 1. Task\n",
        "# 2. Summary (or \"Interpretation\")\n",
        "# 3. math_agent\n",
        "# 4. Any role related to interpretation (e.g., \"Data Interpreter\")\n",
        "# 5. \"Statistical Interpreter\" (or similar)\n",
        "# 6. False\n",
        "# 7. interpretation_task\n",
        "# 8. interpretation_agent\n",
        "# 9. math_crew\n",
        "# 10. interpretation_agent\n",
        "\n",
        "# Here's the complete working solution:\n",
        "from crewai import Task\n",
        "\n",
        "sample_data = \"2020,2;2021,1;2022,3;2023,2;2024,1\"\n",
        "\n",
        "math_task = Task(\n",
        "    description=f\"\"\"Analyze the sample data: {sample_data}\n",
        "\n",
        "    This data shows: Year, Number of Harvard Nobel Prize winners\n",
        "\n",
        "    Perform linear regression analysis and provide:\n",
        "    1. The mathematical relationship (slope and intercept)\n",
        "    2. How well the model fits the data (R-squared)\n",
        "    3. Summary of what this relationship means\n",
        "\n",
        "    Remember: NO predictions beyond 2024!\"\"\",\n",
        "    expected_output=\"Mathematical analysis of the Harvard Nobel Prize data\",\n",
        "    agent=math_agent\n",
        ")\n",
        "\n",
        "interpretation_agent = Agent(\n",
        "    role=\"Statistical Interpreter\",\n",
        "    goal=\"Interpret mathematical results in educational context\",\n",
        "    backstory=\"\"\"You are an expert in educational statistics who interprets mathematical\n",
        "    results for educators. You focus on understanding patterns in existing data.\"\"\",\n",
        "    verbose=True,\n",
        "    allow_delegation=False\n",
        ")\n",
        "\n",
        "interpretation_task = Task(\n",
        "    description=\"Interpret the mathematical regression results. Explain what the slope, intercept, and R-squared mean in the context of Harvard Nobel Prize winners. Focus on describing the relationship in the data only.\",\n",
        "    expected_output=\"Clear interpretation of the mathematical relationship\",\n",
        "    agent=interpretation_agent\n",
        ")\n",
        "\n",
        "math_crew = Crew(\n",
        "    agents=[math_agent, interpretation_agent],\n",
        "    tasks=[math_task, interpretation_task],\n",
        "    verbose=True\n",
        ")\n",
        "\n",
        "# Run the complete mathematical analysis\n",
        "result = math_crew.kickoff()\n",
        "pretty_print(str(result), \"🧮 Complete Mathematical Analysis\", \"yellow\")"
      ],
      "metadata": {
        "id": "answer_key"
      },
      "execution_count": null,
      "outputs": []
    },
    {
      "cell_type": "markdown",
      "source": [
        "## 🎓 Lab Summary\n",
        "\n",
        "### What You've Learned:\n",
        "1. **🤖 2-Agent System**: Created research and analysis agents\n",
        "2. **🔧 Web Search Tool**: Added real-time information gathering\n",
        "3. **🧮 Mathematical Tool**: Built custom regression analysis capability\n",
        "4. **🛡️ Guardrails**: Implemented safety measures against speculation\n",
        "5. **✍️ Hands-On Practice**: Completed a fill-in-the-blanks exercise\n",
        "\n",
        "### Key Concepts:\n",
        "- **Tool Integration**: How to add capabilities to agents\n",
        "- **Task Coordination**: Sequential workflow between agents\n",
        "- **Prompt Optimization**: Consistent, clear instructions\n",
        "- **Safety Measures**: Preventing inappropriate predictions\n",
        "\n",
        "### 🚀 Next Steps:\n",
        "- Try different tools (file processing, API calls, etc.)\n",
        "- Experiment with more complex mathematical models\n",
        "- Create domain-specific agents for your field\n",
        "- Build multi-agent workflows for your projects\n",
        "\n",
        "**Congratulations! You've mastered CrewAI with tools and mathematical modeling! 🎉**"
      ],
      "metadata": {
        "id": "conclusion"
      }
    }
  ]
}